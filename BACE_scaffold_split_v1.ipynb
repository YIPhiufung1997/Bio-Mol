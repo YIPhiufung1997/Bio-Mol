{
 "cells": [
  {
   "cell_type": "code",
   "execution_count": 1,
   "id": "3a140302",
   "metadata": {},
   "outputs": [],
   "source": [
    "import pandas as pd\n",
    "import numpy\n",
    "from rdkit import Chem\n",
    "from rdkit.Chem.Scaffolds import MurckoScaffold\n",
    "import sklearn.utils\n",
    "from sklearn.model_selection import StratifiedGroupKFold"
   ]
  },
  {
   "cell_type": "code",
   "execution_count": 2,
   "id": "ace71b41",
   "metadata": {},
   "outputs": [],
   "source": [
    "df = pd.read_csv('./bace_extend.csv')\n"
   ]
  },
  {
   "cell_type": "code",
   "execution_count": 3,
   "id": "e866c6ca",
   "metadata": {},
   "outputs": [
    {
     "data": {
      "text/html": [
       "<div>\n",
       "<style scoped>\n",
       "    .dataframe tbody tr th:only-of-type {\n",
       "        vertical-align: middle;\n",
       "    }\n",
       "\n",
       "    .dataframe tbody tr th {\n",
       "        vertical-align: top;\n",
       "    }\n",
       "\n",
       "    .dataframe thead th {\n",
       "        text-align: right;\n",
       "    }\n",
       "</style>\n",
       "<table border=\"1\" class=\"dataframe\">\n",
       "  <thead>\n",
       "    <tr style=\"text-align: right;\">\n",
       "      <th></th>\n",
       "      <th>Unnamed: 0</th>\n",
       "      <th>index</th>\n",
       "      <th>A1.0</th>\n",
       "      <th>A1.1</th>\n",
       "      <th>A1.2</th>\n",
       "      <th>A1.3</th>\n",
       "      <th>A1.4</th>\n",
       "      <th>A1.5</th>\n",
       "      <th>A1.6</th>\n",
       "      <th>A1.7</th>\n",
       "      <th>...</th>\n",
       "      <th>PEOE7 (PEOE7)</th>\n",
       "      <th>PEOE8 (PEOE8)</th>\n",
       "      <th>PEOE9 (PEOE9)</th>\n",
       "      <th>PEOE10 (PEOE10)</th>\n",
       "      <th>PEOE11 (PEOE11)</th>\n",
       "      <th>PEOE12 (PEOE12)</th>\n",
       "      <th>PEOE13 (PEOE13)</th>\n",
       "      <th>PEOE14 (PEOE14)</th>\n",
       "      <th>canvasUID</th>\n",
       "      <th>InchiKey</th>\n",
       "    </tr>\n",
       "  </thead>\n",
       "  <tbody>\n",
       "    <tr>\n",
       "      <th>0</th>\n",
       "      <td>0</td>\n",
       "      <td>QMSHBBGXSXAGOO-XMSQKQJNSA-N</td>\n",
       "      <td>0.135264</td>\n",
       "      <td>0.226934</td>\n",
       "      <td>-0.073585</td>\n",
       "      <td>-0.035248</td>\n",
       "      <td>-0.196601</td>\n",
       "      <td>0.042196</td>\n",
       "      <td>-0.466781</td>\n",
       "      <td>-0.186542</td>\n",
       "      <td>...</td>\n",
       "      <td>78.640335</td>\n",
       "      <td>226.855410</td>\n",
       "      <td>107.434910</td>\n",
       "      <td>37.133846</td>\n",
       "      <td>0.000000</td>\n",
       "      <td>7.980170</td>\n",
       "      <td>0.000000</td>\n",
       "      <td>0.000000</td>\n",
       "      <td>1</td>\n",
       "      <td>QMSHBBGXSXAGOO-XMSQKQJNSA-N</td>\n",
       "    </tr>\n",
       "    <tr>\n",
       "      <th>1</th>\n",
       "      <td>0</td>\n",
       "      <td>NaN</td>\n",
       "      <td>NaN</td>\n",
       "      <td>NaN</td>\n",
       "      <td>NaN</td>\n",
       "      <td>NaN</td>\n",
       "      <td>NaN</td>\n",
       "      <td>NaN</td>\n",
       "      <td>NaN</td>\n",
       "      <td>NaN</td>\n",
       "      <td>...</td>\n",
       "      <td>47.171600</td>\n",
       "      <td>365.676940</td>\n",
       "      <td>174.076750</td>\n",
       "      <td>34.923889</td>\n",
       "      <td>7.980170</td>\n",
       "      <td>24.148668</td>\n",
       "      <td>0.000000</td>\n",
       "      <td>24.663788</td>\n",
       "      <td>2</td>\n",
       "      <td>LPZOLMFQGUDKQH-ZXWXCOCLSA-O</td>\n",
       "    </tr>\n",
       "    <tr>\n",
       "      <th>2</th>\n",
       "      <td>0</td>\n",
       "      <td>NaN</td>\n",
       "      <td>NaN</td>\n",
       "      <td>NaN</td>\n",
       "      <td>NaN</td>\n",
       "      <td>NaN</td>\n",
       "      <td>NaN</td>\n",
       "      <td>NaN</td>\n",
       "      <td>NaN</td>\n",
       "      <td>NaN</td>\n",
       "      <td>...</td>\n",
       "      <td>47.941147</td>\n",
       "      <td>192.406520</td>\n",
       "      <td>255.752550</td>\n",
       "      <td>23.654478</td>\n",
       "      <td>0.230159</td>\n",
       "      <td>15.879790</td>\n",
       "      <td>0.000000</td>\n",
       "      <td>24.663788</td>\n",
       "      <td>3</td>\n",
       "      <td>MNGUVHPNHVMEDL-MFMCTBQISA-O</td>\n",
       "    </tr>\n",
       "    <tr>\n",
       "      <th>3</th>\n",
       "      <td>0</td>\n",
       "      <td>NaN</td>\n",
       "      <td>NaN</td>\n",
       "      <td>NaN</td>\n",
       "      <td>NaN</td>\n",
       "      <td>NaN</td>\n",
       "      <td>NaN</td>\n",
       "      <td>NaN</td>\n",
       "      <td>NaN</td>\n",
       "      <td>NaN</td>\n",
       "      <td>...</td>\n",
       "      <td>37.954151</td>\n",
       "      <td>194.353040</td>\n",
       "      <td>202.763350</td>\n",
       "      <td>36.498634</td>\n",
       "      <td>0.980913</td>\n",
       "      <td>8.188327</td>\n",
       "      <td>0.000000</td>\n",
       "      <td>26.385181</td>\n",
       "      <td>4</td>\n",
       "      <td>UJZFSYZNJMWXJO-NJONLQHESA-O</td>\n",
       "    </tr>\n",
       "    <tr>\n",
       "      <th>4</th>\n",
       "      <td>0</td>\n",
       "      <td>NaN</td>\n",
       "      <td>NaN</td>\n",
       "      <td>NaN</td>\n",
       "      <td>NaN</td>\n",
       "      <td>NaN</td>\n",
       "      <td>NaN</td>\n",
       "      <td>NaN</td>\n",
       "      <td>NaN</td>\n",
       "      <td>NaN</td>\n",
       "      <td>...</td>\n",
       "      <td>39.361153</td>\n",
       "      <td>179.712880</td>\n",
       "      <td>220.461300</td>\n",
       "      <td>23.654478</td>\n",
       "      <td>0.230159</td>\n",
       "      <td>15.879790</td>\n",
       "      <td>0.000000</td>\n",
       "      <td>26.100143</td>\n",
       "      <td>5</td>\n",
       "      <td>MSHYGGHZTGSTOG-LMSSTIIKSA-O</td>\n",
       "    </tr>\n",
       "    <tr>\n",
       "      <th>...</th>\n",
       "      <td>...</td>\n",
       "      <td>...</td>\n",
       "      <td>...</td>\n",
       "      <td>...</td>\n",
       "      <td>...</td>\n",
       "      <td>...</td>\n",
       "      <td>...</td>\n",
       "      <td>...</td>\n",
       "      <td>...</td>\n",
       "      <td>...</td>\n",
       "      <td>...</td>\n",
       "      <td>...</td>\n",
       "      <td>...</td>\n",
       "      <td>...</td>\n",
       "      <td>...</td>\n",
       "      <td>...</td>\n",
       "      <td>...</td>\n",
       "      <td>...</td>\n",
       "      <td>...</td>\n",
       "      <td>...</td>\n",
       "      <td>...</td>\n",
       "    </tr>\n",
       "    <tr>\n",
       "      <th>1508</th>\n",
       "      <td>0</td>\n",
       "      <td>NaN</td>\n",
       "      <td>NaN</td>\n",
       "      <td>NaN</td>\n",
       "      <td>NaN</td>\n",
       "      <td>NaN</td>\n",
       "      <td>NaN</td>\n",
       "      <td>NaN</td>\n",
       "      <td>NaN</td>\n",
       "      <td>NaN</td>\n",
       "      <td>...</td>\n",
       "      <td>37.681076</td>\n",
       "      <td>180.226410</td>\n",
       "      <td>95.670128</td>\n",
       "      <td>30.107586</td>\n",
       "      <td>9.368159</td>\n",
       "      <td>7.980170</td>\n",
       "      <td>0.000000</td>\n",
       "      <td>0.000000</td>\n",
       "      <td>1543</td>\n",
       "      <td>MGDIYBDWQLFUQN-UHFFFAOYSA-N</td>\n",
       "    </tr>\n",
       "    <tr>\n",
       "      <th>1509</th>\n",
       "      <td>0</td>\n",
       "      <td>NaN</td>\n",
       "      <td>NaN</td>\n",
       "      <td>NaN</td>\n",
       "      <td>NaN</td>\n",
       "      <td>NaN</td>\n",
       "      <td>NaN</td>\n",
       "      <td>NaN</td>\n",
       "      <td>NaN</td>\n",
       "      <td>NaN</td>\n",
       "      <td>...</td>\n",
       "      <td>47.349350</td>\n",
       "      <td>122.401500</td>\n",
       "      <td>99.877144</td>\n",
       "      <td>30.107586</td>\n",
       "      <td>9.368159</td>\n",
       "      <td>7.980170</td>\n",
       "      <td>0.000000</td>\n",
       "      <td>0.000000</td>\n",
       "      <td>1544</td>\n",
       "      <td>VNUVPFZMZYGABL-UHFFFAOYSA-N</td>\n",
       "    </tr>\n",
       "    <tr>\n",
       "      <th>1510</th>\n",
       "      <td>0</td>\n",
       "      <td>NaN</td>\n",
       "      <td>NaN</td>\n",
       "      <td>NaN</td>\n",
       "      <td>NaN</td>\n",
       "      <td>NaN</td>\n",
       "      <td>NaN</td>\n",
       "      <td>NaN</td>\n",
       "      <td>NaN</td>\n",
       "      <td>NaN</td>\n",
       "      <td>...</td>\n",
       "      <td>22.563574</td>\n",
       "      <td>96.290794</td>\n",
       "      <td>58.798935</td>\n",
       "      <td>20.071724</td>\n",
       "      <td>9.368159</td>\n",
       "      <td>0.000000</td>\n",
       "      <td>6.904104</td>\n",
       "      <td>0.000000</td>\n",
       "      <td>1545</td>\n",
       "      <td>FNZZUITVFBKILF-UHFFFAOYSA-N</td>\n",
       "    </tr>\n",
       "    <tr>\n",
       "      <th>1511</th>\n",
       "      <td>0</td>\n",
       "      <td>NaN</td>\n",
       "      <td>NaN</td>\n",
       "      <td>NaN</td>\n",
       "      <td>NaN</td>\n",
       "      <td>NaN</td>\n",
       "      <td>NaN</td>\n",
       "      <td>NaN</td>\n",
       "      <td>NaN</td>\n",
       "      <td>NaN</td>\n",
       "      <td>...</td>\n",
       "      <td>9.316234</td>\n",
       "      <td>95.907784</td>\n",
       "      <td>112.609720</td>\n",
       "      <td>20.071724</td>\n",
       "      <td>9.368159</td>\n",
       "      <td>0.000000</td>\n",
       "      <td>6.904104</td>\n",
       "      <td>0.000000</td>\n",
       "      <td>1546</td>\n",
       "      <td>IPEYSHXKDLIENI-UHFFFAOYSA-N</td>\n",
       "    </tr>\n",
       "    <tr>\n",
       "      <th>1512</th>\n",
       "      <td>0</td>\n",
       "      <td>NaN</td>\n",
       "      <td>NaN</td>\n",
       "      <td>NaN</td>\n",
       "      <td>NaN</td>\n",
       "      <td>NaN</td>\n",
       "      <td>NaN</td>\n",
       "      <td>NaN</td>\n",
       "      <td>NaN</td>\n",
       "      <td>NaN</td>\n",
       "      <td>...</td>\n",
       "      <td>37.681076</td>\n",
       "      <td>161.450780</td>\n",
       "      <td>40.882919</td>\n",
       "      <td>30.107586</td>\n",
       "      <td>9.368159</td>\n",
       "      <td>7.980170</td>\n",
       "      <td>0.000000</td>\n",
       "      <td>0.000000</td>\n",
       "      <td>1547</td>\n",
       "      <td>AHNGNPKUTAWEGW-UHFFFAOYSA-N</td>\n",
       "    </tr>\n",
       "  </tbody>\n",
       "</table>\n",
       "<p>1513 rows × 3799 columns</p>\n",
       "</div>"
      ],
      "text/plain": [
       "      Unnamed: 0                        index      A1.0      A1.1      A1.2  \\\n",
       "0              0  QMSHBBGXSXAGOO-XMSQKQJNSA-N  0.135264  0.226934 -0.073585   \n",
       "1              0                          NaN       NaN       NaN       NaN   \n",
       "2              0                          NaN       NaN       NaN       NaN   \n",
       "3              0                          NaN       NaN       NaN       NaN   \n",
       "4              0                          NaN       NaN       NaN       NaN   \n",
       "...          ...                          ...       ...       ...       ...   \n",
       "1508           0                          NaN       NaN       NaN       NaN   \n",
       "1509           0                          NaN       NaN       NaN       NaN   \n",
       "1510           0                          NaN       NaN       NaN       NaN   \n",
       "1511           0                          NaN       NaN       NaN       NaN   \n",
       "1512           0                          NaN       NaN       NaN       NaN   \n",
       "\n",
       "          A1.3      A1.4      A1.5      A1.6      A1.7  ...  PEOE7 (PEOE7)  \\\n",
       "0    -0.035248 -0.196601  0.042196 -0.466781 -0.186542  ...      78.640335   \n",
       "1          NaN       NaN       NaN       NaN       NaN  ...      47.171600   \n",
       "2          NaN       NaN       NaN       NaN       NaN  ...      47.941147   \n",
       "3          NaN       NaN       NaN       NaN       NaN  ...      37.954151   \n",
       "4          NaN       NaN       NaN       NaN       NaN  ...      39.361153   \n",
       "...        ...       ...       ...       ...       ...  ...            ...   \n",
       "1508       NaN       NaN       NaN       NaN       NaN  ...      37.681076   \n",
       "1509       NaN       NaN       NaN       NaN       NaN  ...      47.349350   \n",
       "1510       NaN       NaN       NaN       NaN       NaN  ...      22.563574   \n",
       "1511       NaN       NaN       NaN       NaN       NaN  ...       9.316234   \n",
       "1512       NaN       NaN       NaN       NaN       NaN  ...      37.681076   \n",
       "\n",
       "      PEOE8 (PEOE8)  PEOE9 (PEOE9)  PEOE10 (PEOE10)  PEOE11 (PEOE11)  \\\n",
       "0        226.855410     107.434910        37.133846         0.000000   \n",
       "1        365.676940     174.076750        34.923889         7.980170   \n",
       "2        192.406520     255.752550        23.654478         0.230159   \n",
       "3        194.353040     202.763350        36.498634         0.980913   \n",
       "4        179.712880     220.461300        23.654478         0.230159   \n",
       "...             ...            ...              ...              ...   \n",
       "1508     180.226410      95.670128        30.107586         9.368159   \n",
       "1509     122.401500      99.877144        30.107586         9.368159   \n",
       "1510      96.290794      58.798935        20.071724         9.368159   \n",
       "1511      95.907784     112.609720        20.071724         9.368159   \n",
       "1512     161.450780      40.882919        30.107586         9.368159   \n",
       "\n",
       "      PEOE12 (PEOE12)  PEOE13 (PEOE13)  PEOE14 (PEOE14)  canvasUID  \\\n",
       "0            7.980170         0.000000         0.000000          1   \n",
       "1           24.148668         0.000000        24.663788          2   \n",
       "2           15.879790         0.000000        24.663788          3   \n",
       "3            8.188327         0.000000        26.385181          4   \n",
       "4           15.879790         0.000000        26.100143          5   \n",
       "...               ...              ...              ...        ...   \n",
       "1508         7.980170         0.000000         0.000000       1543   \n",
       "1509         7.980170         0.000000         0.000000       1544   \n",
       "1510         0.000000         6.904104         0.000000       1545   \n",
       "1511         0.000000         6.904104         0.000000       1546   \n",
       "1512         7.980170         0.000000         0.000000       1547   \n",
       "\n",
       "                         InchiKey  \n",
       "0     QMSHBBGXSXAGOO-XMSQKQJNSA-N  \n",
       "1     LPZOLMFQGUDKQH-ZXWXCOCLSA-O  \n",
       "2     MNGUVHPNHVMEDL-MFMCTBQISA-O  \n",
       "3     UJZFSYZNJMWXJO-NJONLQHESA-O  \n",
       "4     MSHYGGHZTGSTOG-LMSSTIIKSA-O  \n",
       "...                           ...  \n",
       "1508  MGDIYBDWQLFUQN-UHFFFAOYSA-N  \n",
       "1509  VNUVPFZMZYGABL-UHFFFAOYSA-N  \n",
       "1510  FNZZUITVFBKILF-UHFFFAOYSA-N  \n",
       "1511  IPEYSHXKDLIENI-UHFFFAOYSA-N  \n",
       "1512  AHNGNPKUTAWEGW-UHFFFAOYSA-N  \n",
       "\n",
       "[1513 rows x 3799 columns]"
      ]
     },
     "execution_count": 3,
     "metadata": {},
     "output_type": "execute_result"
    }
   ],
   "source": [
    "df"
   ]
  },
  {
   "cell_type": "code",
   "execution_count": 5,
   "id": "cd8ff033",
   "metadata": {},
   "outputs": [
    {
     "name": "stderr",
     "output_type": "stream",
     "text": [
      "2023-09-29 16:08:56.560783: I tensorflow/core/platform/cpu_feature_guard.cc:182] This TensorFlow binary is optimized to use available CPU instructions in performance-critical operations.\n",
      "To enable the following instructions: AVX2 FMA, in other operations, rebuild TensorFlow with the appropriate compiler flags.\n",
      "2023-09-29 16:08:57.680512: W tensorflow/compiler/tf2tensorrt/utils/py_utils.cc:38] TF-TRT Warning: Could not find TensorRT\n"
     ]
    }
   ],
   "source": [
    "from signaturizer import Signaturizer\n",
    "# sign = Signaturizer('A1')\n",
    "import numpy as np\n",
    "np.bool = np.bool_\n"
   ]
  },
  {
   "cell_type": "code",
   "execution_count": 7,
   "id": "77c757da",
   "metadata": {},
   "outputs": [
    {
     "name": "stdout",
     "output_type": "stream",
     "text": [
      "A1\n"
     ]
    },
    {
     "name": "stderr",
     "output_type": "stream",
     "text": [
      "Parsing SMILES: 1513it [00:00, 4814.57it/s]\n",
      "Generating signatures:   0%|                             | 0/12 [00:00<?, ?it/s]"
     ]
    },
    {
     "name": "stdout",
     "output_type": "stream",
     "text": [
      "1/1 [==============================] - 1s 941ms/step\n",
      "1/1 [==============================] - 0s 44ms/step\n"
     ]
    },
    {
     "name": "stderr",
     "output_type": "stream",
     "text": [
      "2023-09-29 16:09:27.152108: I tensorflow/compiler/xla/stream_executor/cuda/cuda_blas.cc:606] TensorFloat-32 will be used for the matrix multiplication. This will only be logged once.\n",
      "\r",
      "Generating signatures:   8%|█▊                   | 1/12 [00:01<00:12,  1.16s/it]"
     ]
    },
    {
     "name": "stdout",
     "output_type": "stream",
     "text": [
      "1/1 [==============================] - 0s 19ms/step\n",
      "1/1 [==============================] - 0s 19ms/step\n"
     ]
    },
    {
     "name": "stderr",
     "output_type": "stream",
     "text": [
      "\r",
      "Generating signatures:  17%|███▌                 | 2/12 [00:01<00:05,  1.69it/s]"
     ]
    },
    {
     "name": "stdout",
     "output_type": "stream",
     "text": [
      "1/1 [==============================] - 0s 19ms/step\n",
      "1/1 [==============================] - 0s 19ms/step\n"
     ]
    },
    {
     "name": "stderr",
     "output_type": "stream",
     "text": [
      "\r",
      "Generating signatures:  25%|█████▎               | 3/12 [00:01<00:03,  2.41it/s]"
     ]
    },
    {
     "name": "stdout",
     "output_type": "stream",
     "text": [
      "1/1 [==============================] - 0s 19ms/step\n",
      "1/1 [==============================] - 0s 19ms/step\n"
     ]
    },
    {
     "name": "stderr",
     "output_type": "stream",
     "text": [
      "\r",
      "Generating signatures:  33%|███████              | 4/12 [00:01<00:02,  3.05it/s]"
     ]
    },
    {
     "name": "stdout",
     "output_type": "stream",
     "text": [
      "1/1 [==============================] - 0s 20ms/step\n",
      "1/1 [==============================] - 0s 19ms/step\n"
     ]
    },
    {
     "name": "stderr",
     "output_type": "stream",
     "text": [
      "\r",
      "Generating signatures:  42%|████████▊            | 5/12 [00:01<00:01,  3.57it/s]"
     ]
    },
    {
     "name": "stdout",
     "output_type": "stream",
     "text": [
      "1/1 [==============================] - 0s 19ms/step\n",
      "1/1 [==============================] - 0s 19ms/step\n"
     ]
    },
    {
     "name": "stderr",
     "output_type": "stream",
     "text": [
      "\r",
      "Generating signatures:  50%|██████████▌          | 6/12 [00:02<00:01,  3.98it/s]"
     ]
    },
    {
     "name": "stdout",
     "output_type": "stream",
     "text": [
      "1/1 [==============================] - 0s 19ms/step\n",
      "1/1 [==============================] - 0s 20ms/step\n"
     ]
    },
    {
     "name": "stderr",
     "output_type": "stream",
     "text": [
      "\r",
      "Generating signatures:  58%|████████████▎        | 7/12 [00:02<00:01,  4.30it/s]"
     ]
    },
    {
     "name": "stdout",
     "output_type": "stream",
     "text": [
      "1/1 [==============================] - 0s 19ms/step\n",
      "1/1 [==============================] - 0s 19ms/step\n"
     ]
    },
    {
     "name": "stderr",
     "output_type": "stream",
     "text": [
      "\r",
      "Generating signatures:  67%|██████████████       | 8/12 [00:02<00:00,  4.50it/s]"
     ]
    },
    {
     "name": "stdout",
     "output_type": "stream",
     "text": [
      "1/1 [==============================] - 0s 19ms/step\n",
      "1/1 [==============================] - 0s 19ms/step\n"
     ]
    },
    {
     "name": "stderr",
     "output_type": "stream",
     "text": [
      "\r",
      "Generating signatures:  75%|███████████████▊     | 9/12 [00:02<00:00,  4.70it/s]"
     ]
    },
    {
     "name": "stdout",
     "output_type": "stream",
     "text": [
      "1/1 [==============================] - 0s 19ms/step\n",
      "1/1 [==============================] - 0s 19ms/step\n"
     ]
    },
    {
     "name": "stderr",
     "output_type": "stream",
     "text": [
      "\r",
      "Generating signatures:  83%|████████████████▋   | 10/12 [00:02<00:00,  4.85it/s]"
     ]
    },
    {
     "name": "stdout",
     "output_type": "stream",
     "text": [
      "1/1 [==============================] - 0s 19ms/step\n",
      "1/1 [==============================] - 0s 20ms/step\n"
     ]
    },
    {
     "name": "stderr",
     "output_type": "stream",
     "text": [
      "\r",
      "Generating signatures:  92%|██████████████████▎ | 11/12 [00:03<00:00,  4.93it/s]"
     ]
    },
    {
     "name": "stdout",
     "output_type": "stream",
     "text": [
      "1/1 [==============================] - 0s 48ms/step\n",
      "1/1 [==============================] - 0s 46ms/step\n"
     ]
    },
    {
     "name": "stderr",
     "output_type": "stream",
     "text": [
      "Generating signatures: 100%|████████████████████| 12/12 [00:03<00:00,  3.57it/s]\n"
     ]
    },
    {
     "name": "stdout",
     "output_type": "stream",
     "text": [
      "A2\n"
     ]
    },
    {
     "name": "stderr",
     "output_type": "stream",
     "text": [
      "Parsing SMILES: 1513it [00:00, 4867.15it/s]\n",
      "Generating signatures:   0%|                             | 0/12 [00:00<?, ?it/s]"
     ]
    },
    {
     "name": "stdout",
     "output_type": "stream",
     "text": [
      "1/1 [==============================] - 0s 50ms/step\n",
      "WARNING:tensorflow:5 out of the last 25 calls to <function Model.make_predict_function.<locals>.predict_function at 0x7f9c14792de0> triggered tf.function retracing. Tracing is expensive and the excessive number of tracings could be due to (1) creating @tf.function repeatedly in a loop, (2) passing tensors with different shapes, (3) passing Python objects instead of tensors. For (1), please define your @tf.function outside of the loop. For (2), @tf.function has reduce_retracing=True option that can avoid unnecessary retracing. For (3), please refer to https://www.tensorflow.org/guide/function#controlling_retracing and https://www.tensorflow.org/api_docs/python/tf/function for  more details.\n"
     ]
    },
    {
     "name": "stderr",
     "output_type": "stream",
     "text": [
      "WARNING:tensorflow:5 out of the last 25 calls to <function Model.make_predict_function.<locals>.predict_function at 0x7f9c14792de0> triggered tf.function retracing. Tracing is expensive and the excessive number of tracings could be due to (1) creating @tf.function repeatedly in a loop, (2) passing tensors with different shapes, (3) passing Python objects instead of tensors. For (1), please define your @tf.function outside of the loop. For (2), @tf.function has reduce_retracing=True option that can avoid unnecessary retracing. For (3), please refer to https://www.tensorflow.org/guide/function#controlling_retracing and https://www.tensorflow.org/api_docs/python/tf/function for  more details.\n"
     ]
    },
    {
     "name": "stdout",
     "output_type": "stream",
     "text": [
      "1/1 [==============================] - 0s 45ms/step\n"
     ]
    },
    {
     "name": "stderr",
     "output_type": "stream",
     "text": [
      "\r",
      "Generating signatures:   8%|█▊                   | 1/12 [00:00<00:02,  3.88it/s]"
     ]
    },
    {
     "name": "stdout",
     "output_type": "stream",
     "text": [
      "1/1 [==============================] - 0s 19ms/step\n",
      "1/1 [==============================] - 0s 19ms/step\n"
     ]
    },
    {
     "name": "stderr",
     "output_type": "stream",
     "text": [
      "\r",
      "Generating signatures:  17%|███▌                 | 2/12 [00:00<00:02,  4.56it/s]"
     ]
    },
    {
     "name": "stdout",
     "output_type": "stream",
     "text": [
      "1/1 [==============================] - 0s 18ms/step\n",
      "1/1 [==============================] - 0s 19ms/step\n"
     ]
    },
    {
     "name": "stderr",
     "output_type": "stream",
     "text": [
      "\r",
      "Generating signatures:  25%|█████▎               | 3/12 [00:00<00:01,  4.76it/s]"
     ]
    },
    {
     "name": "stdout",
     "output_type": "stream",
     "text": [
      "1/1 [==============================] - 0s 19ms/step\n",
      "1/1 [==============================] - 0s 20ms/step\n"
     ]
    },
    {
     "name": "stderr",
     "output_type": "stream",
     "text": [
      "\r",
      "Generating signatures:  33%|███████              | 4/12 [00:00<00:01,  4.87it/s]"
     ]
    },
    {
     "name": "stdout",
     "output_type": "stream",
     "text": [
      "1/1 [==============================] - 0s 248ms/step\n",
      "1/1 [==============================] - 0s 20ms/step\n"
     ]
    },
    {
     "name": "stderr",
     "output_type": "stream",
     "text": [
      "\r",
      "Generating signatures:  42%|████████▊            | 5/12 [00:01<00:01,  3.51it/s]"
     ]
    },
    {
     "name": "stdout",
     "output_type": "stream",
     "text": [
      "1/1 [==============================] - 0s 22ms/step\n",
      "1/1 [==============================] - 0s 21ms/step\n"
     ]
    },
    {
     "name": "stderr",
     "output_type": "stream",
     "text": [
      "\r",
      "Generating signatures:  50%|██████████▌          | 6/12 [00:01<00:01,  3.87it/s]"
     ]
    },
    {
     "name": "stdout",
     "output_type": "stream",
     "text": [
      "1/1 [==============================] - 0s 20ms/step\n",
      "1/1 [==============================] - 0s 20ms/step\n"
     ]
    },
    {
     "name": "stderr",
     "output_type": "stream",
     "text": [
      "\r",
      "Generating signatures:  58%|████████████▎        | 7/12 [00:01<00:01,  4.15it/s]"
     ]
    },
    {
     "name": "stdout",
     "output_type": "stream",
     "text": [
      "1/1 [==============================] - 0s 19ms/step\n",
      "1/1 [==============================] - 0s 20ms/step\n"
     ]
    },
    {
     "name": "stderr",
     "output_type": "stream",
     "text": [
      "\r",
      "Generating signatures:  67%|██████████████       | 8/12 [00:01<00:00,  4.42it/s]"
     ]
    },
    {
     "name": "stdout",
     "output_type": "stream",
     "text": [
      "1/1 [==============================] - 0s 19ms/step\n",
      "1/1 [==============================] - 0s 20ms/step\n"
     ]
    },
    {
     "name": "stderr",
     "output_type": "stream",
     "text": [
      "\r",
      "Generating signatures:  75%|███████████████▊     | 9/12 [00:02<00:00,  4.62it/s]"
     ]
    },
    {
     "name": "stdout",
     "output_type": "stream",
     "text": [
      "1/1 [==============================] - 0s 19ms/step\n",
      "1/1 [==============================] - 0s 20ms/step\n"
     ]
    },
    {
     "name": "stderr",
     "output_type": "stream",
     "text": [
      "\r",
      "Generating signatures:  83%|████████████████▋   | 10/12 [00:02<00:00,  4.77it/s]"
     ]
    },
    {
     "name": "stdout",
     "output_type": "stream",
     "text": [
      "1/1 [==============================] - 0s 19ms/step\n",
      "1/1 [==============================] - 0s 21ms/step\n"
     ]
    },
    {
     "name": "stderr",
     "output_type": "stream",
     "text": [
      "\r",
      "Generating signatures:  92%|██████████████████▎ | 11/12 [00:02<00:00,  4.75it/s]"
     ]
    },
    {
     "name": "stdout",
     "output_type": "stream",
     "text": [
      "1/1 [==============================] - 0s 48ms/step\n",
      "1/1 [==============================] - 0s 47ms/step\n"
     ]
    },
    {
     "name": "stderr",
     "output_type": "stream",
     "text": [
      "Generating signatures: 100%|████████████████████| 12/12 [00:02<00:00,  4.42it/s]\n"
     ]
    },
    {
     "name": "stdout",
     "output_type": "stream",
     "text": [
      "A3\n"
     ]
    },
    {
     "name": "stderr",
     "output_type": "stream",
     "text": [
      "Parsing SMILES: 1513it [00:00, 4878.11it/s]\n",
      "Generating signatures:   0%|                             | 0/12 [00:00<?, ?it/s]"
     ]
    },
    {
     "name": "stdout",
     "output_type": "stream",
     "text": [
      "1/1 [==============================] - 0s 47ms/step\n",
      "WARNING:tensorflow:5 out of the last 25 calls to <function Model.make_predict_function.<locals>.predict_function at 0x7f9c547e5300> triggered tf.function retracing. Tracing is expensive and the excessive number of tracings could be due to (1) creating @tf.function repeatedly in a loop, (2) passing tensors with different shapes, (3) passing Python objects instead of tensors. For (1), please define your @tf.function outside of the loop. For (2), @tf.function has reduce_retracing=True option that can avoid unnecessary retracing. For (3), please refer to https://www.tensorflow.org/guide/function#controlling_retracing and https://www.tensorflow.org/api_docs/python/tf/function for  more details.\n"
     ]
    },
    {
     "name": "stderr",
     "output_type": "stream",
     "text": [
      "WARNING:tensorflow:5 out of the last 25 calls to <function Model.make_predict_function.<locals>.predict_function at 0x7f9c547e5300> triggered tf.function retracing. Tracing is expensive and the excessive number of tracings could be due to (1) creating @tf.function repeatedly in a loop, (2) passing tensors with different shapes, (3) passing Python objects instead of tensors. For (1), please define your @tf.function outside of the loop. For (2), @tf.function has reduce_retracing=True option that can avoid unnecessary retracing. For (3), please refer to https://www.tensorflow.org/guide/function#controlling_retracing and https://www.tensorflow.org/api_docs/python/tf/function for  more details.\n"
     ]
    },
    {
     "name": "stdout",
     "output_type": "stream",
     "text": [
      "1/1 [==============================] - 0s 45ms/step\n"
     ]
    },
    {
     "name": "stderr",
     "output_type": "stream",
     "text": [
      "\r",
      "Generating signatures:   8%|█▊                   | 1/12 [00:00<00:02,  3.98it/s]"
     ]
    },
    {
     "name": "stdout",
     "output_type": "stream",
     "text": [
      "1/1 [==============================] - 0s 20ms/step\n",
      "1/1 [==============================] - 0s 20ms/step\n"
     ]
    },
    {
     "name": "stderr",
     "output_type": "stream",
     "text": [
      "\r",
      "Generating signatures:  17%|███▌                 | 2/12 [00:00<00:02,  4.59it/s]"
     ]
    },
    {
     "name": "stdout",
     "output_type": "stream",
     "text": [
      "1/1 [==============================] - 0s 20ms/step\n",
      "1/1 [==============================] - 0s 19ms/step\n"
     ]
    },
    {
     "name": "stderr",
     "output_type": "stream",
     "text": [
      "\r",
      "Generating signatures:  25%|█████▎               | 3/12 [00:00<00:01,  4.77it/s]"
     ]
    },
    {
     "name": "stdout",
     "output_type": "stream",
     "text": [
      "1/1 [==============================] - 0s 19ms/step\n",
      "1/1 [==============================] - 0s 20ms/step\n"
     ]
    },
    {
     "name": "stderr",
     "output_type": "stream",
     "text": [
      "\r",
      "Generating signatures:  33%|███████              | 4/12 [00:00<00:01,  4.84it/s]"
     ]
    },
    {
     "name": "stdout",
     "output_type": "stream",
     "text": [
      "1/1 [==============================] - 0s 19ms/step\n",
      "1/1 [==============================] - 0s 19ms/step\n"
     ]
    },
    {
     "name": "stderr",
     "output_type": "stream",
     "text": [
      "\r",
      "Generating signatures:  42%|████████▊            | 5/12 [00:01<00:01,  4.94it/s]"
     ]
    },
    {
     "name": "stdout",
     "output_type": "stream",
     "text": [
      "1/1 [==============================] - 0s 19ms/step\n",
      "1/1 [==============================] - 0s 20ms/step\n"
     ]
    },
    {
     "name": "stderr",
     "output_type": "stream",
     "text": [
      "\r",
      "Generating signatures:  50%|██████████▌          | 6/12 [00:01<00:01,  4.95it/s]"
     ]
    },
    {
     "name": "stdout",
     "output_type": "stream",
     "text": [
      "1/1 [==============================] - 0s 20ms/step\n",
      "1/1 [==============================] - 0s 19ms/step\n"
     ]
    },
    {
     "name": "stderr",
     "output_type": "stream",
     "text": [
      "\r",
      "Generating signatures:  58%|████████████▎        | 7/12 [00:01<00:01,  4.99it/s]"
     ]
    },
    {
     "name": "stdout",
     "output_type": "stream",
     "text": [
      "1/1 [==============================] - 0s 19ms/step\n",
      "1/1 [==============================] - 0s 20ms/step\n"
     ]
    },
    {
     "name": "stderr",
     "output_type": "stream",
     "text": [
      "\r",
      "Generating signatures:  67%|██████████████       | 8/12 [00:01<00:00,  5.03it/s]"
     ]
    },
    {
     "name": "stdout",
     "output_type": "stream",
     "text": [
      "1/1 [==============================] - 0s 20ms/step\n",
      "1/1 [==============================] - 0s 24ms/step\n"
     ]
    },
    {
     "name": "stderr",
     "output_type": "stream",
     "text": [
      "\r",
      "Generating signatures:  75%|███████████████▊     | 9/12 [00:01<00:00,  4.96it/s]"
     ]
    },
    {
     "name": "stdout",
     "output_type": "stream",
     "text": [
      "1/1 [==============================] - 0s 175ms/step\n",
      "1/1 [==============================] - 0s 19ms/step\n"
     ]
    },
    {
     "name": "stderr",
     "output_type": "stream",
     "text": [
      "\r",
      "Generating signatures:  83%|████████████████▋   | 10/12 [00:02<00:00,  4.06it/s]"
     ]
    },
    {
     "name": "stdout",
     "output_type": "stream",
     "text": [
      "1/1 [==============================] - 0s 19ms/step\n",
      "1/1 [==============================] - 0s 19ms/step\n"
     ]
    },
    {
     "name": "stderr",
     "output_type": "stream",
     "text": [
      "\r",
      "Generating signatures:  92%|██████████████████▎ | 11/12 [00:02<00:00,  4.33it/s]"
     ]
    },
    {
     "name": "stdout",
     "output_type": "stream",
     "text": [
      "1/1 [==============================] - 0s 49ms/step\n",
      "1/1 [==============================] - 0s 46ms/step\n"
     ]
    },
    {
     "name": "stderr",
     "output_type": "stream",
     "text": [
      "Generating signatures: 100%|████████████████████| 12/12 [00:02<00:00,  4.57it/s]\n"
     ]
    },
    {
     "name": "stdout",
     "output_type": "stream",
     "text": [
      "A4\n"
     ]
    },
    {
     "name": "stderr",
     "output_type": "stream",
     "text": [
      "Parsing SMILES: 1513it [00:00, 4858.23it/s]\n",
      "Generating signatures:   0%|                             | 0/12 [00:00<?, ?it/s]"
     ]
    },
    {
     "name": "stdout",
     "output_type": "stream",
     "text": [
      "1/1 [==============================] - 0s 47ms/step\n",
      "1/1 [==============================] - 0s 44ms/step\n"
     ]
    },
    {
     "name": "stderr",
     "output_type": "stream",
     "text": [
      "\r",
      "Generating signatures:   8%|█▊                   | 1/12 [00:00<00:02,  3.98it/s]"
     ]
    },
    {
     "name": "stdout",
     "output_type": "stream",
     "text": [
      "1/1 [==============================] - 0s 20ms/step\n",
      "1/1 [==============================] - 0s 20ms/step\n"
     ]
    },
    {
     "name": "stderr",
     "output_type": "stream",
     "text": [
      "\r",
      "Generating signatures:  17%|███▌                 | 2/12 [00:00<00:02,  4.57it/s]"
     ]
    },
    {
     "name": "stdout",
     "output_type": "stream",
     "text": [
      "1/1 [==============================] - 0s 19ms/step\n",
      "1/1 [==============================] - 0s 19ms/step\n"
     ]
    },
    {
     "name": "stderr",
     "output_type": "stream",
     "text": [
      "\r",
      "Generating signatures:  25%|█████▎               | 3/12 [00:00<00:01,  4.75it/s]"
     ]
    },
    {
     "name": "stdout",
     "output_type": "stream",
     "text": [
      "1/1 [==============================] - 0s 20ms/step\n",
      "1/1 [==============================] - 0s 19ms/step\n"
     ]
    },
    {
     "name": "stderr",
     "output_type": "stream",
     "text": [
      "\r",
      "Generating signatures:  33%|███████              | 4/12 [00:00<00:01,  4.85it/s]"
     ]
    },
    {
     "name": "stdout",
     "output_type": "stream",
     "text": [
      "1/1 [==============================] - 0s 20ms/step\n",
      "1/1 [==============================] - 0s 20ms/step\n"
     ]
    },
    {
     "name": "stderr",
     "output_type": "stream",
     "text": [
      "\r",
      "Generating signatures:  42%|████████▊            | 5/12 [00:01<00:01,  4.87it/s]"
     ]
    },
    {
     "name": "stdout",
     "output_type": "stream",
     "text": [
      "1/1 [==============================] - 0s 20ms/step\n",
      "1/1 [==============================] - 0s 19ms/step\n"
     ]
    },
    {
     "name": "stderr",
     "output_type": "stream",
     "text": [
      "\r",
      "Generating signatures:  50%|██████████▌          | 6/12 [00:01<00:01,  4.94it/s]"
     ]
    },
    {
     "name": "stdout",
     "output_type": "stream",
     "text": [
      "1/1 [==============================] - 0s 19ms/step\n",
      "1/1 [==============================] - 0s 20ms/step\n"
     ]
    },
    {
     "name": "stderr",
     "output_type": "stream",
     "text": [
      "\r",
      "Generating signatures:  58%|████████████▎        | 7/12 [00:01<00:01,  4.94it/s]"
     ]
    },
    {
     "name": "stdout",
     "output_type": "stream",
     "text": [
      "1/1 [==============================] - 0s 19ms/step\n",
      "1/1 [==============================] - 0s 20ms/step\n"
     ]
    },
    {
     "name": "stderr",
     "output_type": "stream",
     "text": [
      "\r",
      "Generating signatures:  67%|██████████████       | 8/12 [00:01<00:00,  5.01it/s]"
     ]
    },
    {
     "name": "stdout",
     "output_type": "stream",
     "text": [
      "1/1 [==============================] - 0s 20ms/step\n",
      "1/1 [==============================] - 0s 19ms/step\n"
     ]
    },
    {
     "name": "stderr",
     "output_type": "stream",
     "text": [
      "\r",
      "Generating signatures:  75%|███████████████▊     | 9/12 [00:01<00:00,  5.05it/s]"
     ]
    },
    {
     "name": "stdout",
     "output_type": "stream",
     "text": [
      "1/1 [==============================] - 0s 20ms/step\n",
      "1/1 [==============================] - 0s 20ms/step\n"
     ]
    },
    {
     "name": "stderr",
     "output_type": "stream",
     "text": [
      "\r",
      "Generating signatures:  83%|████████████████▋   | 10/12 [00:02<00:00,  5.06it/s]"
     ]
    },
    {
     "name": "stdout",
     "output_type": "stream",
     "text": [
      "1/1 [==============================] - 0s 19ms/step\n",
      "1/1 [==============================] - 0s 19ms/step\n"
     ]
    },
    {
     "name": "stderr",
     "output_type": "stream",
     "text": [
      "\r",
      "Generating signatures:  92%|██████████████████▎ | 11/12 [00:02<00:00,  5.06it/s]"
     ]
    },
    {
     "name": "stdout",
     "output_type": "stream",
     "text": [
      "1/1 [==============================] - 0s 48ms/step\n",
      "1/1 [==============================] - 0s 45ms/step\n"
     ]
    },
    {
     "name": "stderr",
     "output_type": "stream",
     "text": [
      "Generating signatures: 100%|████████████████████| 12/12 [00:02<00:00,  4.85it/s]\n"
     ]
    },
    {
     "name": "stdout",
     "output_type": "stream",
     "text": [
      "A5\n"
     ]
    },
    {
     "name": "stderr",
     "output_type": "stream",
     "text": [
      "Parsing SMILES: 1513it [00:00, 4879.90it/s]\n",
      "Generating signatures:   0%|                             | 0/12 [00:00<?, ?it/s]"
     ]
    },
    {
     "name": "stdout",
     "output_type": "stream",
     "text": [
      "1/1 [==============================] - 0s 48ms/step\n",
      "1/1 [==============================] - 0s 43ms/step\n"
     ]
    },
    {
     "name": "stderr",
     "output_type": "stream",
     "text": [
      "\r",
      "Generating signatures:   8%|█▊                   | 1/12 [00:00<00:02,  3.98it/s]"
     ]
    },
    {
     "name": "stdout",
     "output_type": "stream",
     "text": [
      "1/1 [==============================] - 0s 19ms/step\n",
      "1/1 [==============================] - 0s 19ms/step\n"
     ]
    },
    {
     "name": "stderr",
     "output_type": "stream",
     "text": [
      "\r",
      "Generating signatures:  17%|███▌                 | 2/12 [00:00<00:02,  4.63it/s]"
     ]
    },
    {
     "name": "stdout",
     "output_type": "stream",
     "text": [
      "1/1 [==============================] - 0s 19ms/step\n",
      "1/1 [==============================] - 0s 19ms/step\n"
     ]
    },
    {
     "name": "stderr",
     "output_type": "stream",
     "text": [
      "\r",
      "Generating signatures:  25%|█████▎               | 3/12 [00:00<00:01,  4.80it/s]"
     ]
    },
    {
     "name": "stdout",
     "output_type": "stream",
     "text": [
      "1/1 [==============================] - 0s 20ms/step\n",
      "1/1 [==============================] - 0s 18ms/step\n"
     ]
    },
    {
     "name": "stderr",
     "output_type": "stream",
     "text": [
      "\r",
      "Generating signatures:  33%|███████              | 4/12 [00:00<00:01,  4.92it/s]"
     ]
    },
    {
     "name": "stdout",
     "output_type": "stream",
     "text": [
      "1/1 [==============================] - 0s 20ms/step\n",
      "1/1 [==============================] - 0s 19ms/step\n"
     ]
    },
    {
     "name": "stderr",
     "output_type": "stream",
     "text": [
      "\r",
      "Generating signatures:  42%|████████▊            | 5/12 [00:01<00:01,  4.98it/s]"
     ]
    },
    {
     "name": "stdout",
     "output_type": "stream",
     "text": [
      "1/1 [==============================] - 0s 20ms/step\n",
      "1/1 [==============================] - 0s 19ms/step\n"
     ]
    },
    {
     "name": "stderr",
     "output_type": "stream",
     "text": [
      "\r",
      "Generating signatures:  50%|██████████▌          | 6/12 [00:01<00:01,  4.98it/s]"
     ]
    },
    {
     "name": "stdout",
     "output_type": "stream",
     "text": [
      "1/1 [==============================] - 0s 20ms/step\n",
      "1/1 [==============================] - 0s 19ms/step\n"
     ]
    },
    {
     "name": "stderr",
     "output_type": "stream",
     "text": [
      "\r",
      "Generating signatures:  58%|████████████▎        | 7/12 [00:01<00:00,  5.02it/s]"
     ]
    },
    {
     "name": "stdout",
     "output_type": "stream",
     "text": [
      "1/1 [==============================] - 0s 20ms/step\n",
      "1/1 [==============================] - 0s 19ms/step\n"
     ]
    },
    {
     "name": "stderr",
     "output_type": "stream",
     "text": [
      "\r",
      "Generating signatures:  67%|██████████████       | 8/12 [00:01<00:00,  5.06it/s]"
     ]
    },
    {
     "name": "stdout",
     "output_type": "stream",
     "text": [
      "1/1 [==============================] - 0s 19ms/step\n",
      "1/1 [==============================] - 0s 19ms/step\n"
     ]
    },
    {
     "name": "stderr",
     "output_type": "stream",
     "text": [
      "\r",
      "Generating signatures:  75%|███████████████▊     | 9/12 [00:01<00:00,  5.08it/s]"
     ]
    },
    {
     "name": "stdout",
     "output_type": "stream",
     "text": [
      "1/1 [==============================] - 0s 20ms/step\n",
      "1/1 [==============================] - 0s 19ms/step\n"
     ]
    },
    {
     "name": "stderr",
     "output_type": "stream",
     "text": [
      "\r",
      "Generating signatures:  83%|████████████████▋   | 10/12 [00:02<00:00,  5.09it/s]"
     ]
    },
    {
     "name": "stdout",
     "output_type": "stream",
     "text": [
      "1/1 [==============================] - 0s 20ms/step\n",
      "1/1 [==============================] - 0s 20ms/step\n"
     ]
    },
    {
     "name": "stderr",
     "output_type": "stream",
     "text": [
      "\r",
      "Generating signatures:  92%|██████████████████▎ | 11/12 [00:02<00:00,  5.05it/s]"
     ]
    },
    {
     "name": "stdout",
     "output_type": "stream",
     "text": [
      "1/1 [==============================] - 0s 48ms/step\n",
      "1/1 [==============================] - 0s 45ms/step\n"
     ]
    },
    {
     "name": "stderr",
     "output_type": "stream",
     "text": [
      "Generating signatures: 100%|████████████████████| 12/12 [00:02<00:00,  4.90it/s]\n"
     ]
    },
    {
     "name": "stdout",
     "output_type": "stream",
     "text": [
      "B1\n"
     ]
    },
    {
     "name": "stderr",
     "output_type": "stream",
     "text": [
      "Parsing SMILES: 1513it [00:00, 4885.08it/s]\n",
      "Generating signatures:   0%|                             | 0/12 [00:00<?, ?it/s]"
     ]
    },
    {
     "name": "stdout",
     "output_type": "stream",
     "text": [
      "1/1 [==============================] - 0s 46ms/step\n",
      "1/1 [==============================] - 0s 44ms/step\n"
     ]
    },
    {
     "name": "stderr",
     "output_type": "stream",
     "text": [
      "\r",
      "Generating signatures:   8%|█▊                   | 1/12 [00:00<00:02,  4.01it/s]"
     ]
    },
    {
     "name": "stdout",
     "output_type": "stream",
     "text": [
      "1/1 [==============================] - 0s 20ms/step\n",
      "1/1 [==============================] - 0s 19ms/step\n"
     ]
    },
    {
     "name": "stderr",
     "output_type": "stream",
     "text": [
      "\r",
      "Generating signatures:  17%|███▌                 | 2/12 [00:00<00:02,  4.62it/s]"
     ]
    },
    {
     "name": "stdout",
     "output_type": "stream",
     "text": [
      "1/1 [==============================] - 0s 19ms/step\n",
      "1/1 [==============================] - 0s 19ms/step\n"
     ]
    },
    {
     "name": "stderr",
     "output_type": "stream",
     "text": [
      "\r",
      "Generating signatures:  25%|█████▎               | 3/12 [00:00<00:01,  4.82it/s]"
     ]
    },
    {
     "name": "stdout",
     "output_type": "stream",
     "text": [
      "1/1 [==============================] - 0s 20ms/step\n",
      "1/1 [==============================] - 0s 19ms/step\n"
     ]
    },
    {
     "name": "stderr",
     "output_type": "stream",
     "text": [
      "\r",
      "Generating signatures:  33%|███████              | 4/12 [00:00<00:01,  4.88it/s]"
     ]
    },
    {
     "name": "stdout",
     "output_type": "stream",
     "text": [
      "1/1 [==============================] - 0s 19ms/step\n",
      "1/1 [==============================] - 0s 19ms/step\n"
     ]
    },
    {
     "name": "stderr",
     "output_type": "stream",
     "text": [
      "\r",
      "Generating signatures:  42%|████████▊            | 5/12 [00:01<00:01,  4.97it/s]"
     ]
    },
    {
     "name": "stdout",
     "output_type": "stream",
     "text": [
      "1/1 [==============================] - 0s 19ms/step\n",
      "1/1 [==============================] - 0s 19ms/step\n"
     ]
    },
    {
     "name": "stderr",
     "output_type": "stream",
     "text": [
      "\r",
      "Generating signatures:  50%|██████████▌          | 6/12 [00:01<00:01,  5.03it/s]"
     ]
    },
    {
     "name": "stdout",
     "output_type": "stream",
     "text": [
      "1/1 [==============================] - 0s 19ms/step\n",
      "1/1 [==============================] - 0s 19ms/step\n"
     ]
    },
    {
     "name": "stderr",
     "output_type": "stream",
     "text": [
      "\r",
      "Generating signatures:  58%|████████████▎        | 7/12 [00:01<00:00,  5.07it/s]"
     ]
    },
    {
     "name": "stdout",
     "output_type": "stream",
     "text": [
      "1/1 [==============================] - 0s 19ms/step\n",
      "1/1 [==============================] - 0s 20ms/step\n"
     ]
    },
    {
     "name": "stderr",
     "output_type": "stream",
     "text": [
      "\r",
      "Generating signatures:  67%|██████████████       | 8/12 [00:01<00:00,  5.09it/s]"
     ]
    },
    {
     "name": "stdout",
     "output_type": "stream",
     "text": [
      "1/1 [==============================] - 0s 19ms/step\n",
      "1/1 [==============================] - 0s 19ms/step\n"
     ]
    },
    {
     "name": "stderr",
     "output_type": "stream",
     "text": [
      "\r",
      "Generating signatures:  75%|███████████████▊     | 9/12 [00:01<00:00,  5.06it/s]"
     ]
    },
    {
     "name": "stdout",
     "output_type": "stream",
     "text": [
      "1/1 [==============================] - 0s 19ms/step\n",
      "1/1 [==============================] - 0s 20ms/step\n"
     ]
    },
    {
     "name": "stderr",
     "output_type": "stream",
     "text": [
      "\r",
      "Generating signatures:  83%|████████████████▋   | 10/12 [00:02<00:00,  5.09it/s]"
     ]
    },
    {
     "name": "stdout",
     "output_type": "stream",
     "text": [
      "1/1 [==============================] - 0s 24ms/step\n",
      "1/1 [==============================] - 0s 20ms/step\n"
     ]
    },
    {
     "name": "stderr",
     "output_type": "stream",
     "text": [
      "\r",
      "Generating signatures:  92%|██████████████████▎ | 11/12 [00:02<00:00,  5.08it/s]"
     ]
    },
    {
     "name": "stdout",
     "output_type": "stream",
     "text": [
      "1/1 [==============================] - 0s 47ms/step\n",
      "1/1 [==============================] - 0s 44ms/step\n"
     ]
    },
    {
     "name": "stderr",
     "output_type": "stream",
     "text": [
      "Generating signatures: 100%|████████████████████| 12/12 [00:02<00:00,  4.92it/s]\n"
     ]
    },
    {
     "name": "stdout",
     "output_type": "stream",
     "text": [
      "B2\n"
     ]
    },
    {
     "name": "stderr",
     "output_type": "stream",
     "text": [
      "Parsing SMILES: 1513it [00:00, 4912.28it/s]\n",
      "Generating signatures:   0%|                             | 0/12 [00:00<?, ?it/s]"
     ]
    },
    {
     "name": "stdout",
     "output_type": "stream",
     "text": [
      "1/1 [==============================] - 0s 46ms/step\n",
      "1/1 [==============================] - 0s 44ms/step\n"
     ]
    },
    {
     "name": "stderr",
     "output_type": "stream",
     "text": [
      "\r",
      "Generating signatures:   8%|█▊                   | 1/12 [00:00<00:02,  4.03it/s]"
     ]
    },
    {
     "name": "stdout",
     "output_type": "stream",
     "text": [
      "1/1 [==============================] - 0s 20ms/step\n",
      "1/1 [==============================] - 0s 19ms/step\n"
     ]
    },
    {
     "name": "stderr",
     "output_type": "stream",
     "text": [
      "\r",
      "Generating signatures:  17%|███▌                 | 2/12 [00:00<00:02,  4.61it/s]"
     ]
    },
    {
     "name": "stdout",
     "output_type": "stream",
     "text": [
      "1/1 [==============================] - 0s 19ms/step\n",
      "1/1 [==============================] - 0s 20ms/step\n"
     ]
    },
    {
     "name": "stderr",
     "output_type": "stream",
     "text": [
      "\r",
      "Generating signatures:  25%|█████▎               | 3/12 [00:00<00:01,  4.79it/s]"
     ]
    },
    {
     "name": "stdout",
     "output_type": "stream",
     "text": [
      "1/1 [==============================] - 0s 19ms/step\n",
      "1/1 [==============================] - 0s 19ms/step\n"
     ]
    },
    {
     "name": "stderr",
     "output_type": "stream",
     "text": [
      "\r",
      "Generating signatures:  33%|███████              | 4/12 [00:00<00:01,  4.90it/s]"
     ]
    },
    {
     "name": "stdout",
     "output_type": "stream",
     "text": [
      "1/1 [==============================] - 0s 19ms/step\n",
      "1/1 [==============================] - 0s 20ms/step\n"
     ]
    },
    {
     "name": "stderr",
     "output_type": "stream",
     "text": [
      "\r",
      "Generating signatures:  42%|████████▊            | 5/12 [00:01<00:01,  4.99it/s]"
     ]
    },
    {
     "name": "stdout",
     "output_type": "stream",
     "text": [
      "1/1 [==============================] - 0s 19ms/step\n",
      "1/1 [==============================] - 0s 19ms/step\n"
     ]
    },
    {
     "name": "stderr",
     "output_type": "stream",
     "text": [
      "\r",
      "Generating signatures:  50%|██████████▌          | 6/12 [00:01<00:01,  5.03it/s]"
     ]
    },
    {
     "name": "stdout",
     "output_type": "stream",
     "text": [
      "1/1 [==============================] - 0s 19ms/step\n",
      "1/1 [==============================] - 0s 19ms/step\n"
     ]
    },
    {
     "name": "stderr",
     "output_type": "stream",
     "text": [
      "\r",
      "Generating signatures:  58%|████████████▎        | 7/12 [00:01<00:00,  5.04it/s]"
     ]
    },
    {
     "name": "stdout",
     "output_type": "stream",
     "text": [
      "1/1 [==============================] - 0s 20ms/step\n",
      "1/1 [==============================] - 0s 19ms/step\n"
     ]
    },
    {
     "name": "stderr",
     "output_type": "stream",
     "text": [
      "\r",
      "Generating signatures:  67%|██████████████       | 8/12 [00:01<00:00,  5.07it/s]"
     ]
    },
    {
     "name": "stdout",
     "output_type": "stream",
     "text": [
      "1/1 [==============================] - 0s 19ms/step\n",
      "1/1 [==============================] - 0s 19ms/step\n"
     ]
    },
    {
     "name": "stderr",
     "output_type": "stream",
     "text": [
      "\r",
      "Generating signatures:  75%|███████████████▊     | 9/12 [00:01<00:00,  5.10it/s]"
     ]
    },
    {
     "name": "stdout",
     "output_type": "stream",
     "text": [
      "1/1 [==============================] - 0s 20ms/step\n",
      "1/1 [==============================] - 0s 19ms/step\n"
     ]
    },
    {
     "name": "stderr",
     "output_type": "stream",
     "text": [
      "\r",
      "Generating signatures:  83%|████████████████▋   | 10/12 [00:02<00:00,  5.11it/s]"
     ]
    },
    {
     "name": "stdout",
     "output_type": "stream",
     "text": [
      "1/1 [==============================] - 0s 19ms/step\n",
      "1/1 [==============================] - 0s 19ms/step\n"
     ]
    },
    {
     "name": "stderr",
     "output_type": "stream",
     "text": [
      "\r",
      "Generating signatures:  92%|██████████████████▎ | 11/12 [00:02<00:00,  5.13it/s]"
     ]
    },
    {
     "name": "stdout",
     "output_type": "stream",
     "text": [
      "1/1 [==============================] - 0s 52ms/step\n",
      "1/1 [==============================] - 0s 45ms/step\n"
     ]
    },
    {
     "name": "stderr",
     "output_type": "stream",
     "text": [
      "Generating signatures: 100%|████████████████████| 12/12 [00:02<00:00,  4.92it/s]\n"
     ]
    },
    {
     "name": "stdout",
     "output_type": "stream",
     "text": [
      "B3\n"
     ]
    },
    {
     "name": "stderr",
     "output_type": "stream",
     "text": [
      "Parsing SMILES: 1513it [00:00, 4974.38it/s]\n",
      "Generating signatures:   0%|                             | 0/12 [00:00<?, ?it/s]"
     ]
    },
    {
     "name": "stdout",
     "output_type": "stream",
     "text": [
      "1/1 [==============================] - 0s 46ms/step\n",
      "1/1 [==============================] - 0s 43ms/step\n"
     ]
    },
    {
     "name": "stderr",
     "output_type": "stream",
     "text": [
      "\r",
      "Generating signatures:   8%|█▊                   | 1/12 [00:00<00:02,  4.03it/s]"
     ]
    },
    {
     "name": "stdout",
     "output_type": "stream",
     "text": [
      "1/1 [==============================] - 0s 19ms/step\n",
      "1/1 [==============================] - 0s 19ms/step\n"
     ]
    },
    {
     "name": "stderr",
     "output_type": "stream",
     "text": [
      "\r",
      "Generating signatures:  17%|███▌                 | 2/12 [00:00<00:02,  4.64it/s]"
     ]
    },
    {
     "name": "stdout",
     "output_type": "stream",
     "text": [
      "1/1 [==============================] - 0s 19ms/step\n",
      "1/1 [==============================] - 0s 19ms/step\n"
     ]
    },
    {
     "name": "stderr",
     "output_type": "stream",
     "text": [
      "\r",
      "Generating signatures:  25%|█████▎               | 3/12 [00:00<00:01,  4.82it/s]"
     ]
    },
    {
     "name": "stdout",
     "output_type": "stream",
     "text": [
      "1/1 [==============================] - 0s 19ms/step\n",
      "1/1 [==============================] - 0s 19ms/step\n"
     ]
    },
    {
     "name": "stderr",
     "output_type": "stream",
     "text": [
      "\r",
      "Generating signatures:  33%|███████              | 4/12 [00:00<00:01,  4.92it/s]"
     ]
    },
    {
     "name": "stdout",
     "output_type": "stream",
     "text": [
      "1/1 [==============================] - 0s 19ms/step\n",
      "1/1 [==============================] - 0s 19ms/step\n"
     ]
    },
    {
     "name": "stderr",
     "output_type": "stream",
     "text": [
      "\r",
      "Generating signatures:  42%|████████▊            | 5/12 [00:01<00:01,  4.97it/s]"
     ]
    },
    {
     "name": "stdout",
     "output_type": "stream",
     "text": [
      "1/1 [==============================] - 0s 19ms/step\n",
      "1/1 [==============================] - 0s 20ms/step\n"
     ]
    },
    {
     "name": "stderr",
     "output_type": "stream",
     "text": [
      "\r",
      "Generating signatures:  50%|██████████▌          | 6/12 [00:01<00:01,  5.02it/s]"
     ]
    },
    {
     "name": "stdout",
     "output_type": "stream",
     "text": [
      "1/1 [==============================] - 0s 19ms/step\n",
      "1/1 [==============================] - 0s 19ms/step\n"
     ]
    },
    {
     "name": "stderr",
     "output_type": "stream",
     "text": [
      "\r",
      "Generating signatures:  58%|████████████▎        | 7/12 [00:01<00:00,  5.07it/s]"
     ]
    },
    {
     "name": "stdout",
     "output_type": "stream",
     "text": [
      "1/1 [==============================] - 0s 20ms/step\n",
      "1/1 [==============================] - 0s 19ms/step\n"
     ]
    },
    {
     "name": "stderr",
     "output_type": "stream",
     "text": [
      "\r",
      "Generating signatures:  67%|██████████████       | 8/12 [00:01<00:00,  5.10it/s]"
     ]
    },
    {
     "name": "stdout",
     "output_type": "stream",
     "text": [
      "1/1 [==============================] - 0s 19ms/step\n",
      "1/1 [==============================] - 0s 19ms/step\n"
     ]
    },
    {
     "name": "stderr",
     "output_type": "stream",
     "text": [
      "\r",
      "Generating signatures:  75%|███████████████▊     | 9/12 [00:01<00:00,  5.12it/s]"
     ]
    },
    {
     "name": "stdout",
     "output_type": "stream",
     "text": [
      "1/1 [==============================] - 0s 19ms/step\n",
      "1/1 [==============================] - 0s 20ms/step\n"
     ]
    },
    {
     "name": "stderr",
     "output_type": "stream",
     "text": [
      "\r",
      "Generating signatures:  83%|████████████████▋   | 10/12 [00:02<00:00,  5.09it/s]"
     ]
    },
    {
     "name": "stdout",
     "output_type": "stream",
     "text": [
      "1/1 [==============================] - 0s 19ms/step\n",
      "1/1 [==============================] - 0s 20ms/step\n"
     ]
    },
    {
     "name": "stderr",
     "output_type": "stream",
     "text": [
      "\r",
      "Generating signatures:  92%|██████████████████▎ | 11/12 [00:02<00:00,  5.13it/s]"
     ]
    },
    {
     "name": "stdout",
     "output_type": "stream",
     "text": [
      "1/1 [==============================] - 0s 47ms/step\n",
      "1/1 [==============================] - 0s 46ms/step\n"
     ]
    },
    {
     "name": "stderr",
     "output_type": "stream",
     "text": [
      "Generating signatures: 100%|████████████████████| 12/12 [00:02<00:00,  4.93it/s]\n"
     ]
    },
    {
     "name": "stdout",
     "output_type": "stream",
     "text": [
      "B4\n"
     ]
    },
    {
     "name": "stderr",
     "output_type": "stream",
     "text": [
      "Parsing SMILES: 1513it [00:00, 4796.30it/s]\n",
      "Generating signatures:   0%|                             | 0/12 [00:00<?, ?it/s]"
     ]
    },
    {
     "name": "stdout",
     "output_type": "stream",
     "text": [
      "1/1 [==============================] - 0s 47ms/step\n",
      "1/1 [==============================] - 0s 43ms/step\n"
     ]
    },
    {
     "name": "stderr",
     "output_type": "stream",
     "text": [
      "\r",
      "Generating signatures:   8%|█▊                   | 1/12 [00:00<00:02,  4.00it/s]"
     ]
    },
    {
     "name": "stdout",
     "output_type": "stream",
     "text": [
      "1/1 [==============================] - 0s 19ms/step\n",
      "1/1 [==============================] - 0s 19ms/step\n"
     ]
    },
    {
     "name": "stderr",
     "output_type": "stream",
     "text": [
      "\r",
      "Generating signatures:  17%|███▌                 | 2/12 [00:00<00:02,  4.61it/s]"
     ]
    },
    {
     "name": "stdout",
     "output_type": "stream",
     "text": [
      "1/1 [==============================] - 0s 19ms/step\n",
      "1/1 [==============================] - 0s 20ms/step\n"
     ]
    },
    {
     "name": "stderr",
     "output_type": "stream",
     "text": [
      "\r",
      "Generating signatures:  25%|█████▎               | 3/12 [00:00<00:01,  4.79it/s]"
     ]
    },
    {
     "name": "stdout",
     "output_type": "stream",
     "text": [
      "1/1 [==============================] - 0s 19ms/step\n",
      "1/1 [==============================] - 0s 19ms/step\n"
     ]
    },
    {
     "name": "stderr",
     "output_type": "stream",
     "text": [
      "\r",
      "Generating signatures:  33%|███████              | 4/12 [00:00<00:01,  4.86it/s]"
     ]
    },
    {
     "name": "stdout",
     "output_type": "stream",
     "text": [
      "1/1 [==============================] - 0s 19ms/step\n",
      "1/1 [==============================] - 0s 19ms/step\n"
     ]
    },
    {
     "name": "stderr",
     "output_type": "stream",
     "text": [
      "\r",
      "Generating signatures:  42%|████████▊            | 5/12 [00:01<00:01,  4.95it/s]"
     ]
    },
    {
     "name": "stdout",
     "output_type": "stream",
     "text": [
      "1/1 [==============================] - 0s 19ms/step\n",
      "1/1 [==============================] - 0s 19ms/step\n"
     ]
    },
    {
     "name": "stderr",
     "output_type": "stream",
     "text": [
      "\r",
      "Generating signatures:  50%|██████████▌          | 6/12 [00:01<00:01,  5.01it/s]"
     ]
    },
    {
     "name": "stdout",
     "output_type": "stream",
     "text": [
      "1/1 [==============================] - 0s 19ms/step\n",
      "1/1 [==============================] - 0s 19ms/step\n"
     ]
    },
    {
     "name": "stderr",
     "output_type": "stream",
     "text": [
      "\r",
      "Generating signatures:  58%|████████████▎        | 7/12 [00:01<00:00,  5.05it/s]"
     ]
    },
    {
     "name": "stdout",
     "output_type": "stream",
     "text": [
      "1/1 [==============================] - 0s 19ms/step\n",
      "1/1 [==============================] - 0s 19ms/step\n"
     ]
    },
    {
     "name": "stderr",
     "output_type": "stream",
     "text": [
      "\r",
      "Generating signatures:  67%|██████████████       | 8/12 [00:01<00:00,  5.09it/s]"
     ]
    },
    {
     "name": "stdout",
     "output_type": "stream",
     "text": [
      "1/1 [==============================] - 0s 19ms/step\n",
      "1/1 [==============================] - 0s 20ms/step\n"
     ]
    },
    {
     "name": "stderr",
     "output_type": "stream",
     "text": [
      "\r",
      "Generating signatures:  75%|███████████████▊     | 9/12 [00:01<00:00,  5.07it/s]"
     ]
    },
    {
     "name": "stdout",
     "output_type": "stream",
     "text": [
      "1/1 [==============================] - 0s 19ms/step\n",
      "1/1 [==============================] - 0s 19ms/step\n"
     ]
    },
    {
     "name": "stderr",
     "output_type": "stream",
     "text": [
      "\r",
      "Generating signatures:  83%|████████████████▋   | 10/12 [00:02<00:00,  5.10it/s]"
     ]
    },
    {
     "name": "stdout",
     "output_type": "stream",
     "text": [
      "1/1 [==============================] - 0s 19ms/step\n",
      "1/1 [==============================] - 0s 19ms/step\n"
     ]
    },
    {
     "name": "stderr",
     "output_type": "stream",
     "text": [
      "\r",
      "Generating signatures:  92%|██████████████████▎ | 11/12 [00:02<00:00,  5.10it/s]"
     ]
    },
    {
     "name": "stdout",
     "output_type": "stream",
     "text": [
      "1/1 [==============================] - 0s 47ms/step\n",
      "1/1 [==============================] - 0s 45ms/step\n"
     ]
    },
    {
     "name": "stderr",
     "output_type": "stream",
     "text": [
      "Generating signatures: 100%|████████████████████| 12/12 [00:02<00:00,  4.92it/s]\n"
     ]
    },
    {
     "name": "stdout",
     "output_type": "stream",
     "text": [
      "B5\n"
     ]
    },
    {
     "name": "stderr",
     "output_type": "stream",
     "text": [
      "Parsing SMILES: 1513it [00:00, 4913.73it/s]\n",
      "Generating signatures:   0%|                             | 0/12 [00:00<?, ?it/s]"
     ]
    },
    {
     "name": "stdout",
     "output_type": "stream",
     "text": [
      "1/1 [==============================] - 0s 46ms/step\n",
      "1/1 [==============================] - 0s 44ms/step\n"
     ]
    },
    {
     "name": "stderr",
     "output_type": "stream",
     "text": [
      "\r",
      "Generating signatures:   8%|█▊                   | 1/12 [00:00<00:02,  4.02it/s]"
     ]
    },
    {
     "name": "stdout",
     "output_type": "stream",
     "text": [
      "1/1 [==============================] - 0s 19ms/step\n",
      "1/1 [==============================] - 0s 19ms/step\n"
     ]
    },
    {
     "name": "stderr",
     "output_type": "stream",
     "text": [
      "\r",
      "Generating signatures:  17%|███▌                 | 2/12 [00:00<00:02,  4.61it/s]"
     ]
    },
    {
     "name": "stdout",
     "output_type": "stream",
     "text": [
      "1/1 [==============================] - 0s 19ms/step\n",
      "1/1 [==============================] - 0s 19ms/step\n"
     ]
    },
    {
     "name": "stderr",
     "output_type": "stream",
     "text": [
      "\r",
      "Generating signatures:  25%|█████▎               | 3/12 [00:00<00:01,  4.80it/s]"
     ]
    },
    {
     "name": "stdout",
     "output_type": "stream",
     "text": [
      "1/1 [==============================] - 0s 19ms/step\n",
      "1/1 [==============================] - 0s 20ms/step\n"
     ]
    },
    {
     "name": "stderr",
     "output_type": "stream",
     "text": [
      "\r",
      "Generating signatures:  33%|███████              | 4/12 [00:00<00:01,  4.90it/s]"
     ]
    },
    {
     "name": "stdout",
     "output_type": "stream",
     "text": [
      "1/1 [==============================] - 0s 19ms/step\n",
      "1/1 [==============================] - 0s 19ms/step\n"
     ]
    },
    {
     "name": "stderr",
     "output_type": "stream",
     "text": [
      "\r",
      "Generating signatures:  42%|████████▊            | 5/12 [00:01<00:01,  4.97it/s]"
     ]
    },
    {
     "name": "stdout",
     "output_type": "stream",
     "text": [
      "1/1 [==============================] - 0s 20ms/step\n",
      "1/1 [==============================] - 0s 19ms/step\n"
     ]
    },
    {
     "name": "stderr",
     "output_type": "stream",
     "text": [
      "\r",
      "Generating signatures:  50%|██████████▌          | 6/12 [00:01<00:01,  5.01it/s]"
     ]
    },
    {
     "name": "stdout",
     "output_type": "stream",
     "text": [
      "1/1 [==============================] - 0s 20ms/step\n",
      "1/1 [==============================] - 0s 19ms/step\n"
     ]
    },
    {
     "name": "stderr",
     "output_type": "stream",
     "text": [
      "\r",
      "Generating signatures:  58%|████████████▎        | 7/12 [00:01<00:01,  4.99it/s]"
     ]
    },
    {
     "name": "stdout",
     "output_type": "stream",
     "text": [
      "1/1 [==============================] - 0s 19ms/step\n",
      "1/1 [==============================] - 0s 20ms/step\n"
     ]
    },
    {
     "name": "stderr",
     "output_type": "stream",
     "text": [
      "\r",
      "Generating signatures:  67%|██████████████       | 8/12 [00:01<00:00,  5.04it/s]"
     ]
    },
    {
     "name": "stdout",
     "output_type": "stream",
     "text": [
      "1/1 [==============================] - 0s 19ms/step\n",
      "1/1 [==============================] - 0s 19ms/step\n"
     ]
    },
    {
     "name": "stderr",
     "output_type": "stream",
     "text": [
      "\r",
      "Generating signatures:  75%|███████████████▊     | 9/12 [00:01<00:00,  5.07it/s]"
     ]
    },
    {
     "name": "stdout",
     "output_type": "stream",
     "text": [
      "1/1 [==============================] - 0s 19ms/step\n",
      "1/1 [==============================] - 0s 19ms/step\n"
     ]
    },
    {
     "name": "stderr",
     "output_type": "stream",
     "text": [
      "\r",
      "Generating signatures:  83%|████████████████▋   | 10/12 [00:02<00:00,  5.10it/s]"
     ]
    },
    {
     "name": "stdout",
     "output_type": "stream",
     "text": [
      "1/1 [==============================] - 0s 19ms/step\n",
      "1/1 [==============================] - 0s 19ms/step\n"
     ]
    },
    {
     "name": "stderr",
     "output_type": "stream",
     "text": [
      "\r",
      "Generating signatures:  92%|██████████████████▎ | 11/12 [00:02<00:00,  5.10it/s]"
     ]
    },
    {
     "name": "stdout",
     "output_type": "stream",
     "text": [
      "1/1 [==============================] - 0s 49ms/step\n",
      "1/1 [==============================] - 0s 45ms/step\n"
     ]
    },
    {
     "name": "stderr",
     "output_type": "stream",
     "text": [
      "Generating signatures: 100%|████████████████████| 12/12 [00:02<00:00,  4.90it/s]\n"
     ]
    },
    {
     "name": "stdout",
     "output_type": "stream",
     "text": [
      "C1\n"
     ]
    },
    {
     "name": "stderr",
     "output_type": "stream",
     "text": [
      "Parsing SMILES: 1513it [00:00, 4889.77it/s]\n",
      "Generating signatures:   0%|                             | 0/12 [00:00<?, ?it/s]"
     ]
    },
    {
     "name": "stdout",
     "output_type": "stream",
     "text": [
      "1/1 [==============================] - 0s 46ms/step\n",
      "1/1 [==============================] - 0s 44ms/step\n"
     ]
    },
    {
     "name": "stderr",
     "output_type": "stream",
     "text": [
      "\r",
      "Generating signatures:   8%|█▊                   | 1/12 [00:00<00:02,  4.00it/s]"
     ]
    },
    {
     "name": "stdout",
     "output_type": "stream",
     "text": [
      "1/1 [==============================] - 0s 20ms/step\n",
      "1/1 [==============================] - 0s 19ms/step\n"
     ]
    },
    {
     "name": "stderr",
     "output_type": "stream",
     "text": [
      "\r",
      "Generating signatures:  17%|███▌                 | 2/12 [00:00<00:02,  4.61it/s]"
     ]
    },
    {
     "name": "stdout",
     "output_type": "stream",
     "text": [
      "1/1 [==============================] - 0s 19ms/step\n",
      "1/1 [==============================] - 0s 19ms/step\n"
     ]
    },
    {
     "name": "stderr",
     "output_type": "stream",
     "text": [
      "\r",
      "Generating signatures:  25%|█████▎               | 3/12 [00:00<00:01,  4.77it/s]"
     ]
    },
    {
     "name": "stdout",
     "output_type": "stream",
     "text": [
      "1/1 [==============================] - 0s 20ms/step\n",
      "1/1 [==============================] - 0s 19ms/step\n"
     ]
    },
    {
     "name": "stderr",
     "output_type": "stream",
     "text": [
      "\r",
      "Generating signatures:  33%|███████              | 4/12 [00:00<00:01,  4.88it/s]"
     ]
    },
    {
     "name": "stdout",
     "output_type": "stream",
     "text": [
      "1/1 [==============================] - 0s 20ms/step\n",
      "1/1 [==============================] - 0s 20ms/step\n"
     ]
    },
    {
     "name": "stderr",
     "output_type": "stream",
     "text": [
      "\r",
      "Generating signatures:  42%|████████▊            | 5/12 [00:01<00:01,  4.90it/s]"
     ]
    },
    {
     "name": "stdout",
     "output_type": "stream",
     "text": [
      "1/1 [==============================] - 0s 20ms/step\n",
      "1/1 [==============================] - 0s 19ms/step\n"
     ]
    },
    {
     "name": "stderr",
     "output_type": "stream",
     "text": [
      "\r",
      "Generating signatures:  50%|██████████▌          | 6/12 [00:01<00:01,  4.96it/s]"
     ]
    },
    {
     "name": "stdout",
     "output_type": "stream",
     "text": [
      "1/1 [==============================] - 0s 19ms/step\n",
      "1/1 [==============================] - 0s 19ms/step\n"
     ]
    },
    {
     "name": "stderr",
     "output_type": "stream",
     "text": [
      "\r",
      "Generating signatures:  58%|████████████▎        | 7/12 [00:01<00:00,  5.02it/s]"
     ]
    },
    {
     "name": "stdout",
     "output_type": "stream",
     "text": [
      "1/1 [==============================] - 0s 20ms/step\n",
      "1/1 [==============================] - 0s 20ms/step\n"
     ]
    },
    {
     "name": "stderr",
     "output_type": "stream",
     "text": [
      "\r",
      "Generating signatures:  67%|██████████████       | 8/12 [00:01<00:00,  5.03it/s]"
     ]
    },
    {
     "name": "stdout",
     "output_type": "stream",
     "text": [
      "1/1 [==============================] - 0s 19ms/step\n",
      "1/1 [==============================] - 0s 20ms/step\n"
     ]
    },
    {
     "name": "stderr",
     "output_type": "stream",
     "text": [
      "\r",
      "Generating signatures:  75%|███████████████▊     | 9/12 [00:01<00:00,  5.06it/s]"
     ]
    },
    {
     "name": "stdout",
     "output_type": "stream",
     "text": [
      "1/1 [==============================] - 0s 20ms/step\n",
      "1/1 [==============================] - 0s 20ms/step\n"
     ]
    },
    {
     "name": "stderr",
     "output_type": "stream",
     "text": [
      "\r",
      "Generating signatures:  83%|████████████████▋   | 10/12 [00:02<00:00,  5.03it/s]"
     ]
    },
    {
     "name": "stdout",
     "output_type": "stream",
     "text": [
      "1/1 [==============================] - 0s 20ms/step\n",
      "1/1 [==============================] - 0s 19ms/step\n"
     ]
    },
    {
     "name": "stderr",
     "output_type": "stream",
     "text": [
      "\r",
      "Generating signatures:  92%|██████████████████▎ | 11/12 [00:02<00:00,  5.05it/s]"
     ]
    },
    {
     "name": "stdout",
     "output_type": "stream",
     "text": [
      "1/1 [==============================] - 0s 47ms/step\n",
      "1/1 [==============================] - 0s 46ms/step\n"
     ]
    },
    {
     "name": "stderr",
     "output_type": "stream",
     "text": [
      "Generating signatures: 100%|████████████████████| 12/12 [00:02<00:00,  4.88it/s]\n"
     ]
    },
    {
     "name": "stdout",
     "output_type": "stream",
     "text": [
      "C2\n"
     ]
    },
    {
     "name": "stderr",
     "output_type": "stream",
     "text": [
      "Parsing SMILES: 1513it [00:00, 4898.78it/s]\n",
      "Generating signatures:   0%|                             | 0/12 [00:00<?, ?it/s]"
     ]
    },
    {
     "name": "stdout",
     "output_type": "stream",
     "text": [
      "1/1 [==============================] - 0s 46ms/step\n",
      "1/1 [==============================] - 0s 43ms/step\n"
     ]
    },
    {
     "name": "stderr",
     "output_type": "stream",
     "text": [
      "\r",
      "Generating signatures:   8%|█▊                   | 1/12 [00:00<00:02,  4.01it/s]"
     ]
    },
    {
     "name": "stdout",
     "output_type": "stream",
     "text": [
      "1/1 [==============================] - 0s 19ms/step\n",
      "1/1 [==============================] - 0s 19ms/step\n"
     ]
    },
    {
     "name": "stderr",
     "output_type": "stream",
     "text": [
      "\r",
      "Generating signatures:  17%|███▌                 | 2/12 [00:00<00:02,  4.62it/s]"
     ]
    },
    {
     "name": "stdout",
     "output_type": "stream",
     "text": [
      "1/1 [==============================] - 0s 19ms/step\n",
      "1/1 [==============================] - 0s 19ms/step\n"
     ]
    },
    {
     "name": "stderr",
     "output_type": "stream",
     "text": [
      "\r",
      "Generating signatures:  25%|█████▎               | 3/12 [00:00<00:01,  4.80it/s]"
     ]
    },
    {
     "name": "stdout",
     "output_type": "stream",
     "text": [
      "1/1 [==============================] - 0s 19ms/step\n",
      "1/1 [==============================] - 0s 19ms/step\n"
     ]
    },
    {
     "name": "stderr",
     "output_type": "stream",
     "text": [
      "\r",
      "Generating signatures:  33%|███████              | 4/12 [00:00<00:01,  4.87it/s]"
     ]
    },
    {
     "name": "stdout",
     "output_type": "stream",
     "text": [
      "1/1 [==============================] - 0s 19ms/step\n",
      "1/1 [==============================] - 0s 19ms/step\n"
     ]
    },
    {
     "name": "stderr",
     "output_type": "stream",
     "text": [
      "\r",
      "Generating signatures:  42%|████████▊            | 5/12 [00:01<00:01,  4.95it/s]"
     ]
    },
    {
     "name": "stdout",
     "output_type": "stream",
     "text": [
      "1/1 [==============================] - 0s 19ms/step\n",
      "1/1 [==============================] - 0s 19ms/step\n"
     ]
    },
    {
     "name": "stderr",
     "output_type": "stream",
     "text": [
      "\r",
      "Generating signatures:  50%|██████████▌          | 6/12 [00:01<00:01,  5.01it/s]"
     ]
    },
    {
     "name": "stdout",
     "output_type": "stream",
     "text": [
      "1/1 [==============================] - 0s 19ms/step\n",
      "1/1 [==============================] - 0s 19ms/step\n"
     ]
    },
    {
     "name": "stderr",
     "output_type": "stream",
     "text": [
      "\r",
      "Generating signatures:  58%|████████████▎        | 7/12 [00:01<00:00,  5.05it/s]"
     ]
    },
    {
     "name": "stdout",
     "output_type": "stream",
     "text": [
      "1/1 [==============================] - 0s 19ms/step\n",
      "1/1 [==============================] - 0s 19ms/step\n"
     ]
    },
    {
     "name": "stderr",
     "output_type": "stream",
     "text": [
      "\r",
      "Generating signatures:  67%|██████████████       | 8/12 [00:01<00:00,  5.07it/s]"
     ]
    },
    {
     "name": "stdout",
     "output_type": "stream",
     "text": [
      "1/1 [==============================] - 0s 20ms/step\n",
      "1/1 [==============================] - 0s 19ms/step\n"
     ]
    },
    {
     "name": "stderr",
     "output_type": "stream",
     "text": [
      "\r",
      "Generating signatures:  75%|███████████████▊     | 9/12 [00:01<00:00,  5.05it/s]"
     ]
    },
    {
     "name": "stdout",
     "output_type": "stream",
     "text": [
      "1/1 [==============================] - 0s 19ms/step\n",
      "1/1 [==============================] - 0s 19ms/step\n"
     ]
    },
    {
     "name": "stderr",
     "output_type": "stream",
     "text": [
      "\r",
      "Generating signatures:  83%|████████████████▋   | 10/12 [00:02<00:00,  5.09it/s]"
     ]
    },
    {
     "name": "stdout",
     "output_type": "stream",
     "text": [
      "1/1 [==============================] - 0s 19ms/step\n",
      "1/1 [==============================] - 0s 19ms/step\n"
     ]
    },
    {
     "name": "stderr",
     "output_type": "stream",
     "text": [
      "\r",
      "Generating signatures:  92%|██████████████████▎ | 11/12 [00:02<00:00,  5.10it/s]"
     ]
    },
    {
     "name": "stdout",
     "output_type": "stream",
     "text": [
      "1/1 [==============================] - 0s 47ms/step\n",
      "1/1 [==============================] - 0s 45ms/step\n"
     ]
    },
    {
     "name": "stderr",
     "output_type": "stream",
     "text": [
      "Generating signatures: 100%|████████████████████| 12/12 [00:02<00:00,  4.91it/s]\n"
     ]
    },
    {
     "name": "stdout",
     "output_type": "stream",
     "text": [
      "C3\n"
     ]
    },
    {
     "name": "stderr",
     "output_type": "stream",
     "text": [
      "Parsing SMILES: 1513it [00:00, 4901.74it/s]\n",
      "Generating signatures:   0%|                             | 0/12 [00:00<?, ?it/s]"
     ]
    },
    {
     "name": "stdout",
     "output_type": "stream",
     "text": [
      "1/1 [==============================] - 0s 47ms/step\n",
      "1/1 [==============================] - 0s 43ms/step\n"
     ]
    },
    {
     "name": "stderr",
     "output_type": "stream",
     "text": [
      "\r",
      "Generating signatures:   8%|█▊                   | 1/12 [00:00<00:02,  3.99it/s]"
     ]
    },
    {
     "name": "stdout",
     "output_type": "stream",
     "text": [
      "1/1 [==============================] - 0s 20ms/step\n",
      "1/1 [==============================] - 0s 20ms/step\n"
     ]
    },
    {
     "name": "stderr",
     "output_type": "stream",
     "text": [
      "\r",
      "Generating signatures:  17%|███▌                 | 2/12 [00:00<00:02,  4.57it/s]"
     ]
    },
    {
     "name": "stdout",
     "output_type": "stream",
     "text": [
      "1/1 [==============================] - 0s 21ms/step\n",
      "1/1 [==============================] - 0s 19ms/step\n"
     ]
    },
    {
     "name": "stderr",
     "output_type": "stream",
     "text": [
      "\r",
      "Generating signatures:  25%|█████▎               | 3/12 [00:00<00:01,  4.76it/s]"
     ]
    },
    {
     "name": "stdout",
     "output_type": "stream",
     "text": [
      "1/1 [==============================] - 0s 19ms/step\n",
      "1/1 [==============================] - 0s 19ms/step\n"
     ]
    },
    {
     "name": "stderr",
     "output_type": "stream",
     "text": [
      "\r",
      "Generating signatures:  33%|███████              | 4/12 [00:00<00:01,  4.89it/s]"
     ]
    },
    {
     "name": "stdout",
     "output_type": "stream",
     "text": [
      "1/1 [==============================] - 0s 19ms/step\n",
      "1/1 [==============================] - 0s 22ms/step\n"
     ]
    },
    {
     "name": "stderr",
     "output_type": "stream",
     "text": [
      "\r",
      "Generating signatures:  42%|████████▊            | 5/12 [00:01<00:01,  4.94it/s]"
     ]
    },
    {
     "name": "stdout",
     "output_type": "stream",
     "text": [
      "1/1 [==============================] - 0s 19ms/step\n",
      "1/1 [==============================] - 0s 31ms/step\n"
     ]
    },
    {
     "name": "stderr",
     "output_type": "stream",
     "text": [
      "\r",
      "Generating signatures:  50%|██████████▌          | 6/12 [00:01<00:01,  4.90it/s]"
     ]
    },
    {
     "name": "stdout",
     "output_type": "stream",
     "text": [
      "1/1 [==============================] - 0s 19ms/step\n",
      "1/1 [==============================] - 0s 20ms/step\n"
     ]
    },
    {
     "name": "stderr",
     "output_type": "stream",
     "text": [
      "\r",
      "Generating signatures:  58%|████████████▎        | 7/12 [00:01<00:01,  4.94it/s]"
     ]
    },
    {
     "name": "stdout",
     "output_type": "stream",
     "text": [
      "1/1 [==============================] - 0s 20ms/step\n",
      "1/1 [==============================] - 0s 19ms/step\n"
     ]
    },
    {
     "name": "stderr",
     "output_type": "stream",
     "text": [
      "\r",
      "Generating signatures:  67%|██████████████       | 8/12 [00:01<00:00,  5.00it/s]"
     ]
    },
    {
     "name": "stdout",
     "output_type": "stream",
     "text": [
      "1/1 [==============================] - 0s 20ms/step\n",
      "1/1 [==============================] - 0s 19ms/step\n"
     ]
    },
    {
     "name": "stderr",
     "output_type": "stream",
     "text": [
      "\r",
      "Generating signatures:  75%|███████████████▊     | 9/12 [00:01<00:00,  5.04it/s]"
     ]
    },
    {
     "name": "stdout",
     "output_type": "stream",
     "text": [
      "1/1 [==============================] - 0s 20ms/step\n",
      "1/1 [==============================] - 0s 19ms/step\n"
     ]
    },
    {
     "name": "stderr",
     "output_type": "stream",
     "text": [
      "\r",
      "Generating signatures:  83%|████████████████▋   | 10/12 [00:02<00:00,  5.06it/s]"
     ]
    },
    {
     "name": "stdout",
     "output_type": "stream",
     "text": [
      "1/1 [==============================] - 0s 19ms/step\n",
      "1/1 [==============================] - 0s 19ms/step\n"
     ]
    },
    {
     "name": "stderr",
     "output_type": "stream",
     "text": [
      "\r",
      "Generating signatures:  92%|██████████████████▎ | 11/12 [00:02<00:00,  5.07it/s]"
     ]
    },
    {
     "name": "stdout",
     "output_type": "stream",
     "text": [
      "1/1 [==============================] - 0s 48ms/step\n",
      "1/1 [==============================] - 0s 48ms/step\n"
     ]
    },
    {
     "name": "stderr",
     "output_type": "stream",
     "text": [
      "Generating signatures: 100%|████████████████████| 12/12 [00:02<00:00,  4.86it/s]\n"
     ]
    },
    {
     "name": "stdout",
     "output_type": "stream",
     "text": [
      "C4\n"
     ]
    },
    {
     "name": "stderr",
     "output_type": "stream",
     "text": [
      "Parsing SMILES: 1513it [00:00, 4869.96it/s]\n",
      "Generating signatures:   0%|                             | 0/12 [00:00<?, ?it/s]"
     ]
    },
    {
     "name": "stdout",
     "output_type": "stream",
     "text": [
      "1/1 [==============================] - 0s 48ms/step\n",
      "1/1 [==============================] - 0s 43ms/step\n"
     ]
    },
    {
     "name": "stderr",
     "output_type": "stream",
     "text": [
      "\r",
      "Generating signatures:   8%|█▊                   | 1/12 [00:00<00:02,  3.99it/s]"
     ]
    },
    {
     "name": "stdout",
     "output_type": "stream",
     "text": [
      "1/1 [==============================] - 0s 19ms/step\n",
      "1/1 [==============================] - 0s 19ms/step\n"
     ]
    },
    {
     "name": "stderr",
     "output_type": "stream",
     "text": [
      "\r",
      "Generating signatures:  17%|███▌                 | 2/12 [00:00<00:02,  4.61it/s]"
     ]
    },
    {
     "name": "stdout",
     "output_type": "stream",
     "text": [
      "1/1 [==============================] - 0s 19ms/step\n",
      "1/1 [==============================] - 0s 19ms/step\n"
     ]
    },
    {
     "name": "stderr",
     "output_type": "stream",
     "text": [
      "\r",
      "Generating signatures:  25%|█████▎               | 3/12 [00:00<00:01,  4.80it/s]"
     ]
    },
    {
     "name": "stdout",
     "output_type": "stream",
     "text": [
      "1/1 [==============================] - 0s 19ms/step\n",
      "1/1 [==============================] - 0s 19ms/step\n"
     ]
    },
    {
     "name": "stderr",
     "output_type": "stream",
     "text": [
      "\r",
      "Generating signatures:  33%|███████              | 4/12 [00:00<00:01,  4.92it/s]"
     ]
    },
    {
     "name": "stdout",
     "output_type": "stream",
     "text": [
      "1/1 [==============================] - 0s 19ms/step\n",
      "1/1 [==============================] - 0s 19ms/step\n"
     ]
    },
    {
     "name": "stderr",
     "output_type": "stream",
     "text": [
      "\r",
      "Generating signatures:  42%|████████▊            | 5/12 [00:01<00:01,  4.98it/s]"
     ]
    },
    {
     "name": "stdout",
     "output_type": "stream",
     "text": [
      "1/1 [==============================] - 0s 196ms/step\n",
      "1/1 [==============================] - 0s 19ms/step\n"
     ]
    },
    {
     "name": "stderr",
     "output_type": "stream",
     "text": [
      "\r",
      "Generating signatures:  50%|██████████▌          | 6/12 [00:01<00:01,  3.84it/s]"
     ]
    },
    {
     "name": "stdout",
     "output_type": "stream",
     "text": [
      "1/1 [==============================] - 0s 19ms/step\n",
      "1/1 [==============================] - 0s 19ms/step\n"
     ]
    },
    {
     "name": "stderr",
     "output_type": "stream",
     "text": [
      "\r",
      "Generating signatures:  58%|████████████▎        | 7/12 [00:01<00:01,  4.19it/s]"
     ]
    },
    {
     "name": "stdout",
     "output_type": "stream",
     "text": [
      "1/1 [==============================] - 0s 19ms/step\n",
      "1/1 [==============================] - 0s 19ms/step\n"
     ]
    },
    {
     "name": "stderr",
     "output_type": "stream",
     "text": [
      "\r",
      "Generating signatures:  67%|██████████████       | 8/12 [00:01<00:00,  4.46it/s]"
     ]
    },
    {
     "name": "stdout",
     "output_type": "stream",
     "text": [
      "1/1 [==============================] - 0s 19ms/step\n",
      "1/1 [==============================] - 0s 19ms/step\n"
     ]
    },
    {
     "name": "stderr",
     "output_type": "stream",
     "text": [
      "\r",
      "Generating signatures:  75%|███████████████▊     | 9/12 [00:01<00:00,  4.65it/s]"
     ]
    },
    {
     "name": "stdout",
     "output_type": "stream",
     "text": [
      "1/1 [==============================] - 0s 18ms/step\n",
      "1/1 [==============================] - 0s 19ms/step\n"
     ]
    },
    {
     "name": "stderr",
     "output_type": "stream",
     "text": [
      "\r",
      "Generating signatures:  83%|████████████████▋   | 10/12 [00:02<00:00,  4.80it/s]"
     ]
    },
    {
     "name": "stdout",
     "output_type": "stream",
     "text": [
      "1/1 [==============================] - 0s 19ms/step\n",
      "1/1 [==============================] - 0s 20ms/step\n"
     ]
    },
    {
     "name": "stderr",
     "output_type": "stream",
     "text": [
      "\r",
      "Generating signatures:  92%|██████████████████▎ | 11/12 [00:02<00:00,  4.86it/s]"
     ]
    },
    {
     "name": "stdout",
     "output_type": "stream",
     "text": [
      "1/1 [==============================] - 0s 48ms/step\n",
      "1/1 [==============================] - 0s 45ms/step\n"
     ]
    },
    {
     "name": "stderr",
     "output_type": "stream",
     "text": [
      "Generating signatures: 100%|████████████████████| 12/12 [00:02<00:00,  4.59it/s]\n"
     ]
    },
    {
     "name": "stdout",
     "output_type": "stream",
     "text": [
      "C5\n"
     ]
    },
    {
     "name": "stderr",
     "output_type": "stream",
     "text": [
      "Parsing SMILES: 1513it [00:00, 4875.54it/s]\n",
      "Generating signatures:   0%|                             | 0/12 [00:00<?, ?it/s]"
     ]
    },
    {
     "name": "stdout",
     "output_type": "stream",
     "text": [
      "1/1 [==============================] - 0s 46ms/step\n",
      "1/1 [==============================] - 0s 44ms/step\n"
     ]
    },
    {
     "name": "stderr",
     "output_type": "stream",
     "text": [
      "\r",
      "Generating signatures:   8%|█▊                   | 1/12 [00:00<00:02,  4.04it/s]"
     ]
    },
    {
     "name": "stdout",
     "output_type": "stream",
     "text": [
      "1/1 [==============================] - 0s 19ms/step\n",
      "1/1 [==============================] - 0s 19ms/step\n"
     ]
    },
    {
     "name": "stderr",
     "output_type": "stream",
     "text": [
      "\r",
      "Generating signatures:  17%|███▌                 | 2/12 [00:00<00:02,  4.63it/s]"
     ]
    },
    {
     "name": "stdout",
     "output_type": "stream",
     "text": [
      "1/1 [==============================] - 0s 20ms/step\n",
      "1/1 [==============================] - 0s 19ms/step\n"
     ]
    },
    {
     "name": "stderr",
     "output_type": "stream",
     "text": [
      "\r",
      "Generating signatures:  25%|█████▎               | 3/12 [00:00<00:01,  4.80it/s]"
     ]
    },
    {
     "name": "stdout",
     "output_type": "stream",
     "text": [
      "1/1 [==============================] - 0s 21ms/step\n",
      "1/1 [==============================] - 0s 19ms/step\n"
     ]
    },
    {
     "name": "stderr",
     "output_type": "stream",
     "text": [
      "\r",
      "Generating signatures:  33%|███████              | 4/12 [00:00<00:01,  4.81it/s]"
     ]
    },
    {
     "name": "stdout",
     "output_type": "stream",
     "text": [
      "1/1 [==============================] - 0s 20ms/step\n",
      "1/1 [==============================] - 0s 19ms/step\n"
     ]
    },
    {
     "name": "stderr",
     "output_type": "stream",
     "text": [
      "\r",
      "Generating signatures:  42%|████████▊            | 5/12 [00:01<00:01,  4.92it/s]"
     ]
    },
    {
     "name": "stdout",
     "output_type": "stream",
     "text": [
      "1/1 [==============================] - 0s 19ms/step\n",
      "1/1 [==============================] - 0s 19ms/step\n"
     ]
    },
    {
     "name": "stderr",
     "output_type": "stream",
     "text": [
      "\r",
      "Generating signatures:  50%|██████████▌          | 6/12 [00:01<00:01,  4.99it/s]"
     ]
    },
    {
     "name": "stdout",
     "output_type": "stream",
     "text": [
      "1/1 [==============================] - 0s 19ms/step\n",
      "1/1 [==============================] - 0s 19ms/step\n"
     ]
    },
    {
     "name": "stderr",
     "output_type": "stream",
     "text": [
      "\r",
      "Generating signatures:  58%|████████████▎        | 7/12 [00:01<00:00,  5.02it/s]"
     ]
    },
    {
     "name": "stdout",
     "output_type": "stream",
     "text": [
      "1/1 [==============================] - 0s 20ms/step\n",
      "1/1 [==============================] - 0s 19ms/step\n"
     ]
    },
    {
     "name": "stderr",
     "output_type": "stream",
     "text": [
      "\r",
      "Generating signatures:  67%|██████████████       | 8/12 [00:01<00:00,  5.07it/s]"
     ]
    },
    {
     "name": "stdout",
     "output_type": "stream",
     "text": [
      "1/1 [==============================] - 0s 19ms/step\n",
      "1/1 [==============================] - 0s 19ms/step\n"
     ]
    },
    {
     "name": "stderr",
     "output_type": "stream",
     "text": [
      "\r",
      "Generating signatures:  75%|███████████████▊     | 9/12 [00:01<00:00,  5.06it/s]"
     ]
    },
    {
     "name": "stdout",
     "output_type": "stream",
     "text": [
      "1/1 [==============================] - 0s 20ms/step\n",
      "1/1 [==============================] - 0s 20ms/step\n"
     ]
    },
    {
     "name": "stderr",
     "output_type": "stream",
     "text": [
      "\r",
      "Generating signatures:  83%|████████████████▋   | 10/12 [00:02<00:00,  5.09it/s]"
     ]
    },
    {
     "name": "stdout",
     "output_type": "stream",
     "text": [
      "1/1 [==============================] - 0s 19ms/step\n",
      "1/1 [==============================] - 0s 19ms/step\n"
     ]
    },
    {
     "name": "stderr",
     "output_type": "stream",
     "text": [
      "\r",
      "Generating signatures:  92%|██████████████████▎ | 11/12 [00:02<00:00,  5.10it/s]"
     ]
    },
    {
     "name": "stdout",
     "output_type": "stream",
     "text": [
      "1/1 [==============================] - 0s 48ms/step\n",
      "1/1 [==============================] - 0s 45ms/step\n"
     ]
    },
    {
     "name": "stderr",
     "output_type": "stream",
     "text": [
      "Generating signatures: 100%|████████████████████| 12/12 [00:02<00:00,  4.90it/s]\n"
     ]
    },
    {
     "name": "stdout",
     "output_type": "stream",
     "text": [
      "D1\n"
     ]
    },
    {
     "name": "stderr",
     "output_type": "stream",
     "text": [
      "Parsing SMILES: 1513it [00:00, 4823.65it/s]\n",
      "Generating signatures:   0%|                             | 0/12 [00:00<?, ?it/s]"
     ]
    },
    {
     "name": "stdout",
     "output_type": "stream",
     "text": [
      "1/1 [==============================] - 0s 46ms/step\n",
      "1/1 [==============================] - 0s 44ms/step\n"
     ]
    },
    {
     "name": "stderr",
     "output_type": "stream",
     "text": [
      "\r",
      "Generating signatures:   8%|█▊                   | 1/12 [00:00<00:02,  4.00it/s]"
     ]
    },
    {
     "name": "stdout",
     "output_type": "stream",
     "text": [
      "1/1 [==============================] - 0s 19ms/step\n",
      "1/1 [==============================] - 0s 19ms/step\n"
     ]
    },
    {
     "name": "stderr",
     "output_type": "stream",
     "text": [
      "\r",
      "Generating signatures:  17%|███▌                 | 2/12 [00:00<00:02,  4.58it/s]"
     ]
    },
    {
     "name": "stdout",
     "output_type": "stream",
     "text": [
      "1/1 [==============================] - 0s 19ms/step\n",
      "1/1 [==============================] - 0s 19ms/step\n"
     ]
    },
    {
     "name": "stderr",
     "output_type": "stream",
     "text": [
      "\r",
      "Generating signatures:  25%|█████▎               | 3/12 [00:00<00:01,  4.80it/s]"
     ]
    },
    {
     "name": "stdout",
     "output_type": "stream",
     "text": [
      "1/1 [==============================] - 0s 19ms/step\n",
      "1/1 [==============================] - 0s 19ms/step\n"
     ]
    },
    {
     "name": "stderr",
     "output_type": "stream",
     "text": [
      "\r",
      "Generating signatures:  33%|███████              | 4/12 [00:00<00:01,  4.90it/s]"
     ]
    },
    {
     "name": "stdout",
     "output_type": "stream",
     "text": [
      "1/1 [==============================] - 0s 19ms/step\n",
      "1/1 [==============================] - 0s 19ms/step\n"
     ]
    },
    {
     "name": "stderr",
     "output_type": "stream",
     "text": [
      "\r",
      "Generating signatures:  42%|████████▊            | 5/12 [00:01<00:01,  4.98it/s]"
     ]
    },
    {
     "name": "stdout",
     "output_type": "stream",
     "text": [
      "1/1 [==============================] - 0s 19ms/step\n",
      "1/1 [==============================] - 0s 19ms/step\n"
     ]
    },
    {
     "name": "stderr",
     "output_type": "stream",
     "text": [
      "\r",
      "Generating signatures:  50%|██████████▌          | 6/12 [00:01<00:01,  5.02it/s]"
     ]
    },
    {
     "name": "stdout",
     "output_type": "stream",
     "text": [
      "1/1 [==============================] - 0s 19ms/step\n",
      "1/1 [==============================] - 0s 20ms/step\n"
     ]
    },
    {
     "name": "stderr",
     "output_type": "stream",
     "text": [
      "\r",
      "Generating signatures:  58%|████████████▎        | 7/12 [00:01<00:01,  5.00it/s]"
     ]
    },
    {
     "name": "stdout",
     "output_type": "stream",
     "text": [
      "1/1 [==============================] - 0s 20ms/step\n",
      "1/1 [==============================] - 0s 20ms/step\n"
     ]
    },
    {
     "name": "stderr",
     "output_type": "stream",
     "text": [
      "\r",
      "Generating signatures:  67%|██████████████       | 8/12 [00:01<00:00,  5.02it/s]"
     ]
    },
    {
     "name": "stdout",
     "output_type": "stream",
     "text": [
      "1/1 [==============================] - 0s 20ms/step\n",
      "1/1 [==============================] - 0s 19ms/step\n"
     ]
    },
    {
     "name": "stderr",
     "output_type": "stream",
     "text": [
      "\r",
      "Generating signatures:  75%|███████████████▊     | 9/12 [00:01<00:00,  5.06it/s]"
     ]
    },
    {
     "name": "stdout",
     "output_type": "stream",
     "text": [
      "1/1 [==============================] - 0s 19ms/step\n",
      "1/1 [==============================] - 0s 19ms/step\n"
     ]
    },
    {
     "name": "stderr",
     "output_type": "stream",
     "text": [
      "\r",
      "Generating signatures:  83%|████████████████▋   | 10/12 [00:02<00:00,  5.09it/s]"
     ]
    },
    {
     "name": "stdout",
     "output_type": "stream",
     "text": [
      "1/1 [==============================] - 0s 19ms/step\n",
      "1/1 [==============================] - 0s 19ms/step\n"
     ]
    },
    {
     "name": "stderr",
     "output_type": "stream",
     "text": [
      "\r",
      "Generating signatures:  92%|██████████████████▎ | 11/12 [00:02<00:00,  5.11it/s]"
     ]
    },
    {
     "name": "stdout",
     "output_type": "stream",
     "text": [
      "1/1 [==============================] - 0s 53ms/step\n",
      "1/1 [==============================] - 0s 45ms/step\n"
     ]
    },
    {
     "name": "stderr",
     "output_type": "stream",
     "text": [
      "Generating signatures: 100%|████████████████████| 12/12 [00:02<00:00,  4.90it/s]\n"
     ]
    },
    {
     "name": "stdout",
     "output_type": "stream",
     "text": [
      "D2\n"
     ]
    },
    {
     "name": "stderr",
     "output_type": "stream",
     "text": [
      "Parsing SMILES: 1513it [00:00, 4840.95it/s]\n",
      "Generating signatures:   0%|                             | 0/12 [00:00<?, ?it/s]"
     ]
    },
    {
     "name": "stdout",
     "output_type": "stream",
     "text": [
      "1/1 [==============================] - 0s 46ms/step\n",
      "1/1 [==============================] - 0s 43ms/step\n"
     ]
    },
    {
     "name": "stderr",
     "output_type": "stream",
     "text": [
      "\r",
      "Generating signatures:   8%|█▊                   | 1/12 [00:00<00:02,  4.01it/s]"
     ]
    },
    {
     "name": "stdout",
     "output_type": "stream",
     "text": [
      "1/1 [==============================] - 0s 19ms/step\n",
      "1/1 [==============================] - 0s 19ms/step\n"
     ]
    },
    {
     "name": "stderr",
     "output_type": "stream",
     "text": [
      "\r",
      "Generating signatures:  17%|███▌                 | 2/12 [00:00<00:02,  4.63it/s]"
     ]
    },
    {
     "name": "stdout",
     "output_type": "stream",
     "text": [
      "1/1 [==============================] - 0s 19ms/step\n",
      "1/1 [==============================] - 0s 19ms/step\n"
     ]
    },
    {
     "name": "stderr",
     "output_type": "stream",
     "text": [
      "\r",
      "Generating signatures:  25%|█████▎               | 3/12 [00:00<00:01,  4.81it/s]"
     ]
    },
    {
     "name": "stdout",
     "output_type": "stream",
     "text": [
      "1/1 [==============================] - 0s 19ms/step\n",
      "1/1 [==============================] - 0s 19ms/step\n"
     ]
    },
    {
     "name": "stderr",
     "output_type": "stream",
     "text": [
      "\r",
      "Generating signatures:  33%|███████              | 4/12 [00:00<00:01,  4.92it/s]"
     ]
    },
    {
     "name": "stdout",
     "output_type": "stream",
     "text": [
      "1/1 [==============================] - 0s 19ms/step\n",
      "1/1 [==============================] - 0s 20ms/step\n"
     ]
    },
    {
     "name": "stderr",
     "output_type": "stream",
     "text": [
      "\r",
      "Generating signatures:  42%|████████▊            | 5/12 [00:01<00:01,  4.94it/s]"
     ]
    },
    {
     "name": "stdout",
     "output_type": "stream",
     "text": [
      "1/1 [==============================] - 0s 19ms/step\n",
      "1/1 [==============================] - 0s 19ms/step\n"
     ]
    },
    {
     "name": "stderr",
     "output_type": "stream",
     "text": [
      "\r",
      "Generating signatures:  50%|██████████▌          | 6/12 [00:01<00:01,  5.00it/s]"
     ]
    },
    {
     "name": "stdout",
     "output_type": "stream",
     "text": [
      "1/1 [==============================] - 0s 306ms/step\n",
      "1/1 [==============================] - 0s 19ms/step\n"
     ]
    },
    {
     "name": "stderr",
     "output_type": "stream",
     "text": [
      "\r",
      "Generating signatures:  58%|████████████▎        | 7/12 [00:01<00:01,  3.42it/s]"
     ]
    },
    {
     "name": "stdout",
     "output_type": "stream",
     "text": [
      "1/1 [==============================] - 0s 19ms/step\n",
      "1/1 [==============================] - 0s 19ms/step\n"
     ]
    },
    {
     "name": "stderr",
     "output_type": "stream",
     "text": [
      "\r",
      "Generating signatures:  67%|██████████████       | 8/12 [00:01<00:01,  3.83it/s]"
     ]
    },
    {
     "name": "stdout",
     "output_type": "stream",
     "text": [
      "1/1 [==============================] - 0s 19ms/step\n",
      "1/1 [==============================] - 0s 19ms/step\n"
     ]
    },
    {
     "name": "stderr",
     "output_type": "stream",
     "text": [
      "\r",
      "Generating signatures:  75%|███████████████▊     | 9/12 [00:02<00:00,  4.16it/s]"
     ]
    },
    {
     "name": "stdout",
     "output_type": "stream",
     "text": [
      "1/1 [==============================] - 0s 19ms/step\n",
      "1/1 [==============================] - 0s 20ms/step\n"
     ]
    },
    {
     "name": "stderr",
     "output_type": "stream",
     "text": [
      "\r",
      "Generating signatures:  83%|████████████████▋   | 10/12 [00:02<00:00,  4.40it/s]"
     ]
    },
    {
     "name": "stdout",
     "output_type": "stream",
     "text": [
      "1/1 [==============================] - 0s 19ms/step\n",
      "1/1 [==============================] - 0s 19ms/step\n"
     ]
    },
    {
     "name": "stderr",
     "output_type": "stream",
     "text": [
      "\r",
      "Generating signatures:  92%|██████████████████▎ | 11/12 [00:02<00:00,  4.61it/s]"
     ]
    },
    {
     "name": "stdout",
     "output_type": "stream",
     "text": [
      "1/1 [==============================] - 0s 48ms/step\n",
      "1/1 [==============================] - 0s 47ms/step\n"
     ]
    },
    {
     "name": "stderr",
     "output_type": "stream",
     "text": [
      "Generating signatures: 100%|████████████████████| 12/12 [00:02<00:00,  4.40it/s]\n"
     ]
    },
    {
     "name": "stdout",
     "output_type": "stream",
     "text": [
      "D3\n"
     ]
    },
    {
     "name": "stderr",
     "output_type": "stream",
     "text": [
      "Parsing SMILES: 1513it [00:00, 4768.35it/s]\n",
      "Generating signatures:   0%|                             | 0/12 [00:00<?, ?it/s]"
     ]
    },
    {
     "name": "stdout",
     "output_type": "stream",
     "text": [
      "1/1 [==============================] - 0s 46ms/step\n",
      "1/1 [==============================] - 0s 43ms/step\n"
     ]
    },
    {
     "name": "stderr",
     "output_type": "stream",
     "text": [
      "\r",
      "Generating signatures:   8%|█▊                   | 1/12 [00:00<00:02,  4.03it/s]"
     ]
    },
    {
     "name": "stdout",
     "output_type": "stream",
     "text": [
      "1/1 [==============================] - 0s 19ms/step\n",
      "1/1 [==============================] - 0s 20ms/step\n"
     ]
    },
    {
     "name": "stderr",
     "output_type": "stream",
     "text": [
      "\r",
      "Generating signatures:  17%|███▌                 | 2/12 [00:00<00:02,  4.63it/s]"
     ]
    },
    {
     "name": "stdout",
     "output_type": "stream",
     "text": [
      "1/1 [==============================] - 0s 19ms/step\n",
      "1/1 [==============================] - 0s 19ms/step\n"
     ]
    },
    {
     "name": "stderr",
     "output_type": "stream",
     "text": [
      "\r",
      "Generating signatures:  25%|█████▎               | 3/12 [00:00<00:01,  4.79it/s]"
     ]
    },
    {
     "name": "stdout",
     "output_type": "stream",
     "text": [
      "1/1 [==============================] - 0s 20ms/step\n",
      "1/1 [==============================] - 0s 19ms/step\n"
     ]
    },
    {
     "name": "stderr",
     "output_type": "stream",
     "text": [
      "\r",
      "Generating signatures:  33%|███████              | 4/12 [00:00<00:01,  4.85it/s]"
     ]
    },
    {
     "name": "stdout",
     "output_type": "stream",
     "text": [
      "1/1 [==============================] - 0s 19ms/step\n",
      "1/1 [==============================] - 0s 20ms/step\n"
     ]
    },
    {
     "name": "stderr",
     "output_type": "stream",
     "text": [
      "\r",
      "Generating signatures:  42%|████████▊            | 5/12 [00:01<00:01,  4.96it/s]"
     ]
    },
    {
     "name": "stdout",
     "output_type": "stream",
     "text": [
      "1/1 [==============================] - 0s 19ms/step\n",
      "1/1 [==============================] - 0s 20ms/step\n"
     ]
    },
    {
     "name": "stderr",
     "output_type": "stream",
     "text": [
      "\r",
      "Generating signatures:  50%|██████████▌          | 6/12 [00:01<00:01,  5.01it/s]"
     ]
    },
    {
     "name": "stdout",
     "output_type": "stream",
     "text": [
      "1/1 [==============================] - 0s 20ms/step\n",
      "1/1 [==============================] - 0s 19ms/step\n"
     ]
    },
    {
     "name": "stderr",
     "output_type": "stream",
     "text": [
      "\r",
      "Generating signatures:  58%|████████████▎        | 7/12 [00:01<00:00,  5.04it/s]"
     ]
    },
    {
     "name": "stdout",
     "output_type": "stream",
     "text": [
      "1/1 [==============================] - 0s 19ms/step\n",
      "1/1 [==============================] - 0s 19ms/step\n"
     ]
    },
    {
     "name": "stderr",
     "output_type": "stream",
     "text": [
      "\r",
      "Generating signatures:  67%|██████████████       | 8/12 [00:01<00:00,  5.08it/s]"
     ]
    },
    {
     "name": "stdout",
     "output_type": "stream",
     "text": [
      "1/1 [==============================] - 0s 20ms/step\n",
      "1/1 [==============================] - 0s 20ms/step\n"
     ]
    },
    {
     "name": "stderr",
     "output_type": "stream",
     "text": [
      "\r",
      "Generating signatures:  75%|███████████████▊     | 9/12 [00:01<00:00,  5.04it/s]"
     ]
    },
    {
     "name": "stdout",
     "output_type": "stream",
     "text": [
      "1/1 [==============================] - 0s 20ms/step\n",
      "1/1 [==============================] - 0s 20ms/step\n"
     ]
    },
    {
     "name": "stderr",
     "output_type": "stream",
     "text": [
      "\r",
      "Generating signatures:  83%|████████████████▋   | 10/12 [00:02<00:00,  5.06it/s]"
     ]
    },
    {
     "name": "stdout",
     "output_type": "stream",
     "text": [
      "1/1 [==============================] - 0s 20ms/step\n",
      "1/1 [==============================] - 0s 19ms/step\n"
     ]
    },
    {
     "name": "stderr",
     "output_type": "stream",
     "text": [
      "\r",
      "Generating signatures:  92%|██████████████████▎ | 11/12 [00:02<00:00,  5.08it/s]"
     ]
    },
    {
     "name": "stdout",
     "output_type": "stream",
     "text": [
      "1/1 [==============================] - 0s 48ms/step\n",
      "1/1 [==============================] - 0s 45ms/step\n"
     ]
    },
    {
     "name": "stderr",
     "output_type": "stream",
     "text": [
      "Generating signatures: 100%|████████████████████| 12/12 [00:02<00:00,  4.90it/s]\n"
     ]
    },
    {
     "name": "stdout",
     "output_type": "stream",
     "text": [
      "D4\n"
     ]
    },
    {
     "name": "stderr",
     "output_type": "stream",
     "text": [
      "Parsing SMILES: 1513it [00:00, 4897.15it/s]\n",
      "Generating signatures:   0%|                             | 0/12 [00:00<?, ?it/s]"
     ]
    },
    {
     "name": "stdout",
     "output_type": "stream",
     "text": [
      "1/1 [==============================] - 0s 46ms/step\n",
      "1/1 [==============================] - 0s 43ms/step\n"
     ]
    },
    {
     "name": "stderr",
     "output_type": "stream",
     "text": [
      "\r",
      "Generating signatures:   8%|█▊                   | 1/12 [00:00<00:02,  4.05it/s]"
     ]
    },
    {
     "name": "stdout",
     "output_type": "stream",
     "text": [
      "1/1 [==============================] - 0s 19ms/step\n",
      "1/1 [==============================] - 0s 19ms/step\n"
     ]
    },
    {
     "name": "stderr",
     "output_type": "stream",
     "text": [
      "\r",
      "Generating signatures:  17%|███▌                 | 2/12 [00:00<00:02,  4.67it/s]"
     ]
    },
    {
     "name": "stdout",
     "output_type": "stream",
     "text": [
      "1/1 [==============================] - 0s 20ms/step\n",
      "1/1 [==============================] - 0s 19ms/step\n"
     ]
    },
    {
     "name": "stderr",
     "output_type": "stream",
     "text": [
      "\r",
      "Generating signatures:  25%|█████▎               | 3/12 [00:00<00:01,  4.78it/s]"
     ]
    },
    {
     "name": "stdout",
     "output_type": "stream",
     "text": [
      "1/1 [==============================] - 0s 19ms/step\n",
      "1/1 [==============================] - 0s 19ms/step\n"
     ]
    },
    {
     "name": "stderr",
     "output_type": "stream",
     "text": [
      "\r",
      "Generating signatures:  33%|███████              | 4/12 [00:00<00:01,  4.92it/s]"
     ]
    },
    {
     "name": "stdout",
     "output_type": "stream",
     "text": [
      "1/1 [==============================] - 0s 20ms/step\n",
      "1/1 [==============================] - 0s 19ms/step\n"
     ]
    },
    {
     "name": "stderr",
     "output_type": "stream",
     "text": [
      "\r",
      "Generating signatures:  42%|████████▊            | 5/12 [00:01<00:01,  4.98it/s]"
     ]
    },
    {
     "name": "stdout",
     "output_type": "stream",
     "text": [
      "1/1 [==============================] - 0s 19ms/step\n",
      "1/1 [==============================] - 0s 19ms/step\n"
     ]
    },
    {
     "name": "stderr",
     "output_type": "stream",
     "text": [
      "\r",
      "Generating signatures:  50%|██████████▌          | 6/12 [00:01<00:01,  5.03it/s]"
     ]
    },
    {
     "name": "stdout",
     "output_type": "stream",
     "text": [
      "1/1 [==============================] - 0s 20ms/step\n",
      "1/1 [==============================] - 0s 19ms/step\n"
     ]
    },
    {
     "name": "stderr",
     "output_type": "stream",
     "text": [
      "\r",
      "Generating signatures:  58%|████████████▎        | 7/12 [00:01<00:00,  5.05it/s]"
     ]
    },
    {
     "name": "stdout",
     "output_type": "stream",
     "text": [
      "1/1 [==============================] - 0s 20ms/step\n",
      "1/1 [==============================] - 0s 20ms/step\n"
     ]
    },
    {
     "name": "stderr",
     "output_type": "stream",
     "text": [
      "\r",
      "Generating signatures:  67%|██████████████       | 8/12 [00:01<00:00,  5.03it/s]"
     ]
    },
    {
     "name": "stdout",
     "output_type": "stream",
     "text": [
      "1/1 [==============================] - 0s 20ms/step\n",
      "1/1 [==============================] - 0s 20ms/step\n"
     ]
    },
    {
     "name": "stderr",
     "output_type": "stream",
     "text": [
      "\r",
      "Generating signatures:  75%|███████████████▊     | 9/12 [00:01<00:00,  5.06it/s]"
     ]
    },
    {
     "name": "stdout",
     "output_type": "stream",
     "text": [
      "1/1 [==============================] - 0s 251ms/step\n",
      "1/1 [==============================] - 0s 19ms/step\n"
     ]
    },
    {
     "name": "stderr",
     "output_type": "stream",
     "text": [
      "\r",
      "Generating signatures:  83%|████████████████▋   | 10/12 [00:02<00:00,  3.73it/s]"
     ]
    },
    {
     "name": "stdout",
     "output_type": "stream",
     "text": [
      "1/1 [==============================] - 0s 20ms/step\n",
      "1/1 [==============================] - 0s 19ms/step\n"
     ]
    },
    {
     "name": "stderr",
     "output_type": "stream",
     "text": [
      "\r",
      "Generating signatures:  92%|██████████████████▎ | 11/12 [00:02<00:00,  4.08it/s]"
     ]
    },
    {
     "name": "stdout",
     "output_type": "stream",
     "text": [
      "1/1 [==============================] - 0s 48ms/step\n",
      "1/1 [==============================] - 0s 46ms/step\n"
     ]
    },
    {
     "name": "stderr",
     "output_type": "stream",
     "text": [
      "Generating signatures: 100%|████████████████████| 12/12 [00:02<00:00,  4.49it/s]\n"
     ]
    },
    {
     "name": "stdout",
     "output_type": "stream",
     "text": [
      "D5\n"
     ]
    },
    {
     "name": "stderr",
     "output_type": "stream",
     "text": [
      "Parsing SMILES: 1513it [00:00, 4905.05it/s]\n",
      "Generating signatures:   0%|                             | 0/12 [00:00<?, ?it/s]"
     ]
    },
    {
     "name": "stdout",
     "output_type": "stream",
     "text": [
      "1/1 [==============================] - 0s 46ms/step\n",
      "1/1 [==============================] - 0s 45ms/step\n"
     ]
    },
    {
     "name": "stderr",
     "output_type": "stream",
     "text": [
      "\r",
      "Generating signatures:   8%|█▊                   | 1/12 [00:00<00:02,  3.98it/s]"
     ]
    },
    {
     "name": "stdout",
     "output_type": "stream",
     "text": [
      "1/1 [==============================] - 0s 23ms/step\n",
      "1/1 [==============================] - 0s 22ms/step\n"
     ]
    },
    {
     "name": "stderr",
     "output_type": "stream",
     "text": [
      "\r",
      "Generating signatures:  17%|███▌                 | 2/12 [00:00<00:04,  2.04it/s]"
     ]
    },
    {
     "name": "stdout",
     "output_type": "stream",
     "text": [
      "1/1 [==============================] - 0s 22ms/step\n",
      "1/1 [==============================] - 0s 22ms/step\n"
     ]
    },
    {
     "name": "stderr",
     "output_type": "stream",
     "text": [
      "\r",
      "Generating signatures:  25%|█████▎               | 3/12 [00:01<00:03,  2.75it/s]"
     ]
    },
    {
     "name": "stdout",
     "output_type": "stream",
     "text": [
      "1/1 [==============================] - 0s 22ms/step\n",
      "1/1 [==============================] - 0s 22ms/step\n"
     ]
    },
    {
     "name": "stderr",
     "output_type": "stream",
     "text": [
      "\r",
      "Generating signatures:  33%|███████              | 4/12 [00:01<00:02,  3.30it/s]"
     ]
    },
    {
     "name": "stdout",
     "output_type": "stream",
     "text": [
      "1/1 [==============================] - 0s 22ms/step\n",
      "1/1 [==============================] - 0s 22ms/step\n"
     ]
    },
    {
     "name": "stderr",
     "output_type": "stream",
     "text": [
      "\r",
      "Generating signatures:  42%|████████▊            | 5/12 [00:01<00:01,  3.72it/s]"
     ]
    },
    {
     "name": "stdout",
     "output_type": "stream",
     "text": [
      "1/1 [==============================] - 0s 22ms/step\n",
      "1/1 [==============================] - 0s 22ms/step\n"
     ]
    },
    {
     "name": "stderr",
     "output_type": "stream",
     "text": [
      "\r",
      "Generating signatures:  50%|██████████▌          | 6/12 [00:01<00:01,  4.04it/s]"
     ]
    },
    {
     "name": "stdout",
     "output_type": "stream",
     "text": [
      "1/1 [==============================] - 0s 22ms/step\n",
      "1/1 [==============================] - 0s 22ms/step\n"
     ]
    },
    {
     "name": "stderr",
     "output_type": "stream",
     "text": [
      "\r",
      "Generating signatures:  58%|████████████▎        | 7/12 [00:01<00:01,  4.25it/s]"
     ]
    },
    {
     "name": "stdout",
     "output_type": "stream",
     "text": [
      "1/1 [==============================] - 0s 22ms/step\n",
      "1/1 [==============================] - 0s 22ms/step\n"
     ]
    },
    {
     "name": "stderr",
     "output_type": "stream",
     "text": [
      "\r",
      "Generating signatures:  67%|██████████████       | 8/12 [00:02<00:00,  4.44it/s]"
     ]
    },
    {
     "name": "stdout",
     "output_type": "stream",
     "text": [
      "1/1 [==============================] - 0s 22ms/step\n",
      "1/1 [==============================] - 0s 22ms/step\n"
     ]
    },
    {
     "name": "stderr",
     "output_type": "stream",
     "text": [
      "\r",
      "Generating signatures:  75%|███████████████▊     | 9/12 [00:02<00:00,  4.56it/s]"
     ]
    },
    {
     "name": "stdout",
     "output_type": "stream",
     "text": [
      "1/1 [==============================] - 0s 22ms/step\n",
      "1/1 [==============================] - 0s 21ms/step\n"
     ]
    },
    {
     "name": "stderr",
     "output_type": "stream",
     "text": [
      "\r",
      "Generating signatures:  83%|████████████████▋   | 10/12 [00:02<00:00,  4.66it/s]"
     ]
    },
    {
     "name": "stdout",
     "output_type": "stream",
     "text": [
      "1/1 [==============================] - 0s 22ms/step\n",
      "1/1 [==============================] - 0s 20ms/step\n"
     ]
    },
    {
     "name": "stderr",
     "output_type": "stream",
     "text": [
      "\r",
      "Generating signatures:  92%|██████████████████▎ | 11/12 [00:02<00:00,  4.73it/s]"
     ]
    },
    {
     "name": "stdout",
     "output_type": "stream",
     "text": [
      "1/1 [==============================] - 0s 55ms/step\n",
      "1/1 [==============================] - 0s 56ms/step\n"
     ]
    },
    {
     "name": "stderr",
     "output_type": "stream",
     "text": [
      "Generating signatures: 100%|████████████████████| 12/12 [00:03<00:00,  3.96it/s]\n"
     ]
    },
    {
     "name": "stdout",
     "output_type": "stream",
     "text": [
      "E1\n"
     ]
    },
    {
     "name": "stderr",
     "output_type": "stream",
     "text": [
      "Parsing SMILES: 1513it [00:00, 4811.20it/s]\n",
      "Generating signatures:   0%|                             | 0/12 [00:00<?, ?it/s]"
     ]
    },
    {
     "name": "stdout",
     "output_type": "stream",
     "text": [
      "1/1 [==============================] - 0s 46ms/step\n",
      "1/1 [==============================] - 0s 43ms/step\n"
     ]
    },
    {
     "name": "stderr",
     "output_type": "stream",
     "text": [
      "\r",
      "Generating signatures:   8%|█▊                   | 1/12 [00:00<00:02,  4.02it/s]"
     ]
    },
    {
     "name": "stdout",
     "output_type": "stream",
     "text": [
      "1/1 [==============================] - 0s 296ms/step\n",
      "1/1 [==============================] - 0s 19ms/step\n"
     ]
    },
    {
     "name": "stderr",
     "output_type": "stream",
     "text": [
      "\r",
      "Generating signatures:  17%|███▌                 | 2/12 [00:00<00:03,  2.64it/s]"
     ]
    },
    {
     "name": "stdout",
     "output_type": "stream",
     "text": [
      "1/1 [==============================] - 0s 19ms/step\n",
      "1/1 [==============================] - 0s 19ms/step\n"
     ]
    },
    {
     "name": "stderr",
     "output_type": "stream",
     "text": [
      "\r",
      "Generating signatures:  25%|█████▎               | 3/12 [00:00<00:02,  3.36it/s]"
     ]
    },
    {
     "name": "stdout",
     "output_type": "stream",
     "text": [
      "1/1 [==============================] - 0s 19ms/step\n",
      "1/1 [==============================] - 0s 19ms/step\n"
     ]
    },
    {
     "name": "stderr",
     "output_type": "stream",
     "text": [
      "\r",
      "Generating signatures:  33%|███████              | 4/12 [00:01<00:02,  3.89it/s]"
     ]
    },
    {
     "name": "stdout",
     "output_type": "stream",
     "text": [
      "1/1 [==============================] - 0s 19ms/step\n",
      "1/1 [==============================] - 0s 19ms/step\n"
     ]
    },
    {
     "name": "stderr",
     "output_type": "stream",
     "text": [
      "\r",
      "Generating signatures:  42%|████████▊            | 5/12 [00:01<00:01,  4.24it/s]"
     ]
    },
    {
     "name": "stdout",
     "output_type": "stream",
     "text": [
      "1/1 [==============================] - 0s 19ms/step\n",
      "1/1 [==============================] - 0s 19ms/step\n"
     ]
    },
    {
     "name": "stderr",
     "output_type": "stream",
     "text": [
      "\r",
      "Generating signatures:  50%|██████████▌          | 6/12 [00:01<00:01,  4.50it/s]"
     ]
    },
    {
     "name": "stdout",
     "output_type": "stream",
     "text": [
      "1/1 [==============================] - 0s 20ms/step\n",
      "1/1 [==============================] - 0s 19ms/step\n"
     ]
    },
    {
     "name": "stderr",
     "output_type": "stream",
     "text": [
      "\r",
      "Generating signatures:  58%|████████████▎        | 7/12 [00:01<00:01,  4.70it/s]"
     ]
    },
    {
     "name": "stdout",
     "output_type": "stream",
     "text": [
      "1/1 [==============================] - 0s 19ms/step\n",
      "1/1 [==============================] - 0s 19ms/step\n"
     ]
    },
    {
     "name": "stderr",
     "output_type": "stream",
     "text": [
      "\r",
      "Generating signatures:  67%|██████████████       | 8/12 [00:01<00:00,  4.84it/s]"
     ]
    },
    {
     "name": "stdout",
     "output_type": "stream",
     "text": [
      "1/1 [==============================] - 0s 19ms/step\n",
      "1/1 [==============================] - 0s 19ms/step\n"
     ]
    },
    {
     "name": "stderr",
     "output_type": "stream",
     "text": [
      "\r",
      "Generating signatures:  75%|███████████████▊     | 9/12 [00:02<00:00,  4.92it/s]"
     ]
    },
    {
     "name": "stdout",
     "output_type": "stream",
     "text": [
      "1/1 [==============================] - 0s 20ms/step\n",
      "1/1 [==============================] - 0s 19ms/step\n"
     ]
    },
    {
     "name": "stderr",
     "output_type": "stream",
     "text": [
      "\r",
      "Generating signatures:  83%|████████████████▋   | 10/12 [00:02<00:00,  4.95it/s]"
     ]
    },
    {
     "name": "stdout",
     "output_type": "stream",
     "text": [
      "1/1 [==============================] - 0s 20ms/step\n",
      "1/1 [==============================] - 0s 19ms/step\n"
     ]
    },
    {
     "name": "stderr",
     "output_type": "stream",
     "text": [
      "\r",
      "Generating signatures:  92%|██████████████████▎ | 11/12 [00:02<00:00,  5.01it/s]"
     ]
    },
    {
     "name": "stdout",
     "output_type": "stream",
     "text": [
      "1/1 [==============================] - 0s 48ms/step\n",
      "1/1 [==============================] - 0s 44ms/step\n"
     ]
    },
    {
     "name": "stderr",
     "output_type": "stream",
     "text": [
      "Generating signatures: 100%|████████████████████| 12/12 [00:02<00:00,  4.42it/s]\n"
     ]
    },
    {
     "name": "stdout",
     "output_type": "stream",
     "text": [
      "E2\n"
     ]
    },
    {
     "name": "stderr",
     "output_type": "stream",
     "text": [
      "Parsing SMILES: 1513it [00:00, 4830.53it/s]\n",
      "Generating signatures:   0%|                             | 0/12 [00:00<?, ?it/s]"
     ]
    },
    {
     "name": "stdout",
     "output_type": "stream",
     "text": [
      "1/1 [==============================] - 0s 47ms/step\n",
      "1/1 [==============================] - 0s 43ms/step\n"
     ]
    },
    {
     "name": "stderr",
     "output_type": "stream",
     "text": [
      "\r",
      "Generating signatures:   8%|█▊                   | 1/12 [00:00<00:02,  4.04it/s]"
     ]
    },
    {
     "name": "stdout",
     "output_type": "stream",
     "text": [
      "1/1 [==============================] - 0s 19ms/step\n",
      "1/1 [==============================] - 0s 19ms/step\n"
     ]
    },
    {
     "name": "stderr",
     "output_type": "stream",
     "text": [
      "\r",
      "Generating signatures:  17%|███▌                 | 2/12 [00:00<00:02,  4.64it/s]"
     ]
    },
    {
     "name": "stdout",
     "output_type": "stream",
     "text": [
      "1/1 [==============================] - 0s 20ms/step\n",
      "1/1 [==============================] - 0s 19ms/step\n"
     ]
    },
    {
     "name": "stderr",
     "output_type": "stream",
     "text": [
      "\r",
      "Generating signatures:  25%|█████▎               | 3/12 [00:00<00:01,  4.78it/s]"
     ]
    },
    {
     "name": "stdout",
     "output_type": "stream",
     "text": [
      "1/1 [==============================] - 0s 19ms/step\n",
      "1/1 [==============================] - 0s 19ms/step\n"
     ]
    },
    {
     "name": "stderr",
     "output_type": "stream",
     "text": [
      "\r",
      "Generating signatures:  33%|███████              | 4/12 [00:00<00:01,  4.91it/s]"
     ]
    },
    {
     "name": "stdout",
     "output_type": "stream",
     "text": [
      "1/1 [==============================] - 0s 20ms/step\n",
      "1/1 [==============================] - 0s 19ms/step\n"
     ]
    },
    {
     "name": "stderr",
     "output_type": "stream",
     "text": [
      "\r",
      "Generating signatures:  42%|████████▊            | 5/12 [00:01<00:01,  4.96it/s]"
     ]
    },
    {
     "name": "stdout",
     "output_type": "stream",
     "text": [
      "1/1 [==============================] - 0s 19ms/step\n",
      "1/1 [==============================] - 0s 19ms/step\n"
     ]
    },
    {
     "name": "stderr",
     "output_type": "stream",
     "text": [
      "\r",
      "Generating signatures:  50%|██████████▌          | 6/12 [00:01<00:01,  5.02it/s]"
     ]
    },
    {
     "name": "stdout",
     "output_type": "stream",
     "text": [
      "1/1 [==============================] - 0s 20ms/step\n",
      "1/1 [==============================] - 0s 19ms/step\n"
     ]
    },
    {
     "name": "stderr",
     "output_type": "stream",
     "text": [
      "\r",
      "Generating signatures:  58%|████████████▎        | 7/12 [00:01<00:00,  5.05it/s]"
     ]
    },
    {
     "name": "stdout",
     "output_type": "stream",
     "text": [
      "1/1 [==============================] - 0s 19ms/step\n",
      "1/1 [==============================] - 0s 19ms/step\n"
     ]
    },
    {
     "name": "stderr",
     "output_type": "stream",
     "text": [
      "\r",
      "Generating signatures:  67%|██████████████       | 8/12 [00:01<00:00,  5.08it/s]"
     ]
    },
    {
     "name": "stdout",
     "output_type": "stream",
     "text": [
      "1/1 [==============================] - 0s 19ms/step\n",
      "1/1 [==============================] - 0s 19ms/step\n"
     ]
    },
    {
     "name": "stderr",
     "output_type": "stream",
     "text": [
      "\r",
      "Generating signatures:  75%|███████████████▊     | 9/12 [00:01<00:00,  5.14it/s]"
     ]
    },
    {
     "name": "stdout",
     "output_type": "stream",
     "text": [
      "1/1 [==============================] - 0s 24ms/step\n",
      "1/1 [==============================] - 0s 19ms/step\n"
     ]
    },
    {
     "name": "stderr",
     "output_type": "stream",
     "text": [
      "\r",
      "Generating signatures:  83%|████████████████▋   | 10/12 [00:02<00:00,  5.13it/s]"
     ]
    },
    {
     "name": "stdout",
     "output_type": "stream",
     "text": [
      "1/1 [==============================] - 0s 19ms/step\n",
      "1/1 [==============================] - 0s 20ms/step\n"
     ]
    },
    {
     "name": "stderr",
     "output_type": "stream",
     "text": [
      "\r",
      "Generating signatures:  92%|██████████████████▎ | 11/12 [00:02<00:00,  5.13it/s]"
     ]
    },
    {
     "name": "stdout",
     "output_type": "stream",
     "text": [
      "1/1 [==============================] - 0s 47ms/step\n",
      "1/1 [==============================] - 0s 45ms/step\n"
     ]
    },
    {
     "name": "stderr",
     "output_type": "stream",
     "text": [
      "Generating signatures: 100%|████████████████████| 12/12 [00:02<00:00,  4.93it/s]\n"
     ]
    },
    {
     "name": "stdout",
     "output_type": "stream",
     "text": [
      "E3\n"
     ]
    },
    {
     "name": "stderr",
     "output_type": "stream",
     "text": [
      "Parsing SMILES: 1513it [00:00, 4867.29it/s]\n",
      "Generating signatures:   0%|                             | 0/12 [00:00<?, ?it/s]"
     ]
    },
    {
     "name": "stdout",
     "output_type": "stream",
     "text": [
      "1/1 [==============================] - 0s 47ms/step\n",
      "1/1 [==============================] - 0s 45ms/step\n"
     ]
    },
    {
     "name": "stderr",
     "output_type": "stream",
     "text": [
      "\r",
      "Generating signatures:   8%|█▊                   | 1/12 [00:00<00:02,  3.99it/s]"
     ]
    },
    {
     "name": "stdout",
     "output_type": "stream",
     "text": [
      "1/1 [==============================] - 0s 20ms/step\n",
      "1/1 [==============================] - 0s 19ms/step\n"
     ]
    },
    {
     "name": "stderr",
     "output_type": "stream",
     "text": [
      "\r",
      "Generating signatures:  17%|███▌                 | 2/12 [00:00<00:02,  4.60it/s]"
     ]
    },
    {
     "name": "stdout",
     "output_type": "stream",
     "text": [
      "1/1 [==============================] - 0s 20ms/step\n",
      "1/1 [==============================] - 0s 19ms/step\n"
     ]
    },
    {
     "name": "stderr",
     "output_type": "stream",
     "text": [
      "\r",
      "Generating signatures:  25%|█████▎               | 3/12 [00:00<00:01,  4.78it/s]"
     ]
    },
    {
     "name": "stdout",
     "output_type": "stream",
     "text": [
      "1/1 [==============================] - 0s 19ms/step\n",
      "1/1 [==============================] - 0s 19ms/step\n"
     ]
    },
    {
     "name": "stderr",
     "output_type": "stream",
     "text": [
      "\r",
      "Generating signatures:  33%|███████              | 4/12 [00:00<00:01,  4.90it/s]"
     ]
    },
    {
     "name": "stdout",
     "output_type": "stream",
     "text": [
      "1/1 [==============================] - 0s 19ms/step\n",
      "1/1 [==============================] - 0s 19ms/step\n"
     ]
    },
    {
     "name": "stderr",
     "output_type": "stream",
     "text": [
      "\r",
      "Generating signatures:  42%|████████▊            | 5/12 [00:01<00:01,  5.00it/s]"
     ]
    },
    {
     "name": "stdout",
     "output_type": "stream",
     "text": [
      "1/1 [==============================] - 0s 19ms/step\n",
      "1/1 [==============================] - 0s 19ms/step\n"
     ]
    },
    {
     "name": "stderr",
     "output_type": "stream",
     "text": [
      "\r",
      "Generating signatures:  50%|██████████▌          | 6/12 [00:01<00:01,  5.02it/s]"
     ]
    },
    {
     "name": "stdout",
     "output_type": "stream",
     "text": [
      "1/1 [==============================] - 0s 19ms/step\n",
      "1/1 [==============================] - 0s 19ms/step\n"
     ]
    },
    {
     "name": "stderr",
     "output_type": "stream",
     "text": [
      "\r",
      "Generating signatures:  58%|████████████▎        | 7/12 [00:01<00:00,  5.08it/s]"
     ]
    },
    {
     "name": "stdout",
     "output_type": "stream",
     "text": [
      "1/1 [==============================] - 0s 19ms/step\n",
      "1/1 [==============================] - 0s 19ms/step\n"
     ]
    },
    {
     "name": "stderr",
     "output_type": "stream",
     "text": [
      "\r",
      "Generating signatures:  67%|██████████████       | 8/12 [00:01<00:00,  5.12it/s]"
     ]
    },
    {
     "name": "stdout",
     "output_type": "stream",
     "text": [
      "1/1 [==============================] - 0s 20ms/step\n",
      "1/1 [==============================] - 0s 19ms/step\n"
     ]
    },
    {
     "name": "stderr",
     "output_type": "stream",
     "text": [
      "\r",
      "Generating signatures:  75%|███████████████▊     | 9/12 [00:01<00:00,  5.13it/s]"
     ]
    },
    {
     "name": "stdout",
     "output_type": "stream",
     "text": [
      "1/1 [==============================] - 0s 20ms/step\n",
      "1/1 [==============================] - 0s 19ms/step\n"
     ]
    },
    {
     "name": "stderr",
     "output_type": "stream",
     "text": [
      "\r",
      "Generating signatures:  83%|████████████████▋   | 10/12 [00:02<00:00,  5.15it/s]"
     ]
    },
    {
     "name": "stdout",
     "output_type": "stream",
     "text": [
      "1/1 [==============================] - 0s 19ms/step\n",
      "1/1 [==============================] - 0s 20ms/step\n"
     ]
    },
    {
     "name": "stderr",
     "output_type": "stream",
     "text": [
      "\r",
      "Generating signatures:  92%|██████████████████▎ | 11/12 [00:02<00:00,  5.11it/s]"
     ]
    },
    {
     "name": "stdout",
     "output_type": "stream",
     "text": [
      "1/1 [==============================] - 0s 48ms/step\n",
      "1/1 [==============================] - 0s 45ms/step\n"
     ]
    },
    {
     "name": "stderr",
     "output_type": "stream",
     "text": [
      "Generating signatures: 100%|████████████████████| 12/12 [00:02<00:00,  4.94it/s]\n"
     ]
    },
    {
     "name": "stdout",
     "output_type": "stream",
     "text": [
      "E4\n"
     ]
    },
    {
     "name": "stderr",
     "output_type": "stream",
     "text": [
      "Parsing SMILES: 1513it [00:00, 4895.03it/s]\n",
      "Generating signatures:   0%|                             | 0/12 [00:00<?, ?it/s]"
     ]
    },
    {
     "name": "stdout",
     "output_type": "stream",
     "text": [
      "1/1 [==============================] - 0s 47ms/step\n",
      "1/1 [==============================] - 0s 43ms/step\n"
     ]
    },
    {
     "name": "stderr",
     "output_type": "stream",
     "text": [
      "\r",
      "Generating signatures:   8%|█▊                   | 1/12 [00:00<00:02,  4.05it/s]"
     ]
    },
    {
     "name": "stdout",
     "output_type": "stream",
     "text": [
      "1/1 [==============================] - 0s 19ms/step\n",
      "1/1 [==============================] - 0s 21ms/step\n"
     ]
    },
    {
     "name": "stderr",
     "output_type": "stream",
     "text": [
      "\r",
      "Generating signatures:  17%|███▌                 | 2/12 [00:00<00:02,  4.63it/s]"
     ]
    },
    {
     "name": "stdout",
     "output_type": "stream",
     "text": [
      "1/1 [==============================] - 0s 19ms/step\n",
      "1/1 [==============================] - 0s 19ms/step\n"
     ]
    },
    {
     "name": "stderr",
     "output_type": "stream",
     "text": [
      "\r",
      "Generating signatures:  25%|█████▎               | 3/12 [00:00<00:01,  4.80it/s]"
     ]
    },
    {
     "name": "stdout",
     "output_type": "stream",
     "text": [
      "1/1 [==============================] - 0s 19ms/step\n",
      "1/1 [==============================] - 0s 19ms/step\n"
     ]
    },
    {
     "name": "stderr",
     "output_type": "stream",
     "text": [
      "\r",
      "Generating signatures:  33%|███████              | 4/12 [00:00<00:01,  4.90it/s]"
     ]
    },
    {
     "name": "stdout",
     "output_type": "stream",
     "text": [
      "1/1 [==============================] - 0s 277ms/step\n",
      "1/1 [==============================] - 0s 19ms/step\n"
     ]
    },
    {
     "name": "stderr",
     "output_type": "stream",
     "text": [
      "\r",
      "Generating signatures:  42%|████████▊            | 5/12 [00:01<00:02,  3.39it/s]"
     ]
    },
    {
     "name": "stdout",
     "output_type": "stream",
     "text": [
      "1/1 [==============================] - 0s 20ms/step\n",
      "1/1 [==============================] - 0s 19ms/step\n"
     ]
    },
    {
     "name": "stderr",
     "output_type": "stream",
     "text": [
      "\r",
      "Generating signatures:  50%|██████████▌          | 6/12 [00:01<00:01,  3.84it/s]"
     ]
    },
    {
     "name": "stdout",
     "output_type": "stream",
     "text": [
      "1/1 [==============================] - 0s 19ms/step\n",
      "1/1 [==============================] - 0s 19ms/step\n"
     ]
    },
    {
     "name": "stderr",
     "output_type": "stream",
     "text": [
      "\r",
      "Generating signatures:  58%|████████████▎        | 7/12 [00:01<00:01,  4.20it/s]"
     ]
    },
    {
     "name": "stdout",
     "output_type": "stream",
     "text": [
      "1/1 [==============================] - 0s 19ms/step\n",
      "1/1 [==============================] - 0s 19ms/step\n"
     ]
    },
    {
     "name": "stderr",
     "output_type": "stream",
     "text": [
      "\r",
      "Generating signatures:  67%|██████████████       | 8/12 [00:01<00:00,  4.47it/s]"
     ]
    },
    {
     "name": "stdout",
     "output_type": "stream",
     "text": [
      "1/1 [==============================] - 0s 20ms/step\n",
      "1/1 [==============================] - 0s 19ms/step\n"
     ]
    },
    {
     "name": "stderr",
     "output_type": "stream",
     "text": [
      "\r",
      "Generating signatures:  75%|███████████████▊     | 9/12 [00:02<00:00,  4.66it/s]"
     ]
    },
    {
     "name": "stdout",
     "output_type": "stream",
     "text": [
      "1/1 [==============================] - 0s 20ms/step\n",
      "1/1 [==============================] - 0s 19ms/step\n"
     ]
    },
    {
     "name": "stderr",
     "output_type": "stream",
     "text": [
      "\r",
      "Generating signatures:  83%|████████████████▋   | 10/12 [00:02<00:00,  4.73it/s]"
     ]
    },
    {
     "name": "stdout",
     "output_type": "stream",
     "text": [
      "1/1 [==============================] - 0s 20ms/step\n",
      "1/1 [==============================] - 0s 19ms/step\n"
     ]
    },
    {
     "name": "stderr",
     "output_type": "stream",
     "text": [
      "\r",
      "Generating signatures:  92%|██████████████████▎ | 11/12 [00:02<00:00,  4.86it/s]"
     ]
    },
    {
     "name": "stdout",
     "output_type": "stream",
     "text": [
      "1/1 [==============================] - 0s 48ms/step\n",
      "1/1 [==============================] - 0s 44ms/step\n"
     ]
    },
    {
     "name": "stderr",
     "output_type": "stream",
     "text": [
      "Generating signatures: 100%|████████████████████| 12/12 [00:02<00:00,  4.45it/s]\n"
     ]
    },
    {
     "name": "stdout",
     "output_type": "stream",
     "text": [
      "E5\n"
     ]
    },
    {
     "name": "stderr",
     "output_type": "stream",
     "text": [
      "Parsing SMILES: 1513it [00:00, 4798.21it/s]\n",
      "Generating signatures:   0%|                             | 0/12 [00:00<?, ?it/s]"
     ]
    },
    {
     "name": "stdout",
     "output_type": "stream",
     "text": [
      "1/1 [==============================] - 0s 46ms/step\n",
      "1/1 [==============================] - 0s 42ms/step\n"
     ]
    },
    {
     "name": "stderr",
     "output_type": "stream",
     "text": [
      "\r",
      "Generating signatures:   8%|█▊                   | 1/12 [00:00<00:02,  4.04it/s]"
     ]
    },
    {
     "name": "stdout",
     "output_type": "stream",
     "text": [
      "1/1 [==============================] - 0s 19ms/step\n",
      "1/1 [==============================] - 0s 19ms/step\n"
     ]
    },
    {
     "name": "stderr",
     "output_type": "stream",
     "text": [
      "\r",
      "Generating signatures:  17%|███▌                 | 2/12 [00:00<00:02,  4.62it/s]"
     ]
    },
    {
     "name": "stdout",
     "output_type": "stream",
     "text": [
      "1/1 [==============================] - 0s 19ms/step\n",
      "1/1 [==============================] - 0s 19ms/step\n"
     ]
    },
    {
     "name": "stderr",
     "output_type": "stream",
     "text": [
      "\r",
      "Generating signatures:  25%|█████▎               | 3/12 [00:00<00:01,  4.79it/s]"
     ]
    },
    {
     "name": "stdout",
     "output_type": "stream",
     "text": [
      "1/1 [==============================] - 0s 19ms/step\n",
      "1/1 [==============================] - 0s 19ms/step\n"
     ]
    },
    {
     "name": "stderr",
     "output_type": "stream",
     "text": [
      "\r",
      "Generating signatures:  33%|███████              | 4/12 [00:00<00:01,  4.94it/s]"
     ]
    },
    {
     "name": "stdout",
     "output_type": "stream",
     "text": [
      "1/1 [==============================] - 0s 19ms/step\n",
      "1/1 [==============================] - 0s 19ms/step\n"
     ]
    },
    {
     "name": "stderr",
     "output_type": "stream",
     "text": [
      "\r",
      "Generating signatures:  42%|████████▊            | 5/12 [00:01<00:01,  5.03it/s]"
     ]
    },
    {
     "name": "stdout",
     "output_type": "stream",
     "text": [
      "1/1 [==============================] - 0s 19ms/step\n",
      "1/1 [==============================] - 0s 19ms/step\n"
     ]
    },
    {
     "name": "stderr",
     "output_type": "stream",
     "text": [
      "\r",
      "Generating signatures:  50%|██████████▌          | 6/12 [00:01<00:01,  5.08it/s]"
     ]
    },
    {
     "name": "stdout",
     "output_type": "stream",
     "text": [
      "1/1 [==============================] - 0s 19ms/step\n",
      "1/1 [==============================] - 0s 19ms/step\n"
     ]
    },
    {
     "name": "stderr",
     "output_type": "stream",
     "text": [
      "\r",
      "Generating signatures:  58%|████████████▎        | 7/12 [00:01<00:00,  5.11it/s]"
     ]
    },
    {
     "name": "stdout",
     "output_type": "stream",
     "text": [
      "1/1 [==============================] - 0s 19ms/step\n",
      "1/1 [==============================] - 0s 19ms/step\n"
     ]
    },
    {
     "name": "stderr",
     "output_type": "stream",
     "text": [
      "\r",
      "Generating signatures:  67%|██████████████       | 8/12 [00:01<00:00,  5.13it/s]"
     ]
    },
    {
     "name": "stdout",
     "output_type": "stream",
     "text": [
      "1/1 [==============================] - 0s 19ms/step\n",
      "1/1 [==============================] - 0s 19ms/step\n"
     ]
    },
    {
     "name": "stderr",
     "output_type": "stream",
     "text": [
      "\r",
      "Generating signatures:  75%|███████████████▊     | 9/12 [00:01<00:00,  5.17it/s]"
     ]
    },
    {
     "name": "stdout",
     "output_type": "stream",
     "text": [
      "1/1 [==============================] - 0s 19ms/step\n",
      "1/1 [==============================] - 0s 19ms/step\n"
     ]
    },
    {
     "name": "stderr",
     "output_type": "stream",
     "text": [
      "\r",
      "Generating signatures:  83%|████████████████▋   | 10/12 [00:01<00:00,  5.20it/s]"
     ]
    },
    {
     "name": "stdout",
     "output_type": "stream",
     "text": [
      "1/1 [==============================] - 0s 244ms/step\n",
      "1/1 [==============================] - 0s 19ms/step\n"
     ]
    },
    {
     "name": "stderr",
     "output_type": "stream",
     "text": [
      "\r",
      "Generating signatures:  92%|██████████████████▎ | 11/12 [00:02<00:00,  3.83it/s]"
     ]
    },
    {
     "name": "stdout",
     "output_type": "stream",
     "text": [
      "1/1 [==============================] - 0s 46ms/step\n",
      "1/1 [==============================] - 0s 45ms/step\n"
     ]
    },
    {
     "name": "stderr",
     "output_type": "stream",
     "text": [
      "Generating signatures: 100%|████████████████████| 12/12 [00:02<00:00,  4.55it/s]\n"
     ]
    }
   ],
   "source": [
    "impute_layers=[\"A1\",\"A2\",\"A3\",\"A4\",\"A5\",\"B1\",\"B2\",\"B3\",\"B4\",\"B5\",\n",
    "               \"C1\",\"C2\",\"C3\",\"C4\",\"C5\",\"D1\",\"D2\",\"D3\",\"D4\",\"D5\",\n",
    "               \"E1\",\"E2\",\"E3\",\"E4\",\"E5\"]\n",
    "data_all=np.empty([df.shape[0],0])\n",
    "for layer in impute_layers:\n",
    "    print(layer)\n",
    "    sign = Signaturizer(layer)\n",
    "    data_tmp = sign.predict(df[\"smiles\"])\n",
    "    data_tmp_sig=data_tmp.signature\n",
    "    data_all=np.concatenate([data_all,data_tmp_sig], axis=1)\n",
    "    # convert array into dataframe\n",
    "    DF = pd.DataFrame(data_all, index=df[\"smiles\"])\n",
    " \n",
    "    # save the dataframe as a csv file\n",
    "    DF.to_csv(\"extend_dataset/BACE/SNN_imputed_BACE_25layers_v2.csv\")\n",
    "#                         Tox21_B2.signature,Tox21_B3.signature,\n",
    "#                         Tox21_B4.signature,Tox21_B5.signature,\n",
    "#                        Tox21_C1.signature,Tox21_C2.signature,Tox21_C3.signature,Tox21_C4.signature,Tox21_C5.signature,\n",
    "#                        Tox21_D1.signature,Tox21_D2.signature,Tox21_D3.signature,Tox21_D4.signature,Tox21_D5.signature,\n",
    "#                        Tox21_E1.signature,Tox21_E2.signature,Tox21_E3.signature,Tox21_E5.signature], axis=1)\n"
   ]
  },
  {
   "cell_type": "code",
   "execution_count": 4,
   "id": "be0e33c4",
   "metadata": {},
   "outputs": [],
   "source": [
    "\n",
    "mol_list = []\n",
    "for smi in df.smiles:\n",
    "    mol_list.append(Chem.MolFromSmiles(smi))\n",
    "\n",
    "scaffolds = {}\n",
    "clusters_list =[]\n",
    "\n",
    "idx = 1"
   ]
  },
  {
   "cell_type": "code",
   "execution_count": 5,
   "id": "5ca3639f",
   "metadata": {},
   "outputs": [
    {
     "data": {
      "image/png": "[encoded data removed]",
      "text/plain": [
       "<rdkit.Chem.rdchem.Mol at 0x7fecc1e000b0>"
      ]
     },
     "execution_count": 5,
     "metadata": {},
     "output_type": "execute_result"
    }
   ],
   "source": [
    "mol_list[1]"
   ]
  },
  {
   "cell_type": "code",
   "execution_count": 6,
   "id": "614ef583",
   "metadata": {},
   "outputs": [
    {
     "data": {
      "image/png": "[encoded data removed]",
      "text/plain": [
       "<rdkit.Chem.rdchem.Mol at 0x7fecc1761cb0>"
      ]
     },
     "execution_count": 6,
     "metadata": {},
     "output_type": "execute_result"
    }
   ],
   "source": [
    "MurckoScaffold.GetScaffoldForMol(mol_list[1])"
   ]
  },
  {
   "cell_type": "code",
   "execution_count": 7,
   "id": "ac0c9ccf",
   "metadata": {},
   "outputs": [
    {
     "name": "stdout",
     "output_type": "stream",
     "text": [
      "<rdkit.Chem.rdchem.Mol object at 0x7fecc174bca0>\n",
      "<rdkit.Chem.rdchem.Mol object at 0x7fecc1e000b0>\n",
      "<rdkit.Chem.rdchem.Mol object at 0x7fecc1e00120>\n",
      "<rdkit.Chem.rdchem.Mol object at 0x7fecc1e00190>\n",
      "<rdkit.Chem.rdchem.Mol object at 0x7fecc1e00200>\n",
      "<rdkit.Chem.rdchem.Mol object at 0x7fecc1e00270>\n",
      "<rdkit.Chem.rdchem.Mol object at 0x7fecc1e002e0>\n",
      "<rdkit.Chem.rdchem.Mol object at 0x7fecc1e00350>\n",
      "<rdkit.Chem.rdchem.Mol object at 0x7fecc1e003c0>\n",
      "<rdkit.Chem.rdchem.Mol object at 0x7fecc1e00430>\n",
      "<rdkit.Chem.rdchem.Mol object at 0x7fecc1e004a0>\n",
      "<rdkit.Chem.rdchem.Mol object at 0x7fecc1e00510>\n",
      "<rdkit.Chem.rdchem.Mol object at 0x7fecc1e00580>\n",
      "<rdkit.Chem.rdchem.Mol object at 0x7fecc1e005f0>\n",
      "<rdkit.Chem.rdchem.Mol object at 0x7fecc1e00660>\n",
      "<rdkit.Chem.rdchem.Mol object at 0x7fecc1e006d0>\n",
      "<rdkit.Chem.rdchem.Mol object at 0x7fecc1e00740>\n",
      "<rdkit.Chem.rdchem.Mol object at 0x7fecc174b920>\n",
      "<rdkit.Chem.rdchem.Mol object at 0x7fecc1e007b0>\n",
      "<rdkit.Chem.rdchem.Mol object at 0x7fecc1e00820>\n",
      "<rdkit.Chem.rdchem.Mol object at 0x7fecc1e00890>\n",
      "<rdkit.Chem.rdchem.Mol object at 0x7fecc1e00900>\n",
      "<rdkit.Chem.rdchem.Mol object at 0x7fecc1e00970>\n",
      "<rdkit.Chem.rdchem.Mol object at 0x7fecc1e009e0>\n",
      "<rdkit.Chem.rdchem.Mol object at 0x7fecc1e00a50>\n",
      "<rdkit.Chem.rdchem.Mol object at 0x7fecc1e00ac0>\n",
      "<rdkit.Chem.rdchem.Mol object at 0x7fecc1e00b30>\n",
      "<rdkit.Chem.rdchem.Mol object at 0x7fecc1e00ba0>\n",
      "<rdkit.Chem.rdchem.Mol object at 0x7fecc1e00c10>\n",
      "<rdkit.Chem.rdchem.Mol object at 0x7fecc1e00c80>\n",
      "<rdkit.Chem.rdchem.Mol object at 0x7fecc1e00cf0>\n",
      "<rdkit.Chem.rdchem.Mol object at 0x7fecc1e00d60>\n",
      "<rdkit.Chem.rdchem.Mol object at 0x7fecc1e00dd0>\n",
      "<rdkit.Chem.rdchem.Mol object at 0x7fecc1e00e40>\n",
      "<rdkit.Chem.rdchem.Mol object at 0x7fecc1e00eb0>\n",
      "<rdkit.Chem.rdchem.Mol object at 0x7fecc1e00f20>\n",
      "<rdkit.Chem.rdchem.Mol object at 0x7fecc1e00f90>\n",
      "<rdkit.Chem.rdchem.Mol object at 0x7fecc1e01000>\n",
      "<rdkit.Chem.rdchem.Mol object at 0x7fecc1e01070>\n",
      "<rdkit.Chem.rdchem.Mol object at 0x7fecc1e010e0>\n",
      "<rdkit.Chem.rdchem.Mol object at 0x7fecc1e01150>\n",
      "<rdkit.Chem.rdchem.Mol object at 0x7fecc174bed0>\n",
      "<rdkit.Chem.rdchem.Mol object at 0x7fecc174bbc0>\n",
      "<rdkit.Chem.rdchem.Mol object at 0x7fecc1e011c0>\n",
      "<rdkit.Chem.rdchem.Mol object at 0x7fecc1e01230>\n",
      "<rdkit.Chem.rdchem.Mol object at 0x7fecc1e012a0>\n",
      "<rdkit.Chem.rdchem.Mol object at 0x7fecc1e01310>\n",
      "<rdkit.Chem.rdchem.Mol object at 0x7fecc1e01380>\n",
      "<rdkit.Chem.rdchem.Mol object at 0x7fecc1e013f0>\n",
      "<rdkit.Chem.rdchem.Mol object at 0x7fecc1e01460>\n",
      "<rdkit.Chem.rdchem.Mol object at 0x7fecc1e014d0>\n",
      "<rdkit.Chem.rdchem.Mol object at 0x7fecc1e01540>\n",
      "<rdkit.Chem.rdchem.Mol object at 0x7fecc1e015b0>\n",
      "<rdkit.Chem.rdchem.Mol object at 0x7fecc1e01620>\n",
      "<rdkit.Chem.rdchem.Mol object at 0x7fecc1e01690>\n",
      "<rdkit.Chem.rdchem.Mol object at 0x7fecc1e01700>\n",
      "<rdkit.Chem.rdchem.Mol object at 0x7fecc1e01770>\n",
      "<rdkit.Chem.rdchem.Mol object at 0x7fecc1e017e0>\n",
      "<rdkit.Chem.rdchem.Mol object at 0x7fecc1e01850>\n",
      "<rdkit.Chem.rdchem.Mol object at 0x7fecc1e018c0>\n",
      "<rdkit.Chem.rdchem.Mol object at 0x7fecc1e01930>\n",
      "<rdkit.Chem.rdchem.Mol object at 0x7fecc1e019a0>\n",
      "<rdkit.Chem.rdchem.Mol object at 0x7fecc1e01a10>\n",
      "<rdkit.Chem.rdchem.Mol object at 0x7fecc1e01a80>\n",
      "<rdkit.Chem.rdchem.Mol object at 0x7fecc1e01af0>\n",
      "<rdkit.Chem.rdchem.Mol object at 0x7fecc1e01b60>\n",
      "<rdkit.Chem.rdchem.Mol object at 0x7fecc1e01bd0>\n",
      "<rdkit.Chem.rdchem.Mol object at 0x7fecc1e01c40>\n",
      "<rdkit.Chem.rdchem.Mol object at 0x7fecc1e01cb0>\n",
      "<rdkit.Chem.rdchem.Mol object at 0x7fecc1e01d20>\n",
      "<rdkit.Chem.rdchem.Mol object at 0x7fecc1e01d90>\n",
      "<rdkit.Chem.rdchem.Mol object at 0x7fecc1e01e00>\n",
      "<rdkit.Chem.rdchem.Mol object at 0x7fecc1e01e70>\n",
      "<rdkit.Chem.rdchem.Mol object at 0x7fecc1e01ee0>\n",
      "<rdkit.Chem.rdchem.Mol object at 0x7fecc1e01f50>\n",
      "<rdkit.Chem.rdchem.Mol object at 0x7fecc1e01fc0>\n",
      "<rdkit.Chem.rdchem.Mol object at 0x7fecc1e02030>\n",
      "<rdkit.Chem.rdchem.Mol object at 0x7fecc1e020a0>\n",
      "<rdkit.Chem.rdchem.Mol object at 0x7fecc1e02110>\n",
      "<rdkit.Chem.rdchem.Mol object at 0x7fecc1e02180>\n",
      "<rdkit.Chem.rdchem.Mol object at 0x7fecc1e021f0>\n",
      "<rdkit.Chem.rdchem.Mol object at 0x7fecc1e02260>\n",
      "<rdkit.Chem.rdchem.Mol object at 0x7fecc1e022d0>\n",
      "<rdkit.Chem.rdchem.Mol object at 0x7fecc1e02340>\n",
      "<rdkit.Chem.rdchem.Mol object at 0x7fecc1e023b0>\n",
      "<rdkit.Chem.rdchem.Mol object at 0x7fecc1e02420>\n",
      "<rdkit.Chem.rdchem.Mol object at 0x7fecc1e02490>\n",
      "<rdkit.Chem.rdchem.Mol object at 0x7fecc1e02500>\n",
      "<rdkit.Chem.rdchem.Mol object at 0x7fecc1e02570>\n",
      "<rdkit.Chem.rdchem.Mol object at 0x7fecc1e025e0>\n",
      "<rdkit.Chem.rdchem.Mol object at 0x7fecc1e02650>\n",
      "<rdkit.Chem.rdchem.Mol object at 0x7fecc1e026c0>\n",
      "<rdkit.Chem.rdchem.Mol object at 0x7fecc1e02730>\n",
      "<rdkit.Chem.rdchem.Mol object at 0x7fecc1e027a0>\n",
      "<rdkit.Chem.rdchem.Mol object at 0x7fecc1e02810>\n",
      "<rdkit.Chem.rdchem.Mol object at 0x7fecc1e02880>\n",
      "<rdkit.Chem.rdchem.Mol object at 0x7fecc1e028f0>\n",
      "<rdkit.Chem.rdchem.Mol object at 0x7fecc1e02960>\n",
      "<rdkit.Chem.rdchem.Mol object at 0x7fecc1e029d0>\n",
      "<rdkit.Chem.rdchem.Mol object at 0x7fecc1e02a40>\n",
      "<rdkit.Chem.rdchem.Mol object at 0x7fecc1e02ab0>\n",
      "<rdkit.Chem.rdchem.Mol object at 0x7fecc1e02b20>\n",
      "<rdkit.Chem.rdchem.Mol object at 0x7fecc1e02b90>\n",
      "<rdkit.Chem.rdchem.Mol object at 0x7fecc1e02c00>\n",
      "<rdkit.Chem.rdchem.Mol object at 0x7fecc1e02c70>\n",
      "<rdkit.Chem.rdchem.Mol object at 0x7fecc1e02ce0>\n",
      "<rdkit.Chem.rdchem.Mol object at 0x7fecc1e02d50>\n",
      "<rdkit.Chem.rdchem.Mol object at 0x7fecc1e02dc0>\n",
      "<rdkit.Chem.rdchem.Mol object at 0x7fecc1e02e30>\n",
      "<rdkit.Chem.rdchem.Mol object at 0x7fecc1e02ea0>\n",
      "<rdkit.Chem.rdchem.Mol object at 0x7fecc1e02f10>\n",
      "<rdkit.Chem.rdchem.Mol object at 0x7fecc1e02f80>\n",
      "<rdkit.Chem.rdchem.Mol object at 0x7fecc1e02ff0>\n",
      "<rdkit.Chem.rdchem.Mol object at 0x7fecc1e03060>\n",
      "<rdkit.Chem.rdchem.Mol object at 0x7fecc1e030d0>\n",
      "<rdkit.Chem.rdchem.Mol object at 0x7fecc1e03140>\n",
      "<rdkit.Chem.rdchem.Mol object at 0x7fecc1e031b0>\n",
      "<rdkit.Chem.rdchem.Mol object at 0x7fecc1e03220>\n",
      "<rdkit.Chem.rdchem.Mol object at 0x7fecc1e03290>\n",
      "<rdkit.Chem.rdchem.Mol object at 0x7fecc1e03300>\n",
      "<rdkit.Chem.rdchem.Mol object at 0x7fecc1e03370>\n",
      "<rdkit.Chem.rdchem.Mol object at 0x7fecc1e033e0>\n",
      "<rdkit.Chem.rdchem.Mol object at 0x7fecc1e03450>\n",
      "<rdkit.Chem.rdchem.Mol object at 0x7fecc1e034c0>\n",
      "<rdkit.Chem.rdchem.Mol object at 0x7fecc1e03530>\n",
      "<rdkit.Chem.rdchem.Mol object at 0x7fecc1e035a0>\n",
      "<rdkit.Chem.rdchem.Mol object at 0x7fecc1e03610>\n",
      "<rdkit.Chem.rdchem.Mol object at 0x7fecc1e03680>\n",
      "<rdkit.Chem.rdchem.Mol object at 0x7fecc1e036f0>\n",
      "<rdkit.Chem.rdchem.Mol object at 0x7fecc1e03760>\n",
      "<rdkit.Chem.rdchem.Mol object at 0x7fecc1e037d0>\n",
      "<rdkit.Chem.rdchem.Mol object at 0x7fecc1e03840>\n",
      "<rdkit.Chem.rdchem.Mol object at 0x7fecc1e038b0>\n",
      "<rdkit.Chem.rdchem.Mol object at 0x7fecc1e03920>\n",
      "<rdkit.Chem.rdchem.Mol object at 0x7fecc1e03990>\n",
      "<rdkit.Chem.rdchem.Mol object at 0x7fecc1e03a00>\n",
      "<rdkit.Chem.rdchem.Mol object at 0x7fecc1e03a70>\n",
      "<rdkit.Chem.rdchem.Mol object at 0x7fecc1e03ae0>\n",
      "<rdkit.Chem.rdchem.Mol object at 0x7fecc1e03b50>\n",
      "<rdkit.Chem.rdchem.Mol object at 0x7fecc1e03bc0>\n",
      "<rdkit.Chem.rdchem.Mol object at 0x7fecc1e03c30>\n",
      "<rdkit.Chem.rdchem.Mol object at 0x7fecc1e03ca0>\n",
      "<rdkit.Chem.rdchem.Mol object at 0x7fecc1e03d10>\n",
      "<rdkit.Chem.rdchem.Mol object at 0x7fecc1e03d80>\n",
      "<rdkit.Chem.rdchem.Mol object at 0x7fecc1e03df0>\n",
      "<rdkit.Chem.rdchem.Mol object at 0x7fecc1e03e60>\n",
      "<rdkit.Chem.rdchem.Mol object at 0x7fecc1e03ed0>\n",
      "<rdkit.Chem.rdchem.Mol object at 0x7fecc1e03f40>\n",
      "<rdkit.Chem.rdchem.Mol object at 0x7fecc1ddc040>\n",
      "<rdkit.Chem.rdchem.Mol object at 0x7fecc1ddc0b0>\n",
      "<rdkit.Chem.rdchem.Mol object at 0x7fecc1ddc120>\n",
      "<rdkit.Chem.rdchem.Mol object at 0x7fecc1ddc190>\n",
      "<rdkit.Chem.rdchem.Mol object at 0x7fecc1ddc200>\n",
      "<rdkit.Chem.rdchem.Mol object at 0x7fecc1ddc270>\n",
      "<rdkit.Chem.rdchem.Mol object at 0x7fecc1ddc2e0>\n",
      "<rdkit.Chem.rdchem.Mol object at 0x7fecc1ddc350>\n",
      "<rdkit.Chem.rdchem.Mol object at 0x7fecc1ddc3c0>\n",
      "<rdkit.Chem.rdchem.Mol object at 0x7fecc1ddc430>\n",
      "<rdkit.Chem.rdchem.Mol object at 0x7fecc1ddc4a0>\n",
      "<rdkit.Chem.rdchem.Mol object at 0x7fecc1ddc510>\n",
      "<rdkit.Chem.rdchem.Mol object at 0x7fecc1ddc580>\n",
      "<rdkit.Chem.rdchem.Mol object at 0x7fecc1ddc5f0>\n",
      "<rdkit.Chem.rdchem.Mol object at 0x7fecc1ddc660>\n",
      "<rdkit.Chem.rdchem.Mol object at 0x7fecc1ddc6d0>\n",
      "<rdkit.Chem.rdchem.Mol object at 0x7fecc1ddc740>\n",
      "<rdkit.Chem.rdchem.Mol object at 0x7fecc1ddc7b0>\n",
      "<rdkit.Chem.rdchem.Mol object at 0x7fecc1ddc820>\n",
      "<rdkit.Chem.rdchem.Mol object at 0x7fecc1ddc890>\n",
      "<rdkit.Chem.rdchem.Mol object at 0x7fecc1ddc900>\n",
      "<rdkit.Chem.rdchem.Mol object at 0x7fecc1ddc970>\n",
      "<rdkit.Chem.rdchem.Mol object at 0x7fecc1ddc9e0>\n",
      "<rdkit.Chem.rdchem.Mol object at 0x7fecc1ddca50>\n",
      "<rdkit.Chem.rdchem.Mol object at 0x7fecc1ddcac0>\n",
      "<rdkit.Chem.rdchem.Mol object at 0x7fecc1ddcb30>\n",
      "<rdkit.Chem.rdchem.Mol object at 0x7fecc1ddcba0>\n",
      "<rdkit.Chem.rdchem.Mol object at 0x7fecc1ddcc10>\n",
      "<rdkit.Chem.rdchem.Mol object at 0x7fecc1ddcc80>\n",
      "<rdkit.Chem.rdchem.Mol object at 0x7fecc1ddccf0>\n",
      "<rdkit.Chem.rdchem.Mol object at 0x7fecc1ddcd60>\n",
      "<rdkit.Chem.rdchem.Mol object at 0x7fecc1ddcdd0>\n",
      "<rdkit.Chem.rdchem.Mol object at 0x7fecc1ddce40>\n",
      "<rdkit.Chem.rdchem.Mol object at 0x7fecc1ddceb0>\n",
      "<rdkit.Chem.rdchem.Mol object at 0x7fecc1ddcf20>\n",
      "<rdkit.Chem.rdchem.Mol object at 0x7fecc1ddcf90>\n",
      "<rdkit.Chem.rdchem.Mol object at 0x7fecc1ddd000>\n",
      "<rdkit.Chem.rdchem.Mol object at 0x7fecc1ddd070>\n",
      "<rdkit.Chem.rdchem.Mol object at 0x7fecc1ddd0e0>\n",
      "<rdkit.Chem.rdchem.Mol object at 0x7fecc1ddd150>\n",
      "<rdkit.Chem.rdchem.Mol object at 0x7fecc1ddd1c0>\n",
      "<rdkit.Chem.rdchem.Mol object at 0x7fecc1ddd230>\n",
      "<rdkit.Chem.rdchem.Mol object at 0x7fecc1ddd2a0>\n",
      "<rdkit.Chem.rdchem.Mol object at 0x7fecc1ddd310>\n",
      "<rdkit.Chem.rdchem.Mol object at 0x7fecc1ddd380>\n",
      "<rdkit.Chem.rdchem.Mol object at 0x7fecc1ddd3f0>\n",
      "<rdkit.Chem.rdchem.Mol object at 0x7fecc1ddd460>\n",
      "<rdkit.Chem.rdchem.Mol object at 0x7fecc1ddd4d0>\n",
      "<rdkit.Chem.rdchem.Mol object at 0x7fecc1ddd540>\n",
      "<rdkit.Chem.rdchem.Mol object at 0x7fecc1ddd5b0>\n",
      "<rdkit.Chem.rdchem.Mol object at 0x7fecc1ddd620>\n",
      "<rdkit.Chem.rdchem.Mol object at 0x7fecc1ddd690>\n",
      "<rdkit.Chem.rdchem.Mol object at 0x7fecc1ddd700>\n",
      "<rdkit.Chem.rdchem.Mol object at 0x7fecc1ddd770>\n",
      "<rdkit.Chem.rdchem.Mol object at 0x7fecc1ddd7e0>\n",
      "<rdkit.Chem.rdchem.Mol object at 0x7fecc1ddd850>\n",
      "<rdkit.Chem.rdchem.Mol object at 0x7fecc1ddd8c0>\n",
      "<rdkit.Chem.rdchem.Mol object at 0x7fecc1ddd930>\n",
      "<rdkit.Chem.rdchem.Mol object at 0x7fecc1ddd9a0>\n",
      "<rdkit.Chem.rdchem.Mol object at 0x7fecc1ddda10>\n",
      "<rdkit.Chem.rdchem.Mol object at 0x7fecc1ddda80>\n",
      "<rdkit.Chem.rdchem.Mol object at 0x7fecc1dddaf0>\n",
      "<rdkit.Chem.rdchem.Mol object at 0x7fecc1dddb60>\n",
      "<rdkit.Chem.rdchem.Mol object at 0x7fecc1dddbd0>\n",
      "<rdkit.Chem.rdchem.Mol object at 0x7fecc1dddc40>\n",
      "<rdkit.Chem.rdchem.Mol object at 0x7fecc1dddcb0>\n",
      "<rdkit.Chem.rdchem.Mol object at 0x7fecc1dddd20>\n",
      "<rdkit.Chem.rdchem.Mol object at 0x7fecc1dddd90>\n",
      "<rdkit.Chem.rdchem.Mol object at 0x7fecc1ddde00>\n",
      "<rdkit.Chem.rdchem.Mol object at 0x7fecc1ddde70>\n",
      "<rdkit.Chem.rdchem.Mol object at 0x7fecc1dddee0>\n",
      "<rdkit.Chem.rdchem.Mol object at 0x7fecc1dddf50>\n",
      "<rdkit.Chem.rdchem.Mol object at 0x7fecc1dddfc0>\n",
      "<rdkit.Chem.rdchem.Mol object at 0x7fecc1dde030>\n",
      "<rdkit.Chem.rdchem.Mol object at 0x7fecc1dde0a0>\n",
      "<rdkit.Chem.rdchem.Mol object at 0x7fecc1dde110>\n",
      "<rdkit.Chem.rdchem.Mol object at 0x7fecc1dde180>\n",
      "<rdkit.Chem.rdchem.Mol object at 0x7fecc1dde1f0>\n",
      "<rdkit.Chem.rdchem.Mol object at 0x7fecc1dde260>\n",
      "<rdkit.Chem.rdchem.Mol object at 0x7fecc1dde2d0>\n",
      "<rdkit.Chem.rdchem.Mol object at 0x7fecc1dde340>\n",
      "<rdkit.Chem.rdchem.Mol object at 0x7fecc1dde3b0>\n",
      "<rdkit.Chem.rdchem.Mol object at 0x7fecc1dde420>\n",
      "<rdkit.Chem.rdchem.Mol object at 0x7fecc1dde490>\n",
      "<rdkit.Chem.rdchem.Mol object at 0x7fecc1dde500>\n",
      "<rdkit.Chem.rdchem.Mol object at 0x7fecc1dde570>\n",
      "<rdkit.Chem.rdchem.Mol object at 0x7fecc1dde5e0>\n",
      "<rdkit.Chem.rdchem.Mol object at 0x7fecc1dde650>\n",
      "<rdkit.Chem.rdchem.Mol object at 0x7fecc1dde6c0>\n",
      "<rdkit.Chem.rdchem.Mol object at 0x7fecc1dde730>\n",
      "<rdkit.Chem.rdchem.Mol object at 0x7fecc1dde7a0>\n",
      "<rdkit.Chem.rdchem.Mol object at 0x7fecc1dde810>\n",
      "<rdkit.Chem.rdchem.Mol object at 0x7fecc1dde880>\n",
      "<rdkit.Chem.rdchem.Mol object at 0x7fecc1dde8f0>\n",
      "<rdkit.Chem.rdchem.Mol object at 0x7fecc1dde960>\n",
      "<rdkit.Chem.rdchem.Mol object at 0x7fecc1dde9d0>\n",
      "<rdkit.Chem.rdchem.Mol object at 0x7fecc1ddea40>\n",
      "<rdkit.Chem.rdchem.Mol object at 0x7fecc1ddeab0>\n",
      "<rdkit.Chem.rdchem.Mol object at 0x7fecc1ddeb20>\n",
      "<rdkit.Chem.rdchem.Mol object at 0x7fecc1ddeb90>\n",
      "<rdkit.Chem.rdchem.Mol object at 0x7fecc1ddec00>\n",
      "<rdkit.Chem.rdchem.Mol object at 0x7fecc1ddec70>\n",
      "<rdkit.Chem.rdchem.Mol object at 0x7fecc1ddece0>\n",
      "<rdkit.Chem.rdchem.Mol object at 0x7fecc1dded50>\n",
      "<rdkit.Chem.rdchem.Mol object at 0x7fecc1ddedc0>\n",
      "<rdkit.Chem.rdchem.Mol object at 0x7fecc1ddee30>\n",
      "<rdkit.Chem.rdchem.Mol object at 0x7fecc1ddeea0>\n",
      "<rdkit.Chem.rdchem.Mol object at 0x7fecc1ddef10>\n",
      "<rdkit.Chem.rdchem.Mol object at 0x7fecc1ddef80>\n",
      "<rdkit.Chem.rdchem.Mol object at 0x7fecc1ddeff0>\n",
      "<rdkit.Chem.rdchem.Mol object at 0x7fecc1ddf060>\n",
      "<rdkit.Chem.rdchem.Mol object at 0x7fecc1ddf0d0>\n",
      "<rdkit.Chem.rdchem.Mol object at 0x7fecc1ddf140>\n",
      "<rdkit.Chem.rdchem.Mol object at 0x7fecc1ddf1b0>\n",
      "<rdkit.Chem.rdchem.Mol object at 0x7fecc1ddf220>\n",
      "<rdkit.Chem.rdchem.Mol object at 0x7fecc1ddf290>\n",
      "<rdkit.Chem.rdchem.Mol object at 0x7fecc1ddf300>\n",
      "<rdkit.Chem.rdchem.Mol object at 0x7fecc1ddf370>\n",
      "<rdkit.Chem.rdchem.Mol object at 0x7fecc1ddf3e0>\n",
      "<rdkit.Chem.rdchem.Mol object at 0x7fecc1ddf450>\n",
      "<rdkit.Chem.rdchem.Mol object at 0x7fecc1ddf4c0>\n",
      "<rdkit.Chem.rdchem.Mol object at 0x7fecc1ddf530>\n",
      "<rdkit.Chem.rdchem.Mol object at 0x7fecc1ddf5a0>\n",
      "<rdkit.Chem.rdchem.Mol object at 0x7fecc1ddf610>\n",
      "<rdkit.Chem.rdchem.Mol object at 0x7fecc1ddf680>\n",
      "<rdkit.Chem.rdchem.Mol object at 0x7fecc1ddf6f0>\n",
      "<rdkit.Chem.rdchem.Mol object at 0x7fecc1ddf760>\n",
      "<rdkit.Chem.rdchem.Mol object at 0x7fecc1ddf7d0>\n",
      "<rdkit.Chem.rdchem.Mol object at 0x7fecc1ddf840>\n",
      "<rdkit.Chem.rdchem.Mol object at 0x7fecc1ddf8b0>\n",
      "<rdkit.Chem.rdchem.Mol object at 0x7fecc1ddf920>\n",
      "<rdkit.Chem.rdchem.Mol object at 0x7fecc1ddf990>\n",
      "<rdkit.Chem.rdchem.Mol object at 0x7fecc1ddfa00>\n",
      "<rdkit.Chem.rdchem.Mol object at 0x7fecc1ddfa70>\n",
      "<rdkit.Chem.rdchem.Mol object at 0x7fecc1ddfae0>\n",
      "<rdkit.Chem.rdchem.Mol object at 0x7fecc1ddfb50>\n",
      "<rdkit.Chem.rdchem.Mol object at 0x7fecc1ddfbc0>\n",
      "<rdkit.Chem.rdchem.Mol object at 0x7fecc1ddfc30>\n",
      "<rdkit.Chem.rdchem.Mol object at 0x7fecc1ddfca0>\n",
      "<rdkit.Chem.rdchem.Mol object at 0x7fecc1ddfd10>\n",
      "<rdkit.Chem.rdchem.Mol object at 0x7fecc1ddfd80>\n",
      "<rdkit.Chem.rdchem.Mol object at 0x7fecc1ddfdf0>\n",
      "<rdkit.Chem.rdchem.Mol object at 0x7fecc1ddfe60>\n",
      "<rdkit.Chem.rdchem.Mol object at 0x7fecc1ddfed0>\n",
      "<rdkit.Chem.rdchem.Mol object at 0x7fecc1ddff40>\n",
      "<rdkit.Chem.rdchem.Mol object at 0x7fecc1de0040>\n",
      "<rdkit.Chem.rdchem.Mol object at 0x7fecc1de00b0>\n",
      "<rdkit.Chem.rdchem.Mol object at 0x7fecc1de0120>\n",
      "<rdkit.Chem.rdchem.Mol object at 0x7fecc1de0190>\n",
      "<rdkit.Chem.rdchem.Mol object at 0x7fecc1de0200>\n",
      "<rdkit.Chem.rdchem.Mol object at 0x7fecc1de0270>\n",
      "<rdkit.Chem.rdchem.Mol object at 0x7fecc1de02e0>\n",
      "<rdkit.Chem.rdchem.Mol object at 0x7fecc1de0350>\n",
      "<rdkit.Chem.rdchem.Mol object at 0x7fecc1de03c0>\n",
      "<rdkit.Chem.rdchem.Mol object at 0x7fecc1de0430>\n",
      "<rdkit.Chem.rdchem.Mol object at 0x7fecc1de04a0>\n",
      "<rdkit.Chem.rdchem.Mol object at 0x7fecc1de0510>\n",
      "<rdkit.Chem.rdchem.Mol object at 0x7fecc1de0580>\n",
      "<rdkit.Chem.rdchem.Mol object at 0x7fecc1de05f0>\n",
      "<rdkit.Chem.rdchem.Mol object at 0x7fecc1de0660>\n",
      "<rdkit.Chem.rdchem.Mol object at 0x7fecc1de06d0>\n",
      "<rdkit.Chem.rdchem.Mol object at 0x7fecc1de0740>\n",
      "<rdkit.Chem.rdchem.Mol object at 0x7fecc1de07b0>\n",
      "<rdkit.Chem.rdchem.Mol object at 0x7fecc1de0820>\n",
      "<rdkit.Chem.rdchem.Mol object at 0x7fecc1de0890>\n",
      "<rdkit.Chem.rdchem.Mol object at 0x7fecc1de0900>\n",
      "<rdkit.Chem.rdchem.Mol object at 0x7fecc1de0970>\n",
      "<rdkit.Chem.rdchem.Mol object at 0x7fecc1de09e0>\n",
      "<rdkit.Chem.rdchem.Mol object at 0x7fecc1de0a50>\n",
      "<rdkit.Chem.rdchem.Mol object at 0x7fecc1de0ac0>\n",
      "<rdkit.Chem.rdchem.Mol object at 0x7fecc1de0b30>\n",
      "<rdkit.Chem.rdchem.Mol object at 0x7fecc1de0ba0>\n",
      "<rdkit.Chem.rdchem.Mol object at 0x7fecc1de0c10>\n",
      "<rdkit.Chem.rdchem.Mol object at 0x7fecc1de0c80>\n",
      "<rdkit.Chem.rdchem.Mol object at 0x7fecc1de0cf0>\n",
      "<rdkit.Chem.rdchem.Mol object at 0x7fecc1de0d60>\n",
      "<rdkit.Chem.rdchem.Mol object at 0x7fecc1de0dd0>\n",
      "<rdkit.Chem.rdchem.Mol object at 0x7fecc1de0e40>\n",
      "<rdkit.Chem.rdchem.Mol object at 0x7fecc1de0eb0>\n",
      "<rdkit.Chem.rdchem.Mol object at 0x7fecc1de0f20>\n",
      "<rdkit.Chem.rdchem.Mol object at 0x7fecc1de0f90>\n",
      "<rdkit.Chem.rdchem.Mol object at 0x7fecc1de1000>\n",
      "<rdkit.Chem.rdchem.Mol object at 0x7fecc1de1070>\n",
      "<rdkit.Chem.rdchem.Mol object at 0x7fecc1de10e0>\n",
      "<rdkit.Chem.rdchem.Mol object at 0x7fecc1de1150>\n",
      "<rdkit.Chem.rdchem.Mol object at 0x7fecc1de11c0>\n",
      "<rdkit.Chem.rdchem.Mol object at 0x7fecc1de1230>\n",
      "<rdkit.Chem.rdchem.Mol object at 0x7fecc1de12a0>\n",
      "<rdkit.Chem.rdchem.Mol object at 0x7fecc1de1310>\n",
      "<rdkit.Chem.rdchem.Mol object at 0x7fecc1de1380>\n",
      "<rdkit.Chem.rdchem.Mol object at 0x7fecc1de13f0>\n",
      "<rdkit.Chem.rdchem.Mol object at 0x7fecc1de1460>\n",
      "<rdkit.Chem.rdchem.Mol object at 0x7fecc1de14d0>\n",
      "<rdkit.Chem.rdchem.Mol object at 0x7fecc1de1540>\n",
      "<rdkit.Chem.rdchem.Mol object at 0x7fecc1de15b0>\n",
      "<rdkit.Chem.rdchem.Mol object at 0x7fecc1de1620>\n",
      "<rdkit.Chem.rdchem.Mol object at 0x7fecc1de1690>\n",
      "<rdkit.Chem.rdchem.Mol object at 0x7fecc1de1700>\n",
      "<rdkit.Chem.rdchem.Mol object at 0x7fecc1de1770>\n",
      "<rdkit.Chem.rdchem.Mol object at 0x7fecc1de17e0>\n",
      "<rdkit.Chem.rdchem.Mol object at 0x7fecc1de1850>\n",
      "<rdkit.Chem.rdchem.Mol object at 0x7fecc1de18c0>\n",
      "<rdkit.Chem.rdchem.Mol object at 0x7fecc1de1930>\n",
      "<rdkit.Chem.rdchem.Mol object at 0x7fecc1de19a0>\n",
      "<rdkit.Chem.rdchem.Mol object at 0x7fecc1de1a10>\n",
      "<rdkit.Chem.rdchem.Mol object at 0x7fecc1de1a80>\n",
      "<rdkit.Chem.rdchem.Mol object at 0x7fecc1de1af0>\n",
      "<rdkit.Chem.rdchem.Mol object at 0x7fecc1de1b60>\n",
      "<rdkit.Chem.rdchem.Mol object at 0x7fecc1de1bd0>\n",
      "<rdkit.Chem.rdchem.Mol object at 0x7fecc1de1c40>\n",
      "<rdkit.Chem.rdchem.Mol object at 0x7fecc1de1cb0>\n",
      "<rdkit.Chem.rdchem.Mol object at 0x7fecc1de1d20>\n",
      "<rdkit.Chem.rdchem.Mol object at 0x7fecc1de1d90>\n",
      "<rdkit.Chem.rdchem.Mol object at 0x7fecc1de1e00>\n",
      "<rdkit.Chem.rdchem.Mol object at 0x7fecc1de1e70>\n",
      "<rdkit.Chem.rdchem.Mol object at 0x7fecc1de1ee0>\n",
      "<rdkit.Chem.rdchem.Mol object at 0x7fecc1de1f50>\n",
      "<rdkit.Chem.rdchem.Mol object at 0x7fecc1de1fc0>\n",
      "<rdkit.Chem.rdchem.Mol object at 0x7fecc1de2030>\n",
      "<rdkit.Chem.rdchem.Mol object at 0x7fecc1de20a0>\n",
      "<rdkit.Chem.rdchem.Mol object at 0x7fecc1de2110>\n",
      "<rdkit.Chem.rdchem.Mol object at 0x7fecc1de2180>\n",
      "<rdkit.Chem.rdchem.Mol object at 0x7fecc1de21f0>\n",
      "<rdkit.Chem.rdchem.Mol object at 0x7fecc1de2260>\n",
      "<rdkit.Chem.rdchem.Mol object at 0x7fecc1de22d0>\n",
      "<rdkit.Chem.rdchem.Mol object at 0x7fecc1de2340>\n",
      "<rdkit.Chem.rdchem.Mol object at 0x7fecc1de23b0>\n",
      "<rdkit.Chem.rdchem.Mol object at 0x7fecc1de2420>\n",
      "<rdkit.Chem.rdchem.Mol object at 0x7fecc1de2490>\n",
      "<rdkit.Chem.rdchem.Mol object at 0x7fecc1de2500>\n",
      "<rdkit.Chem.rdchem.Mol object at 0x7fecc1de2570>\n",
      "<rdkit.Chem.rdchem.Mol object at 0x7fecc1de25e0>\n",
      "<rdkit.Chem.rdchem.Mol object at 0x7fecc1de2650>\n",
      "<rdkit.Chem.rdchem.Mol object at 0x7fecc1de26c0>\n",
      "<rdkit.Chem.rdchem.Mol object at 0x7fecc1de2730>\n",
      "<rdkit.Chem.rdchem.Mol object at 0x7fecc1de27a0>\n",
      "<rdkit.Chem.rdchem.Mol object at 0x7fecc1de2810>\n",
      "<rdkit.Chem.rdchem.Mol object at 0x7fecc1de2880>\n",
      "<rdkit.Chem.rdchem.Mol object at 0x7fecc1de28f0>\n",
      "<rdkit.Chem.rdchem.Mol object at 0x7fecc1de2960>\n",
      "<rdkit.Chem.rdchem.Mol object at 0x7fecc1de29d0>\n",
      "<rdkit.Chem.rdchem.Mol object at 0x7fecc1de2a40>\n",
      "<rdkit.Chem.rdchem.Mol object at 0x7fecc1de2ab0>\n",
      "<rdkit.Chem.rdchem.Mol object at 0x7fecc1de2b20>\n",
      "<rdkit.Chem.rdchem.Mol object at 0x7fecc1de2b90>\n",
      "<rdkit.Chem.rdchem.Mol object at 0x7fecc1de2c00>\n",
      "<rdkit.Chem.rdchem.Mol object at 0x7fecc1de2c70>\n",
      "<rdkit.Chem.rdchem.Mol object at 0x7fecc1de2ce0>\n",
      "<rdkit.Chem.rdchem.Mol object at 0x7fecc1de2d50>\n",
      "<rdkit.Chem.rdchem.Mol object at 0x7fecc1de2dc0>\n",
      "<rdkit.Chem.rdchem.Mol object at 0x7fecc1de2e30>\n",
      "<rdkit.Chem.rdchem.Mol object at 0x7fecc1de2ea0>\n",
      "<rdkit.Chem.rdchem.Mol object at 0x7fecc1de2f10>\n",
      "<rdkit.Chem.rdchem.Mol object at 0x7fecc1de2f80>\n",
      "<rdkit.Chem.rdchem.Mol object at 0x7fecc1de2ff0>\n",
      "<rdkit.Chem.rdchem.Mol object at 0x7fecc1de3060>\n",
      "<rdkit.Chem.rdchem.Mol object at 0x7fecc1de30d0>\n",
      "<rdkit.Chem.rdchem.Mol object at 0x7fecc1de3140>\n",
      "<rdkit.Chem.rdchem.Mol object at 0x7fecc1de31b0>\n",
      "<rdkit.Chem.rdchem.Mol object at 0x7fecc1de3220>\n",
      "<rdkit.Chem.rdchem.Mol object at 0x7fecc1de3290>\n",
      "<rdkit.Chem.rdchem.Mol object at 0x7fecc1de3300>\n",
      "<rdkit.Chem.rdchem.Mol object at 0x7fecc1de3370>\n",
      "<rdkit.Chem.rdchem.Mol object at 0x7fecc1de33e0>\n",
      "<rdkit.Chem.rdchem.Mol object at 0x7fecc1de3450>\n",
      "<rdkit.Chem.rdchem.Mol object at 0x7fecc1de34c0>\n",
      "<rdkit.Chem.rdchem.Mol object at 0x7fecc1de3530>\n",
      "<rdkit.Chem.rdchem.Mol object at 0x7fecc1de35a0>\n",
      "<rdkit.Chem.rdchem.Mol object at 0x7fecc1de3610>\n",
      "<rdkit.Chem.rdchem.Mol object at 0x7fecc1de3680>\n",
      "<rdkit.Chem.rdchem.Mol object at 0x7fecc1de36f0>\n",
      "<rdkit.Chem.rdchem.Mol object at 0x7fecc1de3760>\n",
      "<rdkit.Chem.rdchem.Mol object at 0x7fecc1de37d0>\n",
      "<rdkit.Chem.rdchem.Mol object at 0x7fecc1de3840>\n",
      "<rdkit.Chem.rdchem.Mol object at 0x7fecc1de38b0>\n",
      "<rdkit.Chem.rdchem.Mol object at 0x7fecc1de3920>\n",
      "<rdkit.Chem.rdchem.Mol object at 0x7fecc1de3990>\n",
      "<rdkit.Chem.rdchem.Mol object at 0x7fecc1de3a00>\n",
      "<rdkit.Chem.rdchem.Mol object at 0x7fecc1de3a70>\n",
      "<rdkit.Chem.rdchem.Mol object at 0x7fecc1de3ae0>\n",
      "<rdkit.Chem.rdchem.Mol object at 0x7fecc1de3b50>\n",
      "<rdkit.Chem.rdchem.Mol object at 0x7fecc1de3bc0>\n",
      "<rdkit.Chem.rdchem.Mol object at 0x7fecc1de3c30>\n",
      "<rdkit.Chem.rdchem.Mol object at 0x7fecc1de3ca0>\n",
      "<rdkit.Chem.rdchem.Mol object at 0x7fecc1de3d10>\n",
      "<rdkit.Chem.rdchem.Mol object at 0x7fecc1de3d80>\n",
      "<rdkit.Chem.rdchem.Mol object at 0x7fecc1de3df0>\n",
      "<rdkit.Chem.rdchem.Mol object at 0x7fecc1de3e60>\n",
      "<rdkit.Chem.rdchem.Mol object at 0x7fecc1de3ed0>\n",
      "<rdkit.Chem.rdchem.Mol object at 0x7fecc1de3f40>\n",
      "<rdkit.Chem.rdchem.Mol object at 0x7fecc1de8040>\n",
      "<rdkit.Chem.rdchem.Mol object at 0x7fecc1de80b0>\n",
      "<rdkit.Chem.rdchem.Mol object at 0x7fecc1de8120>\n",
      "<rdkit.Chem.rdchem.Mol object at 0x7fecc1de8190>\n",
      "<rdkit.Chem.rdchem.Mol object at 0x7fecc1de8200>\n",
      "<rdkit.Chem.rdchem.Mol object at 0x7fecc1de8270>\n",
      "<rdkit.Chem.rdchem.Mol object at 0x7fecc1de82e0>\n",
      "<rdkit.Chem.rdchem.Mol object at 0x7fecc1de8350>\n",
      "<rdkit.Chem.rdchem.Mol object at 0x7fecc1de83c0>\n",
      "<rdkit.Chem.rdchem.Mol object at 0x7fecc1de8430>\n",
      "<rdkit.Chem.rdchem.Mol object at 0x7fecc1de84a0>\n",
      "<rdkit.Chem.rdchem.Mol object at 0x7fecc1de8510>\n",
      "<rdkit.Chem.rdchem.Mol object at 0x7fecc1de8580>\n",
      "<rdkit.Chem.rdchem.Mol object at 0x7fecc1de85f0>\n",
      "<rdkit.Chem.rdchem.Mol object at 0x7fecc1de8660>\n",
      "<rdkit.Chem.rdchem.Mol object at 0x7fecc1de86d0>\n",
      "<rdkit.Chem.rdchem.Mol object at 0x7fecc1de8740>\n",
      "<rdkit.Chem.rdchem.Mol object at 0x7fecc1de87b0>\n",
      "<rdkit.Chem.rdchem.Mol object at 0x7fecc1de8820>\n",
      "<rdkit.Chem.rdchem.Mol object at 0x7fecc1de8890>\n",
      "<rdkit.Chem.rdchem.Mol object at 0x7fecc1de8900>\n",
      "<rdkit.Chem.rdchem.Mol object at 0x7fecc1de8970>\n",
      "<rdkit.Chem.rdchem.Mol object at 0x7fecc1de89e0>\n",
      "<rdkit.Chem.rdchem.Mol object at 0x7fecc1de8a50>\n",
      "<rdkit.Chem.rdchem.Mol object at 0x7fecc1de8ac0>\n",
      "<rdkit.Chem.rdchem.Mol object at 0x7fecc1de8b30>\n",
      "<rdkit.Chem.rdchem.Mol object at 0x7fecc1de8ba0>\n",
      "<rdkit.Chem.rdchem.Mol object at 0x7fecc1de8c10>\n",
      "<rdkit.Chem.rdchem.Mol object at 0x7fecc1de8c80>\n",
      "<rdkit.Chem.rdchem.Mol object at 0x7fecc1de8cf0>\n",
      "<rdkit.Chem.rdchem.Mol object at 0x7fecc1de8d60>\n",
      "<rdkit.Chem.rdchem.Mol object at 0x7fecc1de8dd0>\n",
      "<rdkit.Chem.rdchem.Mol object at 0x7fecc1de8e40>\n",
      "<rdkit.Chem.rdchem.Mol object at 0x7fecc1de8eb0>\n",
      "<rdkit.Chem.rdchem.Mol object at 0x7fecc1de8f20>\n",
      "<rdkit.Chem.rdchem.Mol object at 0x7fecc1de8f90>\n",
      "<rdkit.Chem.rdchem.Mol object at 0x7fecc1de9000>\n",
      "<rdkit.Chem.rdchem.Mol object at 0x7fecc1de9070>\n",
      "<rdkit.Chem.rdchem.Mol object at 0x7fecc1de90e0>\n",
      "<rdkit.Chem.rdchem.Mol object at 0x7fecc1de9150>\n",
      "<rdkit.Chem.rdchem.Mol object at 0x7fecc1de91c0>\n",
      "<rdkit.Chem.rdchem.Mol object at 0x7fecc1de9230>\n",
      "<rdkit.Chem.rdchem.Mol object at 0x7fecc1de92a0>\n",
      "<rdkit.Chem.rdchem.Mol object at 0x7fecc1de9310>\n",
      "<rdkit.Chem.rdchem.Mol object at 0x7fecc1de9380>\n",
      "<rdkit.Chem.rdchem.Mol object at 0x7fecc1de93f0>\n",
      "<rdkit.Chem.rdchem.Mol object at 0x7fecc1de9460>\n",
      "<rdkit.Chem.rdchem.Mol object at 0x7fecc1de94d0>\n",
      "<rdkit.Chem.rdchem.Mol object at 0x7fecc1de9540>\n",
      "<rdkit.Chem.rdchem.Mol object at 0x7fecc1de95b0>\n",
      "<rdkit.Chem.rdchem.Mol object at 0x7fecc1de9620>\n",
      "<rdkit.Chem.rdchem.Mol object at 0x7fecc1de9690>\n",
      "<rdkit.Chem.rdchem.Mol object at 0x7fecc1de9700>\n",
      "<rdkit.Chem.rdchem.Mol object at 0x7fecc1de9770>\n",
      "<rdkit.Chem.rdchem.Mol object at 0x7fecc1de97e0>\n",
      "<rdkit.Chem.rdchem.Mol object at 0x7fecc1de9850>\n",
      "<rdkit.Chem.rdchem.Mol object at 0x7fecc1de98c0>\n",
      "<rdkit.Chem.rdchem.Mol object at 0x7fecc1de9930>\n",
      "<rdkit.Chem.rdchem.Mol object at 0x7fecc1de99a0>\n",
      "<rdkit.Chem.rdchem.Mol object at 0x7fecc1de9a10>\n",
      "<rdkit.Chem.rdchem.Mol object at 0x7fecc1de9a80>\n",
      "<rdkit.Chem.rdchem.Mol object at 0x7fecc1de9af0>\n",
      "<rdkit.Chem.rdchem.Mol object at 0x7fecc1de9b60>\n",
      "<rdkit.Chem.rdchem.Mol object at 0x7fecc1de9bd0>\n",
      "<rdkit.Chem.rdchem.Mol object at 0x7fecc1de9c40>\n",
      "<rdkit.Chem.rdchem.Mol object at 0x7fecc1de9cb0>\n",
      "<rdkit.Chem.rdchem.Mol object at 0x7fecc1de9d20>\n",
      "<rdkit.Chem.rdchem.Mol object at 0x7fecc1de9d90>\n",
      "<rdkit.Chem.rdchem.Mol object at 0x7fecc1de9e00>\n",
      "<rdkit.Chem.rdchem.Mol object at 0x7fecc1de9e70>\n",
      "<rdkit.Chem.rdchem.Mol object at 0x7fecc1de9ee0>\n",
      "<rdkit.Chem.rdchem.Mol object at 0x7fecc1de9f50>\n",
      "<rdkit.Chem.rdchem.Mol object at 0x7fecc1de9fc0>\n",
      "<rdkit.Chem.rdchem.Mol object at 0x7fecc1dea030>\n",
      "<rdkit.Chem.rdchem.Mol object at 0x7fecc1dea0a0>\n",
      "<rdkit.Chem.rdchem.Mol object at 0x7fecc1dea110>\n",
      "<rdkit.Chem.rdchem.Mol object at 0x7fecc1dea180>\n",
      "<rdkit.Chem.rdchem.Mol object at 0x7fecc1dea1f0>\n",
      "<rdkit.Chem.rdchem.Mol object at 0x7fecc1dea260>\n",
      "<rdkit.Chem.rdchem.Mol object at 0x7fecc1dea2d0>\n",
      "<rdkit.Chem.rdchem.Mol object at 0x7fecc1dea340>\n",
      "<rdkit.Chem.rdchem.Mol object at 0x7fecc1dea3b0>\n",
      "<rdkit.Chem.rdchem.Mol object at 0x7fecc1dea420>\n",
      "<rdkit.Chem.rdchem.Mol object at 0x7fecc1dea490>\n",
      "<rdkit.Chem.rdchem.Mol object at 0x7fecc1dea500>\n",
      "<rdkit.Chem.rdchem.Mol object at 0x7fecc1dea570>\n",
      "<rdkit.Chem.rdchem.Mol object at 0x7fecc1dea5e0>\n",
      "<rdkit.Chem.rdchem.Mol object at 0x7fecc1dea650>\n",
      "<rdkit.Chem.rdchem.Mol object at 0x7fecc1dea6c0>\n",
      "<rdkit.Chem.rdchem.Mol object at 0x7fecc1dea730>\n",
      "<rdkit.Chem.rdchem.Mol object at 0x7fecc1dea7a0>\n",
      "<rdkit.Chem.rdchem.Mol object at 0x7fecc1dea810>\n",
      "<rdkit.Chem.rdchem.Mol object at 0x7fecc1dea880>\n",
      "<rdkit.Chem.rdchem.Mol object at 0x7fecc1dea8f0>\n",
      "<rdkit.Chem.rdchem.Mol object at 0x7fecc1dea960>\n",
      "<rdkit.Chem.rdchem.Mol object at 0x7fecc1dea9d0>\n",
      "<rdkit.Chem.rdchem.Mol object at 0x7fecc1deaa40>\n",
      "<rdkit.Chem.rdchem.Mol object at 0x7fecc1deaab0>\n",
      "<rdkit.Chem.rdchem.Mol object at 0x7fecc1deab20>\n",
      "<rdkit.Chem.rdchem.Mol object at 0x7fecc1deab90>\n",
      "<rdkit.Chem.rdchem.Mol object at 0x7fecc1deac00>\n",
      "<rdkit.Chem.rdchem.Mol object at 0x7fecc1deac70>\n",
      "<rdkit.Chem.rdchem.Mol object at 0x7fecc1deace0>\n",
      "<rdkit.Chem.rdchem.Mol object at 0x7fecc1dead50>\n",
      "<rdkit.Chem.rdchem.Mol object at 0x7fecc1deadc0>\n",
      "<rdkit.Chem.rdchem.Mol object at 0x7fecc1deae30>\n",
      "<rdkit.Chem.rdchem.Mol object at 0x7fecc1deaea0>\n",
      "<rdkit.Chem.rdchem.Mol object at 0x7fecc1deaf10>\n",
      "<rdkit.Chem.rdchem.Mol object at 0x7fecc1deaf80>\n",
      "<rdkit.Chem.rdchem.Mol object at 0x7fecc1deaff0>\n",
      "<rdkit.Chem.rdchem.Mol object at 0x7fecc1deb060>\n",
      "<rdkit.Chem.rdchem.Mol object at 0x7fecc1deb0d0>\n",
      "<rdkit.Chem.rdchem.Mol object at 0x7fecc1deb140>\n",
      "<rdkit.Chem.rdchem.Mol object at 0x7fecc1deb1b0>\n",
      "<rdkit.Chem.rdchem.Mol object at 0x7fecc1deb220>\n",
      "<rdkit.Chem.rdchem.Mol object at 0x7fecc1deb290>\n",
      "<rdkit.Chem.rdchem.Mol object at 0x7fecc1deb300>\n",
      "<rdkit.Chem.rdchem.Mol object at 0x7fecc1deb370>\n",
      "<rdkit.Chem.rdchem.Mol object at 0x7fecc1deb3e0>\n",
      "<rdkit.Chem.rdchem.Mol object at 0x7fecc1deb450>\n",
      "<rdkit.Chem.rdchem.Mol object at 0x7fecc1deb4c0>\n",
      "<rdkit.Chem.rdchem.Mol object at 0x7fecc1deb530>\n",
      "<rdkit.Chem.rdchem.Mol object at 0x7fecc1deb5a0>\n",
      "<rdkit.Chem.rdchem.Mol object at 0x7fecc1deb610>\n",
      "<rdkit.Chem.rdchem.Mol object at 0x7fecc1deb680>\n",
      "<rdkit.Chem.rdchem.Mol object at 0x7fecc1deb6f0>\n",
      "<rdkit.Chem.rdchem.Mol object at 0x7fecc1deb760>\n",
      "<rdkit.Chem.rdchem.Mol object at 0x7fecc1deb7d0>\n",
      "<rdkit.Chem.rdchem.Mol object at 0x7fecc1deb840>\n",
      "<rdkit.Chem.rdchem.Mol object at 0x7fecc1deb8b0>\n",
      "<rdkit.Chem.rdchem.Mol object at 0x7fecc1deb920>\n",
      "<rdkit.Chem.rdchem.Mol object at 0x7fecc1deb990>\n",
      "<rdkit.Chem.rdchem.Mol object at 0x7fecc1deba00>\n",
      "<rdkit.Chem.rdchem.Mol object at 0x7fecc1deba70>\n",
      "<rdkit.Chem.rdchem.Mol object at 0x7fecc1debae0>\n",
      "<rdkit.Chem.rdchem.Mol object at 0x7fecc1debb50>\n",
      "<rdkit.Chem.rdchem.Mol object at 0x7fecc1debbc0>\n",
      "<rdkit.Chem.rdchem.Mol object at 0x7fecc1debc30>\n",
      "<rdkit.Chem.rdchem.Mol object at 0x7fecc1debca0>\n",
      "<rdkit.Chem.rdchem.Mol object at 0x7fecc1debd10>\n",
      "<rdkit.Chem.rdchem.Mol object at 0x7fecc1debd80>\n",
      "<rdkit.Chem.rdchem.Mol object at 0x7fecc1debdf0>\n",
      "<rdkit.Chem.rdchem.Mol object at 0x7fecc1debe60>\n",
      "<rdkit.Chem.rdchem.Mol object at 0x7fecc1debed0>\n",
      "<rdkit.Chem.rdchem.Mol object at 0x7fecc1debf40>\n",
      "<rdkit.Chem.rdchem.Mol object at 0x7fecc1dd8040>\n",
      "<rdkit.Chem.rdchem.Mol object at 0x7fecc1dd80b0>\n",
      "<rdkit.Chem.rdchem.Mol object at 0x7fecc1dd8120>\n",
      "<rdkit.Chem.rdchem.Mol object at 0x7fecc1dd8190>\n",
      "<rdkit.Chem.rdchem.Mol object at 0x7fecc1dd8200>\n",
      "<rdkit.Chem.rdchem.Mol object at 0x7fecc1dd8270>\n",
      "<rdkit.Chem.rdchem.Mol object at 0x7fecc1dd82e0>\n",
      "<rdkit.Chem.rdchem.Mol object at 0x7fecc1dd8350>\n",
      "<rdkit.Chem.rdchem.Mol object at 0x7fecc1dd83c0>\n",
      "<rdkit.Chem.rdchem.Mol object at 0x7fecc1dd8430>\n",
      "<rdkit.Chem.rdchem.Mol object at 0x7fecc1dd84a0>\n",
      "<rdkit.Chem.rdchem.Mol object at 0x7fecc1dd8510>\n",
      "<rdkit.Chem.rdchem.Mol object at 0x7fecc1dd8580>\n",
      "<rdkit.Chem.rdchem.Mol object at 0x7fecc1dd85f0>\n",
      "<rdkit.Chem.rdchem.Mol object at 0x7fecc1dd8660>\n",
      "<rdkit.Chem.rdchem.Mol object at 0x7fecc1dd86d0>\n",
      "<rdkit.Chem.rdchem.Mol object at 0x7fecc1dd8740>\n",
      "<rdkit.Chem.rdchem.Mol object at 0x7fecc1dd87b0>\n",
      "<rdkit.Chem.rdchem.Mol object at 0x7fecc1dd8820>\n",
      "<rdkit.Chem.rdchem.Mol object at 0x7fecc1dd8890>\n",
      "<rdkit.Chem.rdchem.Mol object at 0x7fecc1dd8900>\n",
      "<rdkit.Chem.rdchem.Mol object at 0x7fecc1dd8970>\n",
      "<rdkit.Chem.rdchem.Mol object at 0x7fecc1dd89e0>\n",
      "<rdkit.Chem.rdchem.Mol object at 0x7fecc1dd8a50>\n",
      "<rdkit.Chem.rdchem.Mol object at 0x7fecc1dd8ac0>\n",
      "<rdkit.Chem.rdchem.Mol object at 0x7fecc1dd8b30>\n",
      "<rdkit.Chem.rdchem.Mol object at 0x7fecc1dd8ba0>\n",
      "<rdkit.Chem.rdchem.Mol object at 0x7fecc1dd8c10>\n",
      "<rdkit.Chem.rdchem.Mol object at 0x7fecc1dd8c80>\n",
      "<rdkit.Chem.rdchem.Mol object at 0x7fecc1dd8cf0>\n",
      "<rdkit.Chem.rdchem.Mol object at 0x7fecc1dd8d60>\n",
      "<rdkit.Chem.rdchem.Mol object at 0x7fecc1dd8dd0>\n",
      "<rdkit.Chem.rdchem.Mol object at 0x7fecc1dd8e40>\n",
      "<rdkit.Chem.rdchem.Mol object at 0x7fecc1dd8eb0>\n",
      "<rdkit.Chem.rdchem.Mol object at 0x7fecc1dd8f20>\n",
      "<rdkit.Chem.rdchem.Mol object at 0x7fecc1dd8f90>\n",
      "<rdkit.Chem.rdchem.Mol object at 0x7fecc1dd9000>\n",
      "<rdkit.Chem.rdchem.Mol object at 0x7fecc1dd9070>\n",
      "<rdkit.Chem.rdchem.Mol object at 0x7fecc1dd90e0>\n",
      "<rdkit.Chem.rdchem.Mol object at 0x7fecc1dd9150>\n",
      "<rdkit.Chem.rdchem.Mol object at 0x7fecc1dd91c0>\n",
      "<rdkit.Chem.rdchem.Mol object at 0x7fecc1dd9230>\n",
      "<rdkit.Chem.rdchem.Mol object at 0x7fecc1dd92a0>\n",
      "<rdkit.Chem.rdchem.Mol object at 0x7fecc1dd9310>\n",
      "<rdkit.Chem.rdchem.Mol object at 0x7fecc1dd9380>\n",
      "<rdkit.Chem.rdchem.Mol object at 0x7fecc1dd93f0>\n",
      "<rdkit.Chem.rdchem.Mol object at 0x7fecc1dd9460>\n",
      "<rdkit.Chem.rdchem.Mol object at 0x7fecc1dd94d0>\n",
      "<rdkit.Chem.rdchem.Mol object at 0x7fecc1dd9540>\n",
      "<rdkit.Chem.rdchem.Mol object at 0x7fecc1dd95b0>\n",
      "<rdkit.Chem.rdchem.Mol object at 0x7fecc1dd9620>\n",
      "<rdkit.Chem.rdchem.Mol object at 0x7fecc1dd9690>\n",
      "<rdkit.Chem.rdchem.Mol object at 0x7fecc1dd9700>\n",
      "<rdkit.Chem.rdchem.Mol object at 0x7fecc1dd9770>\n",
      "<rdkit.Chem.rdchem.Mol object at 0x7fecc1dd97e0>\n",
      "<rdkit.Chem.rdchem.Mol object at 0x7fecc1dd9850>\n",
      "<rdkit.Chem.rdchem.Mol object at 0x7fecc1dd98c0>\n",
      "<rdkit.Chem.rdchem.Mol object at 0x7fecc1dd9930>\n",
      "<rdkit.Chem.rdchem.Mol object at 0x7fecc1dd99a0>\n",
      "<rdkit.Chem.rdchem.Mol object at 0x7fecc1dd9a10>\n",
      "<rdkit.Chem.rdchem.Mol object at 0x7fecc1dd9a80>\n",
      "<rdkit.Chem.rdchem.Mol object at 0x7fecc1dd9af0>\n",
      "<rdkit.Chem.rdchem.Mol object at 0x7fecc1dd9b60>\n",
      "<rdkit.Chem.rdchem.Mol object at 0x7fecc1dd9bd0>\n",
      "<rdkit.Chem.rdchem.Mol object at 0x7fecc1dd9c40>\n",
      "<rdkit.Chem.rdchem.Mol object at 0x7fecc1dd9cb0>\n",
      "<rdkit.Chem.rdchem.Mol object at 0x7fecc1dd9d20>\n",
      "<rdkit.Chem.rdchem.Mol object at 0x7fecc1dd9d90>\n",
      "<rdkit.Chem.rdchem.Mol object at 0x7fecc1dd9e00>\n",
      "<rdkit.Chem.rdchem.Mol object at 0x7fecc1dd9e70>\n",
      "<rdkit.Chem.rdchem.Mol object at 0x7fecc1dd9ee0>\n",
      "<rdkit.Chem.rdchem.Mol object at 0x7fecc1dd9f50>\n",
      "<rdkit.Chem.rdchem.Mol object at 0x7fecc1dd9fc0>\n",
      "<rdkit.Chem.rdchem.Mol object at 0x7fecc1dda030>\n",
      "<rdkit.Chem.rdchem.Mol object at 0x7fecc1dda0a0>\n",
      "<rdkit.Chem.rdchem.Mol object at 0x7fecc1dda110>\n",
      "<rdkit.Chem.rdchem.Mol object at 0x7fecc1dda180>\n",
      "<rdkit.Chem.rdchem.Mol object at 0x7fecc1dda1f0>\n",
      "<rdkit.Chem.rdchem.Mol object at 0x7fecc1dda260>\n",
      "<rdkit.Chem.rdchem.Mol object at 0x7fecc1dda2d0>\n",
      "<rdkit.Chem.rdchem.Mol object at 0x7fecc1dda340>\n",
      "<rdkit.Chem.rdchem.Mol object at 0x7fecc1dda3b0>\n",
      "<rdkit.Chem.rdchem.Mol object at 0x7fecc1dda420>\n",
      "<rdkit.Chem.rdchem.Mol object at 0x7fecc1dda490>\n",
      "<rdkit.Chem.rdchem.Mol object at 0x7fecc1dda500>\n",
      "<rdkit.Chem.rdchem.Mol object at 0x7fecc1dda570>\n",
      "<rdkit.Chem.rdchem.Mol object at 0x7fecc1dda5e0>\n",
      "<rdkit.Chem.rdchem.Mol object at 0x7fecc1dda650>\n",
      "<rdkit.Chem.rdchem.Mol object at 0x7fecc1dda6c0>\n",
      "<rdkit.Chem.rdchem.Mol object at 0x7fecc1dda730>\n",
      "<rdkit.Chem.rdchem.Mol object at 0x7fecc1dda7a0>\n",
      "<rdkit.Chem.rdchem.Mol object at 0x7fecc1dda810>\n",
      "<rdkit.Chem.rdchem.Mol object at 0x7fecc1dda880>\n",
      "<rdkit.Chem.rdchem.Mol object at 0x7fecc1dda8f0>\n",
      "<rdkit.Chem.rdchem.Mol object at 0x7fecc1dda960>\n",
      "<rdkit.Chem.rdchem.Mol object at 0x7fecc1dda9d0>\n",
      "<rdkit.Chem.rdchem.Mol object at 0x7fecc1ddaa40>\n",
      "<rdkit.Chem.rdchem.Mol object at 0x7fecc1ddaab0>\n",
      "<rdkit.Chem.rdchem.Mol object at 0x7fecc1ddab20>\n",
      "<rdkit.Chem.rdchem.Mol object at 0x7fecc1ddab90>\n",
      "<rdkit.Chem.rdchem.Mol object at 0x7fecc1ddac00>\n",
      "<rdkit.Chem.rdchem.Mol object at 0x7fecc1ddac70>\n",
      "<rdkit.Chem.rdchem.Mol object at 0x7fecc1ddace0>\n",
      "<rdkit.Chem.rdchem.Mol object at 0x7fecc1ddad50>\n",
      "<rdkit.Chem.rdchem.Mol object at 0x7fecc1ddadc0>\n",
      "<rdkit.Chem.rdchem.Mol object at 0x7fecc1ddae30>\n",
      "<rdkit.Chem.rdchem.Mol object at 0x7fecc1ddaea0>\n",
      "<rdkit.Chem.rdchem.Mol object at 0x7fecc1ddaf10>\n",
      "<rdkit.Chem.rdchem.Mol object at 0x7fecc1ddaf80>\n",
      "<rdkit.Chem.rdchem.Mol object at 0x7fecc1ddaff0>\n",
      "<rdkit.Chem.rdchem.Mol object at 0x7fecc1ddb060>\n",
      "<rdkit.Chem.rdchem.Mol object at 0x7fecc1ddb0d0>\n",
      "<rdkit.Chem.rdchem.Mol object at 0x7fecc1ddb140>\n",
      "<rdkit.Chem.rdchem.Mol object at 0x7fecc1ddb1b0>\n",
      "<rdkit.Chem.rdchem.Mol object at 0x7fecc1ddb220>\n",
      "<rdkit.Chem.rdchem.Mol object at 0x7fecc1ddb290>\n",
      "<rdkit.Chem.rdchem.Mol object at 0x7fecc1ddb300>\n",
      "<rdkit.Chem.rdchem.Mol object at 0x7fecc1ddb370>\n",
      "<rdkit.Chem.rdchem.Mol object at 0x7fecc1ddb3e0>\n",
      "<rdkit.Chem.rdchem.Mol object at 0x7fecc1ddb450>\n",
      "<rdkit.Chem.rdchem.Mol object at 0x7fecc1ddb4c0>\n",
      "<rdkit.Chem.rdchem.Mol object at 0x7fecc1ddb530>\n",
      "<rdkit.Chem.rdchem.Mol object at 0x7fecc1ddb5a0>\n",
      "<rdkit.Chem.rdchem.Mol object at 0x7fecc1ddb610>\n",
      "<rdkit.Chem.rdchem.Mol object at 0x7fecc1ddb680>\n",
      "<rdkit.Chem.rdchem.Mol object at 0x7fecc1ddb6f0>\n",
      "<rdkit.Chem.rdchem.Mol object at 0x7fecc1ddb760>\n",
      "<rdkit.Chem.rdchem.Mol object at 0x7fecc1ddb7d0>\n",
      "<rdkit.Chem.rdchem.Mol object at 0x7fecc1ddb840>\n",
      "<rdkit.Chem.rdchem.Mol object at 0x7fecc1ddb8b0>\n",
      "<rdkit.Chem.rdchem.Mol object at 0x7fecc1ddb920>\n",
      "<rdkit.Chem.rdchem.Mol object at 0x7fecc1ddb990>\n",
      "<rdkit.Chem.rdchem.Mol object at 0x7fecc1ddba00>\n",
      "<rdkit.Chem.rdchem.Mol object at 0x7fecc1ddba70>\n",
      "<rdkit.Chem.rdchem.Mol object at 0x7fecc1ddbae0>\n",
      "<rdkit.Chem.rdchem.Mol object at 0x7fecc1ddbb50>\n",
      "<rdkit.Chem.rdchem.Mol object at 0x7fecc1ddbbc0>\n",
      "<rdkit.Chem.rdchem.Mol object at 0x7fecc1ddbc30>\n",
      "<rdkit.Chem.rdchem.Mol object at 0x7fecc1ddbca0>\n",
      "<rdkit.Chem.rdchem.Mol object at 0x7fecc1ddbd10>\n",
      "<rdkit.Chem.rdchem.Mol object at 0x7fecc1ddbd80>\n",
      "<rdkit.Chem.rdchem.Mol object at 0x7fecc1ddbdf0>\n",
      "<rdkit.Chem.rdchem.Mol object at 0x7fecc1ddbe60>\n",
      "<rdkit.Chem.rdchem.Mol object at 0x7fecc1ddbed0>\n",
      "<rdkit.Chem.rdchem.Mol object at 0x7fecc1ddbf40>\n",
      "<rdkit.Chem.rdchem.Mol object at 0x7fecc1df4040>\n",
      "<rdkit.Chem.rdchem.Mol object at 0x7fecc1df40b0>\n",
      "<rdkit.Chem.rdchem.Mol object at 0x7fecc1df4120>\n",
      "<rdkit.Chem.rdchem.Mol object at 0x7fecc1df4190>\n",
      "<rdkit.Chem.rdchem.Mol object at 0x7fecc1df4200>\n",
      "<rdkit.Chem.rdchem.Mol object at 0x7fecc1df4270>\n",
      "<rdkit.Chem.rdchem.Mol object at 0x7fecc1df42e0>\n",
      "<rdkit.Chem.rdchem.Mol object at 0x7fecc1df4350>\n",
      "<rdkit.Chem.rdchem.Mol object at 0x7fecc1df43c0>\n",
      "<rdkit.Chem.rdchem.Mol object at 0x7fecc1df4430>\n",
      "<rdkit.Chem.rdchem.Mol object at 0x7fecc1df44a0>\n",
      "<rdkit.Chem.rdchem.Mol object at 0x7fecc1df4510>\n",
      "<rdkit.Chem.rdchem.Mol object at 0x7fecc1df4580>\n",
      "<rdkit.Chem.rdchem.Mol object at 0x7fecc1df45f0>\n",
      "<rdkit.Chem.rdchem.Mol object at 0x7fecc1df4660>\n",
      "<rdkit.Chem.rdchem.Mol object at 0x7fecc1df46d0>\n",
      "<rdkit.Chem.rdchem.Mol object at 0x7fecc1df4740>\n",
      "<rdkit.Chem.rdchem.Mol object at 0x7fecc1df47b0>\n",
      "<rdkit.Chem.rdchem.Mol object at 0x7fecc1df4820>\n",
      "<rdkit.Chem.rdchem.Mol object at 0x7fecc1df4890>\n",
      "<rdkit.Chem.rdchem.Mol object at 0x7fecc1df4900>\n",
      "<rdkit.Chem.rdchem.Mol object at 0x7fecc1df4970>\n",
      "<rdkit.Chem.rdchem.Mol object at 0x7fecc1df49e0>\n",
      "<rdkit.Chem.rdchem.Mol object at 0x7fecc1df4a50>\n",
      "<rdkit.Chem.rdchem.Mol object at 0x7fecc1df4ac0>\n",
      "<rdkit.Chem.rdchem.Mol object at 0x7fecc1df4b30>\n",
      "<rdkit.Chem.rdchem.Mol object at 0x7fecc1df4ba0>\n",
      "<rdkit.Chem.rdchem.Mol object at 0x7fecc1df4c10>\n",
      "<rdkit.Chem.rdchem.Mol object at 0x7fecc1df4c80>\n",
      "<rdkit.Chem.rdchem.Mol object at 0x7fecc1df4cf0>\n",
      "<rdkit.Chem.rdchem.Mol object at 0x7fecc1df4d60>\n",
      "<rdkit.Chem.rdchem.Mol object at 0x7fecc1df4dd0>\n",
      "<rdkit.Chem.rdchem.Mol object at 0x7fecc1df4e40>\n",
      "<rdkit.Chem.rdchem.Mol object at 0x7fecc1df4eb0>\n",
      "<rdkit.Chem.rdchem.Mol object at 0x7fecc1df4f20>\n",
      "<rdkit.Chem.rdchem.Mol object at 0x7fecc1df4f90>\n",
      "<rdkit.Chem.rdchem.Mol object at 0x7fecc1df5000>\n",
      "<rdkit.Chem.rdchem.Mol object at 0x7fecc1df5070>\n",
      "<rdkit.Chem.rdchem.Mol object at 0x7fecc1df50e0>\n",
      "<rdkit.Chem.rdchem.Mol object at 0x7fecc1df5150>\n",
      "<rdkit.Chem.rdchem.Mol object at 0x7fecc1df51c0>\n",
      "<rdkit.Chem.rdchem.Mol object at 0x7fecc1df5230>\n",
      "<rdkit.Chem.rdchem.Mol object at 0x7fecc1df52a0>\n",
      "<rdkit.Chem.rdchem.Mol object at 0x7fecc1df5310>\n",
      "<rdkit.Chem.rdchem.Mol object at 0x7fecc1df5380>\n",
      "<rdkit.Chem.rdchem.Mol object at 0x7fecc1df53f0>\n",
      "<rdkit.Chem.rdchem.Mol object at 0x7fecc1df5460>\n",
      "<rdkit.Chem.rdchem.Mol object at 0x7fecc1df54d0>\n",
      "<rdkit.Chem.rdchem.Mol object at 0x7fecc1df5540>\n",
      "<rdkit.Chem.rdchem.Mol object at 0x7fecc1df55b0>\n",
      "<rdkit.Chem.rdchem.Mol object at 0x7fecc1df5620>\n",
      "<rdkit.Chem.rdchem.Mol object at 0x7fecc1df5690>\n",
      "<rdkit.Chem.rdchem.Mol object at 0x7fecc1df5700>\n",
      "<rdkit.Chem.rdchem.Mol object at 0x7fecc1df5770>\n",
      "<rdkit.Chem.rdchem.Mol object at 0x7fecc1df57e0>\n",
      "<rdkit.Chem.rdchem.Mol object at 0x7fecc1df5850>\n",
      "<rdkit.Chem.rdchem.Mol object at 0x7fecc1df58c0>\n",
      "<rdkit.Chem.rdchem.Mol object at 0x7fecc1df5930>\n",
      "<rdkit.Chem.rdchem.Mol object at 0x7fecc1df59a0>\n",
      "<rdkit.Chem.rdchem.Mol object at 0x7fecc1df5a10>\n",
      "<rdkit.Chem.rdchem.Mol object at 0x7fecc1df5a80>\n",
      "<rdkit.Chem.rdchem.Mol object at 0x7fecc1df5af0>\n",
      "<rdkit.Chem.rdchem.Mol object at 0x7fecc1df5b60>\n",
      "<rdkit.Chem.rdchem.Mol object at 0x7fecc1df5bd0>\n",
      "<rdkit.Chem.rdchem.Mol object at 0x7fecc1df5c40>\n",
      "<rdkit.Chem.rdchem.Mol object at 0x7fecc1df5cb0>\n",
      "<rdkit.Chem.rdchem.Mol object at 0x7fecc1df5d20>\n",
      "<rdkit.Chem.rdchem.Mol object at 0x7fecc1df5d90>\n",
      "<rdkit.Chem.rdchem.Mol object at 0x7fecc1df5e00>\n",
      "<rdkit.Chem.rdchem.Mol object at 0x7fecc1df5e70>\n",
      "<rdkit.Chem.rdchem.Mol object at 0x7fecc1df5ee0>\n",
      "<rdkit.Chem.rdchem.Mol object at 0x7fecc1df5f50>\n",
      "<rdkit.Chem.rdchem.Mol object at 0x7fecc1df5fc0>\n",
      "<rdkit.Chem.rdchem.Mol object at 0x7fecc1df6030>\n",
      "<rdkit.Chem.rdchem.Mol object at 0x7fecc1df60a0>\n",
      "<rdkit.Chem.rdchem.Mol object at 0x7fecc1df6110>\n",
      "<rdkit.Chem.rdchem.Mol object at 0x7fecc1df6180>\n",
      "<rdkit.Chem.rdchem.Mol object at 0x7fecc1df61f0>\n",
      "<rdkit.Chem.rdchem.Mol object at 0x7fecc1df6260>\n",
      "<rdkit.Chem.rdchem.Mol object at 0x7fecc1df62d0>\n",
      "<rdkit.Chem.rdchem.Mol object at 0x7fecc1df6340>\n",
      "<rdkit.Chem.rdchem.Mol object at 0x7fecc1df63b0>\n",
      "<rdkit.Chem.rdchem.Mol object at 0x7fecc1df6420>\n",
      "<rdkit.Chem.rdchem.Mol object at 0x7fecc1df6490>\n",
      "<rdkit.Chem.rdchem.Mol object at 0x7fecc1df6500>\n",
      "<rdkit.Chem.rdchem.Mol object at 0x7fecc1df6570>\n",
      "<rdkit.Chem.rdchem.Mol object at 0x7fecc1df65e0>\n",
      "<rdkit.Chem.rdchem.Mol object at 0x7fecc1df6650>\n",
      "<rdkit.Chem.rdchem.Mol object at 0x7fecc1df66c0>\n",
      "<rdkit.Chem.rdchem.Mol object at 0x7fecc1df6730>\n",
      "<rdkit.Chem.rdchem.Mol object at 0x7fecc1df67a0>\n",
      "<rdkit.Chem.rdchem.Mol object at 0x7fecc1df6810>\n",
      "<rdkit.Chem.rdchem.Mol object at 0x7fecc1df6880>\n",
      "<rdkit.Chem.rdchem.Mol object at 0x7fecc1df68f0>\n",
      "<rdkit.Chem.rdchem.Mol object at 0x7fecc1df6960>\n",
      "<rdkit.Chem.rdchem.Mol object at 0x7fecc1df69d0>\n",
      "<rdkit.Chem.rdchem.Mol object at 0x7fecc1df6a40>\n",
      "<rdkit.Chem.rdchem.Mol object at 0x7fecc1df6ab0>\n",
      "<rdkit.Chem.rdchem.Mol object at 0x7fecc1df6b20>\n",
      "<rdkit.Chem.rdchem.Mol object at 0x7fecc1df6b90>\n",
      "<rdkit.Chem.rdchem.Mol object at 0x7fecc1df6c00>\n",
      "<rdkit.Chem.rdchem.Mol object at 0x7fecc1df6c70>\n",
      "<rdkit.Chem.rdchem.Mol object at 0x7fecc1df6ce0>\n",
      "<rdkit.Chem.rdchem.Mol object at 0x7fecc1df6d50>\n",
      "<rdkit.Chem.rdchem.Mol object at 0x7fecc1df6dc0>\n",
      "<rdkit.Chem.rdchem.Mol object at 0x7fecc1df6e30>\n",
      "<rdkit.Chem.rdchem.Mol object at 0x7fecc1df6ea0>\n",
      "<rdkit.Chem.rdchem.Mol object at 0x7fecc1df6f10>\n",
      "<rdkit.Chem.rdchem.Mol object at 0x7fecc1df6f80>\n",
      "<rdkit.Chem.rdchem.Mol object at 0x7fecc1df6ff0>\n",
      "<rdkit.Chem.rdchem.Mol object at 0x7fecc1df7060>\n",
      "<rdkit.Chem.rdchem.Mol object at 0x7fecc1df70d0>\n",
      "<rdkit.Chem.rdchem.Mol object at 0x7fecc1df7140>\n",
      "<rdkit.Chem.rdchem.Mol object at 0x7fecc1df71b0>\n",
      "<rdkit.Chem.rdchem.Mol object at 0x7fecc1df7220>\n",
      "<rdkit.Chem.rdchem.Mol object at 0x7fecc1df7290>\n",
      "<rdkit.Chem.rdchem.Mol object at 0x7fecc1df7300>\n",
      "<rdkit.Chem.rdchem.Mol object at 0x7fecc1df7370>\n",
      "<rdkit.Chem.rdchem.Mol object at 0x7fecc1df73e0>\n",
      "<rdkit.Chem.rdchem.Mol object at 0x7fecc1df7450>\n",
      "<rdkit.Chem.rdchem.Mol object at 0x7fecc1df74c0>\n",
      "<rdkit.Chem.rdchem.Mol object at 0x7fecc1df7530>\n",
      "<rdkit.Chem.rdchem.Mol object at 0x7fecc1df75a0>\n",
      "<rdkit.Chem.rdchem.Mol object at 0x7fecc1df7610>\n",
      "<rdkit.Chem.rdchem.Mol object at 0x7fecc1df7680>\n",
      "<rdkit.Chem.rdchem.Mol object at 0x7fecc1df76f0>\n",
      "<rdkit.Chem.rdchem.Mol object at 0x7fecc1df7760>\n",
      "<rdkit.Chem.rdchem.Mol object at 0x7fecc1df77d0>\n",
      "<rdkit.Chem.rdchem.Mol object at 0x7fecc1df7840>\n",
      "<rdkit.Chem.rdchem.Mol object at 0x7fecc1df78b0>\n",
      "<rdkit.Chem.rdchem.Mol object at 0x7fecc1df7920>\n",
      "<rdkit.Chem.rdchem.Mol object at 0x7fecc1df7990>\n",
      "<rdkit.Chem.rdchem.Mol object at 0x7fecc1df7a00>\n",
      "<rdkit.Chem.rdchem.Mol object at 0x7fecc1df7a70>\n",
      "<rdkit.Chem.rdchem.Mol object at 0x7fecc1df7ae0>\n",
      "<rdkit.Chem.rdchem.Mol object at 0x7fecc1df7b50>\n",
      "<rdkit.Chem.rdchem.Mol object at 0x7fecc1df7bc0>\n",
      "<rdkit.Chem.rdchem.Mol object at 0x7fecc1df7c30>\n",
      "<rdkit.Chem.rdchem.Mol object at 0x7fecc1df7ca0>\n",
      "<rdkit.Chem.rdchem.Mol object at 0x7fecc1df7d10>\n",
      "<rdkit.Chem.rdchem.Mol object at 0x7fecc1df7d80>\n",
      "<rdkit.Chem.rdchem.Mol object at 0x7fecc1df7df0>\n",
      "<rdkit.Chem.rdchem.Mol object at 0x7fecc1df7e60>\n",
      "<rdkit.Chem.rdchem.Mol object at 0x7fecc1df7ed0>\n",
      "<rdkit.Chem.rdchem.Mol object at 0x7fecc1df7f40>\n",
      "<rdkit.Chem.rdchem.Mol object at 0x7fecc16c0040>\n",
      "<rdkit.Chem.rdchem.Mol object at 0x7fecc16c00b0>\n",
      "<rdkit.Chem.rdchem.Mol object at 0x7fecc16c0120>\n",
      "<rdkit.Chem.rdchem.Mol object at 0x7fecc16c0190>\n",
      "<rdkit.Chem.rdchem.Mol object at 0x7fecc16c0200>\n",
      "<rdkit.Chem.rdchem.Mol object at 0x7fecc16c0270>\n",
      "<rdkit.Chem.rdchem.Mol object at 0x7fecc16c02e0>\n",
      "<rdkit.Chem.rdchem.Mol object at 0x7fecc16c0350>\n",
      "<rdkit.Chem.rdchem.Mol object at 0x7fecc16c03c0>\n",
      "<rdkit.Chem.rdchem.Mol object at 0x7fecc16c0430>\n",
      "<rdkit.Chem.rdchem.Mol object at 0x7fecc16c04a0>\n",
      "<rdkit.Chem.rdchem.Mol object at 0x7fecc16c0510>\n",
      "<rdkit.Chem.rdchem.Mol object at 0x7fecc16c0580>\n",
      "<rdkit.Chem.rdchem.Mol object at 0x7fecc16c05f0>\n",
      "<rdkit.Chem.rdchem.Mol object at 0x7fecc16c0660>\n",
      "<rdkit.Chem.rdchem.Mol object at 0x7fecc16c06d0>\n",
      "<rdkit.Chem.rdchem.Mol object at 0x7fecc16c0740>\n",
      "<rdkit.Chem.rdchem.Mol object at 0x7fecc16c07b0>\n",
      "<rdkit.Chem.rdchem.Mol object at 0x7fecc16c0820>\n",
      "<rdkit.Chem.rdchem.Mol object at 0x7fecc16c0890>\n",
      "<rdkit.Chem.rdchem.Mol object at 0x7fecc16c0900>\n",
      "<rdkit.Chem.rdchem.Mol object at 0x7fecc16c0970>\n",
      "<rdkit.Chem.rdchem.Mol object at 0x7fecc16c09e0>\n",
      "<rdkit.Chem.rdchem.Mol object at 0x7fecc16c0a50>\n",
      "<rdkit.Chem.rdchem.Mol object at 0x7fecc16c0ac0>\n",
      "<rdkit.Chem.rdchem.Mol object at 0x7fecc16c0b30>\n",
      "<rdkit.Chem.rdchem.Mol object at 0x7fecc16c0ba0>\n",
      "<rdkit.Chem.rdchem.Mol object at 0x7fecc16c0c10>\n",
      "<rdkit.Chem.rdchem.Mol object at 0x7fecc16c0c80>\n",
      "<rdkit.Chem.rdchem.Mol object at 0x7fecc16c0cf0>\n",
      "<rdkit.Chem.rdchem.Mol object at 0x7fecc16c0d60>\n",
      "<rdkit.Chem.rdchem.Mol object at 0x7fecc16c0dd0>\n",
      "<rdkit.Chem.rdchem.Mol object at 0x7fecc16c0e40>\n",
      "<rdkit.Chem.rdchem.Mol object at 0x7fecc16c0eb0>\n",
      "<rdkit.Chem.rdchem.Mol object at 0x7fecc16c0f20>\n",
      "<rdkit.Chem.rdchem.Mol object at 0x7fecc16c0f90>\n",
      "<rdkit.Chem.rdchem.Mol object at 0x7fecc16c1000>\n",
      "<rdkit.Chem.rdchem.Mol object at 0x7fecc16c1070>\n",
      "<rdkit.Chem.rdchem.Mol object at 0x7fecc16c10e0>\n",
      "<rdkit.Chem.rdchem.Mol object at 0x7fecc16c1150>\n",
      "<rdkit.Chem.rdchem.Mol object at 0x7fecc16c11c0>\n",
      "<rdkit.Chem.rdchem.Mol object at 0x7fecc16c1230>\n",
      "<rdkit.Chem.rdchem.Mol object at 0x7fecc16c12a0>\n",
      "<rdkit.Chem.rdchem.Mol object at 0x7fecc16c1310>\n",
      "<rdkit.Chem.rdchem.Mol object at 0x7fecc16c1380>\n",
      "<rdkit.Chem.rdchem.Mol object at 0x7fecc16c13f0>\n",
      "<rdkit.Chem.rdchem.Mol object at 0x7fecc16c1460>\n",
      "<rdkit.Chem.rdchem.Mol object at 0x7fecc16c14d0>\n",
      "<rdkit.Chem.rdchem.Mol object at 0x7fecc16c1540>\n",
      "<rdkit.Chem.rdchem.Mol object at 0x7fecc16c15b0>\n",
      "<rdkit.Chem.rdchem.Mol object at 0x7fecc16c1620>\n",
      "<rdkit.Chem.rdchem.Mol object at 0x7fecc16c1690>\n",
      "<rdkit.Chem.rdchem.Mol object at 0x7fecc16c1700>\n",
      "<rdkit.Chem.rdchem.Mol object at 0x7fecc16c1770>\n",
      "<rdkit.Chem.rdchem.Mol object at 0x7fecc16c17e0>\n",
      "<rdkit.Chem.rdchem.Mol object at 0x7fecc16c1850>\n",
      "<rdkit.Chem.rdchem.Mol object at 0x7fecc16c18c0>\n",
      "<rdkit.Chem.rdchem.Mol object at 0x7fecc16c1930>\n",
      "<rdkit.Chem.rdchem.Mol object at 0x7fecc16c19a0>\n",
      "<rdkit.Chem.rdchem.Mol object at 0x7fecc16c1a10>\n",
      "<rdkit.Chem.rdchem.Mol object at 0x7fecc16c1a80>\n",
      "<rdkit.Chem.rdchem.Mol object at 0x7fecc16c1af0>\n",
      "<rdkit.Chem.rdchem.Mol object at 0x7fecc16c1b60>\n",
      "<rdkit.Chem.rdchem.Mol object at 0x7fecc16c1bd0>\n",
      "<rdkit.Chem.rdchem.Mol object at 0x7fecc16c1c40>\n",
      "<rdkit.Chem.rdchem.Mol object at 0x7fecc16c1cb0>\n",
      "<rdkit.Chem.rdchem.Mol object at 0x7fecc16c1d20>\n",
      "<rdkit.Chem.rdchem.Mol object at 0x7fecc16c1d90>\n",
      "<rdkit.Chem.rdchem.Mol object at 0x7fecc16c1e00>\n",
      "<rdkit.Chem.rdchem.Mol object at 0x7fecc16c1e70>\n",
      "<rdkit.Chem.rdchem.Mol object at 0x7fecc16c1ee0>\n",
      "<rdkit.Chem.rdchem.Mol object at 0x7fecc16c1f50>\n",
      "<rdkit.Chem.rdchem.Mol object at 0x7fecc16c1fc0>\n",
      "<rdkit.Chem.rdchem.Mol object at 0x7fecc16c2030>\n",
      "<rdkit.Chem.rdchem.Mol object at 0x7fecc16c20a0>\n",
      "<rdkit.Chem.rdchem.Mol object at 0x7fecc16c2110>\n",
      "<rdkit.Chem.rdchem.Mol object at 0x7fecc16c2180>\n",
      "<rdkit.Chem.rdchem.Mol object at 0x7fecc16c21f0>\n",
      "<rdkit.Chem.rdchem.Mol object at 0x7fecc16c2260>\n",
      "<rdkit.Chem.rdchem.Mol object at 0x7fecc16c22d0>\n",
      "<rdkit.Chem.rdchem.Mol object at 0x7fecc16c2340>\n",
      "<rdkit.Chem.rdchem.Mol object at 0x7fecc16c23b0>\n",
      "<rdkit.Chem.rdchem.Mol object at 0x7fecc16c2420>\n",
      "<rdkit.Chem.rdchem.Mol object at 0x7fecc16c2490>\n",
      "<rdkit.Chem.rdchem.Mol object at 0x7fecc16c2500>\n",
      "<rdkit.Chem.rdchem.Mol object at 0x7fecc16c2570>\n",
      "<rdkit.Chem.rdchem.Mol object at 0x7fecc16c25e0>\n",
      "<rdkit.Chem.rdchem.Mol object at 0x7fecc16c2650>\n",
      "<rdkit.Chem.rdchem.Mol object at 0x7fecc16c26c0>\n",
      "<rdkit.Chem.rdchem.Mol object at 0x7fecc16c2730>\n",
      "<rdkit.Chem.rdchem.Mol object at 0x7fecc16c27a0>\n",
      "<rdkit.Chem.rdchem.Mol object at 0x7fecc16c2810>\n",
      "<rdkit.Chem.rdchem.Mol object at 0x7fecc16c2880>\n",
      "<rdkit.Chem.rdchem.Mol object at 0x7fecc16c28f0>\n",
      "<rdkit.Chem.rdchem.Mol object at 0x7fecc16c2960>\n",
      "<rdkit.Chem.rdchem.Mol object at 0x7fecc16c29d0>\n",
      "<rdkit.Chem.rdchem.Mol object at 0x7fecc16c2a40>\n",
      "<rdkit.Chem.rdchem.Mol object at 0x7fecc16c2ab0>\n",
      "<rdkit.Chem.rdchem.Mol object at 0x7fecc16c2b20>\n",
      "<rdkit.Chem.rdchem.Mol object at 0x7fecc16c2b90>\n",
      "<rdkit.Chem.rdchem.Mol object at 0x7fecc16c2c00>\n",
      "<rdkit.Chem.rdchem.Mol object at 0x7fecc16c2c70>\n",
      "<rdkit.Chem.rdchem.Mol object at 0x7fecc16c2ce0>\n",
      "<rdkit.Chem.rdchem.Mol object at 0x7fecc16c2d50>\n",
      "<rdkit.Chem.rdchem.Mol object at 0x7fecc16c2dc0>\n",
      "<rdkit.Chem.rdchem.Mol object at 0x7fecc16c2e30>\n",
      "<rdkit.Chem.rdchem.Mol object at 0x7fecc16c2ea0>\n",
      "<rdkit.Chem.rdchem.Mol object at 0x7fecc16c2f10>\n",
      "<rdkit.Chem.rdchem.Mol object at 0x7fecc16c2f80>\n",
      "<rdkit.Chem.rdchem.Mol object at 0x7fecc16c2ff0>\n",
      "<rdkit.Chem.rdchem.Mol object at 0x7fecc16c3060>\n",
      "<rdkit.Chem.rdchem.Mol object at 0x7fecc16c30d0>\n",
      "<rdkit.Chem.rdchem.Mol object at 0x7fecc16c3140>\n",
      "<rdkit.Chem.rdchem.Mol object at 0x7fecc16c31b0>\n",
      "<rdkit.Chem.rdchem.Mol object at 0x7fecc16c3220>\n",
      "<rdkit.Chem.rdchem.Mol object at 0x7fecc16c3290>\n",
      "<rdkit.Chem.rdchem.Mol object at 0x7fecc16c3300>\n",
      "<rdkit.Chem.rdchem.Mol object at 0x7fecc16c3370>\n",
      "<rdkit.Chem.rdchem.Mol object at 0x7fecc16c33e0>\n",
      "<rdkit.Chem.rdchem.Mol object at 0x7fecc16c3450>\n",
      "<rdkit.Chem.rdchem.Mol object at 0x7fecc16c34c0>\n",
      "<rdkit.Chem.rdchem.Mol object at 0x7fecc16c3530>\n",
      "<rdkit.Chem.rdchem.Mol object at 0x7fecc16c35a0>\n",
      "<rdkit.Chem.rdchem.Mol object at 0x7fecc16c3610>\n",
      "<rdkit.Chem.rdchem.Mol object at 0x7fecc16c3680>\n",
      "<rdkit.Chem.rdchem.Mol object at 0x7fecc16c36f0>\n",
      "<rdkit.Chem.rdchem.Mol object at 0x7fecc16c3760>\n",
      "<rdkit.Chem.rdchem.Mol object at 0x7fecc16c37d0>\n",
      "<rdkit.Chem.rdchem.Mol object at 0x7fecc16c3840>\n",
      "<rdkit.Chem.rdchem.Mol object at 0x7fecc16c38b0>\n",
      "<rdkit.Chem.rdchem.Mol object at 0x7fecc16c3920>\n",
      "<rdkit.Chem.rdchem.Mol object at 0x7fecc16c3990>\n",
      "<rdkit.Chem.rdchem.Mol object at 0x7fecc16c3a00>\n",
      "<rdkit.Chem.rdchem.Mol object at 0x7fecc16c3a70>\n",
      "<rdkit.Chem.rdchem.Mol object at 0x7fecc16c3ae0>\n",
      "<rdkit.Chem.rdchem.Mol object at 0x7fecc16c3b50>\n",
      "<rdkit.Chem.rdchem.Mol object at 0x7fecc16c3bc0>\n",
      "<rdkit.Chem.rdchem.Mol object at 0x7fecc16c3c30>\n",
      "<rdkit.Chem.rdchem.Mol object at 0x7fecc16c3ca0>\n",
      "<rdkit.Chem.rdchem.Mol object at 0x7fecc16c3d10>\n",
      "<rdkit.Chem.rdchem.Mol object at 0x7fecc16c3d80>\n",
      "<rdkit.Chem.rdchem.Mol object at 0x7fecc16c3df0>\n",
      "<rdkit.Chem.rdchem.Mol object at 0x7fecc16c3e60>\n",
      "<rdkit.Chem.rdchem.Mol object at 0x7fecc16c3ed0>\n",
      "<rdkit.Chem.rdchem.Mol object at 0x7fecc16c3f40>\n",
      "<rdkit.Chem.rdchem.Mol object at 0x7fecc1718040>\n",
      "<rdkit.Chem.rdchem.Mol object at 0x7fecc17180b0>\n",
      "<rdkit.Chem.rdchem.Mol object at 0x7fecc1718120>\n",
      "<rdkit.Chem.rdchem.Mol object at 0x7fecc1718190>\n",
      "<rdkit.Chem.rdchem.Mol object at 0x7fecc1718200>\n",
      "<rdkit.Chem.rdchem.Mol object at 0x7fecc1718270>\n",
      "<rdkit.Chem.rdchem.Mol object at 0x7fecc17182e0>\n",
      "<rdkit.Chem.rdchem.Mol object at 0x7fecc1718350>\n",
      "<rdkit.Chem.rdchem.Mol object at 0x7fecc17183c0>\n",
      "<rdkit.Chem.rdchem.Mol object at 0x7fecc1718430>\n",
      "<rdkit.Chem.rdchem.Mol object at 0x7fecc17184a0>\n",
      "<rdkit.Chem.rdchem.Mol object at 0x7fecc1718510>\n",
      "<rdkit.Chem.rdchem.Mol object at 0x7fecc1718580>\n",
      "<rdkit.Chem.rdchem.Mol object at 0x7fecc17185f0>\n",
      "<rdkit.Chem.rdchem.Mol object at 0x7fecc1718660>\n",
      "<rdkit.Chem.rdchem.Mol object at 0x7fecc17186d0>\n",
      "<rdkit.Chem.rdchem.Mol object at 0x7fecc1718740>\n",
      "<rdkit.Chem.rdchem.Mol object at 0x7fecc17187b0>\n",
      "<rdkit.Chem.rdchem.Mol object at 0x7fecc1718820>\n",
      "<rdkit.Chem.rdchem.Mol object at 0x7fecc1718890>\n",
      "<rdkit.Chem.rdchem.Mol object at 0x7fecc1718900>\n",
      "<rdkit.Chem.rdchem.Mol object at 0x7fecc1718970>\n",
      "<rdkit.Chem.rdchem.Mol object at 0x7fecc17189e0>\n",
      "<rdkit.Chem.rdchem.Mol object at 0x7fecc1718a50>\n",
      "<rdkit.Chem.rdchem.Mol object at 0x7fecc1718ac0>\n",
      "<rdkit.Chem.rdchem.Mol object at 0x7fecc1718b30>\n",
      "<rdkit.Chem.rdchem.Mol object at 0x7fecc1718ba0>\n",
      "<rdkit.Chem.rdchem.Mol object at 0x7fecc1718c10>\n",
      "<rdkit.Chem.rdchem.Mol object at 0x7fecc1718c80>\n",
      "<rdkit.Chem.rdchem.Mol object at 0x7fecc1718cf0>\n",
      "<rdkit.Chem.rdchem.Mol object at 0x7fecc1718d60>\n",
      "<rdkit.Chem.rdchem.Mol object at 0x7fecc1718dd0>\n",
      "<rdkit.Chem.rdchem.Mol object at 0x7fecc1718e40>\n",
      "<rdkit.Chem.rdchem.Mol object at 0x7fecc1718eb0>\n",
      "<rdkit.Chem.rdchem.Mol object at 0x7fecc1718f20>\n",
      "<rdkit.Chem.rdchem.Mol object at 0x7fecc1718f90>\n",
      "<rdkit.Chem.rdchem.Mol object at 0x7fecc1719000>\n",
      "<rdkit.Chem.rdchem.Mol object at 0x7fecc1719070>\n",
      "<rdkit.Chem.rdchem.Mol object at 0x7fecc17190e0>\n",
      "<rdkit.Chem.rdchem.Mol object at 0x7fecc1719150>\n",
      "<rdkit.Chem.rdchem.Mol object at 0x7fecc17191c0>\n",
      "<rdkit.Chem.rdchem.Mol object at 0x7fecc1719230>\n",
      "<rdkit.Chem.rdchem.Mol object at 0x7fecc17192a0>\n",
      "<rdkit.Chem.rdchem.Mol object at 0x7fecc1719310>\n",
      "<rdkit.Chem.rdchem.Mol object at 0x7fecc1719380>\n",
      "<rdkit.Chem.rdchem.Mol object at 0x7fecc17193f0>\n",
      "<rdkit.Chem.rdchem.Mol object at 0x7fecc1719460>\n",
      "<rdkit.Chem.rdchem.Mol object at 0x7fecc17194d0>\n",
      "<rdkit.Chem.rdchem.Mol object at 0x7fecc1719540>\n",
      "<rdkit.Chem.rdchem.Mol object at 0x7fecc17195b0>\n",
      "<rdkit.Chem.rdchem.Mol object at 0x7fecc1719620>\n",
      "<rdkit.Chem.rdchem.Mol object at 0x7fecc1719690>\n",
      "<rdkit.Chem.rdchem.Mol object at 0x7fecc1719700>\n",
      "<rdkit.Chem.rdchem.Mol object at 0x7fecc1719770>\n",
      "<rdkit.Chem.rdchem.Mol object at 0x7fecc17197e0>\n",
      "<rdkit.Chem.rdchem.Mol object at 0x7fecc1719850>\n",
      "<rdkit.Chem.rdchem.Mol object at 0x7fecc17198c0>\n",
      "<rdkit.Chem.rdchem.Mol object at 0x7fecc1719930>\n",
      "<rdkit.Chem.rdchem.Mol object at 0x7fecc17199a0>\n",
      "<rdkit.Chem.rdchem.Mol object at 0x7fecc1719a10>\n",
      "<rdkit.Chem.rdchem.Mol object at 0x7fecc1719a80>\n",
      "<rdkit.Chem.rdchem.Mol object at 0x7fecc1719af0>\n",
      "<rdkit.Chem.rdchem.Mol object at 0x7fecc1719b60>\n",
      "<rdkit.Chem.rdchem.Mol object at 0x7fecc1719bd0>\n",
      "<rdkit.Chem.rdchem.Mol object at 0x7fecc1719c40>\n",
      "<rdkit.Chem.rdchem.Mol object at 0x7fecc1719cb0>\n",
      "<rdkit.Chem.rdchem.Mol object at 0x7fecc1719d20>\n",
      "<rdkit.Chem.rdchem.Mol object at 0x7fecc1719d90>\n",
      "<rdkit.Chem.rdchem.Mol object at 0x7fecc1719e00>\n",
      "<rdkit.Chem.rdchem.Mol object at 0x7fecc1719e70>\n",
      "<rdkit.Chem.rdchem.Mol object at 0x7fecc1719ee0>\n",
      "<rdkit.Chem.rdchem.Mol object at 0x7fecc1719f50>\n",
      "<rdkit.Chem.rdchem.Mol object at 0x7fecc1719fc0>\n",
      "<rdkit.Chem.rdchem.Mol object at 0x7fecc171a030>\n",
      "<rdkit.Chem.rdchem.Mol object at 0x7fecc171a0a0>\n",
      "<rdkit.Chem.rdchem.Mol object at 0x7fecc171a110>\n",
      "<rdkit.Chem.rdchem.Mol object at 0x7fecc171a180>\n",
      "<rdkit.Chem.rdchem.Mol object at 0x7fecc171a1f0>\n",
      "<rdkit.Chem.rdchem.Mol object at 0x7fecc171a260>\n",
      "<rdkit.Chem.rdchem.Mol object at 0x7fecc171a2d0>\n",
      "<rdkit.Chem.rdchem.Mol object at 0x7fecc171a340>\n",
      "<rdkit.Chem.rdchem.Mol object at 0x7fecc171a3b0>\n",
      "<rdkit.Chem.rdchem.Mol object at 0x7fecc171a420>\n",
      "<rdkit.Chem.rdchem.Mol object at 0x7fecc171a490>\n",
      "<rdkit.Chem.rdchem.Mol object at 0x7fecc171a500>\n",
      "<rdkit.Chem.rdchem.Mol object at 0x7fecc171a570>\n",
      "<rdkit.Chem.rdchem.Mol object at 0x7fecc171a5e0>\n",
      "<rdkit.Chem.rdchem.Mol object at 0x7fecc171a650>\n",
      "<rdkit.Chem.rdchem.Mol object at 0x7fecc171a6c0>\n",
      "<rdkit.Chem.rdchem.Mol object at 0x7fecc171a730>\n",
      "<rdkit.Chem.rdchem.Mol object at 0x7fecc171a7a0>\n",
      "<rdkit.Chem.rdchem.Mol object at 0x7fecc171a810>\n",
      "<rdkit.Chem.rdchem.Mol object at 0x7fecc171a880>\n",
      "<rdkit.Chem.rdchem.Mol object at 0x7fecc171a8f0>\n",
      "<rdkit.Chem.rdchem.Mol object at 0x7fecc171a960>\n",
      "<rdkit.Chem.rdchem.Mol object at 0x7fecc171a9d0>\n",
      "<rdkit.Chem.rdchem.Mol object at 0x7fecc171aa40>\n",
      "<rdkit.Chem.rdchem.Mol object at 0x7fecc171aab0>\n",
      "<rdkit.Chem.rdchem.Mol object at 0x7fecc171ab20>\n",
      "<rdkit.Chem.rdchem.Mol object at 0x7fecc171ab90>\n",
      "<rdkit.Chem.rdchem.Mol object at 0x7fecc171ac00>\n",
      "<rdkit.Chem.rdchem.Mol object at 0x7fecc171ac70>\n",
      "<rdkit.Chem.rdchem.Mol object at 0x7fecc171ace0>\n",
      "<rdkit.Chem.rdchem.Mol object at 0x7fecc171ad50>\n",
      "<rdkit.Chem.rdchem.Mol object at 0x7fecc171adc0>\n",
      "<rdkit.Chem.rdchem.Mol object at 0x7fecc171ae30>\n",
      "<rdkit.Chem.rdchem.Mol object at 0x7fecc171aea0>\n",
      "<rdkit.Chem.rdchem.Mol object at 0x7fecc171af10>\n",
      "<rdkit.Chem.rdchem.Mol object at 0x7fecc171af80>\n",
      "<rdkit.Chem.rdchem.Mol object at 0x7fecc171aff0>\n",
      "<rdkit.Chem.rdchem.Mol object at 0x7fecc171b060>\n",
      "<rdkit.Chem.rdchem.Mol object at 0x7fecc171b0d0>\n",
      "<rdkit.Chem.rdchem.Mol object at 0x7fecc171b140>\n",
      "<rdkit.Chem.rdchem.Mol object at 0x7fecc171b1b0>\n",
      "<rdkit.Chem.rdchem.Mol object at 0x7fecc171b220>\n",
      "<rdkit.Chem.rdchem.Mol object at 0x7fecc171b290>\n",
      "<rdkit.Chem.rdchem.Mol object at 0x7fecc171b300>\n",
      "<rdkit.Chem.rdchem.Mol object at 0x7fecc171b370>\n",
      "<rdkit.Chem.rdchem.Mol object at 0x7fecc171b3e0>\n",
      "<rdkit.Chem.rdchem.Mol object at 0x7fecc171b450>\n",
      "<rdkit.Chem.rdchem.Mol object at 0x7fecc171b4c0>\n",
      "<rdkit.Chem.rdchem.Mol object at 0x7fecc171b530>\n",
      "<rdkit.Chem.rdchem.Mol object at 0x7fecc171b5a0>\n",
      "<rdkit.Chem.rdchem.Mol object at 0x7fecc171b610>\n",
      "<rdkit.Chem.rdchem.Mol object at 0x7fecc171b680>\n",
      "<rdkit.Chem.rdchem.Mol object at 0x7fecc171b6f0>\n",
      "<rdkit.Chem.rdchem.Mol object at 0x7fecc171b760>\n",
      "<rdkit.Chem.rdchem.Mol object at 0x7fecc171b7d0>\n",
      "<rdkit.Chem.rdchem.Mol object at 0x7fecc171b840>\n",
      "<rdkit.Chem.rdchem.Mol object at 0x7fecc171b8b0>\n",
      "<rdkit.Chem.rdchem.Mol object at 0x7fecc171b920>\n",
      "<rdkit.Chem.rdchem.Mol object at 0x7fecc171b990>\n",
      "<rdkit.Chem.rdchem.Mol object at 0x7fecc171ba00>\n",
      "<rdkit.Chem.rdchem.Mol object at 0x7fecc171ba70>\n",
      "<rdkit.Chem.rdchem.Mol object at 0x7fecc171bae0>\n",
      "<rdkit.Chem.rdchem.Mol object at 0x7fecc171bb50>\n",
      "<rdkit.Chem.rdchem.Mol object at 0x7fecc171bbc0>\n",
      "<rdkit.Chem.rdchem.Mol object at 0x7fecc171bc30>\n",
      "<rdkit.Chem.rdchem.Mol object at 0x7fecc171bca0>\n",
      "<rdkit.Chem.rdchem.Mol object at 0x7fecc171bd10>\n",
      "<rdkit.Chem.rdchem.Mol object at 0x7fecc171bd80>\n",
      "<rdkit.Chem.rdchem.Mol object at 0x7fecc171bdf0>\n",
      "<rdkit.Chem.rdchem.Mol object at 0x7fecc171be60>\n",
      "<rdkit.Chem.rdchem.Mol object at 0x7fecc171bed0>\n",
      "<rdkit.Chem.rdchem.Mol object at 0x7fecc171bf40>\n",
      "<rdkit.Chem.rdchem.Mol object at 0x7fecc1764040>\n",
      "<rdkit.Chem.rdchem.Mol object at 0x7fecc17640b0>\n",
      "<rdkit.Chem.rdchem.Mol object at 0x7fecc1764120>\n",
      "<rdkit.Chem.rdchem.Mol object at 0x7fecc1764190>\n",
      "<rdkit.Chem.rdchem.Mol object at 0x7fecc1764200>\n",
      "<rdkit.Chem.rdchem.Mol object at 0x7fecc1764270>\n",
      "<rdkit.Chem.rdchem.Mol object at 0x7fecc17642e0>\n",
      "<rdkit.Chem.rdchem.Mol object at 0x7fecc1764350>\n",
      "<rdkit.Chem.rdchem.Mol object at 0x7fecc17643c0>\n",
      "<rdkit.Chem.rdchem.Mol object at 0x7fecc1764430>\n",
      "<rdkit.Chem.rdchem.Mol object at 0x7fecc17644a0>\n",
      "<rdkit.Chem.rdchem.Mol object at 0x7fecc1764510>\n",
      "<rdkit.Chem.rdchem.Mol object at 0x7fecc1764580>\n",
      "<rdkit.Chem.rdchem.Mol object at 0x7fecc17645f0>\n",
      "<rdkit.Chem.rdchem.Mol object at 0x7fecc1764660>\n",
      "<rdkit.Chem.rdchem.Mol object at 0x7fecc17646d0>\n",
      "<rdkit.Chem.rdchem.Mol object at 0x7fecc1764740>\n",
      "<rdkit.Chem.rdchem.Mol object at 0x7fecc17647b0>\n",
      "<rdkit.Chem.rdchem.Mol object at 0x7fecc1764820>\n",
      "<rdkit.Chem.rdchem.Mol object at 0x7fecc1764890>\n",
      "<rdkit.Chem.rdchem.Mol object at 0x7fecc1764900>\n",
      "<rdkit.Chem.rdchem.Mol object at 0x7fecc1764970>\n",
      "<rdkit.Chem.rdchem.Mol object at 0x7fecc17649e0>\n",
      "<rdkit.Chem.rdchem.Mol object at 0x7fecc1764a50>\n",
      "<rdkit.Chem.rdchem.Mol object at 0x7fecc1764ac0>\n",
      "<rdkit.Chem.rdchem.Mol object at 0x7fecc1764b30>\n",
      "<rdkit.Chem.rdchem.Mol object at 0x7fecc1764ba0>\n",
      "<rdkit.Chem.rdchem.Mol object at 0x7fecc1764c10>\n",
      "<rdkit.Chem.rdchem.Mol object at 0x7fecc1764c80>\n",
      "<rdkit.Chem.rdchem.Mol object at 0x7fecc1764cf0>\n",
      "<rdkit.Chem.rdchem.Mol object at 0x7fecc1764d60>\n",
      "<rdkit.Chem.rdchem.Mol object at 0x7fecc1764dd0>\n",
      "<rdkit.Chem.rdchem.Mol object at 0x7fecc1764e40>\n",
      "<rdkit.Chem.rdchem.Mol object at 0x7fecc1764eb0>\n",
      "<rdkit.Chem.rdchem.Mol object at 0x7fecc1764f20>\n",
      "<rdkit.Chem.rdchem.Mol object at 0x7fecc1764f90>\n",
      "<rdkit.Chem.rdchem.Mol object at 0x7fecc1765000>\n",
      "<rdkit.Chem.rdchem.Mol object at 0x7fecc1765070>\n",
      "<rdkit.Chem.rdchem.Mol object at 0x7fecc17650e0>\n",
      "<rdkit.Chem.rdchem.Mol object at 0x7fecc1765150>\n",
      "<rdkit.Chem.rdchem.Mol object at 0x7fecc17651c0>\n",
      "<rdkit.Chem.rdchem.Mol object at 0x7fecc1765230>\n",
      "<rdkit.Chem.rdchem.Mol object at 0x7fecc17652a0>\n",
      "<rdkit.Chem.rdchem.Mol object at 0x7fecc1765310>\n",
      "<rdkit.Chem.rdchem.Mol object at 0x7fecc1765380>\n",
      "<rdkit.Chem.rdchem.Mol object at 0x7fecc17653f0>\n",
      "<rdkit.Chem.rdchem.Mol object at 0x7fecc1765460>\n",
      "<rdkit.Chem.rdchem.Mol object at 0x7fecc17654d0>\n",
      "<rdkit.Chem.rdchem.Mol object at 0x7fecc1765540>\n",
      "<rdkit.Chem.rdchem.Mol object at 0x7fecc17655b0>\n",
      "<rdkit.Chem.rdchem.Mol object at 0x7fecc1765620>\n",
      "<rdkit.Chem.rdchem.Mol object at 0x7fecc1765690>\n",
      "<rdkit.Chem.rdchem.Mol object at 0x7fecc1765700>\n",
      "<rdkit.Chem.rdchem.Mol object at 0x7fecc1765770>\n",
      "<rdkit.Chem.rdchem.Mol object at 0x7fecc17657e0>\n",
      "<rdkit.Chem.rdchem.Mol object at 0x7fecc1765850>\n",
      "<rdkit.Chem.rdchem.Mol object at 0x7fecc17658c0>\n",
      "<rdkit.Chem.rdchem.Mol object at 0x7fecc1765930>\n",
      "<rdkit.Chem.rdchem.Mol object at 0x7fecc17659a0>\n",
      "<rdkit.Chem.rdchem.Mol object at 0x7fecc1765a10>\n",
      "<rdkit.Chem.rdchem.Mol object at 0x7fecc1765a80>\n",
      "<rdkit.Chem.rdchem.Mol object at 0x7fecc1765af0>\n",
      "<rdkit.Chem.rdchem.Mol object at 0x7fecc1765b60>\n",
      "<rdkit.Chem.rdchem.Mol object at 0x7fecc1765bd0>\n",
      "<rdkit.Chem.rdchem.Mol object at 0x7fecc1765c40>\n",
      "<rdkit.Chem.rdchem.Mol object at 0x7fecc1765cb0>\n",
      "<rdkit.Chem.rdchem.Mol object at 0x7fecc1765d20>\n",
      "<rdkit.Chem.rdchem.Mol object at 0x7fecc1765d90>\n",
      "<rdkit.Chem.rdchem.Mol object at 0x7fecc1765e00>\n",
      "<rdkit.Chem.rdchem.Mol object at 0x7fecc1765e70>\n",
      "<rdkit.Chem.rdchem.Mol object at 0x7fecc1765ee0>\n",
      "<rdkit.Chem.rdchem.Mol object at 0x7fecc1765f50>\n",
      "<rdkit.Chem.rdchem.Mol object at 0x7fecc1765fc0>\n",
      "<rdkit.Chem.rdchem.Mol object at 0x7fecc1766030>\n",
      "<rdkit.Chem.rdchem.Mol object at 0x7fecc17660a0>\n",
      "<rdkit.Chem.rdchem.Mol object at 0x7fecc1766110>\n",
      "<rdkit.Chem.rdchem.Mol object at 0x7fecc1766180>\n",
      "<rdkit.Chem.rdchem.Mol object at 0x7fecc17661f0>\n",
      "<rdkit.Chem.rdchem.Mol object at 0x7fecc1766260>\n",
      "<rdkit.Chem.rdchem.Mol object at 0x7fecc17662d0>\n",
      "<rdkit.Chem.rdchem.Mol object at 0x7fecc1766340>\n",
      "<rdkit.Chem.rdchem.Mol object at 0x7fecc17663b0>\n",
      "<rdkit.Chem.rdchem.Mol object at 0x7fecc1766420>\n",
      "<rdkit.Chem.rdchem.Mol object at 0x7fecc1766490>\n",
      "<rdkit.Chem.rdchem.Mol object at 0x7fecc1766500>\n",
      "<rdkit.Chem.rdchem.Mol object at 0x7fecc1766570>\n",
      "<rdkit.Chem.rdchem.Mol object at 0x7fecc17665e0>\n",
      "<rdkit.Chem.rdchem.Mol object at 0x7fecc1766650>\n",
      "<rdkit.Chem.rdchem.Mol object at 0x7fecc17666c0>\n",
      "<rdkit.Chem.rdchem.Mol object at 0x7fecc1766730>\n",
      "<rdkit.Chem.rdchem.Mol object at 0x7fecc17667a0>\n",
      "<rdkit.Chem.rdchem.Mol object at 0x7fecc1766810>\n",
      "<rdkit.Chem.rdchem.Mol object at 0x7fecc1766880>\n",
      "<rdkit.Chem.rdchem.Mol object at 0x7fecc17668f0>\n",
      "<rdkit.Chem.rdchem.Mol object at 0x7fecc1766960>\n",
      "<rdkit.Chem.rdchem.Mol object at 0x7fecc17669d0>\n",
      "<rdkit.Chem.rdchem.Mol object at 0x7fecc1766a40>\n",
      "<rdkit.Chem.rdchem.Mol object at 0x7fecc1766ab0>\n",
      "<rdkit.Chem.rdchem.Mol object at 0x7fecc1766b20>\n",
      "<rdkit.Chem.rdchem.Mol object at 0x7fecc1766b90>\n",
      "<rdkit.Chem.rdchem.Mol object at 0x7fecc1766c00>\n",
      "<rdkit.Chem.rdchem.Mol object at 0x7fecc1766c70>\n",
      "<rdkit.Chem.rdchem.Mol object at 0x7fecc1766ce0>\n",
      "<rdkit.Chem.rdchem.Mol object at 0x7fecc1766d50>\n",
      "<rdkit.Chem.rdchem.Mol object at 0x7fecc1766dc0>\n",
      "<rdkit.Chem.rdchem.Mol object at 0x7fecc1766e30>\n",
      "<rdkit.Chem.rdchem.Mol object at 0x7fecc1766ea0>\n",
      "<rdkit.Chem.rdchem.Mol object at 0x7fecc1766f10>\n",
      "<rdkit.Chem.rdchem.Mol object at 0x7fecc1766f80>\n",
      "<rdkit.Chem.rdchem.Mol object at 0x7fecc1766ff0>\n",
      "<rdkit.Chem.rdchem.Mol object at 0x7fecc1767060>\n",
      "<rdkit.Chem.rdchem.Mol object at 0x7fecc17670d0>\n",
      "<rdkit.Chem.rdchem.Mol object at 0x7fecc1767140>\n",
      "<rdkit.Chem.rdchem.Mol object at 0x7fecc17671b0>\n",
      "<rdkit.Chem.rdchem.Mol object at 0x7fecc1767220>\n",
      "<rdkit.Chem.rdchem.Mol object at 0x7fecc1767290>\n",
      "<rdkit.Chem.rdchem.Mol object at 0x7fecc1767300>\n",
      "<rdkit.Chem.rdchem.Mol object at 0x7fecc1767370>\n",
      "<rdkit.Chem.rdchem.Mol object at 0x7fecc17673e0>\n",
      "<rdkit.Chem.rdchem.Mol object at 0x7fecc1767450>\n",
      "<rdkit.Chem.rdchem.Mol object at 0x7fecc17674c0>\n",
      "<rdkit.Chem.rdchem.Mol object at 0x7fecc1767530>\n",
      "<rdkit.Chem.rdchem.Mol object at 0x7fecc17675a0>\n",
      "<rdkit.Chem.rdchem.Mol object at 0x7fecc1767610>\n",
      "<rdkit.Chem.rdchem.Mol object at 0x7fecc1767680>\n",
      "<rdkit.Chem.rdchem.Mol object at 0x7fecc17676f0>\n",
      "<rdkit.Chem.rdchem.Mol object at 0x7fecc1767760>\n",
      "<rdkit.Chem.rdchem.Mol object at 0x7fecc17677d0>\n",
      "<rdkit.Chem.rdchem.Mol object at 0x7fecc1767840>\n",
      "<rdkit.Chem.rdchem.Mol object at 0x7fecc17678b0>\n",
      "<rdkit.Chem.rdchem.Mol object at 0x7fecc1767920>\n",
      "<rdkit.Chem.rdchem.Mol object at 0x7fecc1767990>\n",
      "<rdkit.Chem.rdchem.Mol object at 0x7fecc1767a00>\n",
      "<rdkit.Chem.rdchem.Mol object at 0x7fecc1767a70>\n",
      "<rdkit.Chem.rdchem.Mol object at 0x7fecc1767ae0>\n",
      "<rdkit.Chem.rdchem.Mol object at 0x7fecc1767b50>\n",
      "<rdkit.Chem.rdchem.Mol object at 0x7fecc1767bc0>\n",
      "<rdkit.Chem.rdchem.Mol object at 0x7fecc1767c30>\n",
      "<rdkit.Chem.rdchem.Mol object at 0x7fecc1767ca0>\n",
      "<rdkit.Chem.rdchem.Mol object at 0x7fecc1767d10>\n",
      "<rdkit.Chem.rdchem.Mol object at 0x7fecc1767d80>\n",
      "<rdkit.Chem.rdchem.Mol object at 0x7fecc1767df0>\n",
      "<rdkit.Chem.rdchem.Mol object at 0x7fecc1767e60>\n",
      "<rdkit.Chem.rdchem.Mol object at 0x7fecc1767ed0>\n",
      "<rdkit.Chem.rdchem.Mol object at 0x7fecc1767f40>\n",
      "<rdkit.Chem.rdchem.Mol object at 0x7fecc16b8040>\n",
      "<rdkit.Chem.rdchem.Mol object at 0x7fecc16b80b0>\n",
      "<rdkit.Chem.rdchem.Mol object at 0x7fecc16b8120>\n",
      "<rdkit.Chem.rdchem.Mol object at 0x7fecc16b8190>\n"
     ]
    },
    {
     "name": "stdout",
     "output_type": "stream",
     "text": [
      "<rdkit.Chem.rdchem.Mol object at 0x7fecc16b8200>\n",
      "<rdkit.Chem.rdchem.Mol object at 0x7fecc16b8270>\n",
      "<rdkit.Chem.rdchem.Mol object at 0x7fecc16b82e0>\n",
      "<rdkit.Chem.rdchem.Mol object at 0x7fecc16b8350>\n",
      "<rdkit.Chem.rdchem.Mol object at 0x7fecc16b83c0>\n",
      "<rdkit.Chem.rdchem.Mol object at 0x7fecc16b8430>\n",
      "<rdkit.Chem.rdchem.Mol object at 0x7fecc16b84a0>\n",
      "<rdkit.Chem.rdchem.Mol object at 0x7fecc16b8510>\n",
      "<rdkit.Chem.rdchem.Mol object at 0x7fecc16b8580>\n",
      "<rdkit.Chem.rdchem.Mol object at 0x7fecc16b85f0>\n",
      "<rdkit.Chem.rdchem.Mol object at 0x7fecc16b8660>\n",
      "<rdkit.Chem.rdchem.Mol object at 0x7fecc16b86d0>\n",
      "<rdkit.Chem.rdchem.Mol object at 0x7fecc16b8740>\n",
      "<rdkit.Chem.rdchem.Mol object at 0x7fecc16b87b0>\n",
      "<rdkit.Chem.rdchem.Mol object at 0x7fecc16b8820>\n",
      "<rdkit.Chem.rdchem.Mol object at 0x7fecc16b8890>\n",
      "<rdkit.Chem.rdchem.Mol object at 0x7fecc16b8900>\n",
      "<rdkit.Chem.rdchem.Mol object at 0x7fecc16b8970>\n",
      "<rdkit.Chem.rdchem.Mol object at 0x7fecc16b89e0>\n",
      "<rdkit.Chem.rdchem.Mol object at 0x7fecc16b8a50>\n",
      "<rdkit.Chem.rdchem.Mol object at 0x7fecc16b8ac0>\n",
      "<rdkit.Chem.rdchem.Mol object at 0x7fecc16b8b30>\n",
      "<rdkit.Chem.rdchem.Mol object at 0x7fecc16b8ba0>\n",
      "<rdkit.Chem.rdchem.Mol object at 0x7fecc16b8c10>\n",
      "<rdkit.Chem.rdchem.Mol object at 0x7fecc16b8c80>\n",
      "<rdkit.Chem.rdchem.Mol object at 0x7fecc16b8cf0>\n",
      "<rdkit.Chem.rdchem.Mol object at 0x7fecc16b8d60>\n",
      "<rdkit.Chem.rdchem.Mol object at 0x7fecc16b8dd0>\n",
      "<rdkit.Chem.rdchem.Mol object at 0x7fecc16b8e40>\n",
      "<rdkit.Chem.rdchem.Mol object at 0x7fecc16b8eb0>\n",
      "<rdkit.Chem.rdchem.Mol object at 0x7fecc16b8f20>\n",
      "<rdkit.Chem.rdchem.Mol object at 0x7fecc16b8f90>\n",
      "<rdkit.Chem.rdchem.Mol object at 0x7fecc16b9000>\n",
      "<rdkit.Chem.rdchem.Mol object at 0x7fecc16b9070>\n",
      "<rdkit.Chem.rdchem.Mol object at 0x7fecc16b90e0>\n",
      "<rdkit.Chem.rdchem.Mol object at 0x7fecc16b9150>\n",
      "<rdkit.Chem.rdchem.Mol object at 0x7fecc16b91c0>\n",
      "<rdkit.Chem.rdchem.Mol object at 0x7fecc16b9230>\n",
      "<rdkit.Chem.rdchem.Mol object at 0x7fecc16b92a0>\n",
      "<rdkit.Chem.rdchem.Mol object at 0x7fecc16b9310>\n",
      "<rdkit.Chem.rdchem.Mol object at 0x7fecc16b9380>\n",
      "<rdkit.Chem.rdchem.Mol object at 0x7fecc16b93f0>\n",
      "<rdkit.Chem.rdchem.Mol object at 0x7fecc16b9460>\n",
      "<rdkit.Chem.rdchem.Mol object at 0x7fecc16b94d0>\n",
      "<rdkit.Chem.rdchem.Mol object at 0x7fecc16b9540>\n",
      "<rdkit.Chem.rdchem.Mol object at 0x7fecc16b95b0>\n",
      "<rdkit.Chem.rdchem.Mol object at 0x7fecc16b9620>\n",
      "<rdkit.Chem.rdchem.Mol object at 0x7fecc16b9690>\n",
      "<rdkit.Chem.rdchem.Mol object at 0x7fecc16b9700>\n",
      "<rdkit.Chem.rdchem.Mol object at 0x7fecc16b9770>\n",
      "<rdkit.Chem.rdchem.Mol object at 0x7fecc16b97e0>\n",
      "<rdkit.Chem.rdchem.Mol object at 0x7fecc16b9850>\n",
      "<rdkit.Chem.rdchem.Mol object at 0x7fecc16b98c0>\n",
      "<rdkit.Chem.rdchem.Mol object at 0x7fecc16b9930>\n",
      "<rdkit.Chem.rdchem.Mol object at 0x7fecc16b99a0>\n",
      "<rdkit.Chem.rdchem.Mol object at 0x7fecc16b9a10>\n",
      "<rdkit.Chem.rdchem.Mol object at 0x7fecc16b9a80>\n",
      "<rdkit.Chem.rdchem.Mol object at 0x7fecc16b9af0>\n",
      "<rdkit.Chem.rdchem.Mol object at 0x7fecc16b9b60>\n",
      "<rdkit.Chem.rdchem.Mol object at 0x7fecc16b9bd0>\n",
      "<rdkit.Chem.rdchem.Mol object at 0x7fecc16b9c40>\n",
      "<rdkit.Chem.rdchem.Mol object at 0x7fecc16b9cb0>\n",
      "<rdkit.Chem.rdchem.Mol object at 0x7fecc16b9d20>\n",
      "<rdkit.Chem.rdchem.Mol object at 0x7fecc16b9d90>\n",
      "<rdkit.Chem.rdchem.Mol object at 0x7fecc16b9e00>\n",
      "<rdkit.Chem.rdchem.Mol object at 0x7fecc16b9e70>\n",
      "<rdkit.Chem.rdchem.Mol object at 0x7fecc16b9ee0>\n",
      "<rdkit.Chem.rdchem.Mol object at 0x7fecc16b9f50>\n",
      "<rdkit.Chem.rdchem.Mol object at 0x7fecc16b9fc0>\n",
      "<rdkit.Chem.rdchem.Mol object at 0x7fecc16ba030>\n",
      "<rdkit.Chem.rdchem.Mol object at 0x7fecc16ba0a0>\n",
      "<rdkit.Chem.rdchem.Mol object at 0x7fecc16ba110>\n",
      "<rdkit.Chem.rdchem.Mol object at 0x7fecc16ba180>\n",
      "<rdkit.Chem.rdchem.Mol object at 0x7fecc16ba1f0>\n",
      "<rdkit.Chem.rdchem.Mol object at 0x7fecc16ba260>\n",
      "<rdkit.Chem.rdchem.Mol object at 0x7fecc16ba2d0>\n",
      "<rdkit.Chem.rdchem.Mol object at 0x7fecc16ba340>\n",
      "<rdkit.Chem.rdchem.Mol object at 0x7fecc16ba3b0>\n",
      "<rdkit.Chem.rdchem.Mol object at 0x7fecc16ba420>\n",
      "<rdkit.Chem.rdchem.Mol object at 0x7fecc16ba490>\n",
      "<rdkit.Chem.rdchem.Mol object at 0x7fecc16ba500>\n",
      "<rdkit.Chem.rdchem.Mol object at 0x7fecc16ba570>\n",
      "<rdkit.Chem.rdchem.Mol object at 0x7fecc16ba5e0>\n",
      "<rdkit.Chem.rdchem.Mol object at 0x7fecc16ba650>\n",
      "<rdkit.Chem.rdchem.Mol object at 0x7fecc16ba6c0>\n",
      "<rdkit.Chem.rdchem.Mol object at 0x7fecc16ba730>\n",
      "<rdkit.Chem.rdchem.Mol object at 0x7fecc16ba7a0>\n",
      "<rdkit.Chem.rdchem.Mol object at 0x7fecc16ba810>\n",
      "<rdkit.Chem.rdchem.Mol object at 0x7fecc16ba880>\n",
      "<rdkit.Chem.rdchem.Mol object at 0x7fecc16ba8f0>\n",
      "<rdkit.Chem.rdchem.Mol object at 0x7fecc16ba960>\n",
      "<rdkit.Chem.rdchem.Mol object at 0x7fecc16ba9d0>\n",
      "<rdkit.Chem.rdchem.Mol object at 0x7fecc16baa40>\n",
      "<rdkit.Chem.rdchem.Mol object at 0x7fecc16baab0>\n",
      "<rdkit.Chem.rdchem.Mol object at 0x7fecc16bab20>\n",
      "<rdkit.Chem.rdchem.Mol object at 0x7fecc16bab90>\n",
      "<rdkit.Chem.rdchem.Mol object at 0x7fecc16bac00>\n",
      "<rdkit.Chem.rdchem.Mol object at 0x7fecc16bac70>\n",
      "<rdkit.Chem.rdchem.Mol object at 0x7fecc16bace0>\n",
      "<rdkit.Chem.rdchem.Mol object at 0x7fecc16bad50>\n",
      "<rdkit.Chem.rdchem.Mol object at 0x7fecc16badc0>\n",
      "<rdkit.Chem.rdchem.Mol object at 0x7fecc16bae30>\n",
      "<rdkit.Chem.rdchem.Mol object at 0x7fecc16baea0>\n",
      "<rdkit.Chem.rdchem.Mol object at 0x7fecc16baf10>\n",
      "<rdkit.Chem.rdchem.Mol object at 0x7fecc16baf80>\n",
      "<rdkit.Chem.rdchem.Mol object at 0x7fecc16baff0>\n",
      "<rdkit.Chem.rdchem.Mol object at 0x7fecc16bb060>\n",
      "<rdkit.Chem.rdchem.Mol object at 0x7fecc16bb0d0>\n",
      "<rdkit.Chem.rdchem.Mol object at 0x7fecc16bb140>\n",
      "<rdkit.Chem.rdchem.Mol object at 0x7fecc16bb1b0>\n",
      "<rdkit.Chem.rdchem.Mol object at 0x7fecc16bb220>\n",
      "<rdkit.Chem.rdchem.Mol object at 0x7fecc16bb290>\n",
      "<rdkit.Chem.rdchem.Mol object at 0x7fecc16bb300>\n",
      "<rdkit.Chem.rdchem.Mol object at 0x7fecc16bb370>\n",
      "<rdkit.Chem.rdchem.Mol object at 0x7fecc16bb3e0>\n",
      "<rdkit.Chem.rdchem.Mol object at 0x7fecc16bb450>\n",
      "<rdkit.Chem.rdchem.Mol object at 0x7fecc16bb4c0>\n",
      "<rdkit.Chem.rdchem.Mol object at 0x7fecc16bb530>\n",
      "<rdkit.Chem.rdchem.Mol object at 0x7fecc16bb5a0>\n",
      "<rdkit.Chem.rdchem.Mol object at 0x7fecc16bb610>\n",
      "<rdkit.Chem.rdchem.Mol object at 0x7fecc16bb680>\n",
      "<rdkit.Chem.rdchem.Mol object at 0x7fecc16bb6f0>\n",
      "<rdkit.Chem.rdchem.Mol object at 0x7fecc16bb760>\n",
      "<rdkit.Chem.rdchem.Mol object at 0x7fecc16bb7d0>\n",
      "<rdkit.Chem.rdchem.Mol object at 0x7fecc16bb840>\n",
      "<rdkit.Chem.rdchem.Mol object at 0x7fecc16bb8b0>\n",
      "<rdkit.Chem.rdchem.Mol object at 0x7fecc16bb920>\n",
      "<rdkit.Chem.rdchem.Mol object at 0x7fecc16bb990>\n",
      "<rdkit.Chem.rdchem.Mol object at 0x7fecc16bba00>\n",
      "<rdkit.Chem.rdchem.Mol object at 0x7fecc16bba70>\n",
      "<rdkit.Chem.rdchem.Mol object at 0x7fecc16bbae0>\n",
      "<rdkit.Chem.rdchem.Mol object at 0x7fecc16bbb50>\n",
      "<rdkit.Chem.rdchem.Mol object at 0x7fecc16bbbc0>\n",
      "<rdkit.Chem.rdchem.Mol object at 0x7fecc16bbc30>\n",
      "<rdkit.Chem.rdchem.Mol object at 0x7fecc16bbca0>\n",
      "<rdkit.Chem.rdchem.Mol object at 0x7fecc16bbd10>\n",
      "<rdkit.Chem.rdchem.Mol object at 0x7fecc16bbd80>\n",
      "<rdkit.Chem.rdchem.Mol object at 0x7fecc16bbdf0>\n",
      "<rdkit.Chem.rdchem.Mol object at 0x7fecc16bbe60>\n",
      "<rdkit.Chem.rdchem.Mol object at 0x7fecc16bbed0>\n",
      "<rdkit.Chem.rdchem.Mol object at 0x7fecc16bbf40>\n",
      "<rdkit.Chem.rdchem.Mol object at 0x7fecc1760040>\n",
      "<rdkit.Chem.rdchem.Mol object at 0x7fecc17600b0>\n",
      "<rdkit.Chem.rdchem.Mol object at 0x7fecc1760120>\n",
      "<rdkit.Chem.rdchem.Mol object at 0x7fecc1760190>\n",
      "<rdkit.Chem.rdchem.Mol object at 0x7fecc1760200>\n",
      "<rdkit.Chem.rdchem.Mol object at 0x7fecc1760270>\n",
      "<rdkit.Chem.rdchem.Mol object at 0x7fecc17602e0>\n",
      "<rdkit.Chem.rdchem.Mol object at 0x7fecc1760350>\n",
      "<rdkit.Chem.rdchem.Mol object at 0x7fecc17603c0>\n",
      "<rdkit.Chem.rdchem.Mol object at 0x7fecc1760430>\n",
      "<rdkit.Chem.rdchem.Mol object at 0x7fecc17604a0>\n",
      "<rdkit.Chem.rdchem.Mol object at 0x7fecc1760510>\n",
      "<rdkit.Chem.rdchem.Mol object at 0x7fecc1760580>\n",
      "<rdkit.Chem.rdchem.Mol object at 0x7fecc17605f0>\n",
      "<rdkit.Chem.rdchem.Mol object at 0x7fecc1760660>\n",
      "<rdkit.Chem.rdchem.Mol object at 0x7fecc17606d0>\n",
      "<rdkit.Chem.rdchem.Mol object at 0x7fecc1760740>\n",
      "<rdkit.Chem.rdchem.Mol object at 0x7fecc17607b0>\n",
      "<rdkit.Chem.rdchem.Mol object at 0x7fecc1760820>\n",
      "<rdkit.Chem.rdchem.Mol object at 0x7fecc1760890>\n",
      "<rdkit.Chem.rdchem.Mol object at 0x7fecc1760900>\n",
      "<rdkit.Chem.rdchem.Mol object at 0x7fecc1760970>\n",
      "<rdkit.Chem.rdchem.Mol object at 0x7fecc17609e0>\n",
      "<rdkit.Chem.rdchem.Mol object at 0x7fecc1760a50>\n",
      "<rdkit.Chem.rdchem.Mol object at 0x7fecc1760ac0>\n",
      "<rdkit.Chem.rdchem.Mol object at 0x7fecc1760b30>\n",
      "<rdkit.Chem.rdchem.Mol object at 0x7fecc1760ba0>\n",
      "<rdkit.Chem.rdchem.Mol object at 0x7fecc1760c10>\n",
      "<rdkit.Chem.rdchem.Mol object at 0x7fecc1760c80>\n",
      "<rdkit.Chem.rdchem.Mol object at 0x7fecc1760cf0>\n",
      "<rdkit.Chem.rdchem.Mol object at 0x7fecc1760d60>\n",
      "<rdkit.Chem.rdchem.Mol object at 0x7fecc1760dd0>\n",
      "<rdkit.Chem.rdchem.Mol object at 0x7fecc1760e40>\n",
      "<rdkit.Chem.rdchem.Mol object at 0x7fecc1760eb0>\n",
      "<rdkit.Chem.rdchem.Mol object at 0x7fecc1760f20>\n",
      "<rdkit.Chem.rdchem.Mol object at 0x7fecc1760f90>\n",
      "<rdkit.Chem.rdchem.Mol object at 0x7fecc1761000>\n",
      "<rdkit.Chem.rdchem.Mol object at 0x7fecc1761070>\n",
      "<rdkit.Chem.rdchem.Mol object at 0x7fecc17610e0>\n",
      "<rdkit.Chem.rdchem.Mol object at 0x7fecc1761150>\n",
      "<rdkit.Chem.rdchem.Mol object at 0x7fecc17611c0>\n",
      "<rdkit.Chem.rdchem.Mol object at 0x7fecc1761230>\n",
      "<rdkit.Chem.rdchem.Mol object at 0x7fecc17612a0>\n",
      "<rdkit.Chem.rdchem.Mol object at 0x7fecc1761310>\n",
      "<rdkit.Chem.rdchem.Mol object at 0x7fecc1761380>\n",
      "<rdkit.Chem.rdchem.Mol object at 0x7fecc17613f0>\n",
      "<rdkit.Chem.rdchem.Mol object at 0x7fecc1761460>\n",
      "<rdkit.Chem.rdchem.Mol object at 0x7fecc17614d0>\n",
      "<rdkit.Chem.rdchem.Mol object at 0x7fecc1761540>\n",
      "<rdkit.Chem.rdchem.Mol object at 0x7fecc17615b0>\n",
      "<rdkit.Chem.rdchem.Mol object at 0x7fecc1761620>\n",
      "<rdkit.Chem.rdchem.Mol object at 0x7fecc1761690>\n",
      "<rdkit.Chem.rdchem.Mol object at 0x7fecc1761700>\n",
      "<rdkit.Chem.rdchem.Mol object at 0x7fecc1761770>\n",
      "<rdkit.Chem.rdchem.Mol object at 0x7fecc17617e0>\n",
      "<rdkit.Chem.rdchem.Mol object at 0x7fecc1761850>\n",
      "<rdkit.Chem.rdchem.Mol object at 0x7fecc17618c0>\n",
      "<rdkit.Chem.rdchem.Mol object at 0x7fecc1761930>\n",
      "<rdkit.Chem.rdchem.Mol object at 0x7fecc17619a0>\n",
      "<rdkit.Chem.rdchem.Mol object at 0x7fecc1761a10>\n"
     ]
    }
   ],
   "source": [
    "\n",
    "for mol in mol_list:\n",
    "    print(mol)\n",
    "    scaffold_smi =  MurckoScaffold.GetScaffoldForMol(mol)\n",
    "    if scaffold_smi not in scaffolds.keys():\n",
    "        scaffolds[scaffold_smi] = idx\n",
    "        idx+=1\n",
    "       \n",
    "    cluster_id = scaffolds[scaffold_smi]\n",
    "    clusters_list.append(cluster_id)\n",
    "   \n",
    "\n"
   ]
  },
  {
   "cell_type": "code",
   "execution_count": 8,
   "id": "17834abe",
   "metadata": {},
   "outputs": [],
   "source": [
    "df['Group'] = clusters_list\n",
    "df = sklearn.utils.shuffle(df,random_state=42).reset_index(drop=True)\n",
    "\n",
    "df.to_csv('./extend_dataset//BACE/BACE_extend_group.csv',index=False)"
   ]
  },
  {
   "cell_type": "code",
   "execution_count": 9,
   "id": "1c8b4248",
   "metadata": {},
   "outputs": [],
   "source": [
    "df_not_na=df[df[\"A1.0\"].isna()]"
   ]
  },
  {
   "cell_type": "code",
   "execution_count": 10,
   "id": "3202e2f8",
   "metadata": {},
   "outputs": [
    {
     "name": "stderr",
     "output_type": "stream",
     "text": [
      "2023-10-03 08:40:47.454693: I tensorflow/core/platform/cpu_feature_guard.cc:182] This TensorFlow binary is optimized to use available CPU instructions in performance-critical operations.\n",
      "To enable the following instructions: AVX2 FMA, in other operations, rebuild TensorFlow with the appropriate compiler flags.\n",
      "2023-10-03 08:40:48.551011: W tensorflow/compiler/tf2tensorrt/utils/py_utils.cc:38] TF-TRT Warning: Could not find TensorRT\n",
      "2023-10-03 08:40:51.665274: I tensorflow/core/common_runtime/gpu/gpu_device.cc:1639] Created device /job:localhost/replica:0/task:0/device:GPU:0 with 38400 MB memory:  -> device: 0, name: NVIDIA A100-PCIE-40GB, pci bus id: 0000:21:00.0, compute capability: 8.0\n",
      "2023-10-03 08:40:51.666362: I tensorflow/core/common_runtime/gpu/gpu_device.cc:1639] Created device /job:localhost/replica:0/task:0/device:GPU:1 with 1201 MB memory:  -> device: 1, name: NVIDIA A100-PCIE-40GB, pci bus id: 0000:81:00.0, compute capability: 8.0\n"
     ]
    }
   ],
   "source": [
    "\n",
    "from signaturizer import Signaturizer\n",
    "sign = Signaturizer('A1')\n",
    "import numpy as np\n",
    "np.bool = np.bool_"
   ]
  },
  {
   "cell_type": "code",
   "execution_count": 11,
   "id": "83dc984f",
   "metadata": {},
   "outputs": [
    {
     "name": "stderr",
     "output_type": "stream",
     "text": [
      "Parsing SMILES: 1070it [00:00, 4596.18it/s]\n",
      "Generating signatures:   0%|                              | 0/9 [00:00<?, ?it/s]"
     ]
    },
    {
     "name": "stdout",
     "output_type": "stream",
     "text": [
      "1/1 [==============================] - 1s 620ms/step\n",
      "1/1 [==============================] - 0s 44ms/step\n"
     ]
    },
    {
     "name": "stderr",
     "output_type": "stream",
     "text": [
      "2023-10-03 08:40:53.843432: I tensorflow/compiler/xla/stream_executor/cuda/cuda_blas.cc:606] TensorFloat-32 will be used for the matrix multiplication. This will only be logged once.\n",
      "\r",
      "Generating signatures:  11%|██▍                   | 1/9 [00:00<00:06,  1.19it/s]"
     ]
    },
    {
     "name": "stdout",
     "output_type": "stream",
     "text": [
      "1/1 [==============================] - 0s 19ms/step\n",
      "1/1 [==============================] - 0s 20ms/step\n"
     ]
    },
    {
     "name": "stderr",
     "output_type": "stream",
     "text": [
      "\r",
      "Generating signatures:  22%|████▉                 | 2/9 [00:01<00:03,  2.16it/s]"
     ]
    },
    {
     "name": "stdout",
     "output_type": "stream",
     "text": [
      "1/1 [==============================] - 0s 196ms/step\n",
      "1/1 [==============================] - 0s 19ms/step\n"
     ]
    },
    {
     "name": "stderr",
     "output_type": "stream",
     "text": [
      "\r",
      "Generating signatures:  33%|███████▎              | 3/9 [00:01<00:02,  2.39it/s]"
     ]
    },
    {
     "name": "stdout",
     "output_type": "stream",
     "text": [
      "1/1 [==============================] - 0s 19ms/step\n",
      "1/1 [==============================] - 0s 19ms/step\n"
     ]
    },
    {
     "name": "stderr",
     "output_type": "stream",
     "text": [
      "\r",
      "Generating signatures:  44%|█████████▊            | 4/9 [00:01<00:01,  3.03it/s]"
     ]
    },
    {
     "name": "stdout",
     "output_type": "stream",
     "text": [
      "1/1 [==============================] - 0s 19ms/step\n",
      "1/1 [==============================] - 0s 19ms/step\n"
     ]
    },
    {
     "name": "stderr",
     "output_type": "stream",
     "text": [
      "\r",
      "Generating signatures:  56%|████████████▏         | 5/9 [00:01<00:01,  3.56it/s]"
     ]
    },
    {
     "name": "stdout",
     "output_type": "stream",
     "text": [
      "1/1 [==============================] - 0s 19ms/step\n",
      "1/1 [==============================] - 0s 19ms/step\n"
     ]
    },
    {
     "name": "stderr",
     "output_type": "stream",
     "text": [
      "\r",
      "Generating signatures:  67%|██████████████▋       | 6/9 [00:01<00:00,  3.97it/s]"
     ]
    },
    {
     "name": "stdout",
     "output_type": "stream",
     "text": [
      "1/1 [==============================] - 0s 19ms/step\n",
      "1/1 [==============================] - 0s 19ms/step\n"
     ]
    },
    {
     "name": "stderr",
     "output_type": "stream",
     "text": [
      "\r",
      "Generating signatures:  78%|█████████████████     | 7/9 [00:02<00:00,  4.27it/s]"
     ]
    },
    {
     "name": "stdout",
     "output_type": "stream",
     "text": [
      "1/1 [==============================] - 0s 19ms/step\n",
      "1/1 [==============================] - 0s 19ms/step\n"
     ]
    },
    {
     "name": "stderr",
     "output_type": "stream",
     "text": [
      "\r",
      "Generating signatures:  89%|███████████████████▌  | 8/9 [00:02<00:00,  4.52it/s]"
     ]
    },
    {
     "name": "stdout",
     "output_type": "stream",
     "text": [
      "1/1 [==============================] - 0s 48ms/step\n",
      "1/1 [==============================] - 0s 45ms/step\n"
     ]
    },
    {
     "name": "stderr",
     "output_type": "stream",
     "text": [
      "Generating signatures: 100%|██████████████████████| 9/9 [00:02<00:00,  3.50it/s]\n"
     ]
    }
   ],
   "source": [
    "not_na_A1 = sign.predict(df_not_na[\"smiles\"])\n",
    "# df_not_na_A1\n",
    "df_not_na_A1_np=not_na_A1.signature"
   ]
  },
  {
   "cell_type": "code",
   "execution_count": 12,
   "id": "a8627a95",
   "metadata": {},
   "outputs": [],
   "source": [
    "df_na=pd.DataFrame(df_not_na_A1_np, columns=list(df.columns)[2:130])"
   ]
  },
  {
   "cell_type": "code",
   "execution_count": 13,
   "id": "be7bcebb",
   "metadata": {},
   "outputs": [],
   "source": [
    "df_na_index_in_df=df_not_na[\"smiles\"].reset_index()"
   ]
  },
  {
   "cell_type": "code",
   "execution_count": 14,
   "id": "4fdc6080",
   "metadata": {},
   "outputs": [
    {
     "data": {
      "text/html": [
       "<div>\n",
       "<style scoped>\n",
       "    .dataframe tbody tr th:only-of-type {\n",
       "        vertical-align: middle;\n",
       "    }\n",
       "\n",
       "    .dataframe tbody tr th {\n",
       "        vertical-align: top;\n",
       "    }\n",
       "\n",
       "    .dataframe thead th {\n",
       "        text-align: right;\n",
       "    }\n",
       "</style>\n",
       "<table border=\"1\" class=\"dataframe\">\n",
       "  <thead>\n",
       "    <tr style=\"text-align: right;\">\n",
       "      <th></th>\n",
       "      <th>A1.0</th>\n",
       "      <th>A1.1</th>\n",
       "      <th>A1.2</th>\n",
       "      <th>A1.3</th>\n",
       "      <th>A1.4</th>\n",
       "      <th>A1.5</th>\n",
       "      <th>A1.6</th>\n",
       "      <th>A1.7</th>\n",
       "      <th>A1.8</th>\n",
       "      <th>A1.9</th>\n",
       "      <th>...</th>\n",
       "      <th>A1.118</th>\n",
       "      <th>A1.119</th>\n",
       "      <th>A1.120</th>\n",
       "      <th>A1.121</th>\n",
       "      <th>A1.122</th>\n",
       "      <th>A1.123</th>\n",
       "      <th>A1.124</th>\n",
       "      <th>A1.125</th>\n",
       "      <th>A1.126</th>\n",
       "      <th>A1.127</th>\n",
       "    </tr>\n",
       "  </thead>\n",
       "  <tbody>\n",
       "    <tr>\n",
       "      <th>0</th>\n",
       "      <td>-0.099887</td>\n",
       "      <td>-0.097642</td>\n",
       "      <td>0.026768</td>\n",
       "      <td>0.098269</td>\n",
       "      <td>0.099371</td>\n",
       "      <td>-0.086897</td>\n",
       "      <td>-0.100228</td>\n",
       "      <td>0.096082</td>\n",
       "      <td>0.095514</td>\n",
       "      <td>0.054126</td>\n",
       "      <td>...</td>\n",
       "      <td>0.096757</td>\n",
       "      <td>0.075789</td>\n",
       "      <td>0.070837</td>\n",
       "      <td>0.050728</td>\n",
       "      <td>-0.096364</td>\n",
       "      <td>0.100728</td>\n",
       "      <td>0.099716</td>\n",
       "      <td>-0.100857</td>\n",
       "      <td>-0.100690</td>\n",
       "      <td>0.099909</td>\n",
       "    </tr>\n",
       "    <tr>\n",
       "      <th>1</th>\n",
       "      <td>-0.105383</td>\n",
       "      <td>-0.084101</td>\n",
       "      <td>0.052773</td>\n",
       "      <td>-0.123670</td>\n",
       "      <td>0.103895</td>\n",
       "      <td>-0.014731</td>\n",
       "      <td>0.118689</td>\n",
       "      <td>0.115205</td>\n",
       "      <td>-0.088573</td>\n",
       "      <td>-0.065634</td>\n",
       "      <td>...</td>\n",
       "      <td>-0.115907</td>\n",
       "      <td>-0.058365</td>\n",
       "      <td>0.105241</td>\n",
       "      <td>-0.012309</td>\n",
       "      <td>-0.075125</td>\n",
       "      <td>0.022373</td>\n",
       "      <td>-0.123647</td>\n",
       "      <td>-0.125194</td>\n",
       "      <td>0.081191</td>\n",
       "      <td>0.038855</td>\n",
       "    </tr>\n",
       "    <tr>\n",
       "      <th>2</th>\n",
       "      <td>-0.091990</td>\n",
       "      <td>-0.110316</td>\n",
       "      <td>-0.023080</td>\n",
       "      <td>-0.112492</td>\n",
       "      <td>0.113574</td>\n",
       "      <td>-0.036468</td>\n",
       "      <td>0.086817</td>\n",
       "      <td>0.100114</td>\n",
       "      <td>-0.103937</td>\n",
       "      <td>-0.056662</td>\n",
       "      <td>...</td>\n",
       "      <td>-0.112882</td>\n",
       "      <td>-0.002903</td>\n",
       "      <td>0.106242</td>\n",
       "      <td>-0.099487</td>\n",
       "      <td>-0.111485</td>\n",
       "      <td>0.053613</td>\n",
       "      <td>-0.112598</td>\n",
       "      <td>-0.113680</td>\n",
       "      <td>0.108079</td>\n",
       "      <td>-0.022755</td>\n",
       "    </tr>\n",
       "    <tr>\n",
       "      <th>3</th>\n",
       "      <td>-0.106322</td>\n",
       "      <td>-0.068659</td>\n",
       "      <td>0.106459</td>\n",
       "      <td>-0.109608</td>\n",
       "      <td>0.083164</td>\n",
       "      <td>0.092329</td>\n",
       "      <td>0.106427</td>\n",
       "      <td>0.106893</td>\n",
       "      <td>-0.107063</td>\n",
       "      <td>0.003035</td>\n",
       "      <td>...</td>\n",
       "      <td>-0.108455</td>\n",
       "      <td>0.038020</td>\n",
       "      <td>0.108999</td>\n",
       "      <td>0.058655</td>\n",
       "      <td>-0.087312</td>\n",
       "      <td>-0.017664</td>\n",
       "      <td>-0.109398</td>\n",
       "      <td>-0.109353</td>\n",
       "      <td>0.009519</td>\n",
       "      <td>0.018627</td>\n",
       "    </tr>\n",
       "    <tr>\n",
       "      <th>4</th>\n",
       "      <td>-0.058708</td>\n",
       "      <td>-0.091977</td>\n",
       "      <td>0.060769</td>\n",
       "      <td>0.075237</td>\n",
       "      <td>-0.099827</td>\n",
       "      <td>-0.099951</td>\n",
       "      <td>0.010685</td>\n",
       "      <td>0.092245</td>\n",
       "      <td>0.095502</td>\n",
       "      <td>-0.099521</td>\n",
       "      <td>...</td>\n",
       "      <td>0.079706</td>\n",
       "      <td>-0.099218</td>\n",
       "      <td>0.098450</td>\n",
       "      <td>-0.098062</td>\n",
       "      <td>-0.091928</td>\n",
       "      <td>0.083381</td>\n",
       "      <td>-0.099653</td>\n",
       "      <td>-0.099960</td>\n",
       "      <td>-0.099933</td>\n",
       "      <td>0.073365</td>\n",
       "    </tr>\n",
       "    <tr>\n",
       "      <th>...</th>\n",
       "      <td>...</td>\n",
       "      <td>...</td>\n",
       "      <td>...</td>\n",
       "      <td>...</td>\n",
       "      <td>...</td>\n",
       "      <td>...</td>\n",
       "      <td>...</td>\n",
       "      <td>...</td>\n",
       "      <td>...</td>\n",
       "      <td>...</td>\n",
       "      <td>...</td>\n",
       "      <td>...</td>\n",
       "      <td>...</td>\n",
       "      <td>...</td>\n",
       "      <td>...</td>\n",
       "      <td>...</td>\n",
       "      <td>...</td>\n",
       "      <td>...</td>\n",
       "      <td>...</td>\n",
       "      <td>...</td>\n",
       "      <td>...</td>\n",
       "    </tr>\n",
       "    <tr>\n",
       "      <th>1065</th>\n",
       "      <td>-0.109341</td>\n",
       "      <td>-0.121040</td>\n",
       "      <td>0.091249</td>\n",
       "      <td>-0.114857</td>\n",
       "      <td>0.117237</td>\n",
       "      <td>0.113148</td>\n",
       "      <td>-0.095687</td>\n",
       "      <td>0.110024</td>\n",
       "      <td>-0.113257</td>\n",
       "      <td>0.041536</td>\n",
       "      <td>...</td>\n",
       "      <td>-0.033577</td>\n",
       "      <td>0.085901</td>\n",
       "      <td>0.073244</td>\n",
       "      <td>-0.107560</td>\n",
       "      <td>-0.065281</td>\n",
       "      <td>-0.093620</td>\n",
       "      <td>-0.105740</td>\n",
       "      <td>-0.120689</td>\n",
       "      <td>0.081267</td>\n",
       "      <td>0.094320</td>\n",
       "    </tr>\n",
       "    <tr>\n",
       "      <th>1066</th>\n",
       "      <td>0.098478</td>\n",
       "      <td>-0.099258</td>\n",
       "      <td>-0.047795</td>\n",
       "      <td>0.093842</td>\n",
       "      <td>-0.099305</td>\n",
       "      <td>-0.097551</td>\n",
       "      <td>-0.051867</td>\n",
       "      <td>-0.022412</td>\n",
       "      <td>0.099293</td>\n",
       "      <td>-0.029188</td>\n",
       "      <td>...</td>\n",
       "      <td>0.081253</td>\n",
       "      <td>-0.027750</td>\n",
       "      <td>0.097326</td>\n",
       "      <td>-0.097766</td>\n",
       "      <td>-0.099265</td>\n",
       "      <td>0.093198</td>\n",
       "      <td>-0.084614</td>\n",
       "      <td>-0.099305</td>\n",
       "      <td>-0.099229</td>\n",
       "      <td>-0.099181</td>\n",
       "    </tr>\n",
       "    <tr>\n",
       "      <th>1067</th>\n",
       "      <td>-0.028005</td>\n",
       "      <td>-0.087936</td>\n",
       "      <td>0.083440</td>\n",
       "      <td>-0.020594</td>\n",
       "      <td>-0.101288</td>\n",
       "      <td>-0.101282</td>\n",
       "      <td>0.091784</td>\n",
       "      <td>-0.067068</td>\n",
       "      <td>0.095335</td>\n",
       "      <td>-0.051956</td>\n",
       "      <td>...</td>\n",
       "      <td>0.036696</td>\n",
       "      <td>-0.100990</td>\n",
       "      <td>0.101068</td>\n",
       "      <td>-0.057608</td>\n",
       "      <td>-0.079849</td>\n",
       "      <td>0.059834</td>\n",
       "      <td>-0.101274</td>\n",
       "      <td>-0.101288</td>\n",
       "      <td>-0.101286</td>\n",
       "      <td>-0.090307</td>\n",
       "    </tr>\n",
       "    <tr>\n",
       "      <th>1068</th>\n",
       "      <td>0.100691</td>\n",
       "      <td>-0.103253</td>\n",
       "      <td>-0.097933</td>\n",
       "      <td>0.096971</td>\n",
       "      <td>-0.103484</td>\n",
       "      <td>-0.090100</td>\n",
       "      <td>-0.073919</td>\n",
       "      <td>-0.103050</td>\n",
       "      <td>0.103213</td>\n",
       "      <td>0.095358</td>\n",
       "      <td>...</td>\n",
       "      <td>0.098916</td>\n",
       "      <td>-0.088347</td>\n",
       "      <td>0.092435</td>\n",
       "      <td>0.075327</td>\n",
       "      <td>0.048288</td>\n",
       "      <td>0.067911</td>\n",
       "      <td>-0.087543</td>\n",
       "      <td>-0.049646</td>\n",
       "      <td>-0.103455</td>\n",
       "      <td>-0.102097</td>\n",
       "    </tr>\n",
       "    <tr>\n",
       "      <th>1069</th>\n",
       "      <td>-0.074167</td>\n",
       "      <td>-0.100764</td>\n",
       "      <td>0.098425</td>\n",
       "      <td>-0.109830</td>\n",
       "      <td>0.081148</td>\n",
       "      <td>0.104023</td>\n",
       "      <td>0.099931</td>\n",
       "      <td>0.090601</td>\n",
       "      <td>-0.107588</td>\n",
       "      <td>-0.078290</td>\n",
       "      <td>...</td>\n",
       "      <td>-0.109369</td>\n",
       "      <td>0.084864</td>\n",
       "      <td>0.095829</td>\n",
       "      <td>-0.043434</td>\n",
       "      <td>-0.108370</td>\n",
       "      <td>-0.055994</td>\n",
       "      <td>-0.109459</td>\n",
       "      <td>0.028630</td>\n",
       "      <td>0.107606</td>\n",
       "      <td>0.088808</td>\n",
       "    </tr>\n",
       "  </tbody>\n",
       "</table>\n",
       "<p>1070 rows × 128 columns</p>\n",
       "</div>"
      ],
      "text/plain": [
       "          A1.0      A1.1      A1.2      A1.3      A1.4      A1.5      A1.6  \\\n",
       "0    -0.099887 -0.097642  0.026768  0.098269  0.099371 -0.086897 -0.100228   \n",
       "1    -0.105383 -0.084101  0.052773 -0.123670  0.103895 -0.014731  0.118689   \n",
       "2    -0.091990 -0.110316 -0.023080 -0.112492  0.113574 -0.036468  0.086817   \n",
       "3    -0.106322 -0.068659  0.106459 -0.109608  0.083164  0.092329  0.106427   \n",
       "4    -0.058708 -0.091977  0.060769  0.075237 -0.099827 -0.099951  0.010685   \n",
       "...        ...       ...       ...       ...       ...       ...       ...   \n",
       "1065 -0.109341 -0.121040  0.091249 -0.114857  0.117237  0.113148 -0.095687   \n",
       "1066  0.098478 -0.099258 -0.047795  0.093842 -0.099305 -0.097551 -0.051867   \n",
       "1067 -0.028005 -0.087936  0.083440 -0.020594 -0.101288 -0.101282  0.091784   \n",
       "1068  0.100691 -0.103253 -0.097933  0.096971 -0.103484 -0.090100 -0.073919   \n",
       "1069 -0.074167 -0.100764  0.098425 -0.109830  0.081148  0.104023  0.099931   \n",
       "\n",
       "          A1.7      A1.8      A1.9  ...    A1.118    A1.119    A1.120  \\\n",
       "0     0.096082  0.095514  0.054126  ...  0.096757  0.075789  0.070837   \n",
       "1     0.115205 -0.088573 -0.065634  ... -0.115907 -0.058365  0.105241   \n",
       "2     0.100114 -0.103937 -0.056662  ... -0.112882 -0.002903  0.106242   \n",
       "3     0.106893 -0.107063  0.003035  ... -0.108455  0.038020  0.108999   \n",
       "4     0.092245  0.095502 -0.099521  ...  0.079706 -0.099218  0.098450   \n",
       "...        ...       ...       ...  ...       ...       ...       ...   \n",
       "1065  0.110024 -0.113257  0.041536  ... -0.033577  0.085901  0.073244   \n",
       "1066 -0.022412  0.099293 -0.029188  ...  0.081253 -0.027750  0.097326   \n",
       "1067 -0.067068  0.095335 -0.051956  ...  0.036696 -0.100990  0.101068   \n",
       "1068 -0.103050  0.103213  0.095358  ...  0.098916 -0.088347  0.092435   \n",
       "1069  0.090601 -0.107588 -0.078290  ... -0.109369  0.084864  0.095829   \n",
       "\n",
       "        A1.121    A1.122    A1.123    A1.124    A1.125    A1.126    A1.127  \n",
       "0     0.050728 -0.096364  0.100728  0.099716 -0.100857 -0.100690  0.099909  \n",
       "1    -0.012309 -0.075125  0.022373 -0.123647 -0.125194  0.081191  0.038855  \n",
       "2    -0.099487 -0.111485  0.053613 -0.112598 -0.113680  0.108079 -0.022755  \n",
       "3     0.058655 -0.087312 -0.017664 -0.109398 -0.109353  0.009519  0.018627  \n",
       "4    -0.098062 -0.091928  0.083381 -0.099653 -0.099960 -0.099933  0.073365  \n",
       "...        ...       ...       ...       ...       ...       ...       ...  \n",
       "1065 -0.107560 -0.065281 -0.093620 -0.105740 -0.120689  0.081267  0.094320  \n",
       "1066 -0.097766 -0.099265  0.093198 -0.084614 -0.099305 -0.099229 -0.099181  \n",
       "1067 -0.057608 -0.079849  0.059834 -0.101274 -0.101288 -0.101286 -0.090307  \n",
       "1068  0.075327  0.048288  0.067911 -0.087543 -0.049646 -0.103455 -0.102097  \n",
       "1069 -0.043434 -0.108370 -0.055994 -0.109459  0.028630  0.107606  0.088808  \n",
       "\n",
       "[1070 rows x 128 columns]"
      ]
     },
     "execution_count": 14,
     "metadata": {},
     "output_type": "execute_result"
    }
   ],
   "source": [
    "df_na"
   ]
  },
  {
   "cell_type": "code",
   "execution_count": 15,
   "id": "eee4c387",
   "metadata": {},
   "outputs": [],
   "source": [
    "for i in range(df_na.shape[0]):\n",
    "    df_na_index=df_na_index_in_df[\"index\"]\n",
    "    df.iloc[df_na_index,2:130]=df_na.iloc[i,:]\n",
    "\n",
    "\n",
    "\n",
    "    "
   ]
  },
  {
   "cell_type": "code",
   "execution_count": 16,
   "id": "b85587ad",
   "metadata": {},
   "outputs": [],
   "source": [
    "df.to_csv('./extend_dataset/BACE/BACE_extend_v2.csv',index=False)"
   ]
  },
  {
   "cell_type": "code",
   "execution_count": 17,
   "id": "a925f672",
   "metadata": {},
   "outputs": [],
   "source": [
    "df=pd.read_csv(\"./extend_dataset/BACE/BACE_extend_v2.csv\")"
   ]
  },
  {
   "cell_type": "code",
   "execution_count": 43,
   "id": "f4c96cc0",
   "metadata": {},
   "outputs": [
    {
     "data": {
      "text/html": [
       "<div>\n",
       "<style scoped>\n",
       "    .dataframe tbody tr th:only-of-type {\n",
       "        vertical-align: middle;\n",
       "    }\n",
       "\n",
       "    .dataframe tbody tr th {\n",
       "        vertical-align: top;\n",
       "    }\n",
       "\n",
       "    .dataframe thead th {\n",
       "        text-align: right;\n",
       "    }\n",
       "</style>\n",
       "<table border=\"1\" class=\"dataframe\">\n",
       "  <thead>\n",
       "    <tr style=\"text-align: right;\">\n",
       "      <th></th>\n",
       "      <th>Unnamed: 0</th>\n",
       "      <th>index</th>\n",
       "      <th>A1.0</th>\n",
       "      <th>A1.1</th>\n",
       "      <th>A1.2</th>\n",
       "      <th>A1.3</th>\n",
       "      <th>A1.4</th>\n",
       "      <th>A1.5</th>\n",
       "      <th>A1.6</th>\n",
       "      <th>A1.7</th>\n",
       "      <th>...</th>\n",
       "      <th>PEOE8 (PEOE8)</th>\n",
       "      <th>PEOE9 (PEOE9)</th>\n",
       "      <th>PEOE10 (PEOE10)</th>\n",
       "      <th>PEOE11 (PEOE11)</th>\n",
       "      <th>PEOE12 (PEOE12)</th>\n",
       "      <th>PEOE13 (PEOE13)</th>\n",
       "      <th>PEOE14 (PEOE14)</th>\n",
       "      <th>canvasUID</th>\n",
       "      <th>InchiKey</th>\n",
       "      <th>Group</th>\n",
       "    </tr>\n",
       "  </thead>\n",
       "  <tbody>\n",
       "    <tr>\n",
       "      <th>0</th>\n",
       "      <td>0</td>\n",
       "      <td>NaN</td>\n",
       "      <td>-0.074167</td>\n",
       "      <td>-0.100764</td>\n",
       "      <td>0.098425</td>\n",
       "      <td>-0.109830</td>\n",
       "      <td>0.081148</td>\n",
       "      <td>0.104023</td>\n",
       "      <td>0.099931</td>\n",
       "      <td>0.090601</td>\n",
       "      <td>...</td>\n",
       "      <td>149.280230</td>\n",
       "      <td>58.298748</td>\n",
       "      <td>20.071724</td>\n",
       "      <td>3.556777</td>\n",
       "      <td>7.980170</td>\n",
       "      <td>0.0</td>\n",
       "      <td>0.000000</td>\n",
       "      <td>1034</td>\n",
       "      <td>ZEPLYSGSJFWAKW-UHFFFAOYSA-N</td>\n",
       "      <td>1002</td>\n",
       "    </tr>\n",
       "    <tr>\n",
       "      <th>1</th>\n",
       "      <td>0</td>\n",
       "      <td>AVTLPQHFOWVUGZ-XRRIUQSZSA-N</td>\n",
       "      <td>-0.357394</td>\n",
       "      <td>0.233842</td>\n",
       "      <td>-0.039962</td>\n",
       "      <td>-0.320740</td>\n",
       "      <td>0.084283</td>\n",
       "      <td>0.133123</td>\n",
       "      <td>-0.711405</td>\n",
       "      <td>-0.088413</td>\n",
       "      <td>...</td>\n",
       "      <td>106.619260</td>\n",
       "      <td>123.839480</td>\n",
       "      <td>31.029167</td>\n",
       "      <td>3.271739</td>\n",
       "      <td>16.168497</td>\n",
       "      <td>0.0</td>\n",
       "      <td>6.970751</td>\n",
       "      <td>649</td>\n",
       "      <td>AVTLPQHFOWVUGZ-XRRIUQSZSA-N</td>\n",
       "      <td>619</td>\n",
       "    </tr>\n",
       "    <tr>\n",
       "      <th>2</th>\n",
       "      <td>0</td>\n",
       "      <td>NaN</td>\n",
       "      <td>-0.074167</td>\n",
       "      <td>-0.100764</td>\n",
       "      <td>0.098425</td>\n",
       "      <td>-0.109830</td>\n",
       "      <td>0.081148</td>\n",
       "      <td>0.104023</td>\n",
       "      <td>0.099931</td>\n",
       "      <td>0.090601</td>\n",
       "      <td>...</td>\n",
       "      <td>246.840210</td>\n",
       "      <td>133.516510</td>\n",
       "      <td>27.744167</td>\n",
       "      <td>0.000000</td>\n",
       "      <td>15.879790</td>\n",
       "      <td>0.0</td>\n",
       "      <td>24.663788</td>\n",
       "      <td>839</td>\n",
       "      <td>AMVDNFIQANYLEW-UHFFFAOYSA-O</td>\n",
       "      <td>807</td>\n",
       "    </tr>\n",
       "    <tr>\n",
       "      <th>3</th>\n",
       "      <td>0</td>\n",
       "      <td>RUUJDLSJAYXIRG-UHFFFAOYSA-N</td>\n",
       "      <td>-0.188393</td>\n",
       "      <td>0.171437</td>\n",
       "      <td>-0.050890</td>\n",
       "      <td>-0.260749</td>\n",
       "      <td>0.209574</td>\n",
       "      <td>0.135822</td>\n",
       "      <td>-0.554064</td>\n",
       "      <td>0.202823</td>\n",
       "      <td>...</td>\n",
       "      <td>69.366081</td>\n",
       "      <td>166.297550</td>\n",
       "      <td>44.097675</td>\n",
       "      <td>3.271739</td>\n",
       "      <td>0.000000</td>\n",
       "      <td>0.0</td>\n",
       "      <td>0.000000</td>\n",
       "      <td>976</td>\n",
       "      <td>RUUJDLSJAYXIRG-UHFFFAOYSA-N</td>\n",
       "      <td>944</td>\n",
       "    </tr>\n",
       "    <tr>\n",
       "      <th>4</th>\n",
       "      <td>0</td>\n",
       "      <td>NaN</td>\n",
       "      <td>-0.074167</td>\n",
       "      <td>-0.100764</td>\n",
       "      <td>0.098425</td>\n",
       "      <td>-0.109830</td>\n",
       "      <td>0.081148</td>\n",
       "      <td>0.104023</td>\n",
       "      <td>0.099931</td>\n",
       "      <td>0.090601</td>\n",
       "      <td>...</td>\n",
       "      <td>389.707400</td>\n",
       "      <td>147.600170</td>\n",
       "      <td>17.478146</td>\n",
       "      <td>0.230159</td>\n",
       "      <td>15.879790</td>\n",
       "      <td>0.0</td>\n",
       "      <td>24.663788</td>\n",
       "      <td>331</td>\n",
       "      <td>WICLUVROROXQTO-UHFFFAOYSA-O</td>\n",
       "      <td>304</td>\n",
       "    </tr>\n",
       "    <tr>\n",
       "      <th>...</th>\n",
       "      <td>...</td>\n",
       "      <td>...</td>\n",
       "      <td>...</td>\n",
       "      <td>...</td>\n",
       "      <td>...</td>\n",
       "      <td>...</td>\n",
       "      <td>...</td>\n",
       "      <td>...</td>\n",
       "      <td>...</td>\n",
       "      <td>...</td>\n",
       "      <td>...</td>\n",
       "      <td>...</td>\n",
       "      <td>...</td>\n",
       "      <td>...</td>\n",
       "      <td>...</td>\n",
       "      <td>...</td>\n",
       "      <td>...</td>\n",
       "      <td>...</td>\n",
       "      <td>...</td>\n",
       "      <td>...</td>\n",
       "      <td>...</td>\n",
       "    </tr>\n",
       "    <tr>\n",
       "      <th>1508</th>\n",
       "      <td>0</td>\n",
       "      <td>RNJTYVPMRSKRKE-FQEVSTJZSA-N</td>\n",
       "      <td>-0.201738</td>\n",
       "      <td>0.307355</td>\n",
       "      <td>-0.093697</td>\n",
       "      <td>0.060396</td>\n",
       "      <td>0.182834</td>\n",
       "      <td>-0.099924</td>\n",
       "      <td>-0.372073</td>\n",
       "      <td>-0.087622</td>\n",
       "      <td>...</td>\n",
       "      <td>70.946503</td>\n",
       "      <td>101.924600</td>\n",
       "      <td>49.777847</td>\n",
       "      <td>3.271739</td>\n",
       "      <td>7.980170</td>\n",
       "      <td>0.0</td>\n",
       "      <td>4.109308</td>\n",
       "      <td>1163</td>\n",
       "      <td>RNJTYVPMRSKRKE-FQEVSTJZSA-N</td>\n",
       "      <td>1131</td>\n",
       "    </tr>\n",
       "    <tr>\n",
       "      <th>1509</th>\n",
       "      <td>0</td>\n",
       "      <td>BMASJJOJXPLURJ-UHFFFAOYSA-N</td>\n",
       "      <td>-0.301355</td>\n",
       "      <td>0.176946</td>\n",
       "      <td>-0.052781</td>\n",
       "      <td>-0.233931</td>\n",
       "      <td>0.033467</td>\n",
       "      <td>-0.127514</td>\n",
       "      <td>-0.600916</td>\n",
       "      <td>-0.214076</td>\n",
       "      <td>...</td>\n",
       "      <td>152.638840</td>\n",
       "      <td>113.462350</td>\n",
       "      <td>20.071724</td>\n",
       "      <td>3.556777</td>\n",
       "      <td>7.980170</td>\n",
       "      <td>0.0</td>\n",
       "      <td>0.000000</td>\n",
       "      <td>1327</td>\n",
       "      <td>BMASJJOJXPLURJ-UHFFFAOYSA-N</td>\n",
       "      <td>1295</td>\n",
       "    </tr>\n",
       "    <tr>\n",
       "      <th>1510</th>\n",
       "      <td>0</td>\n",
       "      <td>NaN</td>\n",
       "      <td>-0.074167</td>\n",
       "      <td>-0.100764</td>\n",
       "      <td>0.098425</td>\n",
       "      <td>-0.109830</td>\n",
       "      <td>0.081148</td>\n",
       "      <td>0.104023</td>\n",
       "      <td>0.099931</td>\n",
       "      <td>0.090601</td>\n",
       "      <td>...</td>\n",
       "      <td>271.814390</td>\n",
       "      <td>117.242150</td>\n",
       "      <td>23.302103</td>\n",
       "      <td>7.980170</td>\n",
       "      <td>8.188327</td>\n",
       "      <td>0.0</td>\n",
       "      <td>24.663788</td>\n",
       "      <td>893</td>\n",
       "      <td>HDLQUIILQOTKOY-UHFFFAOYSA-O</td>\n",
       "      <td>861</td>\n",
       "    </tr>\n",
       "    <tr>\n",
       "      <th>1511</th>\n",
       "      <td>0</td>\n",
       "      <td>NaN</td>\n",
       "      <td>-0.074167</td>\n",
       "      <td>-0.100764</td>\n",
       "      <td>0.098425</td>\n",
       "      <td>-0.109830</td>\n",
       "      <td>0.081148</td>\n",
       "      <td>0.104023</td>\n",
       "      <td>0.099931</td>\n",
       "      <td>0.090601</td>\n",
       "      <td>...</td>\n",
       "      <td>174.523900</td>\n",
       "      <td>83.363235</td>\n",
       "      <td>13.159866</td>\n",
       "      <td>8.300141</td>\n",
       "      <td>7.980170</td>\n",
       "      <td>0.0</td>\n",
       "      <td>33.024784</td>\n",
       "      <td>1493</td>\n",
       "      <td>ZTAKZWLKLGRPRA-UHFFFAOYSA-O</td>\n",
       "      <td>1460</td>\n",
       "    </tr>\n",
       "    <tr>\n",
       "      <th>1512</th>\n",
       "      <td>0</td>\n",
       "      <td>NaN</td>\n",
       "      <td>-0.074167</td>\n",
       "      <td>-0.100764</td>\n",
       "      <td>0.098425</td>\n",
       "      <td>-0.109830</td>\n",
       "      <td>0.081148</td>\n",
       "      <td>0.104023</td>\n",
       "      <td>0.099931</td>\n",
       "      <td>0.090601</td>\n",
       "      <td>...</td>\n",
       "      <td>144.375790</td>\n",
       "      <td>221.241060</td>\n",
       "      <td>24.369392</td>\n",
       "      <td>0.000000</td>\n",
       "      <td>15.879790</td>\n",
       "      <td>0.0</td>\n",
       "      <td>36.995682</td>\n",
       "      <td>1159</td>\n",
       "      <td>KWOISCWHVUWIQV-UHFFFAOYSA-O</td>\n",
       "      <td>1127</td>\n",
       "    </tr>\n",
       "  </tbody>\n",
       "</table>\n",
       "<p>1513 rows × 3800 columns</p>\n",
       "</div>"
      ],
      "text/plain": [
       "      Unnamed: 0                        index      A1.0      A1.1      A1.2  \\\n",
       "0              0                          NaN -0.074167 -0.100764  0.098425   \n",
       "1              0  AVTLPQHFOWVUGZ-XRRIUQSZSA-N -0.357394  0.233842 -0.039962   \n",
       "2              0                          NaN -0.074167 -0.100764  0.098425   \n",
       "3              0  RUUJDLSJAYXIRG-UHFFFAOYSA-N -0.188393  0.171437 -0.050890   \n",
       "4              0                          NaN -0.074167 -0.100764  0.098425   \n",
       "...          ...                          ...       ...       ...       ...   \n",
       "1508           0  RNJTYVPMRSKRKE-FQEVSTJZSA-N -0.201738  0.307355 -0.093697   \n",
       "1509           0  BMASJJOJXPLURJ-UHFFFAOYSA-N -0.301355  0.176946 -0.052781   \n",
       "1510           0                          NaN -0.074167 -0.100764  0.098425   \n",
       "1511           0                          NaN -0.074167 -0.100764  0.098425   \n",
       "1512           0                          NaN -0.074167 -0.100764  0.098425   \n",
       "\n",
       "          A1.3      A1.4      A1.5      A1.6      A1.7  ...  PEOE8 (PEOE8)  \\\n",
       "0    -0.109830  0.081148  0.104023  0.099931  0.090601  ...     149.280230   \n",
       "1    -0.320740  0.084283  0.133123 -0.711405 -0.088413  ...     106.619260   \n",
       "2    -0.109830  0.081148  0.104023  0.099931  0.090601  ...     246.840210   \n",
       "3    -0.260749  0.209574  0.135822 -0.554064  0.202823  ...      69.366081   \n",
       "4    -0.109830  0.081148  0.104023  0.099931  0.090601  ...     389.707400   \n",
       "...        ...       ...       ...       ...       ...  ...            ...   \n",
       "1508  0.060396  0.182834 -0.099924 -0.372073 -0.087622  ...      70.946503   \n",
       "1509 -0.233931  0.033467 -0.127514 -0.600916 -0.214076  ...     152.638840   \n",
       "1510 -0.109830  0.081148  0.104023  0.099931  0.090601  ...     271.814390   \n",
       "1511 -0.109830  0.081148  0.104023  0.099931  0.090601  ...     174.523900   \n",
       "1512 -0.109830  0.081148  0.104023  0.099931  0.090601  ...     144.375790   \n",
       "\n",
       "      PEOE9 (PEOE9)  PEOE10 (PEOE10)  PEOE11 (PEOE11)  PEOE12 (PEOE12)  \\\n",
       "0         58.298748        20.071724         3.556777         7.980170   \n",
       "1        123.839480        31.029167         3.271739        16.168497   \n",
       "2        133.516510        27.744167         0.000000        15.879790   \n",
       "3        166.297550        44.097675         3.271739         0.000000   \n",
       "4        147.600170        17.478146         0.230159        15.879790   \n",
       "...             ...              ...              ...              ...   \n",
       "1508     101.924600        49.777847         3.271739         7.980170   \n",
       "1509     113.462350        20.071724         3.556777         7.980170   \n",
       "1510     117.242150        23.302103         7.980170         8.188327   \n",
       "1511      83.363235        13.159866         8.300141         7.980170   \n",
       "1512     221.241060        24.369392         0.000000        15.879790   \n",
       "\n",
       "      PEOE13 (PEOE13)  PEOE14 (PEOE14)  canvasUID  \\\n",
       "0                 0.0         0.000000       1034   \n",
       "1                 0.0         6.970751        649   \n",
       "2                 0.0        24.663788        839   \n",
       "3                 0.0         0.000000        976   \n",
       "4                 0.0        24.663788        331   \n",
       "...               ...              ...        ...   \n",
       "1508              0.0         4.109308       1163   \n",
       "1509              0.0         0.000000       1327   \n",
       "1510              0.0        24.663788        893   \n",
       "1511              0.0        33.024784       1493   \n",
       "1512              0.0        36.995682       1159   \n",
       "\n",
       "                         InchiKey  Group  \n",
       "0     ZEPLYSGSJFWAKW-UHFFFAOYSA-N   1002  \n",
       "1     AVTLPQHFOWVUGZ-XRRIUQSZSA-N    619  \n",
       "2     AMVDNFIQANYLEW-UHFFFAOYSA-O    807  \n",
       "3     RUUJDLSJAYXIRG-UHFFFAOYSA-N    944  \n",
       "4     WICLUVROROXQTO-UHFFFAOYSA-O    304  \n",
       "...                           ...    ...  \n",
       "1508  RNJTYVPMRSKRKE-FQEVSTJZSA-N   1131  \n",
       "1509  BMASJJOJXPLURJ-UHFFFAOYSA-N   1295  \n",
       "1510  HDLQUIILQOTKOY-UHFFFAOYSA-O    861  \n",
       "1511  ZTAKZWLKLGRPRA-UHFFFAOYSA-O   1460  \n",
       "1512  KWOISCWHVUWIQV-UHFFFAOYSA-O   1127  \n",
       "\n",
       "[1513 rows x 3800 columns]"
      ]
     },
     "execution_count": 43,
     "metadata": {},
     "output_type": "execute_result"
    }
   ],
   "source": [
    "df"
   ]
  },
  {
   "cell_type": "code",
   "execution_count": 44,
   "id": "6ca4f23d",
   "metadata": {},
   "outputs": [],
   "source": [
    "X=df.iloc[:,2:3202]\n",
    "y=df[\"Class\"]\n",
    "groups=df['Group']"
   ]
  },
  {
   "cell_type": "code",
   "execution_count": 45,
   "id": "5749d6e4",
   "metadata": {},
   "outputs": [],
   "source": [
    "#########################\n",
    "# 自定义，按组划分\n",
    "cv_group = StratifiedGroupKFold(n_splits=10).split(X, y, groups=groups)\n",
    "for i,(rest_index, test_index) in zip(range(10),cv_group):\n",
    "        if i==5:\n",
    "            \n",
    "            X_rest, y_rest, X_test, y_test = X.iloc[rest_index,], y.iloc[rest_index,], X.iloc[test_index,], y.iloc[test_index,]\n",
    "            groups_rest, groups_test = groups.iloc[rest_index], groups.iloc[test_index]\n",
    "            rest = pd.concat([X_rest,y_rest,groups_rest],axis=1)\n",
    "            test = pd.concat([X_test,y_test,groups_test],axis=1)\n",
    "    \n",
    "    \n",
    "        \n",
    "    \n",
    "       \n",
    "        \n",
    "        \n",
    "        \n",
    "        \n",
    "# filename_train=\"extend_dataset/BBBP/BBBP_train_\"+str(i)+\"over5.csv\"\n",
    "filename_test=\"extend_dataset/BACE/BACE_test.csv\"\n",
    "# train_index_file=\"extend_dataset/BBBP/BBBP_train_index_\"+str(i)+\"over5.csv\"\n",
    "test_index_file=\"extend_dataset/BACE/BACE_test_index.csv\"\n",
    "        \n",
    "# train.to_csv(filename_train,index=False)\n",
    "test.to_csv(filename_test,index=False)\n",
    "        \n",
    "# train_index=pd.DataFrame(train_index)\n",
    "test_index=pd.DataFrame(test_index)\n",
    "        \n",
    "        \n",
    "# train_index.to_csv(train_index_file,index=False)\n",
    "test_index.to_csv(test_index_file,index=False)\n",
    "        \n",
    "        \n",
    "   \n"
   ]
  },
  {
   "cell_type": "code",
   "execution_count": 46,
   "id": "e208adc4",
   "metadata": {},
   "outputs": [
    {
     "data": {
      "text/html": [
       "<div>\n",
       "<style scoped>\n",
       "    .dataframe tbody tr th:only-of-type {\n",
       "        vertical-align: middle;\n",
       "    }\n",
       "\n",
       "    .dataframe tbody tr th {\n",
       "        vertical-align: top;\n",
       "    }\n",
       "\n",
       "    .dataframe thead th {\n",
       "        text-align: right;\n",
       "    }\n",
       "</style>\n",
       "<table border=\"1\" class=\"dataframe\">\n",
       "  <thead>\n",
       "    <tr style=\"text-align: right;\">\n",
       "      <th></th>\n",
       "      <th>A1.0</th>\n",
       "      <th>A1.1</th>\n",
       "      <th>A1.2</th>\n",
       "      <th>A1.3</th>\n",
       "      <th>A1.4</th>\n",
       "      <th>A1.5</th>\n",
       "      <th>A1.6</th>\n",
       "      <th>A1.7</th>\n",
       "      <th>A1.8</th>\n",
       "      <th>A1.9</th>\n",
       "      <th>...</th>\n",
       "      <th>E5.120</th>\n",
       "      <th>E5.121</th>\n",
       "      <th>E5.122</th>\n",
       "      <th>E5.123</th>\n",
       "      <th>E5.124</th>\n",
       "      <th>E5.125</th>\n",
       "      <th>E5.126</th>\n",
       "      <th>E5.127</th>\n",
       "      <th>Class</th>\n",
       "      <th>Group</th>\n",
       "    </tr>\n",
       "  </thead>\n",
       "  <tbody>\n",
       "    <tr>\n",
       "      <th>0</th>\n",
       "      <td>-0.074167</td>\n",
       "      <td>-0.100764</td>\n",
       "      <td>0.098425</td>\n",
       "      <td>-0.109830</td>\n",
       "      <td>0.081148</td>\n",
       "      <td>0.104023</td>\n",
       "      <td>0.099931</td>\n",
       "      <td>0.090601</td>\n",
       "      <td>-0.107588</td>\n",
       "      <td>-0.078290</td>\n",
       "      <td>...</td>\n",
       "      <td>NaN</td>\n",
       "      <td>NaN</td>\n",
       "      <td>NaN</td>\n",
       "      <td>NaN</td>\n",
       "      <td>NaN</td>\n",
       "      <td>NaN</td>\n",
       "      <td>NaN</td>\n",
       "      <td>NaN</td>\n",
       "      <td>0</td>\n",
       "      <td>1002</td>\n",
       "    </tr>\n",
       "    <tr>\n",
       "      <th>2</th>\n",
       "      <td>-0.074167</td>\n",
       "      <td>-0.100764</td>\n",
       "      <td>0.098425</td>\n",
       "      <td>-0.109830</td>\n",
       "      <td>0.081148</td>\n",
       "      <td>0.104023</td>\n",
       "      <td>0.099931</td>\n",
       "      <td>0.090601</td>\n",
       "      <td>-0.107588</td>\n",
       "      <td>-0.078290</td>\n",
       "      <td>...</td>\n",
       "      <td>NaN</td>\n",
       "      <td>NaN</td>\n",
       "      <td>NaN</td>\n",
       "      <td>NaN</td>\n",
       "      <td>NaN</td>\n",
       "      <td>NaN</td>\n",
       "      <td>NaN</td>\n",
       "      <td>NaN</td>\n",
       "      <td>0</td>\n",
       "      <td>807</td>\n",
       "    </tr>\n",
       "    <tr>\n",
       "      <th>3</th>\n",
       "      <td>-0.188393</td>\n",
       "      <td>0.171437</td>\n",
       "      <td>-0.050890</td>\n",
       "      <td>-0.260749</td>\n",
       "      <td>0.209574</td>\n",
       "      <td>0.135822</td>\n",
       "      <td>-0.554064</td>\n",
       "      <td>0.202823</td>\n",
       "      <td>-0.085376</td>\n",
       "      <td>-0.068773</td>\n",
       "      <td>...</td>\n",
       "      <td>NaN</td>\n",
       "      <td>NaN</td>\n",
       "      <td>NaN</td>\n",
       "      <td>NaN</td>\n",
       "      <td>NaN</td>\n",
       "      <td>NaN</td>\n",
       "      <td>NaN</td>\n",
       "      <td>NaN</td>\n",
       "      <td>0</td>\n",
       "      <td>944</td>\n",
       "    </tr>\n",
       "    <tr>\n",
       "      <th>4</th>\n",
       "      <td>-0.074167</td>\n",
       "      <td>-0.100764</td>\n",
       "      <td>0.098425</td>\n",
       "      <td>-0.109830</td>\n",
       "      <td>0.081148</td>\n",
       "      <td>0.104023</td>\n",
       "      <td>0.099931</td>\n",
       "      <td>0.090601</td>\n",
       "      <td>-0.107588</td>\n",
       "      <td>-0.078290</td>\n",
       "      <td>...</td>\n",
       "      <td>NaN</td>\n",
       "      <td>NaN</td>\n",
       "      <td>NaN</td>\n",
       "      <td>NaN</td>\n",
       "      <td>NaN</td>\n",
       "      <td>NaN</td>\n",
       "      <td>NaN</td>\n",
       "      <td>NaN</td>\n",
       "      <td>1</td>\n",
       "      <td>304</td>\n",
       "    </tr>\n",
       "    <tr>\n",
       "      <th>5</th>\n",
       "      <td>-0.081711</td>\n",
       "      <td>0.258757</td>\n",
       "      <td>-0.179455</td>\n",
       "      <td>-0.281934</td>\n",
       "      <td>0.033873</td>\n",
       "      <td>-0.031206</td>\n",
       "      <td>-0.666788</td>\n",
       "      <td>-0.077440</td>\n",
       "      <td>-0.100860</td>\n",
       "      <td>-0.022434</td>\n",
       "      <td>...</td>\n",
       "      <td>NaN</td>\n",
       "      <td>NaN</td>\n",
       "      <td>NaN</td>\n",
       "      <td>NaN</td>\n",
       "      <td>NaN</td>\n",
       "      <td>NaN</td>\n",
       "      <td>NaN</td>\n",
       "      <td>NaN</td>\n",
       "      <td>0</td>\n",
       "      <td>1231</td>\n",
       "    </tr>\n",
       "    <tr>\n",
       "      <th>...</th>\n",
       "      <td>...</td>\n",
       "      <td>...</td>\n",
       "      <td>...</td>\n",
       "      <td>...</td>\n",
       "      <td>...</td>\n",
       "      <td>...</td>\n",
       "      <td>...</td>\n",
       "      <td>...</td>\n",
       "      <td>...</td>\n",
       "      <td>...</td>\n",
       "      <td>...</td>\n",
       "      <td>...</td>\n",
       "      <td>...</td>\n",
       "      <td>...</td>\n",
       "      <td>...</td>\n",
       "      <td>...</td>\n",
       "      <td>...</td>\n",
       "      <td>...</td>\n",
       "      <td>...</td>\n",
       "      <td>...</td>\n",
       "      <td>...</td>\n",
       "    </tr>\n",
       "    <tr>\n",
       "      <th>1508</th>\n",
       "      <td>-0.201738</td>\n",
       "      <td>0.307355</td>\n",
       "      <td>-0.093697</td>\n",
       "      <td>0.060396</td>\n",
       "      <td>0.182834</td>\n",
       "      <td>-0.099924</td>\n",
       "      <td>-0.372073</td>\n",
       "      <td>-0.087622</td>\n",
       "      <td>0.101105</td>\n",
       "      <td>-0.032623</td>\n",
       "      <td>...</td>\n",
       "      <td>NaN</td>\n",
       "      <td>NaN</td>\n",
       "      <td>NaN</td>\n",
       "      <td>NaN</td>\n",
       "      <td>NaN</td>\n",
       "      <td>NaN</td>\n",
       "      <td>NaN</td>\n",
       "      <td>NaN</td>\n",
       "      <td>0</td>\n",
       "      <td>1131</td>\n",
       "    </tr>\n",
       "    <tr>\n",
       "      <th>1509</th>\n",
       "      <td>-0.301355</td>\n",
       "      <td>0.176946</td>\n",
       "      <td>-0.052781</td>\n",
       "      <td>-0.233931</td>\n",
       "      <td>0.033467</td>\n",
       "      <td>-0.127514</td>\n",
       "      <td>-0.600916</td>\n",
       "      <td>-0.214076</td>\n",
       "      <td>-0.081580</td>\n",
       "      <td>-0.058680</td>\n",
       "      <td>...</td>\n",
       "      <td>NaN</td>\n",
       "      <td>NaN</td>\n",
       "      <td>NaN</td>\n",
       "      <td>NaN</td>\n",
       "      <td>NaN</td>\n",
       "      <td>NaN</td>\n",
       "      <td>NaN</td>\n",
       "      <td>NaN</td>\n",
       "      <td>0</td>\n",
       "      <td>1295</td>\n",
       "    </tr>\n",
       "    <tr>\n",
       "      <th>1510</th>\n",
       "      <td>-0.074167</td>\n",
       "      <td>-0.100764</td>\n",
       "      <td>0.098425</td>\n",
       "      <td>-0.109830</td>\n",
       "      <td>0.081148</td>\n",
       "      <td>0.104023</td>\n",
       "      <td>0.099931</td>\n",
       "      <td>0.090601</td>\n",
       "      <td>-0.107588</td>\n",
       "      <td>-0.078290</td>\n",
       "      <td>...</td>\n",
       "      <td>NaN</td>\n",
       "      <td>NaN</td>\n",
       "      <td>NaN</td>\n",
       "      <td>NaN</td>\n",
       "      <td>NaN</td>\n",
       "      <td>NaN</td>\n",
       "      <td>NaN</td>\n",
       "      <td>NaN</td>\n",
       "      <td>0</td>\n",
       "      <td>861</td>\n",
       "    </tr>\n",
       "    <tr>\n",
       "      <th>1511</th>\n",
       "      <td>-0.074167</td>\n",
       "      <td>-0.100764</td>\n",
       "      <td>0.098425</td>\n",
       "      <td>-0.109830</td>\n",
       "      <td>0.081148</td>\n",
       "      <td>0.104023</td>\n",
       "      <td>0.099931</td>\n",
       "      <td>0.090601</td>\n",
       "      <td>-0.107588</td>\n",
       "      <td>-0.078290</td>\n",
       "      <td>...</td>\n",
       "      <td>NaN</td>\n",
       "      <td>NaN</td>\n",
       "      <td>NaN</td>\n",
       "      <td>NaN</td>\n",
       "      <td>NaN</td>\n",
       "      <td>NaN</td>\n",
       "      <td>NaN</td>\n",
       "      <td>NaN</td>\n",
       "      <td>0</td>\n",
       "      <td>1460</td>\n",
       "    </tr>\n",
       "    <tr>\n",
       "      <th>1512</th>\n",
       "      <td>-0.074167</td>\n",
       "      <td>-0.100764</td>\n",
       "      <td>0.098425</td>\n",
       "      <td>-0.109830</td>\n",
       "      <td>0.081148</td>\n",
       "      <td>0.104023</td>\n",
       "      <td>0.099931</td>\n",
       "      <td>0.090601</td>\n",
       "      <td>-0.107588</td>\n",
       "      <td>-0.078290</td>\n",
       "      <td>...</td>\n",
       "      <td>NaN</td>\n",
       "      <td>NaN</td>\n",
       "      <td>NaN</td>\n",
       "      <td>NaN</td>\n",
       "      <td>NaN</td>\n",
       "      <td>NaN</td>\n",
       "      <td>NaN</td>\n",
       "      <td>NaN</td>\n",
       "      <td>0</td>\n",
       "      <td>1127</td>\n",
       "    </tr>\n",
       "  </tbody>\n",
       "</table>\n",
       "<p>1362 rows × 3202 columns</p>\n",
       "</div>"
      ],
      "text/plain": [
       "          A1.0      A1.1      A1.2      A1.3      A1.4      A1.5      A1.6  \\\n",
       "0    -0.074167 -0.100764  0.098425 -0.109830  0.081148  0.104023  0.099931   \n",
       "2    -0.074167 -0.100764  0.098425 -0.109830  0.081148  0.104023  0.099931   \n",
       "3    -0.188393  0.171437 -0.050890 -0.260749  0.209574  0.135822 -0.554064   \n",
       "4    -0.074167 -0.100764  0.098425 -0.109830  0.081148  0.104023  0.099931   \n",
       "5    -0.081711  0.258757 -0.179455 -0.281934  0.033873 -0.031206 -0.666788   \n",
       "...        ...       ...       ...       ...       ...       ...       ...   \n",
       "1508 -0.201738  0.307355 -0.093697  0.060396  0.182834 -0.099924 -0.372073   \n",
       "1509 -0.301355  0.176946 -0.052781 -0.233931  0.033467 -0.127514 -0.600916   \n",
       "1510 -0.074167 -0.100764  0.098425 -0.109830  0.081148  0.104023  0.099931   \n",
       "1511 -0.074167 -0.100764  0.098425 -0.109830  0.081148  0.104023  0.099931   \n",
       "1512 -0.074167 -0.100764  0.098425 -0.109830  0.081148  0.104023  0.099931   \n",
       "\n",
       "          A1.7      A1.8      A1.9  ...  E5.120  E5.121  E5.122  E5.123  \\\n",
       "0     0.090601 -0.107588 -0.078290  ...     NaN     NaN     NaN     NaN   \n",
       "2     0.090601 -0.107588 -0.078290  ...     NaN     NaN     NaN     NaN   \n",
       "3     0.202823 -0.085376 -0.068773  ...     NaN     NaN     NaN     NaN   \n",
       "4     0.090601 -0.107588 -0.078290  ...     NaN     NaN     NaN     NaN   \n",
       "5    -0.077440 -0.100860 -0.022434  ...     NaN     NaN     NaN     NaN   \n",
       "...        ...       ...       ...  ...     ...     ...     ...     ...   \n",
       "1508 -0.087622  0.101105 -0.032623  ...     NaN     NaN     NaN     NaN   \n",
       "1509 -0.214076 -0.081580 -0.058680  ...     NaN     NaN     NaN     NaN   \n",
       "1510  0.090601 -0.107588 -0.078290  ...     NaN     NaN     NaN     NaN   \n",
       "1511  0.090601 -0.107588 -0.078290  ...     NaN     NaN     NaN     NaN   \n",
       "1512  0.090601 -0.107588 -0.078290  ...     NaN     NaN     NaN     NaN   \n",
       "\n",
       "      E5.124  E5.125  E5.126  E5.127  Class  Group  \n",
       "0        NaN     NaN     NaN     NaN      0   1002  \n",
       "2        NaN     NaN     NaN     NaN      0    807  \n",
       "3        NaN     NaN     NaN     NaN      0    944  \n",
       "4        NaN     NaN     NaN     NaN      1    304  \n",
       "5        NaN     NaN     NaN     NaN      0   1231  \n",
       "...      ...     ...     ...     ...    ...    ...  \n",
       "1508     NaN     NaN     NaN     NaN      0   1131  \n",
       "1509     NaN     NaN     NaN     NaN      0   1295  \n",
       "1510     NaN     NaN     NaN     NaN      0    861  \n",
       "1511     NaN     NaN     NaN     NaN      0   1460  \n",
       "1512     NaN     NaN     NaN     NaN      0   1127  \n",
       "\n",
       "[1362 rows x 3202 columns]"
      ]
     },
     "execution_count": 46,
     "metadata": {},
     "output_type": "execute_result"
    }
   ],
   "source": [
    "rest"
   ]
  },
  {
   "cell_type": "code",
   "execution_count": 47,
   "id": "83aea174",
   "metadata": {},
   "outputs": [],
   "source": [
    "X_train_val=rest.iloc[:,0:3200]\n",
    "y_train_val=rest[\"Class\"]\n",
    "groups_train_val=rest['Group']"
   ]
  },
  {
   "cell_type": "code",
   "execution_count": 48,
   "id": "104eca22",
   "metadata": {},
   "outputs": [
    {
     "data": {
      "text/html": [
       "<div>\n",
       "<style scoped>\n",
       "    .dataframe tbody tr th:only-of-type {\n",
       "        vertical-align: middle;\n",
       "    }\n",
       "\n",
       "    .dataframe tbody tr th {\n",
       "        vertical-align: top;\n",
       "    }\n",
       "\n",
       "    .dataframe thead th {\n",
       "        text-align: right;\n",
       "    }\n",
       "</style>\n",
       "<table border=\"1\" class=\"dataframe\">\n",
       "  <thead>\n",
       "    <tr style=\"text-align: right;\">\n",
       "      <th></th>\n",
       "      <th>A1.0</th>\n",
       "      <th>A1.1</th>\n",
       "      <th>A1.2</th>\n",
       "      <th>A1.3</th>\n",
       "      <th>A1.4</th>\n",
       "      <th>A1.5</th>\n",
       "      <th>A1.6</th>\n",
       "      <th>A1.7</th>\n",
       "      <th>A1.8</th>\n",
       "      <th>A1.9</th>\n",
       "      <th>...</th>\n",
       "      <th>E5.118</th>\n",
       "      <th>E5.119</th>\n",
       "      <th>E5.120</th>\n",
       "      <th>E5.121</th>\n",
       "      <th>E5.122</th>\n",
       "      <th>E5.123</th>\n",
       "      <th>E5.124</th>\n",
       "      <th>E5.125</th>\n",
       "      <th>E5.126</th>\n",
       "      <th>E5.127</th>\n",
       "    </tr>\n",
       "  </thead>\n",
       "  <tbody>\n",
       "    <tr>\n",
       "      <th>0</th>\n",
       "      <td>-0.074167</td>\n",
       "      <td>-0.100764</td>\n",
       "      <td>0.098425</td>\n",
       "      <td>-0.109830</td>\n",
       "      <td>0.081148</td>\n",
       "      <td>0.104023</td>\n",
       "      <td>0.099931</td>\n",
       "      <td>0.090601</td>\n",
       "      <td>-0.107588</td>\n",
       "      <td>-0.078290</td>\n",
       "      <td>...</td>\n",
       "      <td>NaN</td>\n",
       "      <td>NaN</td>\n",
       "      <td>NaN</td>\n",
       "      <td>NaN</td>\n",
       "      <td>NaN</td>\n",
       "      <td>NaN</td>\n",
       "      <td>NaN</td>\n",
       "      <td>NaN</td>\n",
       "      <td>NaN</td>\n",
       "      <td>NaN</td>\n",
       "    </tr>\n",
       "    <tr>\n",
       "      <th>2</th>\n",
       "      <td>-0.074167</td>\n",
       "      <td>-0.100764</td>\n",
       "      <td>0.098425</td>\n",
       "      <td>-0.109830</td>\n",
       "      <td>0.081148</td>\n",
       "      <td>0.104023</td>\n",
       "      <td>0.099931</td>\n",
       "      <td>0.090601</td>\n",
       "      <td>-0.107588</td>\n",
       "      <td>-0.078290</td>\n",
       "      <td>...</td>\n",
       "      <td>NaN</td>\n",
       "      <td>NaN</td>\n",
       "      <td>NaN</td>\n",
       "      <td>NaN</td>\n",
       "      <td>NaN</td>\n",
       "      <td>NaN</td>\n",
       "      <td>NaN</td>\n",
       "      <td>NaN</td>\n",
       "      <td>NaN</td>\n",
       "      <td>NaN</td>\n",
       "    </tr>\n",
       "    <tr>\n",
       "      <th>3</th>\n",
       "      <td>-0.188393</td>\n",
       "      <td>0.171437</td>\n",
       "      <td>-0.050890</td>\n",
       "      <td>-0.260749</td>\n",
       "      <td>0.209574</td>\n",
       "      <td>0.135822</td>\n",
       "      <td>-0.554064</td>\n",
       "      <td>0.202823</td>\n",
       "      <td>-0.085376</td>\n",
       "      <td>-0.068773</td>\n",
       "      <td>...</td>\n",
       "      <td>NaN</td>\n",
       "      <td>NaN</td>\n",
       "      <td>NaN</td>\n",
       "      <td>NaN</td>\n",
       "      <td>NaN</td>\n",
       "      <td>NaN</td>\n",
       "      <td>NaN</td>\n",
       "      <td>NaN</td>\n",
       "      <td>NaN</td>\n",
       "      <td>NaN</td>\n",
       "    </tr>\n",
       "    <tr>\n",
       "      <th>4</th>\n",
       "      <td>-0.074167</td>\n",
       "      <td>-0.100764</td>\n",
       "      <td>0.098425</td>\n",
       "      <td>-0.109830</td>\n",
       "      <td>0.081148</td>\n",
       "      <td>0.104023</td>\n",
       "      <td>0.099931</td>\n",
       "      <td>0.090601</td>\n",
       "      <td>-0.107588</td>\n",
       "      <td>-0.078290</td>\n",
       "      <td>...</td>\n",
       "      <td>NaN</td>\n",
       "      <td>NaN</td>\n",
       "      <td>NaN</td>\n",
       "      <td>NaN</td>\n",
       "      <td>NaN</td>\n",
       "      <td>NaN</td>\n",
       "      <td>NaN</td>\n",
       "      <td>NaN</td>\n",
       "      <td>NaN</td>\n",
       "      <td>NaN</td>\n",
       "    </tr>\n",
       "    <tr>\n",
       "      <th>5</th>\n",
       "      <td>-0.081711</td>\n",
       "      <td>0.258757</td>\n",
       "      <td>-0.179455</td>\n",
       "      <td>-0.281934</td>\n",
       "      <td>0.033873</td>\n",
       "      <td>-0.031206</td>\n",
       "      <td>-0.666788</td>\n",
       "      <td>-0.077440</td>\n",
       "      <td>-0.100860</td>\n",
       "      <td>-0.022434</td>\n",
       "      <td>...</td>\n",
       "      <td>NaN</td>\n",
       "      <td>NaN</td>\n",
       "      <td>NaN</td>\n",
       "      <td>NaN</td>\n",
       "      <td>NaN</td>\n",
       "      <td>NaN</td>\n",
       "      <td>NaN</td>\n",
       "      <td>NaN</td>\n",
       "      <td>NaN</td>\n",
       "      <td>NaN</td>\n",
       "    </tr>\n",
       "    <tr>\n",
       "      <th>...</th>\n",
       "      <td>...</td>\n",
       "      <td>...</td>\n",
       "      <td>...</td>\n",
       "      <td>...</td>\n",
       "      <td>...</td>\n",
       "      <td>...</td>\n",
       "      <td>...</td>\n",
       "      <td>...</td>\n",
       "      <td>...</td>\n",
       "      <td>...</td>\n",
       "      <td>...</td>\n",
       "      <td>...</td>\n",
       "      <td>...</td>\n",
       "      <td>...</td>\n",
       "      <td>...</td>\n",
       "      <td>...</td>\n",
       "      <td>...</td>\n",
       "      <td>...</td>\n",
       "      <td>...</td>\n",
       "      <td>...</td>\n",
       "      <td>...</td>\n",
       "    </tr>\n",
       "    <tr>\n",
       "      <th>1508</th>\n",
       "      <td>-0.201738</td>\n",
       "      <td>0.307355</td>\n",
       "      <td>-0.093697</td>\n",
       "      <td>0.060396</td>\n",
       "      <td>0.182834</td>\n",
       "      <td>-0.099924</td>\n",
       "      <td>-0.372073</td>\n",
       "      <td>-0.087622</td>\n",
       "      <td>0.101105</td>\n",
       "      <td>-0.032623</td>\n",
       "      <td>...</td>\n",
       "      <td>NaN</td>\n",
       "      <td>NaN</td>\n",
       "      <td>NaN</td>\n",
       "      <td>NaN</td>\n",
       "      <td>NaN</td>\n",
       "      <td>NaN</td>\n",
       "      <td>NaN</td>\n",
       "      <td>NaN</td>\n",
       "      <td>NaN</td>\n",
       "      <td>NaN</td>\n",
       "    </tr>\n",
       "    <tr>\n",
       "      <th>1509</th>\n",
       "      <td>-0.301355</td>\n",
       "      <td>0.176946</td>\n",
       "      <td>-0.052781</td>\n",
       "      <td>-0.233931</td>\n",
       "      <td>0.033467</td>\n",
       "      <td>-0.127514</td>\n",
       "      <td>-0.600916</td>\n",
       "      <td>-0.214076</td>\n",
       "      <td>-0.081580</td>\n",
       "      <td>-0.058680</td>\n",
       "      <td>...</td>\n",
       "      <td>NaN</td>\n",
       "      <td>NaN</td>\n",
       "      <td>NaN</td>\n",
       "      <td>NaN</td>\n",
       "      <td>NaN</td>\n",
       "      <td>NaN</td>\n",
       "      <td>NaN</td>\n",
       "      <td>NaN</td>\n",
       "      <td>NaN</td>\n",
       "      <td>NaN</td>\n",
       "    </tr>\n",
       "    <tr>\n",
       "      <th>1510</th>\n",
       "      <td>-0.074167</td>\n",
       "      <td>-0.100764</td>\n",
       "      <td>0.098425</td>\n",
       "      <td>-0.109830</td>\n",
       "      <td>0.081148</td>\n",
       "      <td>0.104023</td>\n",
       "      <td>0.099931</td>\n",
       "      <td>0.090601</td>\n",
       "      <td>-0.107588</td>\n",
       "      <td>-0.078290</td>\n",
       "      <td>...</td>\n",
       "      <td>NaN</td>\n",
       "      <td>NaN</td>\n",
       "      <td>NaN</td>\n",
       "      <td>NaN</td>\n",
       "      <td>NaN</td>\n",
       "      <td>NaN</td>\n",
       "      <td>NaN</td>\n",
       "      <td>NaN</td>\n",
       "      <td>NaN</td>\n",
       "      <td>NaN</td>\n",
       "    </tr>\n",
       "    <tr>\n",
       "      <th>1511</th>\n",
       "      <td>-0.074167</td>\n",
       "      <td>-0.100764</td>\n",
       "      <td>0.098425</td>\n",
       "      <td>-0.109830</td>\n",
       "      <td>0.081148</td>\n",
       "      <td>0.104023</td>\n",
       "      <td>0.099931</td>\n",
       "      <td>0.090601</td>\n",
       "      <td>-0.107588</td>\n",
       "      <td>-0.078290</td>\n",
       "      <td>...</td>\n",
       "      <td>NaN</td>\n",
       "      <td>NaN</td>\n",
       "      <td>NaN</td>\n",
       "      <td>NaN</td>\n",
       "      <td>NaN</td>\n",
       "      <td>NaN</td>\n",
       "      <td>NaN</td>\n",
       "      <td>NaN</td>\n",
       "      <td>NaN</td>\n",
       "      <td>NaN</td>\n",
       "    </tr>\n",
       "    <tr>\n",
       "      <th>1512</th>\n",
       "      <td>-0.074167</td>\n",
       "      <td>-0.100764</td>\n",
       "      <td>0.098425</td>\n",
       "      <td>-0.109830</td>\n",
       "      <td>0.081148</td>\n",
       "      <td>0.104023</td>\n",
       "      <td>0.099931</td>\n",
       "      <td>0.090601</td>\n",
       "      <td>-0.107588</td>\n",
       "      <td>-0.078290</td>\n",
       "      <td>...</td>\n",
       "      <td>NaN</td>\n",
       "      <td>NaN</td>\n",
       "      <td>NaN</td>\n",
       "      <td>NaN</td>\n",
       "      <td>NaN</td>\n",
       "      <td>NaN</td>\n",
       "      <td>NaN</td>\n",
       "      <td>NaN</td>\n",
       "      <td>NaN</td>\n",
       "      <td>NaN</td>\n",
       "    </tr>\n",
       "  </tbody>\n",
       "</table>\n",
       "<p>1362 rows × 3200 columns</p>\n",
       "</div>"
      ],
      "text/plain": [
       "          A1.0      A1.1      A1.2      A1.3      A1.4      A1.5      A1.6  \\\n",
       "0    -0.074167 -0.100764  0.098425 -0.109830  0.081148  0.104023  0.099931   \n",
       "2    -0.074167 -0.100764  0.098425 -0.109830  0.081148  0.104023  0.099931   \n",
       "3    -0.188393  0.171437 -0.050890 -0.260749  0.209574  0.135822 -0.554064   \n",
       "4    -0.074167 -0.100764  0.098425 -0.109830  0.081148  0.104023  0.099931   \n",
       "5    -0.081711  0.258757 -0.179455 -0.281934  0.033873 -0.031206 -0.666788   \n",
       "...        ...       ...       ...       ...       ...       ...       ...   \n",
       "1508 -0.201738  0.307355 -0.093697  0.060396  0.182834 -0.099924 -0.372073   \n",
       "1509 -0.301355  0.176946 -0.052781 -0.233931  0.033467 -0.127514 -0.600916   \n",
       "1510 -0.074167 -0.100764  0.098425 -0.109830  0.081148  0.104023  0.099931   \n",
       "1511 -0.074167 -0.100764  0.098425 -0.109830  0.081148  0.104023  0.099931   \n",
       "1512 -0.074167 -0.100764  0.098425 -0.109830  0.081148  0.104023  0.099931   \n",
       "\n",
       "          A1.7      A1.8      A1.9  ...  E5.118  E5.119  E5.120  E5.121  \\\n",
       "0     0.090601 -0.107588 -0.078290  ...     NaN     NaN     NaN     NaN   \n",
       "2     0.090601 -0.107588 -0.078290  ...     NaN     NaN     NaN     NaN   \n",
       "3     0.202823 -0.085376 -0.068773  ...     NaN     NaN     NaN     NaN   \n",
       "4     0.090601 -0.107588 -0.078290  ...     NaN     NaN     NaN     NaN   \n",
       "5    -0.077440 -0.100860 -0.022434  ...     NaN     NaN     NaN     NaN   \n",
       "...        ...       ...       ...  ...     ...     ...     ...     ...   \n",
       "1508 -0.087622  0.101105 -0.032623  ...     NaN     NaN     NaN     NaN   \n",
       "1509 -0.214076 -0.081580 -0.058680  ...     NaN     NaN     NaN     NaN   \n",
       "1510  0.090601 -0.107588 -0.078290  ...     NaN     NaN     NaN     NaN   \n",
       "1511  0.090601 -0.107588 -0.078290  ...     NaN     NaN     NaN     NaN   \n",
       "1512  0.090601 -0.107588 -0.078290  ...     NaN     NaN     NaN     NaN   \n",
       "\n",
       "      E5.122  E5.123  E5.124  E5.125  E5.126  E5.127  \n",
       "0        NaN     NaN     NaN     NaN     NaN     NaN  \n",
       "2        NaN     NaN     NaN     NaN     NaN     NaN  \n",
       "3        NaN     NaN     NaN     NaN     NaN     NaN  \n",
       "4        NaN     NaN     NaN     NaN     NaN     NaN  \n",
       "5        NaN     NaN     NaN     NaN     NaN     NaN  \n",
       "...      ...     ...     ...     ...     ...     ...  \n",
       "1508     NaN     NaN     NaN     NaN     NaN     NaN  \n",
       "1509     NaN     NaN     NaN     NaN     NaN     NaN  \n",
       "1510     NaN     NaN     NaN     NaN     NaN     NaN  \n",
       "1511     NaN     NaN     NaN     NaN     NaN     NaN  \n",
       "1512     NaN     NaN     NaN     NaN     NaN     NaN  \n",
       "\n",
       "[1362 rows x 3200 columns]"
      ]
     },
     "execution_count": 48,
     "metadata": {},
     "output_type": "execute_result"
    }
   ],
   "source": [
    "X_train_val"
   ]
  },
  {
   "cell_type": "code",
   "execution_count": 49,
   "id": "888fb596",
   "metadata": {},
   "outputs": [],
   "source": [
    "cv_group = StratifiedGroupKFold(n_splits=9).split(X_train_val, y_train_val, groups=groups_train_val)\n",
    "for i,(train_index, valid_index) in zip(range(4),cv_group):\n",
    "\n",
    "            \n",
    "        X_train, y_train, X_valid, y_valid = X_train_val.iloc[train_index,], y_train_val.iloc[train_index,], X_train_val.iloc[valid_index,], y_train_val.iloc[valid_index,]\n",
    "        groups_train, groups_valid = groups_train_val.iloc[train_index], groups_train_val.iloc[valid_index]\n",
    "        train = pd.concat([X_train,y_train,groups_train],axis=1)\n",
    "        valid = pd.concat([X_valid,y_valid,groups_valid],axis=1)\n",
    "            \n",
    "        filename_train=\"extend_dataset/BACE/BACE_train_\"+str(i+1)+\"over4.csv\"\n",
    "        filename_valid=\"extend_dataset/BACE/BACE_valid_\"+str(i+1)+\"over4.csv\"\n",
    "        train_index_file=\"extend_dataset/BACE/BACE_train_index_\"+str(i+1)+\"over4.csv\"\n",
    "        valid_index_file=\"extend_dataset/BACE/BACE_valid_index_\"+str(i+1)+\"over4.csv\"\n",
    "        \n",
    "        train.to_csv(filename_train,index=False)\n",
    "        valid.to_csv(filename_valid,index=False)\n",
    "        \n",
    "        train_index=pd.DataFrame(train_index)\n",
    "        valid_index=pd.DataFrame(valid_index)\n",
    "        \n",
    "        \n",
    "        train_index.to_csv(train_index_file,index=False)\n",
    "        valid_index.to_csv(valid_index_file,index=False)"
   ]
  },
  {
   "cell_type": "code",
   "execution_count": 50,
   "id": "e9374c80",
   "metadata": {},
   "outputs": [
    {
     "data": {
      "text/html": [
       "<div>\n",
       "<style scoped>\n",
       "    .dataframe tbody tr th:only-of-type {\n",
       "        vertical-align: middle;\n",
       "    }\n",
       "\n",
       "    .dataframe tbody tr th {\n",
       "        vertical-align: top;\n",
       "    }\n",
       "\n",
       "    .dataframe thead th {\n",
       "        text-align: right;\n",
       "    }\n",
       "</style>\n",
       "<table border=\"1\" class=\"dataframe\">\n",
       "  <thead>\n",
       "    <tr style=\"text-align: right;\">\n",
       "      <th></th>\n",
       "      <th>A1.0</th>\n",
       "      <th>A1.1</th>\n",
       "      <th>A1.2</th>\n",
       "      <th>A1.3</th>\n",
       "      <th>A1.4</th>\n",
       "      <th>A1.5</th>\n",
       "      <th>A1.6</th>\n",
       "      <th>A1.7</th>\n",
       "      <th>A1.8</th>\n",
       "      <th>A1.9</th>\n",
       "      <th>...</th>\n",
       "      <th>E5.120</th>\n",
       "      <th>E5.121</th>\n",
       "      <th>E5.122</th>\n",
       "      <th>E5.123</th>\n",
       "      <th>E5.124</th>\n",
       "      <th>E5.125</th>\n",
       "      <th>E5.126</th>\n",
       "      <th>E5.127</th>\n",
       "      <th>Class</th>\n",
       "      <th>Group</th>\n",
       "    </tr>\n",
       "  </thead>\n",
       "  <tbody>\n",
       "    <tr>\n",
       "      <th>0</th>\n",
       "      <td>-0.074167</td>\n",
       "      <td>-0.100764</td>\n",
       "      <td>0.098425</td>\n",
       "      <td>-0.109830</td>\n",
       "      <td>0.081148</td>\n",
       "      <td>0.104023</td>\n",
       "      <td>0.099931</td>\n",
       "      <td>0.090601</td>\n",
       "      <td>-0.107588</td>\n",
       "      <td>-0.078290</td>\n",
       "      <td>...</td>\n",
       "      <td>NaN</td>\n",
       "      <td>NaN</td>\n",
       "      <td>NaN</td>\n",
       "      <td>NaN</td>\n",
       "      <td>NaN</td>\n",
       "      <td>NaN</td>\n",
       "      <td>NaN</td>\n",
       "      <td>NaN</td>\n",
       "      <td>0</td>\n",
       "      <td>1002</td>\n",
       "    </tr>\n",
       "    <tr>\n",
       "      <th>2</th>\n",
       "      <td>-0.074167</td>\n",
       "      <td>-0.100764</td>\n",
       "      <td>0.098425</td>\n",
       "      <td>-0.109830</td>\n",
       "      <td>0.081148</td>\n",
       "      <td>0.104023</td>\n",
       "      <td>0.099931</td>\n",
       "      <td>0.090601</td>\n",
       "      <td>-0.107588</td>\n",
       "      <td>-0.078290</td>\n",
       "      <td>...</td>\n",
       "      <td>NaN</td>\n",
       "      <td>NaN</td>\n",
       "      <td>NaN</td>\n",
       "      <td>NaN</td>\n",
       "      <td>NaN</td>\n",
       "      <td>NaN</td>\n",
       "      <td>NaN</td>\n",
       "      <td>NaN</td>\n",
       "      <td>0</td>\n",
       "      <td>807</td>\n",
       "    </tr>\n",
       "    <tr>\n",
       "      <th>4</th>\n",
       "      <td>-0.074167</td>\n",
       "      <td>-0.100764</td>\n",
       "      <td>0.098425</td>\n",
       "      <td>-0.109830</td>\n",
       "      <td>0.081148</td>\n",
       "      <td>0.104023</td>\n",
       "      <td>0.099931</td>\n",
       "      <td>0.090601</td>\n",
       "      <td>-0.107588</td>\n",
       "      <td>-0.078290</td>\n",
       "      <td>...</td>\n",
       "      <td>NaN</td>\n",
       "      <td>NaN</td>\n",
       "      <td>NaN</td>\n",
       "      <td>NaN</td>\n",
       "      <td>NaN</td>\n",
       "      <td>NaN</td>\n",
       "      <td>NaN</td>\n",
       "      <td>NaN</td>\n",
       "      <td>1</td>\n",
       "      <td>304</td>\n",
       "    </tr>\n",
       "    <tr>\n",
       "      <th>5</th>\n",
       "      <td>-0.081711</td>\n",
       "      <td>0.258757</td>\n",
       "      <td>-0.179455</td>\n",
       "      <td>-0.281934</td>\n",
       "      <td>0.033873</td>\n",
       "      <td>-0.031206</td>\n",
       "      <td>-0.666788</td>\n",
       "      <td>-0.077440</td>\n",
       "      <td>-0.100860</td>\n",
       "      <td>-0.022434</td>\n",
       "      <td>...</td>\n",
       "      <td>NaN</td>\n",
       "      <td>NaN</td>\n",
       "      <td>NaN</td>\n",
       "      <td>NaN</td>\n",
       "      <td>NaN</td>\n",
       "      <td>NaN</td>\n",
       "      <td>NaN</td>\n",
       "      <td>NaN</td>\n",
       "      <td>0</td>\n",
       "      <td>1231</td>\n",
       "    </tr>\n",
       "    <tr>\n",
       "      <th>8</th>\n",
       "      <td>-0.074167</td>\n",
       "      <td>-0.100764</td>\n",
       "      <td>0.098425</td>\n",
       "      <td>-0.109830</td>\n",
       "      <td>0.081148</td>\n",
       "      <td>0.104023</td>\n",
       "      <td>0.099931</td>\n",
       "      <td>0.090601</td>\n",
       "      <td>-0.107588</td>\n",
       "      <td>-0.078290</td>\n",
       "      <td>...</td>\n",
       "      <td>NaN</td>\n",
       "      <td>NaN</td>\n",
       "      <td>NaN</td>\n",
       "      <td>NaN</td>\n",
       "      <td>NaN</td>\n",
       "      <td>NaN</td>\n",
       "      <td>NaN</td>\n",
       "      <td>NaN</td>\n",
       "      <td>1</td>\n",
       "      <td>637</td>\n",
       "    </tr>\n",
       "    <tr>\n",
       "      <th>...</th>\n",
       "      <td>...</td>\n",
       "      <td>...</td>\n",
       "      <td>...</td>\n",
       "      <td>...</td>\n",
       "      <td>...</td>\n",
       "      <td>...</td>\n",
       "      <td>...</td>\n",
       "      <td>...</td>\n",
       "      <td>...</td>\n",
       "      <td>...</td>\n",
       "      <td>...</td>\n",
       "      <td>...</td>\n",
       "      <td>...</td>\n",
       "      <td>...</td>\n",
       "      <td>...</td>\n",
       "      <td>...</td>\n",
       "      <td>...</td>\n",
       "      <td>...</td>\n",
       "      <td>...</td>\n",
       "      <td>...</td>\n",
       "      <td>...</td>\n",
       "    </tr>\n",
       "    <tr>\n",
       "      <th>1507</th>\n",
       "      <td>-0.082015</td>\n",
       "      <td>0.554362</td>\n",
       "      <td>-0.368304</td>\n",
       "      <td>-0.210076</td>\n",
       "      <td>0.053878</td>\n",
       "      <td>-0.217577</td>\n",
       "      <td>-0.577924</td>\n",
       "      <td>-0.293196</td>\n",
       "      <td>-0.112478</td>\n",
       "      <td>-0.521616</td>\n",
       "      <td>...</td>\n",
       "      <td>NaN</td>\n",
       "      <td>NaN</td>\n",
       "      <td>NaN</td>\n",
       "      <td>NaN</td>\n",
       "      <td>NaN</td>\n",
       "      <td>NaN</td>\n",
       "      <td>NaN</td>\n",
       "      <td>NaN</td>\n",
       "      <td>0</td>\n",
       "      <td>1096</td>\n",
       "    </tr>\n",
       "    <tr>\n",
       "      <th>1508</th>\n",
       "      <td>-0.201738</td>\n",
       "      <td>0.307355</td>\n",
       "      <td>-0.093697</td>\n",
       "      <td>0.060396</td>\n",
       "      <td>0.182834</td>\n",
       "      <td>-0.099924</td>\n",
       "      <td>-0.372073</td>\n",
       "      <td>-0.087622</td>\n",
       "      <td>0.101105</td>\n",
       "      <td>-0.032623</td>\n",
       "      <td>...</td>\n",
       "      <td>NaN</td>\n",
       "      <td>NaN</td>\n",
       "      <td>NaN</td>\n",
       "      <td>NaN</td>\n",
       "      <td>NaN</td>\n",
       "      <td>NaN</td>\n",
       "      <td>NaN</td>\n",
       "      <td>NaN</td>\n",
       "      <td>0</td>\n",
       "      <td>1131</td>\n",
       "    </tr>\n",
       "    <tr>\n",
       "      <th>1510</th>\n",
       "      <td>-0.074167</td>\n",
       "      <td>-0.100764</td>\n",
       "      <td>0.098425</td>\n",
       "      <td>-0.109830</td>\n",
       "      <td>0.081148</td>\n",
       "      <td>0.104023</td>\n",
       "      <td>0.099931</td>\n",
       "      <td>0.090601</td>\n",
       "      <td>-0.107588</td>\n",
       "      <td>-0.078290</td>\n",
       "      <td>...</td>\n",
       "      <td>NaN</td>\n",
       "      <td>NaN</td>\n",
       "      <td>NaN</td>\n",
       "      <td>NaN</td>\n",
       "      <td>NaN</td>\n",
       "      <td>NaN</td>\n",
       "      <td>NaN</td>\n",
       "      <td>NaN</td>\n",
       "      <td>0</td>\n",
       "      <td>861</td>\n",
       "    </tr>\n",
       "    <tr>\n",
       "      <th>1511</th>\n",
       "      <td>-0.074167</td>\n",
       "      <td>-0.100764</td>\n",
       "      <td>0.098425</td>\n",
       "      <td>-0.109830</td>\n",
       "      <td>0.081148</td>\n",
       "      <td>0.104023</td>\n",
       "      <td>0.099931</td>\n",
       "      <td>0.090601</td>\n",
       "      <td>-0.107588</td>\n",
       "      <td>-0.078290</td>\n",
       "      <td>...</td>\n",
       "      <td>NaN</td>\n",
       "      <td>NaN</td>\n",
       "      <td>NaN</td>\n",
       "      <td>NaN</td>\n",
       "      <td>NaN</td>\n",
       "      <td>NaN</td>\n",
       "      <td>NaN</td>\n",
       "      <td>NaN</td>\n",
       "      <td>0</td>\n",
       "      <td>1460</td>\n",
       "    </tr>\n",
       "    <tr>\n",
       "      <th>1512</th>\n",
       "      <td>-0.074167</td>\n",
       "      <td>-0.100764</td>\n",
       "      <td>0.098425</td>\n",
       "      <td>-0.109830</td>\n",
       "      <td>0.081148</td>\n",
       "      <td>0.104023</td>\n",
       "      <td>0.099931</td>\n",
       "      <td>0.090601</td>\n",
       "      <td>-0.107588</td>\n",
       "      <td>-0.078290</td>\n",
       "      <td>...</td>\n",
       "      <td>NaN</td>\n",
       "      <td>NaN</td>\n",
       "      <td>NaN</td>\n",
       "      <td>NaN</td>\n",
       "      <td>NaN</td>\n",
       "      <td>NaN</td>\n",
       "      <td>NaN</td>\n",
       "      <td>NaN</td>\n",
       "      <td>0</td>\n",
       "      <td>1127</td>\n",
       "    </tr>\n",
       "  </tbody>\n",
       "</table>\n",
       "<p>1211 rows × 3202 columns</p>\n",
       "</div>"
      ],
      "text/plain": [
       "          A1.0      A1.1      A1.2      A1.3      A1.4      A1.5      A1.6  \\\n",
       "0    -0.074167 -0.100764  0.098425 -0.109830  0.081148  0.104023  0.099931   \n",
       "2    -0.074167 -0.100764  0.098425 -0.109830  0.081148  0.104023  0.099931   \n",
       "4    -0.074167 -0.100764  0.098425 -0.109830  0.081148  0.104023  0.099931   \n",
       "5    -0.081711  0.258757 -0.179455 -0.281934  0.033873 -0.031206 -0.666788   \n",
       "8    -0.074167 -0.100764  0.098425 -0.109830  0.081148  0.104023  0.099931   \n",
       "...        ...       ...       ...       ...       ...       ...       ...   \n",
       "1507 -0.082015  0.554362 -0.368304 -0.210076  0.053878 -0.217577 -0.577924   \n",
       "1508 -0.201738  0.307355 -0.093697  0.060396  0.182834 -0.099924 -0.372073   \n",
       "1510 -0.074167 -0.100764  0.098425 -0.109830  0.081148  0.104023  0.099931   \n",
       "1511 -0.074167 -0.100764  0.098425 -0.109830  0.081148  0.104023  0.099931   \n",
       "1512 -0.074167 -0.100764  0.098425 -0.109830  0.081148  0.104023  0.099931   \n",
       "\n",
       "          A1.7      A1.8      A1.9  ...  E5.120  E5.121  E5.122  E5.123  \\\n",
       "0     0.090601 -0.107588 -0.078290  ...     NaN     NaN     NaN     NaN   \n",
       "2     0.090601 -0.107588 -0.078290  ...     NaN     NaN     NaN     NaN   \n",
       "4     0.090601 -0.107588 -0.078290  ...     NaN     NaN     NaN     NaN   \n",
       "5    -0.077440 -0.100860 -0.022434  ...     NaN     NaN     NaN     NaN   \n",
       "8     0.090601 -0.107588 -0.078290  ...     NaN     NaN     NaN     NaN   \n",
       "...        ...       ...       ...  ...     ...     ...     ...     ...   \n",
       "1507 -0.293196 -0.112478 -0.521616  ...     NaN     NaN     NaN     NaN   \n",
       "1508 -0.087622  0.101105 -0.032623  ...     NaN     NaN     NaN     NaN   \n",
       "1510  0.090601 -0.107588 -0.078290  ...     NaN     NaN     NaN     NaN   \n",
       "1511  0.090601 -0.107588 -0.078290  ...     NaN     NaN     NaN     NaN   \n",
       "1512  0.090601 -0.107588 -0.078290  ...     NaN     NaN     NaN     NaN   \n",
       "\n",
       "      E5.124  E5.125  E5.126  E5.127  Class  Group  \n",
       "0        NaN     NaN     NaN     NaN      0   1002  \n",
       "2        NaN     NaN     NaN     NaN      0    807  \n",
       "4        NaN     NaN     NaN     NaN      1    304  \n",
       "5        NaN     NaN     NaN     NaN      0   1231  \n",
       "8        NaN     NaN     NaN     NaN      1    637  \n",
       "...      ...     ...     ...     ...    ...    ...  \n",
       "1507     NaN     NaN     NaN     NaN      0   1096  \n",
       "1508     NaN     NaN     NaN     NaN      0   1131  \n",
       "1510     NaN     NaN     NaN     NaN      0    861  \n",
       "1511     NaN     NaN     NaN     NaN      0   1460  \n",
       "1512     NaN     NaN     NaN     NaN      0   1127  \n",
       "\n",
       "[1211 rows x 3202 columns]"
      ]
     },
     "execution_count": 50,
     "metadata": {},
     "output_type": "execute_result"
    }
   ],
   "source": [
    "train"
   ]
  },
  {
   "cell_type": "code",
   "execution_count": 51,
   "id": "f2ad1f05",
   "metadata": {},
   "outputs": [
    {
     "data": {
      "text/html": [
       "<div>\n",
       "<style scoped>\n",
       "    .dataframe tbody tr th:only-of-type {\n",
       "        vertical-align: middle;\n",
       "    }\n",
       "\n",
       "    .dataframe tbody tr th {\n",
       "        vertical-align: top;\n",
       "    }\n",
       "\n",
       "    .dataframe thead th {\n",
       "        text-align: right;\n",
       "    }\n",
       "</style>\n",
       "<table border=\"1\" class=\"dataframe\">\n",
       "  <thead>\n",
       "    <tr style=\"text-align: right;\">\n",
       "      <th></th>\n",
       "      <th>A1.0</th>\n",
       "      <th>A1.1</th>\n",
       "      <th>A1.2</th>\n",
       "      <th>A1.3</th>\n",
       "      <th>A1.4</th>\n",
       "      <th>A1.5</th>\n",
       "      <th>A1.6</th>\n",
       "      <th>A1.7</th>\n",
       "      <th>A1.8</th>\n",
       "      <th>A1.9</th>\n",
       "      <th>...</th>\n",
       "      <th>E5.120</th>\n",
       "      <th>E5.121</th>\n",
       "      <th>E5.122</th>\n",
       "      <th>E5.123</th>\n",
       "      <th>E5.124</th>\n",
       "      <th>E5.125</th>\n",
       "      <th>E5.126</th>\n",
       "      <th>E5.127</th>\n",
       "      <th>Class</th>\n",
       "      <th>Group</th>\n",
       "    </tr>\n",
       "  </thead>\n",
       "  <tbody>\n",
       "    <tr>\n",
       "      <th>3</th>\n",
       "      <td>-0.188393</td>\n",
       "      <td>0.171437</td>\n",
       "      <td>-0.050890</td>\n",
       "      <td>-0.260749</td>\n",
       "      <td>0.209574</td>\n",
       "      <td>0.135822</td>\n",
       "      <td>-0.554064</td>\n",
       "      <td>0.202823</td>\n",
       "      <td>-0.085376</td>\n",
       "      <td>-0.068773</td>\n",
       "      <td>...</td>\n",
       "      <td>NaN</td>\n",
       "      <td>NaN</td>\n",
       "      <td>NaN</td>\n",
       "      <td>NaN</td>\n",
       "      <td>NaN</td>\n",
       "      <td>NaN</td>\n",
       "      <td>NaN</td>\n",
       "      <td>NaN</td>\n",
       "      <td>0</td>\n",
       "      <td>944</td>\n",
       "    </tr>\n",
       "    <tr>\n",
       "      <th>7</th>\n",
       "      <td>-0.074167</td>\n",
       "      <td>-0.100764</td>\n",
       "      <td>0.098425</td>\n",
       "      <td>-0.109830</td>\n",
       "      <td>0.081148</td>\n",
       "      <td>0.104023</td>\n",
       "      <td>0.099931</td>\n",
       "      <td>0.090601</td>\n",
       "      <td>-0.107588</td>\n",
       "      <td>-0.078290</td>\n",
       "      <td>...</td>\n",
       "      <td>NaN</td>\n",
       "      <td>NaN</td>\n",
       "      <td>NaN</td>\n",
       "      <td>NaN</td>\n",
       "      <td>NaN</td>\n",
       "      <td>NaN</td>\n",
       "      <td>NaN</td>\n",
       "      <td>NaN</td>\n",
       "      <td>1</td>\n",
       "      <td>343</td>\n",
       "    </tr>\n",
       "    <tr>\n",
       "      <th>26</th>\n",
       "      <td>-0.074167</td>\n",
       "      <td>-0.100764</td>\n",
       "      <td>0.098425</td>\n",
       "      <td>-0.109830</td>\n",
       "      <td>0.081148</td>\n",
       "      <td>0.104023</td>\n",
       "      <td>0.099931</td>\n",
       "      <td>0.090601</td>\n",
       "      <td>-0.107588</td>\n",
       "      <td>-0.078290</td>\n",
       "      <td>...</td>\n",
       "      <td>NaN</td>\n",
       "      <td>NaN</td>\n",
       "      <td>NaN</td>\n",
       "      <td>NaN</td>\n",
       "      <td>NaN</td>\n",
       "      <td>NaN</td>\n",
       "      <td>NaN</td>\n",
       "      <td>NaN</td>\n",
       "      <td>1</td>\n",
       "      <td>463</td>\n",
       "    </tr>\n",
       "    <tr>\n",
       "      <th>29</th>\n",
       "      <td>-0.074167</td>\n",
       "      <td>-0.100764</td>\n",
       "      <td>0.098425</td>\n",
       "      <td>-0.109830</td>\n",
       "      <td>0.081148</td>\n",
       "      <td>0.104023</td>\n",
       "      <td>0.099931</td>\n",
       "      <td>0.090601</td>\n",
       "      <td>-0.107588</td>\n",
       "      <td>-0.078290</td>\n",
       "      <td>...</td>\n",
       "      <td>NaN</td>\n",
       "      <td>NaN</td>\n",
       "      <td>NaN</td>\n",
       "      <td>NaN</td>\n",
       "      <td>NaN</td>\n",
       "      <td>NaN</td>\n",
       "      <td>NaN</td>\n",
       "      <td>NaN</td>\n",
       "      <td>0</td>\n",
       "      <td>1484</td>\n",
       "    </tr>\n",
       "    <tr>\n",
       "      <th>49</th>\n",
       "      <td>-0.155929</td>\n",
       "      <td>0.288714</td>\n",
       "      <td>-0.169346</td>\n",
       "      <td>-0.164471</td>\n",
       "      <td>0.086029</td>\n",
       "      <td>-0.130630</td>\n",
       "      <td>-0.448230</td>\n",
       "      <td>-0.022381</td>\n",
       "      <td>-0.026863</td>\n",
       "      <td>-0.224100</td>\n",
       "      <td>...</td>\n",
       "      <td>NaN</td>\n",
       "      <td>NaN</td>\n",
       "      <td>NaN</td>\n",
       "      <td>NaN</td>\n",
       "      <td>NaN</td>\n",
       "      <td>NaN</td>\n",
       "      <td>NaN</td>\n",
       "      <td>NaN</td>\n",
       "      <td>1</td>\n",
       "      <td>52</td>\n",
       "    </tr>\n",
       "    <tr>\n",
       "      <th>...</th>\n",
       "      <td>...</td>\n",
       "      <td>...</td>\n",
       "      <td>...</td>\n",
       "      <td>...</td>\n",
       "      <td>...</td>\n",
       "      <td>...</td>\n",
       "      <td>...</td>\n",
       "      <td>...</td>\n",
       "      <td>...</td>\n",
       "      <td>...</td>\n",
       "      <td>...</td>\n",
       "      <td>...</td>\n",
       "      <td>...</td>\n",
       "      <td>...</td>\n",
       "      <td>...</td>\n",
       "      <td>...</td>\n",
       "      <td>...</td>\n",
       "      <td>...</td>\n",
       "      <td>...</td>\n",
       "      <td>...</td>\n",
       "      <td>...</td>\n",
       "    </tr>\n",
       "    <tr>\n",
       "      <th>1470</th>\n",
       "      <td>-0.074167</td>\n",
       "      <td>-0.100764</td>\n",
       "      <td>0.098425</td>\n",
       "      <td>-0.109830</td>\n",
       "      <td>0.081148</td>\n",
       "      <td>0.104023</td>\n",
       "      <td>0.099931</td>\n",
       "      <td>0.090601</td>\n",
       "      <td>-0.107588</td>\n",
       "      <td>-0.078290</td>\n",
       "      <td>...</td>\n",
       "      <td>NaN</td>\n",
       "      <td>NaN</td>\n",
       "      <td>NaN</td>\n",
       "      <td>NaN</td>\n",
       "      <td>NaN</td>\n",
       "      <td>NaN</td>\n",
       "      <td>NaN</td>\n",
       "      <td>NaN</td>\n",
       "      <td>1</td>\n",
       "      <td>563</td>\n",
       "    </tr>\n",
       "    <tr>\n",
       "      <th>1471</th>\n",
       "      <td>-0.074167</td>\n",
       "      <td>-0.100764</td>\n",
       "      <td>0.098425</td>\n",
       "      <td>-0.109830</td>\n",
       "      <td>0.081148</td>\n",
       "      <td>0.104023</td>\n",
       "      <td>0.099931</td>\n",
       "      <td>0.090601</td>\n",
       "      <td>-0.107588</td>\n",
       "      <td>-0.078290</td>\n",
       "      <td>...</td>\n",
       "      <td>NaN</td>\n",
       "      <td>NaN</td>\n",
       "      <td>NaN</td>\n",
       "      <td>NaN</td>\n",
       "      <td>NaN</td>\n",
       "      <td>NaN</td>\n",
       "      <td>NaN</td>\n",
       "      <td>NaN</td>\n",
       "      <td>0</td>\n",
       "      <td>1474</td>\n",
       "    </tr>\n",
       "    <tr>\n",
       "      <th>1482</th>\n",
       "      <td>-0.074167</td>\n",
       "      <td>-0.100764</td>\n",
       "      <td>0.098425</td>\n",
       "      <td>-0.109830</td>\n",
       "      <td>0.081148</td>\n",
       "      <td>0.104023</td>\n",
       "      <td>0.099931</td>\n",
       "      <td>0.090601</td>\n",
       "      <td>-0.107588</td>\n",
       "      <td>-0.078290</td>\n",
       "      <td>...</td>\n",
       "      <td>NaN</td>\n",
       "      <td>NaN</td>\n",
       "      <td>NaN</td>\n",
       "      <td>NaN</td>\n",
       "      <td>NaN</td>\n",
       "      <td>NaN</td>\n",
       "      <td>NaN</td>\n",
       "      <td>NaN</td>\n",
       "      <td>1</td>\n",
       "      <td>253</td>\n",
       "    </tr>\n",
       "    <tr>\n",
       "      <th>1498</th>\n",
       "      <td>-0.199091</td>\n",
       "      <td>0.082987</td>\n",
       "      <td>-0.025064</td>\n",
       "      <td>-0.072913</td>\n",
       "      <td>0.090581</td>\n",
       "      <td>0.165142</td>\n",
       "      <td>-0.709387</td>\n",
       "      <td>-0.053813</td>\n",
       "      <td>-0.099465</td>\n",
       "      <td>-0.232290</td>\n",
       "      <td>...</td>\n",
       "      <td>NaN</td>\n",
       "      <td>NaN</td>\n",
       "      <td>NaN</td>\n",
       "      <td>NaN</td>\n",
       "      <td>NaN</td>\n",
       "      <td>NaN</td>\n",
       "      <td>NaN</td>\n",
       "      <td>NaN</td>\n",
       "      <td>0</td>\n",
       "      <td>1124</td>\n",
       "    </tr>\n",
       "    <tr>\n",
       "      <th>1509</th>\n",
       "      <td>-0.301355</td>\n",
       "      <td>0.176946</td>\n",
       "      <td>-0.052781</td>\n",
       "      <td>-0.233931</td>\n",
       "      <td>0.033467</td>\n",
       "      <td>-0.127514</td>\n",
       "      <td>-0.600916</td>\n",
       "      <td>-0.214076</td>\n",
       "      <td>-0.081580</td>\n",
       "      <td>-0.058680</td>\n",
       "      <td>...</td>\n",
       "      <td>NaN</td>\n",
       "      <td>NaN</td>\n",
       "      <td>NaN</td>\n",
       "      <td>NaN</td>\n",
       "      <td>NaN</td>\n",
       "      <td>NaN</td>\n",
       "      <td>NaN</td>\n",
       "      <td>NaN</td>\n",
       "      <td>0</td>\n",
       "      <td>1295</td>\n",
       "    </tr>\n",
       "  </tbody>\n",
       "</table>\n",
       "<p>151 rows × 3202 columns</p>\n",
       "</div>"
      ],
      "text/plain": [
       "          A1.0      A1.1      A1.2      A1.3      A1.4      A1.5      A1.6  \\\n",
       "3    -0.188393  0.171437 -0.050890 -0.260749  0.209574  0.135822 -0.554064   \n",
       "7    -0.074167 -0.100764  0.098425 -0.109830  0.081148  0.104023  0.099931   \n",
       "26   -0.074167 -0.100764  0.098425 -0.109830  0.081148  0.104023  0.099931   \n",
       "29   -0.074167 -0.100764  0.098425 -0.109830  0.081148  0.104023  0.099931   \n",
       "49   -0.155929  0.288714 -0.169346 -0.164471  0.086029 -0.130630 -0.448230   \n",
       "...        ...       ...       ...       ...       ...       ...       ...   \n",
       "1470 -0.074167 -0.100764  0.098425 -0.109830  0.081148  0.104023  0.099931   \n",
       "1471 -0.074167 -0.100764  0.098425 -0.109830  0.081148  0.104023  0.099931   \n",
       "1482 -0.074167 -0.100764  0.098425 -0.109830  0.081148  0.104023  0.099931   \n",
       "1498 -0.199091  0.082987 -0.025064 -0.072913  0.090581  0.165142 -0.709387   \n",
       "1509 -0.301355  0.176946 -0.052781 -0.233931  0.033467 -0.127514 -0.600916   \n",
       "\n",
       "          A1.7      A1.8      A1.9  ...  E5.120  E5.121  E5.122  E5.123  \\\n",
       "3     0.202823 -0.085376 -0.068773  ...     NaN     NaN     NaN     NaN   \n",
       "7     0.090601 -0.107588 -0.078290  ...     NaN     NaN     NaN     NaN   \n",
       "26    0.090601 -0.107588 -0.078290  ...     NaN     NaN     NaN     NaN   \n",
       "29    0.090601 -0.107588 -0.078290  ...     NaN     NaN     NaN     NaN   \n",
       "49   -0.022381 -0.026863 -0.224100  ...     NaN     NaN     NaN     NaN   \n",
       "...        ...       ...       ...  ...     ...     ...     ...     ...   \n",
       "1470  0.090601 -0.107588 -0.078290  ...     NaN     NaN     NaN     NaN   \n",
       "1471  0.090601 -0.107588 -0.078290  ...     NaN     NaN     NaN     NaN   \n",
       "1482  0.090601 -0.107588 -0.078290  ...     NaN     NaN     NaN     NaN   \n",
       "1498 -0.053813 -0.099465 -0.232290  ...     NaN     NaN     NaN     NaN   \n",
       "1509 -0.214076 -0.081580 -0.058680  ...     NaN     NaN     NaN     NaN   \n",
       "\n",
       "      E5.124  E5.125  E5.126  E5.127  Class  Group  \n",
       "3        NaN     NaN     NaN     NaN      0    944  \n",
       "7        NaN     NaN     NaN     NaN      1    343  \n",
       "26       NaN     NaN     NaN     NaN      1    463  \n",
       "29       NaN     NaN     NaN     NaN      0   1484  \n",
       "49       NaN     NaN     NaN     NaN      1     52  \n",
       "...      ...     ...     ...     ...    ...    ...  \n",
       "1470     NaN     NaN     NaN     NaN      1    563  \n",
       "1471     NaN     NaN     NaN     NaN      0   1474  \n",
       "1482     NaN     NaN     NaN     NaN      1    253  \n",
       "1498     NaN     NaN     NaN     NaN      0   1124  \n",
       "1509     NaN     NaN     NaN     NaN      0   1295  \n",
       "\n",
       "[151 rows x 3202 columns]"
      ]
     },
     "execution_count": 51,
     "metadata": {},
     "output_type": "execute_result"
    }
   ],
   "source": [
    "valid"
   ]
  },
  {
   "cell_type": "code",
   "execution_count": 52,
   "id": "ce87e061",
   "metadata": {},
   "outputs": [
    {
     "data": {
      "text/html": [
       "<div>\n",
       "<style scoped>\n",
       "    .dataframe tbody tr th:only-of-type {\n",
       "        vertical-align: middle;\n",
       "    }\n",
       "\n",
       "    .dataframe tbody tr th {\n",
       "        vertical-align: top;\n",
       "    }\n",
       "\n",
       "    .dataframe thead th {\n",
       "        text-align: right;\n",
       "    }\n",
       "</style>\n",
       "<table border=\"1\" class=\"dataframe\">\n",
       "  <thead>\n",
       "    <tr style=\"text-align: right;\">\n",
       "      <th></th>\n",
       "      <th>A1.0</th>\n",
       "      <th>A1.1</th>\n",
       "      <th>A1.2</th>\n",
       "      <th>A1.3</th>\n",
       "      <th>A1.4</th>\n",
       "      <th>A1.5</th>\n",
       "      <th>A1.6</th>\n",
       "      <th>A1.7</th>\n",
       "      <th>A1.8</th>\n",
       "      <th>A1.9</th>\n",
       "      <th>...</th>\n",
       "      <th>E5.120</th>\n",
       "      <th>E5.121</th>\n",
       "      <th>E5.122</th>\n",
       "      <th>E5.123</th>\n",
       "      <th>E5.124</th>\n",
       "      <th>E5.125</th>\n",
       "      <th>E5.126</th>\n",
       "      <th>E5.127</th>\n",
       "      <th>Class</th>\n",
       "      <th>Group</th>\n",
       "    </tr>\n",
       "  </thead>\n",
       "  <tbody>\n",
       "    <tr>\n",
       "      <th>1</th>\n",
       "      <td>-0.357394</td>\n",
       "      <td>0.233842</td>\n",
       "      <td>-0.039962</td>\n",
       "      <td>-0.320740</td>\n",
       "      <td>0.084283</td>\n",
       "      <td>0.133123</td>\n",
       "      <td>-0.711405</td>\n",
       "      <td>-0.088413</td>\n",
       "      <td>-0.038658</td>\n",
       "      <td>-0.277579</td>\n",
       "      <td>...</td>\n",
       "      <td>NaN</td>\n",
       "      <td>NaN</td>\n",
       "      <td>NaN</td>\n",
       "      <td>NaN</td>\n",
       "      <td>NaN</td>\n",
       "      <td>NaN</td>\n",
       "      <td>NaN</td>\n",
       "      <td>NaN</td>\n",
       "      <td>1</td>\n",
       "      <td>619</td>\n",
       "    </tr>\n",
       "    <tr>\n",
       "      <th>6</th>\n",
       "      <td>-0.025850</td>\n",
       "      <td>-0.079531</td>\n",
       "      <td>-0.183058</td>\n",
       "      <td>-0.138238</td>\n",
       "      <td>0.206863</td>\n",
       "      <td>-0.090294</td>\n",
       "      <td>-0.389763</td>\n",
       "      <td>-0.088475</td>\n",
       "      <td>-0.092399</td>\n",
       "      <td>-0.176935</td>\n",
       "      <td>...</td>\n",
       "      <td>NaN</td>\n",
       "      <td>NaN</td>\n",
       "      <td>NaN</td>\n",
       "      <td>NaN</td>\n",
       "      <td>NaN</td>\n",
       "      <td>NaN</td>\n",
       "      <td>NaN</td>\n",
       "      <td>NaN</td>\n",
       "      <td>0</td>\n",
       "      <td>176</td>\n",
       "    </tr>\n",
       "    <tr>\n",
       "      <th>13</th>\n",
       "      <td>-0.222103</td>\n",
       "      <td>0.228979</td>\n",
       "      <td>-0.105385</td>\n",
       "      <td>-0.155759</td>\n",
       "      <td>0.076687</td>\n",
       "      <td>-0.017499</td>\n",
       "      <td>-0.532614</td>\n",
       "      <td>-0.265836</td>\n",
       "      <td>0.015679</td>\n",
       "      <td>-0.324867</td>\n",
       "      <td>...</td>\n",
       "      <td>NaN</td>\n",
       "      <td>NaN</td>\n",
       "      <td>NaN</td>\n",
       "      <td>NaN</td>\n",
       "      <td>NaN</td>\n",
       "      <td>NaN</td>\n",
       "      <td>NaN</td>\n",
       "      <td>NaN</td>\n",
       "      <td>1</td>\n",
       "      <td>568</td>\n",
       "    </tr>\n",
       "    <tr>\n",
       "      <th>24</th>\n",
       "      <td>-0.074167</td>\n",
       "      <td>-0.100764</td>\n",
       "      <td>0.098425</td>\n",
       "      <td>-0.109830</td>\n",
       "      <td>0.081148</td>\n",
       "      <td>0.104023</td>\n",
       "      <td>0.099931</td>\n",
       "      <td>0.090601</td>\n",
       "      <td>-0.107588</td>\n",
       "      <td>-0.078290</td>\n",
       "      <td>...</td>\n",
       "      <td>NaN</td>\n",
       "      <td>NaN</td>\n",
       "      <td>NaN</td>\n",
       "      <td>NaN</td>\n",
       "      <td>NaN</td>\n",
       "      <td>NaN</td>\n",
       "      <td>NaN</td>\n",
       "      <td>NaN</td>\n",
       "      <td>1</td>\n",
       "      <td>429</td>\n",
       "    </tr>\n",
       "    <tr>\n",
       "      <th>28</th>\n",
       "      <td>-0.074167</td>\n",
       "      <td>-0.100764</td>\n",
       "      <td>0.098425</td>\n",
       "      <td>-0.109830</td>\n",
       "      <td>0.081148</td>\n",
       "      <td>0.104023</td>\n",
       "      <td>0.099931</td>\n",
       "      <td>0.090601</td>\n",
       "      <td>-0.107588</td>\n",
       "      <td>-0.078290</td>\n",
       "      <td>...</td>\n",
       "      <td>NaN</td>\n",
       "      <td>NaN</td>\n",
       "      <td>NaN</td>\n",
       "      <td>NaN</td>\n",
       "      <td>NaN</td>\n",
       "      <td>NaN</td>\n",
       "      <td>NaN</td>\n",
       "      <td>NaN</td>\n",
       "      <td>0</td>\n",
       "      <td>1466</td>\n",
       "    </tr>\n",
       "    <tr>\n",
       "      <th>...</th>\n",
       "      <td>...</td>\n",
       "      <td>...</td>\n",
       "      <td>...</td>\n",
       "      <td>...</td>\n",
       "      <td>...</td>\n",
       "      <td>...</td>\n",
       "      <td>...</td>\n",
       "      <td>...</td>\n",
       "      <td>...</td>\n",
       "      <td>...</td>\n",
       "      <td>...</td>\n",
       "      <td>...</td>\n",
       "      <td>...</td>\n",
       "      <td>...</td>\n",
       "      <td>...</td>\n",
       "      <td>...</td>\n",
       "      <td>...</td>\n",
       "      <td>...</td>\n",
       "      <td>...</td>\n",
       "      <td>...</td>\n",
       "      <td>...</td>\n",
       "    </tr>\n",
       "    <tr>\n",
       "      <th>1432</th>\n",
       "      <td>-0.074167</td>\n",
       "      <td>-0.100764</td>\n",
       "      <td>0.098425</td>\n",
       "      <td>-0.109830</td>\n",
       "      <td>0.081148</td>\n",
       "      <td>0.104023</td>\n",
       "      <td>0.099931</td>\n",
       "      <td>0.090601</td>\n",
       "      <td>-0.107588</td>\n",
       "      <td>-0.078290</td>\n",
       "      <td>...</td>\n",
       "      <td>NaN</td>\n",
       "      <td>NaN</td>\n",
       "      <td>NaN</td>\n",
       "      <td>NaN</td>\n",
       "      <td>NaN</td>\n",
       "      <td>NaN</td>\n",
       "      <td>NaN</td>\n",
       "      <td>NaN</td>\n",
       "      <td>0</td>\n",
       "      <td>996</td>\n",
       "    </tr>\n",
       "    <tr>\n",
       "      <th>1442</th>\n",
       "      <td>-0.074167</td>\n",
       "      <td>-0.100764</td>\n",
       "      <td>0.098425</td>\n",
       "      <td>-0.109830</td>\n",
       "      <td>0.081148</td>\n",
       "      <td>0.104023</td>\n",
       "      <td>0.099931</td>\n",
       "      <td>0.090601</td>\n",
       "      <td>-0.107588</td>\n",
       "      <td>-0.078290</td>\n",
       "      <td>...</td>\n",
       "      <td>NaN</td>\n",
       "      <td>NaN</td>\n",
       "      <td>NaN</td>\n",
       "      <td>NaN</td>\n",
       "      <td>NaN</td>\n",
       "      <td>NaN</td>\n",
       "      <td>NaN</td>\n",
       "      <td>NaN</td>\n",
       "      <td>0</td>\n",
       "      <td>1026</td>\n",
       "    </tr>\n",
       "    <tr>\n",
       "      <th>1461</th>\n",
       "      <td>-0.074167</td>\n",
       "      <td>-0.100764</td>\n",
       "      <td>0.098425</td>\n",
       "      <td>-0.109830</td>\n",
       "      <td>0.081148</td>\n",
       "      <td>0.104023</td>\n",
       "      <td>0.099931</td>\n",
       "      <td>0.090601</td>\n",
       "      <td>-0.107588</td>\n",
       "      <td>-0.078290</td>\n",
       "      <td>...</td>\n",
       "      <td>NaN</td>\n",
       "      <td>NaN</td>\n",
       "      <td>NaN</td>\n",
       "      <td>NaN</td>\n",
       "      <td>NaN</td>\n",
       "      <td>NaN</td>\n",
       "      <td>NaN</td>\n",
       "      <td>NaN</td>\n",
       "      <td>1</td>\n",
       "      <td>388</td>\n",
       "    </tr>\n",
       "    <tr>\n",
       "      <th>1480</th>\n",
       "      <td>-0.074167</td>\n",
       "      <td>-0.100764</td>\n",
       "      <td>0.098425</td>\n",
       "      <td>-0.109830</td>\n",
       "      <td>0.081148</td>\n",
       "      <td>0.104023</td>\n",
       "      <td>0.099931</td>\n",
       "      <td>0.090601</td>\n",
       "      <td>-0.107588</td>\n",
       "      <td>-0.078290</td>\n",
       "      <td>...</td>\n",
       "      <td>NaN</td>\n",
       "      <td>NaN</td>\n",
       "      <td>NaN</td>\n",
       "      <td>NaN</td>\n",
       "      <td>NaN</td>\n",
       "      <td>NaN</td>\n",
       "      <td>NaN</td>\n",
       "      <td>NaN</td>\n",
       "      <td>0</td>\n",
       "      <td>857</td>\n",
       "    </tr>\n",
       "    <tr>\n",
       "      <th>1491</th>\n",
       "      <td>-0.306057</td>\n",
       "      <td>0.241246</td>\n",
       "      <td>-0.030038</td>\n",
       "      <td>-0.270591</td>\n",
       "      <td>0.043034</td>\n",
       "      <td>-0.123399</td>\n",
       "      <td>-0.546552</td>\n",
       "      <td>-0.132708</td>\n",
       "      <td>0.005589</td>\n",
       "      <td>-0.061626</td>\n",
       "      <td>...</td>\n",
       "      <td>NaN</td>\n",
       "      <td>NaN</td>\n",
       "      <td>NaN</td>\n",
       "      <td>NaN</td>\n",
       "      <td>NaN</td>\n",
       "      <td>NaN</td>\n",
       "      <td>NaN</td>\n",
       "      <td>NaN</td>\n",
       "      <td>0</td>\n",
       "      <td>806</td>\n",
       "    </tr>\n",
       "  </tbody>\n",
       "</table>\n",
       "<p>151 rows × 3202 columns</p>\n",
       "</div>"
      ],
      "text/plain": [
       "          A1.0      A1.1      A1.2      A1.3      A1.4      A1.5      A1.6  \\\n",
       "1    -0.357394  0.233842 -0.039962 -0.320740  0.084283  0.133123 -0.711405   \n",
       "6    -0.025850 -0.079531 -0.183058 -0.138238  0.206863 -0.090294 -0.389763   \n",
       "13   -0.222103  0.228979 -0.105385 -0.155759  0.076687 -0.017499 -0.532614   \n",
       "24   -0.074167 -0.100764  0.098425 -0.109830  0.081148  0.104023  0.099931   \n",
       "28   -0.074167 -0.100764  0.098425 -0.109830  0.081148  0.104023  0.099931   \n",
       "...        ...       ...       ...       ...       ...       ...       ...   \n",
       "1432 -0.074167 -0.100764  0.098425 -0.109830  0.081148  0.104023  0.099931   \n",
       "1442 -0.074167 -0.100764  0.098425 -0.109830  0.081148  0.104023  0.099931   \n",
       "1461 -0.074167 -0.100764  0.098425 -0.109830  0.081148  0.104023  0.099931   \n",
       "1480 -0.074167 -0.100764  0.098425 -0.109830  0.081148  0.104023  0.099931   \n",
       "1491 -0.306057  0.241246 -0.030038 -0.270591  0.043034 -0.123399 -0.546552   \n",
       "\n",
       "          A1.7      A1.8      A1.9  ...  E5.120  E5.121  E5.122  E5.123  \\\n",
       "1    -0.088413 -0.038658 -0.277579  ...     NaN     NaN     NaN     NaN   \n",
       "6    -0.088475 -0.092399 -0.176935  ...     NaN     NaN     NaN     NaN   \n",
       "13   -0.265836  0.015679 -0.324867  ...     NaN     NaN     NaN     NaN   \n",
       "24    0.090601 -0.107588 -0.078290  ...     NaN     NaN     NaN     NaN   \n",
       "28    0.090601 -0.107588 -0.078290  ...     NaN     NaN     NaN     NaN   \n",
       "...        ...       ...       ...  ...     ...     ...     ...     ...   \n",
       "1432  0.090601 -0.107588 -0.078290  ...     NaN     NaN     NaN     NaN   \n",
       "1442  0.090601 -0.107588 -0.078290  ...     NaN     NaN     NaN     NaN   \n",
       "1461  0.090601 -0.107588 -0.078290  ...     NaN     NaN     NaN     NaN   \n",
       "1480  0.090601 -0.107588 -0.078290  ...     NaN     NaN     NaN     NaN   \n",
       "1491 -0.132708  0.005589 -0.061626  ...     NaN     NaN     NaN     NaN   \n",
       "\n",
       "      E5.124  E5.125  E5.126  E5.127  Class  Group  \n",
       "1        NaN     NaN     NaN     NaN      1    619  \n",
       "6        NaN     NaN     NaN     NaN      0    176  \n",
       "13       NaN     NaN     NaN     NaN      1    568  \n",
       "24       NaN     NaN     NaN     NaN      1    429  \n",
       "28       NaN     NaN     NaN     NaN      0   1466  \n",
       "...      ...     ...     ...     ...    ...    ...  \n",
       "1432     NaN     NaN     NaN     NaN      0    996  \n",
       "1442     NaN     NaN     NaN     NaN      0   1026  \n",
       "1461     NaN     NaN     NaN     NaN      1    388  \n",
       "1480     NaN     NaN     NaN     NaN      0    857  \n",
       "1491     NaN     NaN     NaN     NaN      0    806  \n",
       "\n",
       "[151 rows x 3202 columns]"
      ]
     },
     "execution_count": 52,
     "metadata": {},
     "output_type": "execute_result"
    }
   ],
   "source": [
    "test"
   ]
  },
  {
   "cell_type": "code",
   "execution_count": 51,
   "id": "1b4b8622",
   "metadata": {},
   "outputs": [
    {
     "ename": "TypeError",
     "evalue": "'generator' object is not subscriptable",
     "output_type": "error",
     "traceback": [
      "\u001b[0;31m---------------------------------------------------------------------------\u001b[0m",
      "\u001b[0;31mTypeError\u001b[0m                                 Traceback (most recent call last)",
      "Cell \u001b[0;32mIn[51], line 1\u001b[0m\n\u001b[0;32m----> 1\u001b[0m \u001b[43mcv_group\u001b[49m\u001b[43m[\u001b[49m\u001b[38;5;241;43m1\u001b[39;49m\u001b[43m]\u001b[49m\n",
      "\u001b[0;31mTypeError\u001b[0m: 'generator' object is not subscriptable"
     ]
    }
   ],
   "source": []
  }
 ],
 "metadata": {
  "kernelspec": {
   "display_name": "Python 3 (ipykernel)",
   "language": "python",
   "name": "python3"
  },
  "language_info": {
   "codemirror_mode": {
    "name": "ipython",
    "version": 3
   },
   "file_extension": ".py",
   "mimetype": "text/x-python",
   "name": "python",
   "nbconvert_exporter": "python",
   "pygments_lexer": "ipython3",
   "version": "3.11.4"
  }
 },
 "nbformat": 4,
 "nbformat_minor": 5
}
