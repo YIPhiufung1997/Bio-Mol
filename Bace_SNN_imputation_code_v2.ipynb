{
 "cells": [
  {
   "cell_type": "code",
   "execution_count": null,
   "id": "689dcf49",
   "metadata": {},
   "outputs": [],
   "source": [
    "\n",
    "\n"
   ]
  },
  {
   "cell_type": "code",
   "execution_count": 1,
   "id": "5c8d3436",
   "metadata": {},
   "outputs": [
    {
     "name": "stderr",
     "output_type": "stream",
     "text": [
      "/home/math/20481926/.conda/envs/my-rdkit-env/lib/python3.11/site-packages/umap/distances.py:1063: NumbaDeprecationWarning: \u001b[1mThe 'nopython' keyword argument was not supplied to the 'numba.jit' decorator. The implicit default value for this argument is currently False, but it will be changed to True in Numba 0.59.0. See https://numba.readthedocs.io/en/stable/reference/deprecation.html#deprecation-of-object-mode-fall-back-behaviour-when-using-jit for details.\u001b[0m\n",
      "  @numba.jit()\n",
      "/home/math/20481926/.conda/envs/my-rdkit-env/lib/python3.11/site-packages/umap/distances.py:1071: NumbaDeprecationWarning: \u001b[1mThe 'nopython' keyword argument was not supplied to the 'numba.jit' decorator. The implicit default value for this argument is currently False, but it will be changed to True in Numba 0.59.0. See https://numba.readthedocs.io/en/stable/reference/deprecation.html#deprecation-of-object-mode-fall-back-behaviour-when-using-jit for details.\u001b[0m\n",
      "  @numba.jit()\n",
      "/home/math/20481926/.conda/envs/my-rdkit-env/lib/python3.11/site-packages/umap/distances.py:1086: NumbaDeprecationWarning: \u001b[1mThe 'nopython' keyword argument was not supplied to the 'numba.jit' decorator. The implicit default value for this argument is currently False, but it will be changed to True in Numba 0.59.0. See https://numba.readthedocs.io/en/stable/reference/deprecation.html#deprecation-of-object-mode-fall-back-behaviour-when-using-jit for details.\u001b[0m\n",
      "  @numba.jit()\n",
      "/home/math/20481926/.conda/envs/my-rdkit-env/lib/python3.11/site-packages/tqdm/auto.py:21: TqdmWarning: IProgress not found. Please update jupyter and ipywidgets. See https://ipywidgets.readthedocs.io/en/stable/user_install.html\n",
      "  from .autonotebook import tqdm as notebook_tqdm\n",
      "/home/math/20481926/.conda/envs/my-rdkit-env/lib/python3.11/site-packages/umap/umap_.py:660: NumbaDeprecationWarning: \u001b[1mThe 'nopython' keyword argument was not supplied to the 'numba.jit' decorator. The implicit default value for this argument is currently False, but it will be changed to True in Numba 0.59.0. See https://numba.readthedocs.io/en/stable/reference/deprecation.html#deprecation-of-object-mode-fall-back-behaviour-when-using-jit for details.\u001b[0m\n",
      "  @numba.jit()\n",
      "2023-09-20 10:54:22.057631: I tensorflow/core/platform/cpu_feature_guard.cc:182] This TensorFlow binary is optimized to use available CPU instructions in performance-critical operations.\n",
      "To enable the following instructions: AVX2 FMA, in other operations, rebuild TensorFlow with the appropriate compiler flags.\n",
      "2023-09-20 10:54:23.114147: W tensorflow/compiler/tf2tensorrt/utils/py_utils.cc:38] TF-TRT Warning: Could not find TensorRT\n"
     ]
    }
   ],
   "source": [
    "import random \n",
    "# device = torch.device('cuda') if torch.cuda.is_available() else torch.device('cpu')\n",
    "# print(device)\n",
    "# import numpy as np\n",
    "import pandas as pd\n",
    "import umap\n",
    "import matplotlib.pyplot as plt\n",
    "from sklearn.preprocessing import StandardScaler\n",
    "import rdkit as rd\n",
    "from rdkit import Chem\n",
    "# import torch.nn as nn\n",
    "import h5py \n",
    "from sklearn import metrics "
   ]
  },
  {
   "cell_type": "code",
   "execution_count": 2,
   "id": "812468e7",
   "metadata": {},
   "outputs": [],
   "source": [
    "from signaturizer import Signaturizer\n",
    "# sign = Signaturizer('A1')\n",
    "import numpy as np\n",
    "np.bool = np.bool_"
   ]
  },
  {
   "cell_type": "code",
   "execution_count": 3,
   "id": "88d1ea2f",
   "metadata": {},
   "outputs": [],
   "source": [
    "#### HIV dataset\n",
    "data=pd.read_csv(\"~/Small_molecule_bioactivity_impute/dataset/bace.csv\")\n",
    "extend_data=pd.read_csv(\"bace_extend.csv\")\n",
    "# HIV_data.head()\n",
    "# from signaturizer import Signaturizer\n",
    "# sign = Signaturizer('A1')\n",
    "# import numpy as np\n",
    "# np.bool = np.bool_\n",
    "\n",
    "# HIV_data[\"smiles\"][0]\n",
    "# HIV_A1 = sign.predict(HIV_data[\"smiles\"])\n",
    "# HIV_A1\n",
    "# other_zeros=np.zeros((HIV_A1.signature.shape[0],HIV_A1.signature.shape[1]*24), dtype=float)\n",
    "# HIV_A1_ourmethod=np.concatenate([HIV_A1.signature, other_zeros], axis=1)\n",
    "# ##### train test split by our imputation\n",
    "# y=HIV_data[\"HIV_active\"]\n",
    "# f"
   ]
  },
  {
   "cell_type": "code",
   "execution_count": null,
   "id": "b090445f",
   "metadata": {},
   "outputs": [],
   "source": []
  },
  {
   "cell_type": "code",
   "execution_count": 4,
   "id": "7cfa3323",
   "metadata": {},
   "outputs": [
    {
     "data": {
      "text/html": [
       "<div>\n",
       "<style scoped>\n",
       "    .dataframe tbody tr th:only-of-type {\n",
       "        vertical-align: middle;\n",
       "    }\n",
       "\n",
       "    .dataframe tbody tr th {\n",
       "        vertical-align: top;\n",
       "    }\n",
       "\n",
       "    .dataframe thead th {\n",
       "        text-align: right;\n",
       "    }\n",
       "</style>\n",
       "<table border=\"1\" class=\"dataframe\">\n",
       "  <thead>\n",
       "    <tr style=\"text-align: right;\">\n",
       "      <th></th>\n",
       "      <th>Unnamed: 0</th>\n",
       "      <th>index</th>\n",
       "      <th>A1.0</th>\n",
       "      <th>A1.1</th>\n",
       "      <th>A1.2</th>\n",
       "      <th>A1.3</th>\n",
       "      <th>A1.4</th>\n",
       "      <th>A1.5</th>\n",
       "      <th>A1.6</th>\n",
       "      <th>A1.7</th>\n",
       "      <th>...</th>\n",
       "      <th>PEOE7 (PEOE7)</th>\n",
       "      <th>PEOE8 (PEOE8)</th>\n",
       "      <th>PEOE9 (PEOE9)</th>\n",
       "      <th>PEOE10 (PEOE10)</th>\n",
       "      <th>PEOE11 (PEOE11)</th>\n",
       "      <th>PEOE12 (PEOE12)</th>\n",
       "      <th>PEOE13 (PEOE13)</th>\n",
       "      <th>PEOE14 (PEOE14)</th>\n",
       "      <th>canvasUID</th>\n",
       "      <th>InchiKey</th>\n",
       "    </tr>\n",
       "  </thead>\n",
       "  <tbody>\n",
       "    <tr>\n",
       "      <th>0</th>\n",
       "      <td>0</td>\n",
       "      <td>QMSHBBGXSXAGOO-XMSQKQJNSA-N</td>\n",
       "      <td>0.135264</td>\n",
       "      <td>0.226934</td>\n",
       "      <td>-0.073585</td>\n",
       "      <td>-0.035248</td>\n",
       "      <td>-0.196601</td>\n",
       "      <td>0.042196</td>\n",
       "      <td>-0.466781</td>\n",
       "      <td>-0.186542</td>\n",
       "      <td>...</td>\n",
       "      <td>78.640335</td>\n",
       "      <td>226.855410</td>\n",
       "      <td>107.434910</td>\n",
       "      <td>37.133846</td>\n",
       "      <td>0.000000</td>\n",
       "      <td>7.980170</td>\n",
       "      <td>0.000000</td>\n",
       "      <td>0.000000</td>\n",
       "      <td>1</td>\n",
       "      <td>QMSHBBGXSXAGOO-XMSQKQJNSA-N</td>\n",
       "    </tr>\n",
       "    <tr>\n",
       "      <th>1</th>\n",
       "      <td>0</td>\n",
       "      <td>NaN</td>\n",
       "      <td>NaN</td>\n",
       "      <td>NaN</td>\n",
       "      <td>NaN</td>\n",
       "      <td>NaN</td>\n",
       "      <td>NaN</td>\n",
       "      <td>NaN</td>\n",
       "      <td>NaN</td>\n",
       "      <td>NaN</td>\n",
       "      <td>...</td>\n",
       "      <td>47.171600</td>\n",
       "      <td>365.676940</td>\n",
       "      <td>174.076750</td>\n",
       "      <td>34.923889</td>\n",
       "      <td>7.980170</td>\n",
       "      <td>24.148668</td>\n",
       "      <td>0.000000</td>\n",
       "      <td>24.663788</td>\n",
       "      <td>2</td>\n",
       "      <td>LPZOLMFQGUDKQH-ZXWXCOCLSA-O</td>\n",
       "    </tr>\n",
       "    <tr>\n",
       "      <th>2</th>\n",
       "      <td>0</td>\n",
       "      <td>NaN</td>\n",
       "      <td>NaN</td>\n",
       "      <td>NaN</td>\n",
       "      <td>NaN</td>\n",
       "      <td>NaN</td>\n",
       "      <td>NaN</td>\n",
       "      <td>NaN</td>\n",
       "      <td>NaN</td>\n",
       "      <td>NaN</td>\n",
       "      <td>...</td>\n",
       "      <td>47.941147</td>\n",
       "      <td>192.406520</td>\n",
       "      <td>255.752550</td>\n",
       "      <td>23.654478</td>\n",
       "      <td>0.230159</td>\n",
       "      <td>15.879790</td>\n",
       "      <td>0.000000</td>\n",
       "      <td>24.663788</td>\n",
       "      <td>3</td>\n",
       "      <td>MNGUVHPNHVMEDL-MFMCTBQISA-O</td>\n",
       "    </tr>\n",
       "    <tr>\n",
       "      <th>3</th>\n",
       "      <td>0</td>\n",
       "      <td>NaN</td>\n",
       "      <td>NaN</td>\n",
       "      <td>NaN</td>\n",
       "      <td>NaN</td>\n",
       "      <td>NaN</td>\n",
       "      <td>NaN</td>\n",
       "      <td>NaN</td>\n",
       "      <td>NaN</td>\n",
       "      <td>NaN</td>\n",
       "      <td>...</td>\n",
       "      <td>37.954151</td>\n",
       "      <td>194.353040</td>\n",
       "      <td>202.763350</td>\n",
       "      <td>36.498634</td>\n",
       "      <td>0.980913</td>\n",
       "      <td>8.188327</td>\n",
       "      <td>0.000000</td>\n",
       "      <td>26.385181</td>\n",
       "      <td>4</td>\n",
       "      <td>UJZFSYZNJMWXJO-NJONLQHESA-O</td>\n",
       "    </tr>\n",
       "    <tr>\n",
       "      <th>4</th>\n",
       "      <td>0</td>\n",
       "      <td>NaN</td>\n",
       "      <td>NaN</td>\n",
       "      <td>NaN</td>\n",
       "      <td>NaN</td>\n",
       "      <td>NaN</td>\n",
       "      <td>NaN</td>\n",
       "      <td>NaN</td>\n",
       "      <td>NaN</td>\n",
       "      <td>NaN</td>\n",
       "      <td>...</td>\n",
       "      <td>39.361153</td>\n",
       "      <td>179.712880</td>\n",
       "      <td>220.461300</td>\n",
       "      <td>23.654478</td>\n",
       "      <td>0.230159</td>\n",
       "      <td>15.879790</td>\n",
       "      <td>0.000000</td>\n",
       "      <td>26.100143</td>\n",
       "      <td>5</td>\n",
       "      <td>MSHYGGHZTGSTOG-LMSSTIIKSA-O</td>\n",
       "    </tr>\n",
       "    <tr>\n",
       "      <th>...</th>\n",
       "      <td>...</td>\n",
       "      <td>...</td>\n",
       "      <td>...</td>\n",
       "      <td>...</td>\n",
       "      <td>...</td>\n",
       "      <td>...</td>\n",
       "      <td>...</td>\n",
       "      <td>...</td>\n",
       "      <td>...</td>\n",
       "      <td>...</td>\n",
       "      <td>...</td>\n",
       "      <td>...</td>\n",
       "      <td>...</td>\n",
       "      <td>...</td>\n",
       "      <td>...</td>\n",
       "      <td>...</td>\n",
       "      <td>...</td>\n",
       "      <td>...</td>\n",
       "      <td>...</td>\n",
       "      <td>...</td>\n",
       "      <td>...</td>\n",
       "    </tr>\n",
       "    <tr>\n",
       "      <th>1508</th>\n",
       "      <td>0</td>\n",
       "      <td>NaN</td>\n",
       "      <td>NaN</td>\n",
       "      <td>NaN</td>\n",
       "      <td>NaN</td>\n",
       "      <td>NaN</td>\n",
       "      <td>NaN</td>\n",
       "      <td>NaN</td>\n",
       "      <td>NaN</td>\n",
       "      <td>NaN</td>\n",
       "      <td>...</td>\n",
       "      <td>37.681076</td>\n",
       "      <td>180.226410</td>\n",
       "      <td>95.670128</td>\n",
       "      <td>30.107586</td>\n",
       "      <td>9.368159</td>\n",
       "      <td>7.980170</td>\n",
       "      <td>0.000000</td>\n",
       "      <td>0.000000</td>\n",
       "      <td>1543</td>\n",
       "      <td>MGDIYBDWQLFUQN-UHFFFAOYSA-N</td>\n",
       "    </tr>\n",
       "    <tr>\n",
       "      <th>1509</th>\n",
       "      <td>0</td>\n",
       "      <td>NaN</td>\n",
       "      <td>NaN</td>\n",
       "      <td>NaN</td>\n",
       "      <td>NaN</td>\n",
       "      <td>NaN</td>\n",
       "      <td>NaN</td>\n",
       "      <td>NaN</td>\n",
       "      <td>NaN</td>\n",
       "      <td>NaN</td>\n",
       "      <td>...</td>\n",
       "      <td>47.349350</td>\n",
       "      <td>122.401500</td>\n",
       "      <td>99.877144</td>\n",
       "      <td>30.107586</td>\n",
       "      <td>9.368159</td>\n",
       "      <td>7.980170</td>\n",
       "      <td>0.000000</td>\n",
       "      <td>0.000000</td>\n",
       "      <td>1544</td>\n",
       "      <td>VNUVPFZMZYGABL-UHFFFAOYSA-N</td>\n",
       "    </tr>\n",
       "    <tr>\n",
       "      <th>1510</th>\n",
       "      <td>0</td>\n",
       "      <td>NaN</td>\n",
       "      <td>NaN</td>\n",
       "      <td>NaN</td>\n",
       "      <td>NaN</td>\n",
       "      <td>NaN</td>\n",
       "      <td>NaN</td>\n",
       "      <td>NaN</td>\n",
       "      <td>NaN</td>\n",
       "      <td>NaN</td>\n",
       "      <td>...</td>\n",
       "      <td>22.563574</td>\n",
       "      <td>96.290794</td>\n",
       "      <td>58.798935</td>\n",
       "      <td>20.071724</td>\n",
       "      <td>9.368159</td>\n",
       "      <td>0.000000</td>\n",
       "      <td>6.904104</td>\n",
       "      <td>0.000000</td>\n",
       "      <td>1545</td>\n",
       "      <td>FNZZUITVFBKILF-UHFFFAOYSA-N</td>\n",
       "    </tr>\n",
       "    <tr>\n",
       "      <th>1511</th>\n",
       "      <td>0</td>\n",
       "      <td>NaN</td>\n",
       "      <td>NaN</td>\n",
       "      <td>NaN</td>\n",
       "      <td>NaN</td>\n",
       "      <td>NaN</td>\n",
       "      <td>NaN</td>\n",
       "      <td>NaN</td>\n",
       "      <td>NaN</td>\n",
       "      <td>NaN</td>\n",
       "      <td>...</td>\n",
       "      <td>9.316234</td>\n",
       "      <td>95.907784</td>\n",
       "      <td>112.609720</td>\n",
       "      <td>20.071724</td>\n",
       "      <td>9.368159</td>\n",
       "      <td>0.000000</td>\n",
       "      <td>6.904104</td>\n",
       "      <td>0.000000</td>\n",
       "      <td>1546</td>\n",
       "      <td>IPEYSHXKDLIENI-UHFFFAOYSA-N</td>\n",
       "    </tr>\n",
       "    <tr>\n",
       "      <th>1512</th>\n",
       "      <td>0</td>\n",
       "      <td>NaN</td>\n",
       "      <td>NaN</td>\n",
       "      <td>NaN</td>\n",
       "      <td>NaN</td>\n",
       "      <td>NaN</td>\n",
       "      <td>NaN</td>\n",
       "      <td>NaN</td>\n",
       "      <td>NaN</td>\n",
       "      <td>NaN</td>\n",
       "      <td>...</td>\n",
       "      <td>37.681076</td>\n",
       "      <td>161.450780</td>\n",
       "      <td>40.882919</td>\n",
       "      <td>30.107586</td>\n",
       "      <td>9.368159</td>\n",
       "      <td>7.980170</td>\n",
       "      <td>0.000000</td>\n",
       "      <td>0.000000</td>\n",
       "      <td>1547</td>\n",
       "      <td>AHNGNPKUTAWEGW-UHFFFAOYSA-N</td>\n",
       "    </tr>\n",
       "  </tbody>\n",
       "</table>\n",
       "<p>1513 rows × 3799 columns</p>\n",
       "</div>"
      ],
      "text/plain": [
       "      Unnamed: 0                        index      A1.0      A1.1      A1.2  \\\n",
       "0              0  QMSHBBGXSXAGOO-XMSQKQJNSA-N  0.135264  0.226934 -0.073585   \n",
       "1              0                          NaN       NaN       NaN       NaN   \n",
       "2              0                          NaN       NaN       NaN       NaN   \n",
       "3              0                          NaN       NaN       NaN       NaN   \n",
       "4              0                          NaN       NaN       NaN       NaN   \n",
       "...          ...                          ...       ...       ...       ...   \n",
       "1508           0                          NaN       NaN       NaN       NaN   \n",
       "1509           0                          NaN       NaN       NaN       NaN   \n",
       "1510           0                          NaN       NaN       NaN       NaN   \n",
       "1511           0                          NaN       NaN       NaN       NaN   \n",
       "1512           0                          NaN       NaN       NaN       NaN   \n",
       "\n",
       "          A1.3      A1.4      A1.5      A1.6      A1.7  ...  PEOE7 (PEOE7)  \\\n",
       "0    -0.035248 -0.196601  0.042196 -0.466781 -0.186542  ...      78.640335   \n",
       "1          NaN       NaN       NaN       NaN       NaN  ...      47.171600   \n",
       "2          NaN       NaN       NaN       NaN       NaN  ...      47.941147   \n",
       "3          NaN       NaN       NaN       NaN       NaN  ...      37.954151   \n",
       "4          NaN       NaN       NaN       NaN       NaN  ...      39.361153   \n",
       "...        ...       ...       ...       ...       ...  ...            ...   \n",
       "1508       NaN       NaN       NaN       NaN       NaN  ...      37.681076   \n",
       "1509       NaN       NaN       NaN       NaN       NaN  ...      47.349350   \n",
       "1510       NaN       NaN       NaN       NaN       NaN  ...      22.563574   \n",
       "1511       NaN       NaN       NaN       NaN       NaN  ...       9.316234   \n",
       "1512       NaN       NaN       NaN       NaN       NaN  ...      37.681076   \n",
       "\n",
       "      PEOE8 (PEOE8)  PEOE9 (PEOE9)  PEOE10 (PEOE10)  PEOE11 (PEOE11)  \\\n",
       "0        226.855410     107.434910        37.133846         0.000000   \n",
       "1        365.676940     174.076750        34.923889         7.980170   \n",
       "2        192.406520     255.752550        23.654478         0.230159   \n",
       "3        194.353040     202.763350        36.498634         0.980913   \n",
       "4        179.712880     220.461300        23.654478         0.230159   \n",
       "...             ...            ...              ...              ...   \n",
       "1508     180.226410      95.670128        30.107586         9.368159   \n",
       "1509     122.401500      99.877144        30.107586         9.368159   \n",
       "1510      96.290794      58.798935        20.071724         9.368159   \n",
       "1511      95.907784     112.609720        20.071724         9.368159   \n",
       "1512     161.450780      40.882919        30.107586         9.368159   \n",
       "\n",
       "      PEOE12 (PEOE12)  PEOE13 (PEOE13)  PEOE14 (PEOE14)  canvasUID  \\\n",
       "0            7.980170         0.000000         0.000000          1   \n",
       "1           24.148668         0.000000        24.663788          2   \n",
       "2           15.879790         0.000000        24.663788          3   \n",
       "3            8.188327         0.000000        26.385181          4   \n",
       "4           15.879790         0.000000        26.100143          5   \n",
       "...               ...              ...              ...        ...   \n",
       "1508         7.980170         0.000000         0.000000       1543   \n",
       "1509         7.980170         0.000000         0.000000       1544   \n",
       "1510         0.000000         6.904104         0.000000       1545   \n",
       "1511         0.000000         6.904104         0.000000       1546   \n",
       "1512         7.980170         0.000000         0.000000       1547   \n",
       "\n",
       "                         InchiKey  \n",
       "0     QMSHBBGXSXAGOO-XMSQKQJNSA-N  \n",
       "1     LPZOLMFQGUDKQH-ZXWXCOCLSA-O  \n",
       "2     MNGUVHPNHVMEDL-MFMCTBQISA-O  \n",
       "3     UJZFSYZNJMWXJO-NJONLQHESA-O  \n",
       "4     MSHYGGHZTGSTOG-LMSSTIIKSA-O  \n",
       "...                           ...  \n",
       "1508  MGDIYBDWQLFUQN-UHFFFAOYSA-N  \n",
       "1509  VNUVPFZMZYGABL-UHFFFAOYSA-N  \n",
       "1510  FNZZUITVFBKILF-UHFFFAOYSA-N  \n",
       "1511  IPEYSHXKDLIENI-UHFFFAOYSA-N  \n",
       "1512  AHNGNPKUTAWEGW-UHFFFAOYSA-N  \n",
       "\n",
       "[1513 rows x 3799 columns]"
      ]
     },
     "execution_count": 4,
     "metadata": {},
     "output_type": "execute_result"
    }
   ],
   "source": [
    "extend_data"
   ]
  },
  {
   "cell_type": "code",
   "execution_count": 5,
   "id": "bd8a6a75",
   "metadata": {},
   "outputs": [],
   "source": [
    "extend_data=extend_data[~extend_data[\"A1.0\"].isna()]"
   ]
  },
  {
   "cell_type": "code",
   "execution_count": 14,
   "id": "11236421",
   "metadata": {},
   "outputs": [
    {
     "data": {
      "text/html": [
       "<div>\n",
       "<style scoped>\n",
       "    .dataframe tbody tr th:only-of-type {\n",
       "        vertical-align: middle;\n",
       "    }\n",
       "\n",
       "    .dataframe tbody tr th {\n",
       "        vertical-align: top;\n",
       "    }\n",
       "\n",
       "    .dataframe thead th {\n",
       "        text-align: right;\n",
       "    }\n",
       "</style>\n",
       "<table border=\"1\" class=\"dataframe\">\n",
       "  <thead>\n",
       "    <tr style=\"text-align: right;\">\n",
       "      <th></th>\n",
       "      <th>Unnamed: 0</th>\n",
       "      <th>index</th>\n",
       "      <th>A1.0</th>\n",
       "      <th>A1.1</th>\n",
       "      <th>A1.2</th>\n",
       "      <th>A1.3</th>\n",
       "      <th>A1.4</th>\n",
       "      <th>A1.5</th>\n",
       "      <th>A1.6</th>\n",
       "      <th>A1.7</th>\n",
       "      <th>...</th>\n",
       "      <th>PEOE7 (PEOE7)</th>\n",
       "      <th>PEOE8 (PEOE8)</th>\n",
       "      <th>PEOE9 (PEOE9)</th>\n",
       "      <th>PEOE10 (PEOE10)</th>\n",
       "      <th>PEOE11 (PEOE11)</th>\n",
       "      <th>PEOE12 (PEOE12)</th>\n",
       "      <th>PEOE13 (PEOE13)</th>\n",
       "      <th>PEOE14 (PEOE14)</th>\n",
       "      <th>canvasUID</th>\n",
       "      <th>InchiKey</th>\n",
       "    </tr>\n",
       "  </thead>\n",
       "  <tbody>\n",
       "    <tr>\n",
       "      <th>0</th>\n",
       "      <td>0</td>\n",
       "      <td>QMSHBBGXSXAGOO-XMSQKQJNSA-N</td>\n",
       "      <td>0.135264</td>\n",
       "      <td>0.226934</td>\n",
       "      <td>-0.073585</td>\n",
       "      <td>-0.035248</td>\n",
       "      <td>-0.196601</td>\n",
       "      <td>0.042196</td>\n",
       "      <td>-0.466781</td>\n",
       "      <td>-0.186542</td>\n",
       "      <td>...</td>\n",
       "      <td>78.640335</td>\n",
       "      <td>226.855410</td>\n",
       "      <td>107.434910</td>\n",
       "      <td>37.133846</td>\n",
       "      <td>0.000000</td>\n",
       "      <td>7.980170</td>\n",
       "      <td>0.000000</td>\n",
       "      <td>0.000000</td>\n",
       "      <td>1</td>\n",
       "      <td>QMSHBBGXSXAGOO-XMSQKQJNSA-N</td>\n",
       "    </tr>\n",
       "    <tr>\n",
       "      <th>23</th>\n",
       "      <td>0</td>\n",
       "      <td>SQCCLROLILAOBD-MLLWAOEYSA-N</td>\n",
       "      <td>-0.299552</td>\n",
       "      <td>0.190684</td>\n",
       "      <td>-0.212287</td>\n",
       "      <td>-0.317007</td>\n",
       "      <td>-0.175458</td>\n",
       "      <td>-0.132670</td>\n",
       "      <td>-0.583051</td>\n",
       "      <td>-0.056648</td>\n",
       "      <td>...</td>\n",
       "      <td>64.186836</td>\n",
       "      <td>298.080050</td>\n",
       "      <td>283.990300</td>\n",
       "      <td>51.733955</td>\n",
       "      <td>0.000000</td>\n",
       "      <td>39.531593</td>\n",
       "      <td>0.000000</td>\n",
       "      <td>0.000000</td>\n",
       "      <td>24</td>\n",
       "      <td>SQCCLROLILAOBD-MLLWAOEYSA-N</td>\n",
       "    </tr>\n",
       "    <tr>\n",
       "      <th>27</th>\n",
       "      <td>0</td>\n",
       "      <td>JWSHQJYDXNPIKG-QHCPKHFHSA-N</td>\n",
       "      <td>-0.067586</td>\n",
       "      <td>0.098701</td>\n",
       "      <td>0.213690</td>\n",
       "      <td>-0.164649</td>\n",
       "      <td>0.015250</td>\n",
       "      <td>0.103354</td>\n",
       "      <td>-0.789892</td>\n",
       "      <td>-0.325661</td>\n",
       "      <td>...</td>\n",
       "      <td>43.449314</td>\n",
       "      <td>105.794720</td>\n",
       "      <td>158.797130</td>\n",
       "      <td>38.276245</td>\n",
       "      <td>0.000000</td>\n",
       "      <td>9.759030</td>\n",
       "      <td>0.000000</td>\n",
       "      <td>0.000000</td>\n",
       "      <td>28</td>\n",
       "      <td>JWSHQJYDXNPIKG-QHCPKHFHSA-N</td>\n",
       "    </tr>\n",
       "    <tr>\n",
       "      <th>33</th>\n",
       "      <td>0</td>\n",
       "      <td>KSRGIPYZQZCBMH-HSZRJFAPSA-N</td>\n",
       "      <td>0.046973</td>\n",
       "      <td>0.270907</td>\n",
       "      <td>-0.205558</td>\n",
       "      <td>-0.213320</td>\n",
       "      <td>-0.028533</td>\n",
       "      <td>0.015441</td>\n",
       "      <td>-0.227743</td>\n",
       "      <td>-0.127641</td>\n",
       "      <td>...</td>\n",
       "      <td>61.071251</td>\n",
       "      <td>291.619140</td>\n",
       "      <td>90.395477</td>\n",
       "      <td>37.133846</td>\n",
       "      <td>0.000000</td>\n",
       "      <td>7.980170</td>\n",
       "      <td>0.000000</td>\n",
       "      <td>0.000000</td>\n",
       "      <td>34</td>\n",
       "      <td>KSRGIPYZQZCBMH-HSZRJFAPSA-N</td>\n",
       "    </tr>\n",
       "    <tr>\n",
       "      <th>37</th>\n",
       "      <td>0</td>\n",
       "      <td>MELQHVBGGSKVJQ-YJBOKZPZSA-N</td>\n",
       "      <td>0.102830</td>\n",
       "      <td>0.243463</td>\n",
       "      <td>-0.030933</td>\n",
       "      <td>-0.172599</td>\n",
       "      <td>-0.021518</td>\n",
       "      <td>0.256285</td>\n",
       "      <td>-0.756655</td>\n",
       "      <td>-0.302638</td>\n",
       "      <td>...</td>\n",
       "      <td>53.205711</td>\n",
       "      <td>77.489082</td>\n",
       "      <td>71.461342</td>\n",
       "      <td>57.934544</td>\n",
       "      <td>0.980913</td>\n",
       "      <td>9.759030</td>\n",
       "      <td>7.691464</td>\n",
       "      <td>1.721394</td>\n",
       "      <td>38</td>\n",
       "      <td>MELQHVBGGSKVJQ-YJBOKZPZSA-N</td>\n",
       "    </tr>\n",
       "    <tr>\n",
       "      <th>...</th>\n",
       "      <td>...</td>\n",
       "      <td>...</td>\n",
       "      <td>...</td>\n",
       "      <td>...</td>\n",
       "      <td>...</td>\n",
       "      <td>...</td>\n",
       "      <td>...</td>\n",
       "      <td>...</td>\n",
       "      <td>...</td>\n",
       "      <td>...</td>\n",
       "      <td>...</td>\n",
       "      <td>...</td>\n",
       "      <td>...</td>\n",
       "      <td>...</td>\n",
       "      <td>...</td>\n",
       "      <td>...</td>\n",
       "      <td>...</td>\n",
       "      <td>...</td>\n",
       "      <td>...</td>\n",
       "      <td>...</td>\n",
       "      <td>...</td>\n",
       "    </tr>\n",
       "    <tr>\n",
       "      <th>1342</th>\n",
       "      <td>0</td>\n",
       "      <td>SPCACAONOMDGOG-UHFFFAOYSA-N</td>\n",
       "      <td>-0.169630</td>\n",
       "      <td>0.138922</td>\n",
       "      <td>-0.257689</td>\n",
       "      <td>-0.253807</td>\n",
       "      <td>0.017887</td>\n",
       "      <td>0.166196</td>\n",
       "      <td>-0.632138</td>\n",
       "      <td>-0.205632</td>\n",
       "      <td>...</td>\n",
       "      <td>48.226185</td>\n",
       "      <td>59.436028</td>\n",
       "      <td>95.242065</td>\n",
       "      <td>29.270641</td>\n",
       "      <td>0.000000</td>\n",
       "      <td>9.759030</td>\n",
       "      <td>7.691464</td>\n",
       "      <td>0.000000</td>\n",
       "      <td>1376</td>\n",
       "      <td>SPCACAONOMDGOG-UHFFFAOYSA-N</td>\n",
       "    </tr>\n",
       "    <tr>\n",
       "      <th>1352</th>\n",
       "      <td>0</td>\n",
       "      <td>GGFQOAKBKNUHNP-UHFFFAOYSA-N</td>\n",
       "      <td>-0.015131</td>\n",
       "      <td>0.435099</td>\n",
       "      <td>-0.073015</td>\n",
       "      <td>-0.363246</td>\n",
       "      <td>-0.163908</td>\n",
       "      <td>0.105457</td>\n",
       "      <td>-0.498903</td>\n",
       "      <td>0.190918</td>\n",
       "      <td>...</td>\n",
       "      <td>39.442734</td>\n",
       "      <td>92.191025</td>\n",
       "      <td>91.110535</td>\n",
       "      <td>27.123116</td>\n",
       "      <td>-3.524382</td>\n",
       "      <td>0.000000</td>\n",
       "      <td>0.000000</td>\n",
       "      <td>0.000000</td>\n",
       "      <td>1386</td>\n",
       "      <td>GGFQOAKBKNUHNP-UHFFFAOYSA-N</td>\n",
       "    </tr>\n",
       "    <tr>\n",
       "      <th>1433</th>\n",
       "      <td>0</td>\n",
       "      <td>WQDXYYJHDFSNIX-UHFFFAOYSA-N</td>\n",
       "      <td>0.044784</td>\n",
       "      <td>0.114839</td>\n",
       "      <td>-0.176965</td>\n",
       "      <td>-0.188760</td>\n",
       "      <td>0.164710</td>\n",
       "      <td>0.184757</td>\n",
       "      <td>-0.721344</td>\n",
       "      <td>-0.022801</td>\n",
       "      <td>...</td>\n",
       "      <td>44.457970</td>\n",
       "      <td>95.292831</td>\n",
       "      <td>71.715675</td>\n",
       "      <td>40.663456</td>\n",
       "      <td>0.000000</td>\n",
       "      <td>0.000000</td>\n",
       "      <td>7.691464</td>\n",
       "      <td>0.000000</td>\n",
       "      <td>1467</td>\n",
       "      <td>WQDXYYJHDFSNIX-UHFFFAOYSA-N</td>\n",
       "    </tr>\n",
       "    <tr>\n",
       "      <th>1436</th>\n",
       "      <td>0</td>\n",
       "      <td>HZIOSWLCMNAEBB-QVLKYBFXSA-N</td>\n",
       "      <td>-0.256113</td>\n",
       "      <td>0.227718</td>\n",
       "      <td>0.025856</td>\n",
       "      <td>-0.316696</td>\n",
       "      <td>-0.093456</td>\n",
       "      <td>-0.076929</td>\n",
       "      <td>-0.617803</td>\n",
       "      <td>0.065523</td>\n",
       "      <td>...</td>\n",
       "      <td>46.368366</td>\n",
       "      <td>247.854290</td>\n",
       "      <td>70.223984</td>\n",
       "      <td>20.071724</td>\n",
       "      <td>3.556777</td>\n",
       "      <td>7.980170</td>\n",
       "      <td>0.000000</td>\n",
       "      <td>0.000000</td>\n",
       "      <td>1470</td>\n",
       "      <td>HZIOSWLCMNAEBB-QVLKYBFXSA-N</td>\n",
       "    </tr>\n",
       "    <tr>\n",
       "      <th>1506</th>\n",
       "      <td>0</td>\n",
       "      <td>PDOCNPCPPLPXRV-UHFFFAOYSA-N</td>\n",
       "      <td>-0.177903</td>\n",
       "      <td>0.106095</td>\n",
       "      <td>-0.067443</td>\n",
       "      <td>-0.419396</td>\n",
       "      <td>0.339276</td>\n",
       "      <td>0.169514</td>\n",
       "      <td>-0.363873</td>\n",
       "      <td>-0.301402</td>\n",
       "      <td>...</td>\n",
       "      <td>25.739992</td>\n",
       "      <td>1.916970</td>\n",
       "      <td>40.882919</td>\n",
       "      <td>20.071724</td>\n",
       "      <td>19.404020</td>\n",
       "      <td>0.000000</td>\n",
       "      <td>0.000000</td>\n",
       "      <td>0.000000</td>\n",
       "      <td>1541</td>\n",
       "      <td>PDOCNPCPPLPXRV-UHFFFAOYSA-N</td>\n",
       "    </tr>\n",
       "  </tbody>\n",
       "</table>\n",
       "<p>443 rows × 3799 columns</p>\n",
       "</div>"
      ],
      "text/plain": [
       "      Unnamed: 0                        index      A1.0      A1.1      A1.2  \\\n",
       "0              0  QMSHBBGXSXAGOO-XMSQKQJNSA-N  0.135264  0.226934 -0.073585   \n",
       "23             0  SQCCLROLILAOBD-MLLWAOEYSA-N -0.299552  0.190684 -0.212287   \n",
       "27             0  JWSHQJYDXNPIKG-QHCPKHFHSA-N -0.067586  0.098701  0.213690   \n",
       "33             0  KSRGIPYZQZCBMH-HSZRJFAPSA-N  0.046973  0.270907 -0.205558   \n",
       "37             0  MELQHVBGGSKVJQ-YJBOKZPZSA-N  0.102830  0.243463 -0.030933   \n",
       "...          ...                          ...       ...       ...       ...   \n",
       "1342           0  SPCACAONOMDGOG-UHFFFAOYSA-N -0.169630  0.138922 -0.257689   \n",
       "1352           0  GGFQOAKBKNUHNP-UHFFFAOYSA-N -0.015131  0.435099 -0.073015   \n",
       "1433           0  WQDXYYJHDFSNIX-UHFFFAOYSA-N  0.044784  0.114839 -0.176965   \n",
       "1436           0  HZIOSWLCMNAEBB-QVLKYBFXSA-N -0.256113  0.227718  0.025856   \n",
       "1506           0  PDOCNPCPPLPXRV-UHFFFAOYSA-N -0.177903  0.106095 -0.067443   \n",
       "\n",
       "          A1.3      A1.4      A1.5      A1.6      A1.7  ...  PEOE7 (PEOE7)  \\\n",
       "0    -0.035248 -0.196601  0.042196 -0.466781 -0.186542  ...      78.640335   \n",
       "23   -0.317007 -0.175458 -0.132670 -0.583051 -0.056648  ...      64.186836   \n",
       "27   -0.164649  0.015250  0.103354 -0.789892 -0.325661  ...      43.449314   \n",
       "33   -0.213320 -0.028533  0.015441 -0.227743 -0.127641  ...      61.071251   \n",
       "37   -0.172599 -0.021518  0.256285 -0.756655 -0.302638  ...      53.205711   \n",
       "...        ...       ...       ...       ...       ...  ...            ...   \n",
       "1342 -0.253807  0.017887  0.166196 -0.632138 -0.205632  ...      48.226185   \n",
       "1352 -0.363246 -0.163908  0.105457 -0.498903  0.190918  ...      39.442734   \n",
       "1433 -0.188760  0.164710  0.184757 -0.721344 -0.022801  ...      44.457970   \n",
       "1436 -0.316696 -0.093456 -0.076929 -0.617803  0.065523  ...      46.368366   \n",
       "1506 -0.419396  0.339276  0.169514 -0.363873 -0.301402  ...      25.739992   \n",
       "\n",
       "      PEOE8 (PEOE8)  PEOE9 (PEOE9)  PEOE10 (PEOE10)  PEOE11 (PEOE11)  \\\n",
       "0        226.855410     107.434910        37.133846         0.000000   \n",
       "23       298.080050     283.990300        51.733955         0.000000   \n",
       "27       105.794720     158.797130        38.276245         0.000000   \n",
       "33       291.619140      90.395477        37.133846         0.000000   \n",
       "37        77.489082      71.461342        57.934544         0.980913   \n",
       "...             ...            ...              ...              ...   \n",
       "1342      59.436028      95.242065        29.270641         0.000000   \n",
       "1352      92.191025      91.110535        27.123116        -3.524382   \n",
       "1433      95.292831      71.715675        40.663456         0.000000   \n",
       "1436     247.854290      70.223984        20.071724         3.556777   \n",
       "1506       1.916970      40.882919        20.071724        19.404020   \n",
       "\n",
       "      PEOE12 (PEOE12)  PEOE13 (PEOE13)  PEOE14 (PEOE14)  canvasUID  \\\n",
       "0            7.980170         0.000000         0.000000          1   \n",
       "23          39.531593         0.000000         0.000000         24   \n",
       "27           9.759030         0.000000         0.000000         28   \n",
       "33           7.980170         0.000000         0.000000         34   \n",
       "37           9.759030         7.691464         1.721394         38   \n",
       "...               ...              ...              ...        ...   \n",
       "1342         9.759030         7.691464         0.000000       1376   \n",
       "1352         0.000000         0.000000         0.000000       1386   \n",
       "1433         0.000000         7.691464         0.000000       1467   \n",
       "1436         7.980170         0.000000         0.000000       1470   \n",
       "1506         0.000000         0.000000         0.000000       1541   \n",
       "\n",
       "                         InchiKey  \n",
       "0     QMSHBBGXSXAGOO-XMSQKQJNSA-N  \n",
       "23    SQCCLROLILAOBD-MLLWAOEYSA-N  \n",
       "27    JWSHQJYDXNPIKG-QHCPKHFHSA-N  \n",
       "33    KSRGIPYZQZCBMH-HSZRJFAPSA-N  \n",
       "37    MELQHVBGGSKVJQ-YJBOKZPZSA-N  \n",
       "...                           ...  \n",
       "1342  SPCACAONOMDGOG-UHFFFAOYSA-N  \n",
       "1352  GGFQOAKBKNUHNP-UHFFFAOYSA-N  \n",
       "1433  WQDXYYJHDFSNIX-UHFFFAOYSA-N  \n",
       "1436  HZIOSWLCMNAEBB-QVLKYBFXSA-N  \n",
       "1506  PDOCNPCPPLPXRV-UHFFFAOYSA-N  \n",
       "\n",
       "[443 rows x 3799 columns]"
      ]
     },
     "execution_count": 14,
     "metadata": {},
     "output_type": "execute_result"
    }
   ],
   "source": [
    "extend_data"
   ]
  },
  {
   "cell_type": "code",
   "execution_count": 16,
   "id": "023b40fe",
   "metadata": {},
   "outputs": [
    {
     "name": "stdout",
     "output_type": "stream",
     "text": [
      "A1\n"
     ]
    },
    {
     "name": "stderr",
     "output_type": "stream",
     "text": [
      "Parsing SMILES: 443it [00:00, 5705.10it/s]\n",
      "Generating signatures:   0%|                                                                                                                                                          | 0/4 [00:00<?, ?it/s]"
     ]
    },
    {
     "name": "stdout",
     "output_type": "stream",
     "text": [
      "WARNING:tensorflow:5 out of the last 9 calls to <function Model.make_predict_function.<locals>.predict_function at 0x7f46dc61bd80> triggered tf.function retracing. Tracing is expensive and the excessive number of tracings could be due to (1) creating @tf.function repeatedly in a loop, (2) passing tensors with different shapes, (3) passing Python objects instead of tensors. For (1), please define your @tf.function outside of the loop. For (2), @tf.function has reduce_retracing=True option that can avoid unnecessary retracing. For (3), please refer to https://www.tensorflow.org/guide/function#controlling_retracing and https://www.tensorflow.org/api_docs/python/tf/function for  more details.\n"
     ]
    },
    {
     "name": "stderr",
     "output_type": "stream",
     "text": [
      "WARNING:tensorflow:5 out of the last 9 calls to <function Model.make_predict_function.<locals>.predict_function at 0x7f46dc61bd80> triggered tf.function retracing. Tracing is expensive and the excessive number of tracings could be due to (1) creating @tf.function repeatedly in a loop, (2) passing tensors with different shapes, (3) passing Python objects instead of tensors. For (1), please define your @tf.function outside of the loop. For (2), @tf.function has reduce_retracing=True option that can avoid unnecessary retracing. For (3), please refer to https://www.tensorflow.org/guide/function#controlling_retracing and https://www.tensorflow.org/api_docs/python/tf/function for  more details.\n"
     ]
    },
    {
     "name": "stdout",
     "output_type": "stream",
     "text": [
      "1/1 [==============================] - 0s 51ms/step\n",
      "WARNING:tensorflow:6 out of the last 10 calls to <function Model.make_predict_function.<locals>.predict_function at 0x7f46dc61bf60> triggered tf.function retracing. Tracing is expensive and the excessive number of tracings could be due to (1) creating @tf.function repeatedly in a loop, (2) passing tensors with different shapes, (3) passing Python objects instead of tensors. For (1), please define your @tf.function outside of the loop. For (2), @tf.function has reduce_retracing=True option that can avoid unnecessary retracing. For (3), please refer to https://www.tensorflow.org/guide/function#controlling_retracing and https://www.tensorflow.org/api_docs/python/tf/function for  more details.\n"
     ]
    },
    {
     "name": "stderr",
     "output_type": "stream",
     "text": [
      "WARNING:tensorflow:6 out of the last 10 calls to <function Model.make_predict_function.<locals>.predict_function at 0x7f46dc61bf60> triggered tf.function retracing. Tracing is expensive and the excessive number of tracings could be due to (1) creating @tf.function repeatedly in a loop, (2) passing tensors with different shapes, (3) passing Python objects instead of tensors. For (1), please define your @tf.function outside of the loop. For (2), @tf.function has reduce_retracing=True option that can avoid unnecessary retracing. For (3), please refer to https://www.tensorflow.org/guide/function#controlling_retracing and https://www.tensorflow.org/api_docs/python/tf/function for  more details.\n"
     ]
    },
    {
     "name": "stdout",
     "output_type": "stream",
     "text": [
      "1/1 [==============================] - 0s 323ms/step\n"
     ]
    },
    {
     "name": "stderr",
     "output_type": "stream",
     "text": [
      "\r",
      "Generating signatures:  25%|████████████████████████████████████▌                                                                                                             | 1/4 [00:00<00:01,  1.90it/s]"
     ]
    },
    {
     "name": "stdout",
     "output_type": "stream",
     "text": [
      "1/1 [==============================] - 0s 21ms/step\n",
      "1/1 [==============================] - 0s 20ms/step\n"
     ]
    },
    {
     "name": "stderr",
     "output_type": "stream",
     "text": [
      "\r",
      "Generating signatures:  50%|█████████████████████████████████████████████████████████████████████████                                                                         | 2/4 [00:00<00:00,  3.02it/s]"
     ]
    },
    {
     "name": "stdout",
     "output_type": "stream",
     "text": [
      "1/1 [==============================] - 0s 20ms/step\n",
      "1/1 [==============================] - 0s 19ms/step\n"
     ]
    },
    {
     "name": "stderr",
     "output_type": "stream",
     "text": [
      "\r",
      "Generating signatures:  75%|█████████████████████████████████████████████████████████████████████████████████████████████████████████████▌                                    | 3/4 [00:00<00:00,  3.71it/s]"
     ]
    },
    {
     "name": "stdout",
     "output_type": "stream",
     "text": [
      "1/1 [==============================] - 0s 46ms/step\n",
      "1/1 [==============================] - 0s 45ms/step\n"
     ]
    },
    {
     "name": "stderr",
     "output_type": "stream",
     "text": [
      "Generating signatures: 100%|██████████████████████████████████████████████████████████████████████████████████████████████████████████████████████████████████████████████████| 4/4 [00:01<00:00,  3.62it/s]\n"
     ]
    },
    {
     "name": "stdout",
     "output_type": "stream",
     "text": [
      "A2\n"
     ]
    },
    {
     "name": "stderr",
     "output_type": "stream",
     "text": [
      "Parsing SMILES: 443it [00:00, 5740.79it/s]\n",
      "Generating signatures:   0%|                                                                                                                                                          | 0/4 [00:00<?, ?it/s]"
     ]
    },
    {
     "name": "stdout",
     "output_type": "stream",
     "text": [
      "1/1 [==============================] - 0s 50ms/step\n",
      "1/1 [==============================] - 0s 46ms/step\n"
     ]
    },
    {
     "name": "stderr",
     "output_type": "stream",
     "text": [
      "\r",
      "Generating signatures:  25%|████████████████████████████████████▌                                                                                                             | 1/4 [00:00<00:00,  4.02it/s]"
     ]
    },
    {
     "name": "stdout",
     "output_type": "stream",
     "text": [
      "1/1 [==============================] - 0s 19ms/step\n",
      "1/1 [==============================] - 0s 19ms/step\n"
     ]
    },
    {
     "name": "stderr",
     "output_type": "stream",
     "text": [
      "\r",
      "Generating signatures:  50%|█████████████████████████████████████████████████████████████████████████                                                                         | 2/4 [00:00<00:00,  4.66it/s]"
     ]
    },
    {
     "name": "stdout",
     "output_type": "stream",
     "text": [
      "1/1 [==============================] - 0s 19ms/step\n",
      "1/1 [==============================] - 0s 19ms/step\n"
     ]
    },
    {
     "name": "stderr",
     "output_type": "stream",
     "text": [
      "\r",
      "Generating signatures:  75%|█████████████████████████████████████████████████████████████████████████████████████████████████████████████▌                                    | 3/4 [00:00<00:00,  4.93it/s]"
     ]
    },
    {
     "name": "stdout",
     "output_type": "stream",
     "text": [
      "1/1 [==============================] - 0s 51ms/step\n",
      "1/1 [==============================] - 0s 45ms/step\n"
     ]
    },
    {
     "name": "stderr",
     "output_type": "stream",
     "text": [
      "Generating signatures: 100%|██████████████████████████████████████████████████████████████████████████████████████████████████████████████████████████████████████████████████| 4/4 [00:00<00:00,  4.85it/s]\n"
     ]
    },
    {
     "name": "stdout",
     "output_type": "stream",
     "text": [
      "A3\n"
     ]
    },
    {
     "name": "stderr",
     "output_type": "stream",
     "text": [
      "Parsing SMILES: 443it [00:00, 5604.06it/s]\n",
      "Generating signatures:   0%|                                                                                                                                                          | 0/4 [00:00<?, ?it/s]"
     ]
    },
    {
     "name": "stdout",
     "output_type": "stream",
     "text": [
      "1/1 [==============================] - 0s 46ms/step\n",
      "1/1 [==============================] - 0s 45ms/step\n"
     ]
    },
    {
     "name": "stderr",
     "output_type": "stream",
     "text": [
      "\r",
      "Generating signatures:  25%|████████████████████████████████████▌                                                                                                             | 1/4 [00:00<00:00,  4.15it/s]"
     ]
    },
    {
     "name": "stdout",
     "output_type": "stream",
     "text": [
      "1/1 [==============================] - 0s 19ms/step\n",
      "1/1 [==============================] - 0s 20ms/step\n"
     ]
    },
    {
     "name": "stderr",
     "output_type": "stream",
     "text": [
      "\r",
      "Generating signatures:  50%|█████████████████████████████████████████████████████████████████████████                                                                         | 2/4 [00:00<00:00,  4.72it/s]"
     ]
    },
    {
     "name": "stdout",
     "output_type": "stream",
     "text": [
      "1/1 [==============================] - 0s 20ms/step\n",
      "1/1 [==============================] - 0s 19ms/step\n"
     ]
    },
    {
     "name": "stderr",
     "output_type": "stream",
     "text": [
      "\r",
      "Generating signatures:  75%|█████████████████████████████████████████████████████████████████████████████████████████████████████████████▌                                    | 3/4 [00:00<00:00,  4.94it/s]"
     ]
    },
    {
     "name": "stdout",
     "output_type": "stream",
     "text": [
      "1/1 [==============================] - 0s 52ms/step\n",
      "1/1 [==============================] - 0s 48ms/step\n"
     ]
    },
    {
     "name": "stderr",
     "output_type": "stream",
     "text": [
      "Generating signatures: 100%|██████████████████████████████████████████████████████████████████████████████████████████████████████████████████████████████████████████████████| 4/4 [00:00<00:00,  4.86it/s]\n"
     ]
    },
    {
     "name": "stdout",
     "output_type": "stream",
     "text": [
      "A4\n"
     ]
    },
    {
     "name": "stderr",
     "output_type": "stream",
     "text": [
      "Parsing SMILES: 443it [00:00, 5696.74it/s]\n",
      "Generating signatures:   0%|                                                                                                                                                          | 0/4 [00:00<?, ?it/s]"
     ]
    },
    {
     "name": "stdout",
     "output_type": "stream",
     "text": [
      "1/1 [==============================] - 0s 88ms/step\n",
      "1/1 [==============================] - 0s 46ms/step\n"
     ]
    },
    {
     "name": "stderr",
     "output_type": "stream",
     "text": [
      "\r",
      "Generating signatures:  25%|████████████████████████████████████▌                                                                                                             | 1/4 [00:00<00:00,  3.51it/s]"
     ]
    },
    {
     "name": "stdout",
     "output_type": "stream",
     "text": [
      "1/1 [==============================] - 0s 20ms/step\n",
      "1/1 [==============================] - 0s 21ms/step\n"
     ]
    },
    {
     "name": "stderr",
     "output_type": "stream",
     "text": [
      "\r",
      "Generating signatures:  50%|█████████████████████████████████████████████████████████████████████████                                                                         | 2/4 [00:00<00:00,  4.29it/s]"
     ]
    },
    {
     "name": "stdout",
     "output_type": "stream",
     "text": [
      "1/1 [==============================] - 0s 20ms/step\n",
      "1/1 [==============================] - 0s 20ms/step\n"
     ]
    },
    {
     "name": "stderr",
     "output_type": "stream",
     "text": [
      "\r",
      "Generating signatures:  75%|█████████████████████████████████████████████████████████████████████████████████████████████████████████████▌                                    | 3/4 [00:00<00:00,  4.64it/s]"
     ]
    },
    {
     "name": "stdout",
     "output_type": "stream",
     "text": [
      "1/1 [==============================] - 0s 47ms/step\n",
      "1/1 [==============================] - 0s 45ms/step\n"
     ]
    },
    {
     "name": "stderr",
     "output_type": "stream",
     "text": [
      "Generating signatures: 100%|██████████████████████████████████████████████████████████████████████████████████████████████████████████████████████████████████████████████████| 4/4 [00:00<00:00,  4.61it/s]\n"
     ]
    },
    {
     "name": "stdout",
     "output_type": "stream",
     "text": [
      "A5\n"
     ]
    },
    {
     "name": "stderr",
     "output_type": "stream",
     "text": [
      "Parsing SMILES: 443it [00:00, 5720.27it/s]\n",
      "Generating signatures:   0%|                                                                                                                                                          | 0/4 [00:00<?, ?it/s]"
     ]
    },
    {
     "name": "stdout",
     "output_type": "stream",
     "text": [
      "1/1 [==============================] - 0s 50ms/step\n",
      "1/1 [==============================] - 0s 47ms/step\n"
     ]
    },
    {
     "name": "stderr",
     "output_type": "stream",
     "text": [
      "\r",
      "Generating signatures:  25%|████████████████████████████████████▌                                                                                                             | 1/4 [00:00<00:00,  3.99it/s]"
     ]
    },
    {
     "name": "stdout",
     "output_type": "stream",
     "text": [
      "1/1 [==============================] - 0s 20ms/step\n",
      "1/1 [==============================] - 0s 20ms/step\n"
     ]
    },
    {
     "name": "stderr",
     "output_type": "stream",
     "text": [
      "\r",
      "Generating signatures:  50%|█████████████████████████████████████████████████████████████████████████                                                                         | 2/4 [00:00<00:00,  4.59it/s]"
     ]
    },
    {
     "name": "stdout",
     "output_type": "stream",
     "text": [
      "1/1 [==============================] - 0s 19ms/step\n",
      "1/1 [==============================] - 0s 19ms/step\n"
     ]
    },
    {
     "name": "stderr",
     "output_type": "stream",
     "text": [
      "\r",
      "Generating signatures:  75%|█████████████████████████████████████████████████████████████████████████████████████████████████████████████▌                                    | 3/4 [00:00<00:00,  4.90it/s]"
     ]
    },
    {
     "name": "stdout",
     "output_type": "stream",
     "text": [
      "1/1 [==============================] - 0s 48ms/step\n",
      "1/1 [==============================] - 0s 45ms/step\n"
     ]
    },
    {
     "name": "stderr",
     "output_type": "stream",
     "text": [
      "Generating signatures: 100%|██████████████████████████████████████████████████████████████████████████████████████████████████████████████████████████████████████████████████| 4/4 [00:00<00:00,  4.86it/s]\n"
     ]
    },
    {
     "name": "stdout",
     "output_type": "stream",
     "text": [
      "B1\n"
     ]
    },
    {
     "name": "stderr",
     "output_type": "stream",
     "text": [
      "Parsing SMILES: 443it [00:00, 5615.12it/s]\n",
      "Generating signatures:   0%|                                                                                                                                                          | 0/4 [00:00<?, ?it/s]"
     ]
    },
    {
     "name": "stdout",
     "output_type": "stream",
     "text": [
      "1/1 [==============================] - 0s 52ms/step\n",
      "1/1 [==============================] - 0s 47ms/step\n"
     ]
    },
    {
     "name": "stderr",
     "output_type": "stream",
     "text": [
      "\r",
      "Generating signatures:  25%|████████████████████████████████████▌                                                                                                             | 1/4 [00:00<00:00,  4.00it/s]"
     ]
    },
    {
     "name": "stdout",
     "output_type": "stream",
     "text": [
      "1/1 [==============================] - 0s 21ms/step\n",
      "1/1 [==============================] - 0s 19ms/step\n"
     ]
    },
    {
     "name": "stderr",
     "output_type": "stream",
     "text": [
      "\r",
      "Generating signatures:  50%|█████████████████████████████████████████████████████████████████████████                                                                         | 2/4 [00:00<00:00,  4.62it/s]"
     ]
    },
    {
     "name": "stdout",
     "output_type": "stream",
     "text": [
      "1/1 [==============================] - 0s 19ms/step\n",
      "1/1 [==============================] - 0s 19ms/step\n"
     ]
    },
    {
     "name": "stderr",
     "output_type": "stream",
     "text": [
      "\r",
      "Generating signatures:  75%|█████████████████████████████████████████████████████████████████████████████████████████████████████████████▌                                    | 3/4 [00:00<00:00,  4.86it/s]"
     ]
    },
    {
     "name": "stdout",
     "output_type": "stream",
     "text": [
      "1/1 [==============================] - 0s 50ms/step\n",
      "1/1 [==============================] - 0s 46ms/step\n"
     ]
    },
    {
     "name": "stderr",
     "output_type": "stream",
     "text": [
      "Generating signatures: 100%|██████████████████████████████████████████████████████████████████████████████████████████████████████████████████████████████████████████████████| 4/4 [00:00<00:00,  4.80it/s]\n"
     ]
    },
    {
     "name": "stdout",
     "output_type": "stream",
     "text": [
      "B2\n"
     ]
    },
    {
     "name": "stderr",
     "output_type": "stream",
     "text": [
      "Parsing SMILES: 443it [00:00, 5617.56it/s]\n",
      "Generating signatures:   0%|                                                                                                                                                          | 0/4 [00:00<?, ?it/s]"
     ]
    },
    {
     "name": "stdout",
     "output_type": "stream",
     "text": [
      "1/1 [==============================] - 0s 51ms/step\n",
      "1/1 [==============================] - 0s 46ms/step\n"
     ]
    },
    {
     "name": "stderr",
     "output_type": "stream",
     "text": [
      "\r",
      "Generating signatures:  25%|████████████████████████████████████▌                                                                                                             | 1/4 [00:00<00:00,  4.02it/s]"
     ]
    },
    {
     "name": "stdout",
     "output_type": "stream",
     "text": [
      "1/1 [==============================] - 0s 19ms/step\n",
      "1/1 [==============================] - 0s 19ms/step\n"
     ]
    },
    {
     "name": "stderr",
     "output_type": "stream",
     "text": [
      "\r",
      "Generating signatures:  50%|█████████████████████████████████████████████████████████████████████████                                                                         | 2/4 [00:00<00:00,  4.68it/s]"
     ]
    },
    {
     "name": "stdout",
     "output_type": "stream",
     "text": [
      "1/1 [==============================] - 0s 19ms/step\n",
      "1/1 [==============================] - 0s 19ms/step\n"
     ]
    },
    {
     "name": "stderr",
     "output_type": "stream",
     "text": [
      "\r",
      "Generating signatures:  75%|█████████████████████████████████████████████████████████████████████████████████████████████████████████████▌                                    | 3/4 [00:00<00:00,  4.91it/s]"
     ]
    },
    {
     "name": "stdout",
     "output_type": "stream",
     "text": [
      "1/1 [==============================] - 0s 52ms/step\n",
      "1/1 [==============================] - 0s 50ms/step\n"
     ]
    },
    {
     "name": "stderr",
     "output_type": "stream",
     "text": [
      "Generating signatures: 100%|██████████████████████████████████████████████████████████████████████████████████████████████████████████████████████████████████████████████████| 4/4 [00:00<00:00,  4.81it/s]\n"
     ]
    },
    {
     "name": "stdout",
     "output_type": "stream",
     "text": [
      "B3\n"
     ]
    },
    {
     "name": "stderr",
     "output_type": "stream",
     "text": [
      "Parsing SMILES: 443it [00:00, 5687.48it/s]\n",
      "Generating signatures:   0%|                                                                                                                                                          | 0/4 [00:00<?, ?it/s]"
     ]
    },
    {
     "name": "stdout",
     "output_type": "stream",
     "text": [
      "1/1 [==============================] - 0s 46ms/step\n",
      "1/1 [==============================] - 0s 45ms/step\n"
     ]
    },
    {
     "name": "stderr",
     "output_type": "stream",
     "text": [
      "\r",
      "Generating signatures:  25%|████████████████████████████████████▌                                                                                                             | 1/4 [00:00<00:00,  4.14it/s]"
     ]
    },
    {
     "name": "stdout",
     "output_type": "stream",
     "text": [
      "1/1 [==============================] - 0s 21ms/step\n",
      "1/1 [==============================] - 0s 20ms/step\n"
     ]
    },
    {
     "name": "stderr",
     "output_type": "stream",
     "text": [
      "\r",
      "Generating signatures:  50%|█████████████████████████████████████████████████████████████████████████                                                                         | 2/4 [00:00<00:00,  4.66it/s]"
     ]
    },
    {
     "name": "stdout",
     "output_type": "stream",
     "text": [
      "1/1 [==============================] - 0s 19ms/step\n",
      "1/1 [==============================] - 0s 19ms/step\n"
     ]
    },
    {
     "name": "stderr",
     "output_type": "stream",
     "text": [
      "\r",
      "Generating signatures:  75%|█████████████████████████████████████████████████████████████████████████████████████████████████████████████▌                                    | 3/4 [00:00<00:00,  4.93it/s]"
     ]
    },
    {
     "name": "stdout",
     "output_type": "stream",
     "text": [
      "1/1 [==============================] - 0s 47ms/step\n",
      "1/1 [==============================] - 0s 47ms/step\n"
     ]
    },
    {
     "name": "stderr",
     "output_type": "stream",
     "text": [
      "Generating signatures: 100%|██████████████████████████████████████████████████████████████████████████████████████████████████████████████████████████████████████████████████| 4/4 [00:00<00:00,  4.89it/s]\n"
     ]
    },
    {
     "name": "stdout",
     "output_type": "stream",
     "text": [
      "B4\n"
     ]
    },
    {
     "name": "stderr",
     "output_type": "stream",
     "text": [
      "Parsing SMILES: 443it [00:00, 5622.29it/s]\n",
      "Generating signatures:   0%|                                                                                                                                                          | 0/4 [00:00<?, ?it/s]"
     ]
    },
    {
     "name": "stdout",
     "output_type": "stream",
     "text": [
      "1/1 [==============================] - 0s 250ms/step\n",
      "1/1 [==============================] - 0s 45ms/step\n"
     ]
    },
    {
     "name": "stderr",
     "output_type": "stream",
     "text": [
      "\r",
      "Generating signatures:  25%|████████████████████████████████████▌                                                                                                             | 1/4 [00:00<00:01,  2.25it/s]"
     ]
    },
    {
     "name": "stdout",
     "output_type": "stream",
     "text": [
      "1/1 [==============================] - 0s 20ms/step\n",
      "1/1 [==============================] - 0s 20ms/step\n"
     ]
    },
    {
     "name": "stderr",
     "output_type": "stream",
     "text": [
      "\r",
      "Generating signatures:  50%|█████████████████████████████████████████████████████████████████████████                                                                         | 2/4 [00:00<00:00,  3.37it/s]"
     ]
    },
    {
     "name": "stdout",
     "output_type": "stream",
     "text": [
      "1/1 [==============================] - 0s 19ms/step\n",
      "1/1 [==============================] - 0s 20ms/step\n"
     ]
    },
    {
     "name": "stderr",
     "output_type": "stream",
     "text": [
      "\r",
      "Generating signatures:  75%|█████████████████████████████████████████████████████████████████████████████████████████████████████████████▌                                    | 3/4 [00:00<00:00,  4.00it/s]"
     ]
    },
    {
     "name": "stdout",
     "output_type": "stream",
     "text": [
      "1/1 [==============================] - 0s 52ms/step\n",
      "1/1 [==============================] - 0s 45ms/step\n"
     ]
    },
    {
     "name": "stderr",
     "output_type": "stream",
     "text": [
      "Generating signatures: 100%|██████████████████████████████████████████████████████████████████████████████████████████████████████████████████████████████████████████████████| 4/4 [00:01<00:00,  3.89it/s]\n"
     ]
    },
    {
     "name": "stdout",
     "output_type": "stream",
     "text": [
      "B5\n"
     ]
    },
    {
     "name": "stderr",
     "output_type": "stream",
     "text": [
      "Parsing SMILES: 443it [00:00, 5677.40it/s]\n",
      "Generating signatures:   0%|                                                                                                                                                          | 0/4 [00:00<?, ?it/s]"
     ]
    },
    {
     "name": "stdout",
     "output_type": "stream",
     "text": [
      "1/1 [==============================] - 0s 47ms/step\n",
      "1/1 [==============================] - 0s 44ms/step\n"
     ]
    },
    {
     "name": "stderr",
     "output_type": "stream",
     "text": [
      "\r",
      "Generating signatures:  25%|████████████████████████████████████▌                                                                                                             | 1/4 [00:00<00:00,  4.14it/s]"
     ]
    },
    {
     "name": "stdout",
     "output_type": "stream",
     "text": [
      "1/1 [==============================] - 0s 19ms/step\n",
      "1/1 [==============================] - 0s 20ms/step\n"
     ]
    },
    {
     "name": "stderr",
     "output_type": "stream",
     "text": [
      "\r",
      "Generating signatures:  50%|█████████████████████████████████████████████████████████████████████████                                                                         | 2/4 [00:00<00:00,  4.70it/s]"
     ]
    },
    {
     "name": "stdout",
     "output_type": "stream",
     "text": [
      "1/1 [==============================] - 0s 19ms/step\n",
      "1/1 [==============================] - 0s 19ms/step\n"
     ]
    },
    {
     "name": "stderr",
     "output_type": "stream",
     "text": [
      "\r",
      "Generating signatures:  75%|█████████████████████████████████████████████████████████████████████████████████████████████████████████████▌                                    | 3/4 [00:00<00:00,  4.94it/s]"
     ]
    },
    {
     "name": "stdout",
     "output_type": "stream",
     "text": [
      "1/1 [==============================] - 0s 51ms/step\n",
      "1/1 [==============================] - 0s 49ms/step\n"
     ]
    },
    {
     "name": "stderr",
     "output_type": "stream",
     "text": [
      "Generating signatures: 100%|██████████████████████████████████████████████████████████████████████████████████████████████████████████████████████████████████████████████████| 4/4 [00:00<00:00,  4.87it/s]\n"
     ]
    },
    {
     "name": "stdout",
     "output_type": "stream",
     "text": [
      "C1\n"
     ]
    },
    {
     "name": "stderr",
     "output_type": "stream",
     "text": [
      "Parsing SMILES: 443it [00:00, 5673.86it/s]\n",
      "Generating signatures:   0%|                                                                                                                                                          | 0/4 [00:00<?, ?it/s]"
     ]
    },
    {
     "name": "stdout",
     "output_type": "stream",
     "text": [
      "1/1 [==============================] - 0s 49ms/step\n",
      "1/1 [==============================] - 0s 45ms/step\n"
     ]
    },
    {
     "name": "stderr",
     "output_type": "stream",
     "text": [
      "\r",
      "Generating signatures:  25%|████████████████████████████████████▌                                                                                                             | 1/4 [00:00<00:00,  4.08it/s]"
     ]
    },
    {
     "name": "stdout",
     "output_type": "stream",
     "text": [
      "1/1 [==============================] - 0s 20ms/step\n",
      "1/1 [==============================] - 0s 19ms/step\n"
     ]
    },
    {
     "name": "stderr",
     "output_type": "stream",
     "text": [
      "\r",
      "Generating signatures:  50%|█████████████████████████████████████████████████████████████████████████                                                                         | 2/4 [00:00<00:00,  4.65it/s]"
     ]
    },
    {
     "name": "stdout",
     "output_type": "stream",
     "text": [
      "1/1 [==============================] - 0s 19ms/step\n",
      "1/1 [==============================] - 0s 19ms/step\n"
     ]
    },
    {
     "name": "stderr",
     "output_type": "stream",
     "text": [
      "\r",
      "Generating signatures:  75%|█████████████████████████████████████████████████████████████████████████████████████████████████████████████▌                                    | 3/4 [00:00<00:00,  4.91it/s]"
     ]
    },
    {
     "name": "stdout",
     "output_type": "stream",
     "text": [
      "1/1 [==============================] - 0s 51ms/step\n",
      "1/1 [==============================] - 0s 46ms/step\n"
     ]
    },
    {
     "name": "stderr",
     "output_type": "stream",
     "text": [
      "Generating signatures: 100%|██████████████████████████████████████████████████████████████████████████████████████████████████████████████████████████████████████████████████| 4/4 [00:00<00:00,  4.84it/s]\n"
     ]
    },
    {
     "name": "stdout",
     "output_type": "stream",
     "text": [
      "C2\n"
     ]
    },
    {
     "name": "stderr",
     "output_type": "stream",
     "text": [
      "Parsing SMILES: 443it [00:00, 5466.04it/s]\n",
      "Generating signatures:   0%|                                                                                                                                                          | 0/4 [00:00<?, ?it/s]"
     ]
    },
    {
     "name": "stdout",
     "output_type": "stream",
     "text": [
      "1/1 [==============================] - 0s 52ms/step\n",
      "1/1 [==============================] - 0s 44ms/step\n"
     ]
    },
    {
     "name": "stderr",
     "output_type": "stream",
     "text": [
      "\r",
      "Generating signatures:  25%|████████████████████████████████████▌                                                                                                             | 1/4 [00:00<00:00,  4.01it/s]"
     ]
    },
    {
     "name": "stdout",
     "output_type": "stream",
     "text": [
      "1/1 [==============================] - 0s 19ms/step\n",
      "1/1 [==============================] - 0s 20ms/step\n"
     ]
    },
    {
     "name": "stderr",
     "output_type": "stream",
     "text": [
      "\r",
      "Generating signatures:  50%|█████████████████████████████████████████████████████████████████████████                                                                         | 2/4 [00:00<00:00,  4.62it/s]"
     ]
    },
    {
     "name": "stdout",
     "output_type": "stream",
     "text": [
      "1/1 [==============================] - 0s 20ms/step\n",
      "1/1 [==============================] - 0s 21ms/step\n"
     ]
    },
    {
     "name": "stderr",
     "output_type": "stream",
     "text": [
      "\r",
      "Generating signatures:  75%|█████████████████████████████████████████████████████████████████████████████████████████████████████████████▌                                    | 3/4 [00:00<00:00,  4.84it/s]"
     ]
    },
    {
     "name": "stdout",
     "output_type": "stream",
     "text": [
      "1/1 [==============================] - 0s 47ms/step\n",
      "1/1 [==============================] - 0s 46ms/step\n"
     ]
    },
    {
     "name": "stderr",
     "output_type": "stream",
     "text": [
      "Generating signatures: 100%|██████████████████████████████████████████████████████████████████████████████████████████████████████████████████████████████████████████████████| 4/4 [00:00<00:00,  4.81it/s]\n"
     ]
    },
    {
     "name": "stdout",
     "output_type": "stream",
     "text": [
      "C3\n"
     ]
    },
    {
     "name": "stderr",
     "output_type": "stream",
     "text": [
      "Parsing SMILES: 443it [00:00, 5697.37it/s]\n",
      "Generating signatures:   0%|                                                                                                                                                          | 0/4 [00:00<?, ?it/s]"
     ]
    },
    {
     "name": "stdout",
     "output_type": "stream",
     "text": [
      "1/1 [==============================] - 0s 51ms/step\n",
      "1/1 [==============================] - 0s 45ms/step\n"
     ]
    },
    {
     "name": "stderr",
     "output_type": "stream",
     "text": [
      "\r",
      "Generating signatures:  25%|████████████████████████████████████▌                                                                                                             | 1/4 [00:00<00:00,  4.05it/s]"
     ]
    },
    {
     "name": "stdout",
     "output_type": "stream",
     "text": [
      "1/1 [==============================] - 0s 19ms/step\n",
      "1/1 [==============================] - 0s 19ms/step\n"
     ]
    },
    {
     "name": "stderr",
     "output_type": "stream",
     "text": [
      "\r",
      "Generating signatures:  50%|█████████████████████████████████████████████████████████████████████████                                                                         | 2/4 [00:00<00:00,  4.67it/s]"
     ]
    },
    {
     "name": "stdout",
     "output_type": "stream",
     "text": [
      "1/1 [==============================] - 0s 19ms/step\n",
      "1/1 [==============================] - 0s 19ms/step\n"
     ]
    },
    {
     "name": "stderr",
     "output_type": "stream",
     "text": [
      "\r",
      "Generating signatures:  75%|█████████████████████████████████████████████████████████████████████████████████████████████████████████████▌                                    | 3/4 [00:00<00:00,  4.93it/s]"
     ]
    },
    {
     "name": "stdout",
     "output_type": "stream",
     "text": [
      "1/1 [==============================] - 0s 50ms/step\n",
      "1/1 [==============================] - 0s 47ms/step\n"
     ]
    },
    {
     "name": "stderr",
     "output_type": "stream",
     "text": [
      "Generating signatures: 100%|██████████████████████████████████████████████████████████████████████████████████████████████████████████████████████████████████████████████████| 4/4 [00:00<00:00,  4.85it/s]\n"
     ]
    },
    {
     "name": "stdout",
     "output_type": "stream",
     "text": [
      "C4\n"
     ]
    },
    {
     "name": "stderr",
     "output_type": "stream",
     "text": [
      "Parsing SMILES: 443it [00:00, 5714.84it/s]\n",
      "Generating signatures:   0%|                                                                                                                                                          | 0/4 [00:00<?, ?it/s]"
     ]
    },
    {
     "name": "stdout",
     "output_type": "stream",
     "text": [
      "1/1 [==============================] - 0s 49ms/step\n",
      "1/1 [==============================] - 0s 46ms/step\n"
     ]
    },
    {
     "name": "stderr",
     "output_type": "stream",
     "text": [
      "\r",
      "Generating signatures:  25%|████████████████████████████████████▌                                                                                                             | 1/4 [00:00<00:00,  4.08it/s]"
     ]
    },
    {
     "name": "stdout",
     "output_type": "stream",
     "text": [
      "1/1 [==============================] - 0s 19ms/step\n",
      "1/1 [==============================] - 0s 19ms/step\n"
     ]
    },
    {
     "name": "stderr",
     "output_type": "stream",
     "text": [
      "\r",
      "Generating signatures:  50%|█████████████████████████████████████████████████████████████████████████                                                                         | 2/4 [00:00<00:00,  4.66it/s]"
     ]
    },
    {
     "name": "stdout",
     "output_type": "stream",
     "text": [
      "1/1 [==============================] - 0s 19ms/step\n",
      "1/1 [==============================] - 0s 19ms/step\n"
     ]
    },
    {
     "name": "stderr",
     "output_type": "stream",
     "text": [
      "\r",
      "Generating signatures:  75%|█████████████████████████████████████████████████████████████████████████████████████████████████████████████▌                                    | 3/4 [00:00<00:00,  4.91it/s]"
     ]
    },
    {
     "name": "stdout",
     "output_type": "stream",
     "text": [
      "1/1 [==============================] - 0s 47ms/step\n",
      "1/1 [==============================] - 0s 46ms/step\n"
     ]
    },
    {
     "name": "stderr",
     "output_type": "stream",
     "text": [
      "Generating signatures: 100%|██████████████████████████████████████████████████████████████████████████████████████████████████████████████████████████████████████████████████| 4/4 [00:00<00:00,  4.87it/s]\n"
     ]
    },
    {
     "name": "stdout",
     "output_type": "stream",
     "text": [
      "C5\n"
     ]
    },
    {
     "name": "stderr",
     "output_type": "stream",
     "text": [
      "Parsing SMILES: 443it [00:00, 5715.93it/s]\n",
      "Generating signatures:   0%|                                                                                                                                                          | 0/4 [00:00<?, ?it/s]"
     ]
    },
    {
     "name": "stdout",
     "output_type": "stream",
     "text": [
      "1/1 [==============================] - 0s 51ms/step\n",
      "1/1 [==============================] - 0s 45ms/step\n"
     ]
    },
    {
     "name": "stderr",
     "output_type": "stream",
     "text": [
      "\r",
      "Generating signatures:  25%|████████████████████████████████████▌                                                                                                             | 1/4 [00:00<00:00,  4.01it/s]"
     ]
    },
    {
     "name": "stdout",
     "output_type": "stream",
     "text": [
      "1/1 [==============================] - 0s 19ms/step\n",
      "1/1 [==============================] - 0s 20ms/step\n"
     ]
    },
    {
     "name": "stderr",
     "output_type": "stream",
     "text": [
      "\r",
      "Generating signatures:  50%|█████████████████████████████████████████████████████████████████████████                                                                         | 2/4 [00:00<00:00,  4.65it/s]"
     ]
    },
    {
     "name": "stdout",
     "output_type": "stream",
     "text": [
      "1/1 [==============================] - 0s 19ms/step\n",
      "1/1 [==============================] - 0s 19ms/step\n"
     ]
    },
    {
     "name": "stderr",
     "output_type": "stream",
     "text": [
      "\r",
      "Generating signatures:  75%|█████████████████████████████████████████████████████████████████████████████████████████████████████████████▌                                    | 3/4 [00:00<00:00,  4.91it/s]"
     ]
    },
    {
     "name": "stdout",
     "output_type": "stream",
     "text": [
      "1/1 [==============================] - 0s 48ms/step\n",
      "1/1 [==============================] - 0s 45ms/step\n"
     ]
    },
    {
     "name": "stderr",
     "output_type": "stream",
     "text": [
      "Generating signatures: 100%|██████████████████████████████████████████████████████████████████████████████████████████████████████████████████████████████████████████████████| 4/4 [00:00<00:00,  4.87it/s]\n"
     ]
    },
    {
     "name": "stdout",
     "output_type": "stream",
     "text": [
      "D1\n"
     ]
    },
    {
     "name": "stderr",
     "output_type": "stream",
     "text": [
      "Parsing SMILES: 443it [00:00, 5611.76it/s]\n",
      "Generating signatures:   0%|                                                                                                                                                          | 0/4 [00:00<?, ?it/s]"
     ]
    },
    {
     "name": "stdout",
     "output_type": "stream",
     "text": [
      "1/1 [==============================] - 0s 52ms/step\n",
      "1/1 [==============================] - 0s 43ms/step\n"
     ]
    },
    {
     "name": "stderr",
     "output_type": "stream",
     "text": [
      "\r",
      "Generating signatures:  25%|████████████████████████████████████▌                                                                                                             | 1/4 [00:00<00:00,  4.07it/s]"
     ]
    },
    {
     "name": "stdout",
     "output_type": "stream",
     "text": [
      "1/1 [==============================] - 0s 19ms/step\n",
      "1/1 [==============================] - 0s 19ms/step\n"
     ]
    },
    {
     "name": "stderr",
     "output_type": "stream",
     "text": [
      "\r",
      "Generating signatures:  50%|█████████████████████████████████████████████████████████████████████████                                                                         | 2/4 [00:00<00:00,  4.70it/s]"
     ]
    },
    {
     "name": "stdout",
     "output_type": "stream",
     "text": [
      "1/1 [==============================] - 0s 19ms/step\n",
      "1/1 [==============================] - 0s 19ms/step\n"
     ]
    },
    {
     "name": "stderr",
     "output_type": "stream",
     "text": [
      "\r",
      "Generating signatures:  75%|█████████████████████████████████████████████████████████████████████████████████████████████████████████████▌                                    | 3/4 [00:00<00:00,  4.91it/s]"
     ]
    },
    {
     "name": "stdout",
     "output_type": "stream",
     "text": [
      "1/1 [==============================] - 0s 49ms/step\n",
      "1/1 [==============================] - 0s 48ms/step\n"
     ]
    },
    {
     "name": "stderr",
     "output_type": "stream",
     "text": [
      "Generating signatures: 100%|██████████████████████████████████████████████████████████████████████████████████████████████████████████████████████████████████████████████████| 4/4 [00:00<00:00,  4.85it/s]\n"
     ]
    },
    {
     "name": "stdout",
     "output_type": "stream",
     "text": [
      "D2\n"
     ]
    },
    {
     "name": "stderr",
     "output_type": "stream",
     "text": [
      "Parsing SMILES: 443it [00:00, 5687.86it/s]\n",
      "Generating signatures:   0%|                                                                                                                                                          | 0/4 [00:00<?, ?it/s]"
     ]
    },
    {
     "name": "stdout",
     "output_type": "stream",
     "text": [
      "1/1 [==============================] - 0s 46ms/step\n",
      "1/1 [==============================] - 0s 44ms/step\n"
     ]
    },
    {
     "name": "stderr",
     "output_type": "stream",
     "text": [
      "\r",
      "Generating signatures:  25%|████████████████████████████████████▌                                                                                                             | 1/4 [00:00<00:00,  4.19it/s]"
     ]
    },
    {
     "name": "stdout",
     "output_type": "stream",
     "text": [
      "1/1 [==============================] - 0s 19ms/step\n",
      "1/1 [==============================] - 0s 20ms/step\n"
     ]
    },
    {
     "name": "stderr",
     "output_type": "stream",
     "text": [
      "\r",
      "Generating signatures:  50%|█████████████████████████████████████████████████████████████████████████                                                                         | 2/4 [00:00<00:00,  4.76it/s]"
     ]
    },
    {
     "name": "stdout",
     "output_type": "stream",
     "text": [
      "1/1 [==============================] - 0s 20ms/step\n",
      "1/1 [==============================] - 0s 19ms/step\n"
     ]
    },
    {
     "name": "stderr",
     "output_type": "stream",
     "text": [
      "\r",
      "Generating signatures:  75%|█████████████████████████████████████████████████████████████████████████████████████████████████████████████▌                                    | 3/4 [00:00<00:00,  4.95it/s]"
     ]
    },
    {
     "name": "stdout",
     "output_type": "stream",
     "text": [
      "1/1 [==============================] - 0s 51ms/step\n",
      "1/1 [==============================] - 0s 51ms/step\n"
     ]
    },
    {
     "name": "stderr",
     "output_type": "stream",
     "text": [
      "Generating signatures: 100%|██████████████████████████████████████████████████████████████████████████████████████████████████████████████████████████████████████████████████| 4/4 [00:00<00:00,  4.85it/s]\n"
     ]
    },
    {
     "name": "stdout",
     "output_type": "stream",
     "text": [
      "D3\n"
     ]
    },
    {
     "name": "stderr",
     "output_type": "stream",
     "text": [
      "Parsing SMILES: 443it [00:00, 5671.49it/s]\n",
      "Generating signatures:   0%|                                                                                                                                                          | 0/4 [00:00<?, ?it/s]"
     ]
    },
    {
     "name": "stdout",
     "output_type": "stream",
     "text": [
      "1/1 [==============================] - 0s 49ms/step\n",
      "1/1 [==============================] - 0s 43ms/step\n"
     ]
    },
    {
     "name": "stderr",
     "output_type": "stream",
     "text": [
      "\r",
      "Generating signatures:  25%|████████████████████████████████████▌                                                                                                             | 1/4 [00:00<00:00,  4.12it/s]"
     ]
    },
    {
     "name": "stdout",
     "output_type": "stream",
     "text": [
      "1/1 [==============================] - 0s 19ms/step\n",
      "1/1 [==============================] - 0s 19ms/step\n"
     ]
    },
    {
     "name": "stderr",
     "output_type": "stream",
     "text": [
      "\r",
      "Generating signatures:  50%|█████████████████████████████████████████████████████████████████████████                                                                         | 2/4 [00:00<00:00,  4.75it/s]"
     ]
    },
    {
     "name": "stdout",
     "output_type": "stream",
     "text": [
      "1/1 [==============================] - 0s 19ms/step\n",
      "1/1 [==============================] - 0s 19ms/step\n"
     ]
    },
    {
     "name": "stderr",
     "output_type": "stream",
     "text": [
      "\r",
      "Generating signatures:  75%|█████████████████████████████████████████████████████████████████████████████████████████████████████████████▌                                    | 3/4 [00:00<00:00,  4.97it/s]"
     ]
    },
    {
     "name": "stdout",
     "output_type": "stream",
     "text": [
      "1/1 [==============================] - 0s 53ms/step\n",
      "1/1 [==============================] - 0s 46ms/step\n"
     ]
    },
    {
     "name": "stderr",
     "output_type": "stream",
     "text": [
      "Generating signatures: 100%|██████████████████████████████████████████████████████████████████████████████████████████████████████████████████████████████████████████████████| 4/4 [00:00<00:00,  4.88it/s]\n"
     ]
    },
    {
     "name": "stdout",
     "output_type": "stream",
     "text": [
      "D4\n"
     ]
    },
    {
     "name": "stderr",
     "output_type": "stream",
     "text": [
      "Parsing SMILES: 443it [00:00, 5527.72it/s]\n",
      "Generating signatures:   0%|                                                                                                                                                          | 0/4 [00:00<?, ?it/s]"
     ]
    },
    {
     "name": "stdout",
     "output_type": "stream",
     "text": [
      "1/1 [==============================] - 0s 47ms/step\n",
      "1/1 [==============================] - 0s 44ms/step\n"
     ]
    },
    {
     "name": "stderr",
     "output_type": "stream",
     "text": [
      "\r",
      "Generating signatures:  25%|████████████████████████████████████▌                                                                                                             | 1/4 [00:00<00:00,  4.15it/s]"
     ]
    },
    {
     "name": "stdout",
     "output_type": "stream",
     "text": [
      "1/1 [==============================] - 0s 19ms/step\n",
      "1/1 [==============================] - 0s 19ms/step\n"
     ]
    },
    {
     "name": "stderr",
     "output_type": "stream",
     "text": [
      "\r",
      "Generating signatures:  50%|█████████████████████████████████████████████████████████████████████████                                                                         | 2/4 [00:00<00:00,  4.71it/s]"
     ]
    },
    {
     "name": "stdout",
     "output_type": "stream",
     "text": [
      "1/1 [==============================] - 0s 19ms/step\n",
      "1/1 [==============================] - 0s 20ms/step\n"
     ]
    },
    {
     "name": "stderr",
     "output_type": "stream",
     "text": [
      "\r",
      "Generating signatures:  75%|█████████████████████████████████████████████████████████████████████████████████████████████████████████████▌                                    | 3/4 [00:00<00:00,  4.93it/s]"
     ]
    },
    {
     "name": "stdout",
     "output_type": "stream",
     "text": [
      "1/1 [==============================] - 0s 53ms/step\n",
      "1/1 [==============================] - 0s 49ms/step\n"
     ]
    },
    {
     "name": "stderr",
     "output_type": "stream",
     "text": [
      "Generating signatures: 100%|██████████████████████████████████████████████████████████████████████████████████████████████████████████████████████████████████████████████████| 4/4 [00:00<00:00,  4.81it/s]\n"
     ]
    },
    {
     "name": "stdout",
     "output_type": "stream",
     "text": [
      "D5\n"
     ]
    },
    {
     "name": "stderr",
     "output_type": "stream",
     "text": [
      "Parsing SMILES: 443it [00:00, 5693.63it/s]\n",
      "Generating signatures:   0%|                                                                                                                                                          | 0/4 [00:00<?, ?it/s]"
     ]
    },
    {
     "name": "stdout",
     "output_type": "stream",
     "text": [
      "1/1 [==============================] - 0s 53ms/step\n",
      "1/1 [==============================] - 0s 44ms/step\n"
     ]
    },
    {
     "name": "stderr",
     "output_type": "stream",
     "text": [
      "\r",
      "Generating signatures:  25%|████████████████████████████████████▌                                                                                                             | 1/4 [00:00<00:00,  4.05it/s]"
     ]
    },
    {
     "name": "stdout",
     "output_type": "stream",
     "text": [
      "1/1 [==============================] - 0s 19ms/step\n",
      "1/1 [==============================] - 0s 19ms/step\n"
     ]
    },
    {
     "name": "stderr",
     "output_type": "stream",
     "text": [
      "\r",
      "Generating signatures:  50%|█████████████████████████████████████████████████████████████████████████                                                                         | 2/4 [00:00<00:00,  4.72it/s]"
     ]
    },
    {
     "name": "stdout",
     "output_type": "stream",
     "text": [
      "1/1 [==============================] - 0s 19ms/step\n",
      "1/1 [==============================] - 0s 19ms/step\n"
     ]
    },
    {
     "name": "stderr",
     "output_type": "stream",
     "text": [
      "\r",
      "Generating signatures:  75%|█████████████████████████████████████████████████████████████████████████████████████████████████████████████▌                                    | 3/4 [00:00<00:00,  4.95it/s]"
     ]
    },
    {
     "name": "stdout",
     "output_type": "stream",
     "text": [
      "1/1 [==============================] - 0s 52ms/step\n",
      "1/1 [==============================] - 0s 45ms/step\n"
     ]
    },
    {
     "name": "stderr",
     "output_type": "stream",
     "text": [
      "Generating signatures: 100%|██████████████████████████████████████████████████████████████████████████████████████████████████████████████████████████████████████████████████| 4/4 [00:00<00:00,  4.89it/s]\n"
     ]
    },
    {
     "name": "stdout",
     "output_type": "stream",
     "text": [
      "E1\n"
     ]
    },
    {
     "name": "stderr",
     "output_type": "stream",
     "text": [
      "Parsing SMILES: 443it [00:00, 5691.29it/s]\n",
      "Generating signatures:   0%|                                                                                                                                                          | 0/4 [00:00<?, ?it/s]"
     ]
    },
    {
     "name": "stdout",
     "output_type": "stream",
     "text": [
      "1/1 [==============================] - 0s 46ms/step\n",
      "1/1 [==============================] - 0s 44ms/step\n"
     ]
    },
    {
     "name": "stderr",
     "output_type": "stream",
     "text": [
      "\r",
      "Generating signatures:  25%|████████████████████████████████████▌                                                                                                             | 1/4 [00:00<00:00,  4.20it/s]"
     ]
    },
    {
     "name": "stdout",
     "output_type": "stream",
     "text": [
      "1/1 [==============================] - 0s 19ms/step\n",
      "1/1 [==============================] - 0s 19ms/step\n"
     ]
    },
    {
     "name": "stderr",
     "output_type": "stream",
     "text": [
      "\r",
      "Generating signatures:  50%|█████████████████████████████████████████████████████████████████████████                                                                         | 2/4 [00:00<00:00,  4.78it/s]"
     ]
    },
    {
     "name": "stdout",
     "output_type": "stream",
     "text": [
      "1/1 [==============================] - 0s 20ms/step\n",
      "1/1 [==============================] - 0s 19ms/step\n"
     ]
    },
    {
     "name": "stderr",
     "output_type": "stream",
     "text": [
      "\r",
      "Generating signatures:  75%|█████████████████████████████████████████████████████████████████████████████████████████████████████████████▌                                    | 3/4 [00:00<00:00,  4.95it/s]"
     ]
    },
    {
     "name": "stdout",
     "output_type": "stream",
     "text": [
      "1/1 [==============================] - 0s 52ms/step\n",
      "1/1 [==============================] - 0s 48ms/step\n"
     ]
    },
    {
     "name": "stderr",
     "output_type": "stream",
     "text": [
      "Generating signatures: 100%|██████████████████████████████████████████████████████████████████████████████████████████████████████████████████████████████████████████████████| 4/4 [00:00<00:00,  4.88it/s]\n"
     ]
    },
    {
     "name": "stdout",
     "output_type": "stream",
     "text": [
      "E2\n"
     ]
    },
    {
     "name": "stderr",
     "output_type": "stream",
     "text": [
      "Parsing SMILES: 443it [00:00, 5411.50it/s]\n",
      "Generating signatures:   0%|                                                                                                                                                          | 0/4 [00:00<?, ?it/s]"
     ]
    },
    {
     "name": "stdout",
     "output_type": "stream",
     "text": [
      "1/1 [==============================] - 0s 47ms/step\n",
      "1/1 [==============================] - 0s 45ms/step\n"
     ]
    },
    {
     "name": "stderr",
     "output_type": "stream",
     "text": [
      "\r",
      "Generating signatures:  25%|████████████████████████████████████▌                                                                                                             | 1/4 [00:00<00:00,  4.09it/s]"
     ]
    },
    {
     "name": "stdout",
     "output_type": "stream",
     "text": [
      "1/1 [==============================] - 0s 19ms/step\n",
      "1/1 [==============================] - 0s 20ms/step\n"
     ]
    },
    {
     "name": "stderr",
     "output_type": "stream",
     "text": [
      "\r",
      "Generating signatures:  50%|█████████████████████████████████████████████████████████████████████████                                                                         | 2/4 [00:00<00:00,  4.65it/s]"
     ]
    },
    {
     "name": "stdout",
     "output_type": "stream",
     "text": [
      "1/1 [==============================] - 0s 20ms/step\n",
      "1/1 [==============================] - 0s 20ms/step\n"
     ]
    },
    {
     "name": "stderr",
     "output_type": "stream",
     "text": [
      "\r",
      "Generating signatures:  75%|█████████████████████████████████████████████████████████████████████████████████████████████████████████████▌                                    | 3/4 [00:00<00:00,  4.85it/s]"
     ]
    },
    {
     "name": "stdout",
     "output_type": "stream",
     "text": [
      "1/1 [==============================] - 0s 48ms/step\n",
      "1/1 [==============================] - 0s 47ms/step\n"
     ]
    },
    {
     "name": "stderr",
     "output_type": "stream",
     "text": [
      "Generating signatures: 100%|██████████████████████████████████████████████████████████████████████████████████████████████████████████████████████████████████████████████████| 4/4 [00:00<00:00,  4.81it/s]\n"
     ]
    },
    {
     "name": "stdout",
     "output_type": "stream",
     "text": [
      "E3\n"
     ]
    },
    {
     "name": "stderr",
     "output_type": "stream",
     "text": [
      "Parsing SMILES: 443it [00:00, 5658.80it/s]\n",
      "Generating signatures:   0%|                                                                                                                                                          | 0/4 [00:00<?, ?it/s]"
     ]
    },
    {
     "name": "stdout",
     "output_type": "stream",
     "text": [
      "1/1 [==============================] - 0s 184ms/step\n",
      "1/1 [==============================] - 0s 45ms/step\n"
     ]
    },
    {
     "name": "stderr",
     "output_type": "stream",
     "text": [
      "\r",
      "Generating signatures:  25%|████████████████████████████████████▌                                                                                                             | 1/4 [00:00<00:01,  2.62it/s]"
     ]
    },
    {
     "name": "stdout",
     "output_type": "stream",
     "text": [
      "1/1 [==============================] - 0s 20ms/step\n",
      "1/1 [==============================] - 0s 19ms/step\n"
     ]
    },
    {
     "name": "stderr",
     "output_type": "stream",
     "text": [
      "\r",
      "Generating signatures:  50%|█████████████████████████████████████████████████████████████████████████                                                                         | 2/4 [00:00<00:00,  3.68it/s]"
     ]
    },
    {
     "name": "stdout",
     "output_type": "stream",
     "text": [
      "1/1 [==============================] - 0s 20ms/step\n",
      "1/1 [==============================] - 0s 19ms/step\n"
     ]
    },
    {
     "name": "stderr",
     "output_type": "stream",
     "text": [
      "\r",
      "Generating signatures:  75%|█████████████████████████████████████████████████████████████████████████████████████████████████████████████▌                                    | 3/4 [00:00<00:00,  4.25it/s]"
     ]
    },
    {
     "name": "stdout",
     "output_type": "stream",
     "text": [
      "1/1 [==============================] - 0s 53ms/step\n",
      "1/1 [==============================] - 0s 48ms/step\n"
     ]
    },
    {
     "name": "stderr",
     "output_type": "stream",
     "text": [
      "Generating signatures: 100%|██████████████████████████████████████████████████████████████████████████████████████████████████████████████████████████████████████████████████| 4/4 [00:00<00:00,  4.12it/s]\n"
     ]
    },
    {
     "name": "stdout",
     "output_type": "stream",
     "text": [
      "E4\n"
     ]
    },
    {
     "name": "stderr",
     "output_type": "stream",
     "text": [
      "Parsing SMILES: 443it [00:00, 5695.81it/s]\n",
      "Generating signatures:   0%|                                                                                                                                                          | 0/4 [00:00<?, ?it/s]"
     ]
    },
    {
     "name": "stdout",
     "output_type": "stream",
     "text": [
      "1/1 [==============================] - 0s 47ms/step\n",
      "1/1 [==============================] - 0s 45ms/step\n"
     ]
    },
    {
     "name": "stderr",
     "output_type": "stream",
     "text": [
      "\r",
      "Generating signatures:  25%|████████████████████████████████████▌                                                                                                             | 1/4 [00:00<00:00,  4.13it/s]"
     ]
    },
    {
     "name": "stdout",
     "output_type": "stream",
     "text": [
      "1/1 [==============================] - 0s 19ms/step\n",
      "1/1 [==============================] - 0s 19ms/step\n"
     ]
    },
    {
     "name": "stderr",
     "output_type": "stream",
     "text": [
      "\r",
      "Generating signatures:  50%|█████████████████████████████████████████████████████████████████████████                                                                         | 2/4 [00:00<00:00,  4.75it/s]"
     ]
    },
    {
     "name": "stdout",
     "output_type": "stream",
     "text": [
      "1/1 [==============================] - 0s 19ms/step\n",
      "1/1 [==============================] - 0s 20ms/step\n"
     ]
    },
    {
     "name": "stderr",
     "output_type": "stream",
     "text": [
      "\r",
      "Generating signatures:  75%|█████████████████████████████████████████████████████████████████████████████████████████████████████████████▌                                    | 3/4 [00:00<00:00,  4.98it/s]"
     ]
    },
    {
     "name": "stdout",
     "output_type": "stream",
     "text": [
      "1/1 [==============================] - 0s 48ms/step\n",
      "1/1 [==============================] - 0s 44ms/step\n"
     ]
    },
    {
     "name": "stderr",
     "output_type": "stream",
     "text": [
      "Generating signatures: 100%|██████████████████████████████████████████████████████████████████████████████████████████████████████████████████████████████████████████████████| 4/4 [00:00<00:00,  4.93it/s]\n"
     ]
    },
    {
     "name": "stdout",
     "output_type": "stream",
     "text": [
      "E5\n"
     ]
    },
    {
     "name": "stderr",
     "output_type": "stream",
     "text": [
      "Parsing SMILES: 443it [00:00, 5181.27it/s]\n",
      "Generating signatures:   0%|                                                                                                                                                          | 0/4 [00:00<?, ?it/s]"
     ]
    },
    {
     "name": "stdout",
     "output_type": "stream",
     "text": [
      "1/1 [==============================] - 0s 48ms/step\n",
      "1/1 [==============================] - 0s 45ms/step\n"
     ]
    },
    {
     "name": "stderr",
     "output_type": "stream",
     "text": [
      "\r",
      "Generating signatures:  25%|████████████████████████████████████▌                                                                                                             | 1/4 [00:00<00:00,  4.04it/s]"
     ]
    },
    {
     "name": "stdout",
     "output_type": "stream",
     "text": [
      "1/1 [==============================] - 0s 19ms/step\n",
      "1/1 [==============================] - 0s 20ms/step\n"
     ]
    },
    {
     "name": "stderr",
     "output_type": "stream",
     "text": [
      "\r",
      "Generating signatures:  50%|█████████████████████████████████████████████████████████████████████████                                                                         | 2/4 [00:00<00:00,  4.61it/s]"
     ]
    },
    {
     "name": "stdout",
     "output_type": "stream",
     "text": [
      "1/1 [==============================] - 0s 19ms/step\n",
      "1/1 [==============================] - 0s 21ms/step\n"
     ]
    },
    {
     "name": "stderr",
     "output_type": "stream",
     "text": [
      "\r",
      "Generating signatures:  75%|█████████████████████████████████████████████████████████████████████████████████████████████████████████████▌                                    | 3/4 [00:00<00:00,  4.83it/s]"
     ]
    },
    {
     "name": "stdout",
     "output_type": "stream",
     "text": [
      "1/1 [==============================] - 0s 50ms/step\n",
      "1/1 [==============================] - 0s 46ms/step\n"
     ]
    },
    {
     "name": "stderr",
     "output_type": "stream",
     "text": [
      "Generating signatures: 100%|██████████████████████████████████████████████████████████████████████████████████████████████████████████████████████████████████████████████████| 4/4 [00:00<00:00,  4.80it/s]\n"
     ]
    }
   ],
   "source": [
    "# impute_layers=[\"A1\",\"A2\",\"A3\",\"A4\",\"A5\",\"B1\",\"B2\",\"B3\",\"B4\",\"B5\",\n",
    "#                \"C1\",\"C2\",\"C3\",\"C4\",\"C5\",\"D1\",\"D2\",\"D3\",\"D4\",\"D5\",\n",
    "#                \"E1\",\"E2\",\"E3\",\"E4\",\"E5\"]\n",
    "# data_all=np.empty([extend_data.shape[0],0])\n",
    "# for layer in impute_layers:\n",
    "#     print(layer)\n",
    "#     sign = Signaturizer(layer)\n",
    "#     data_tmp = sign.predict(extend_data[\"smiles\"])\n",
    "#     data_tmp_sig=data_tmp.signature\n",
    "#     data_all=np.concatenate([data_all,data_tmp_sig], axis=1)\n",
    "#     # convert array into dataframe\n",
    "#     DF = pd.DataFrame(data_all, index=extend_data[\"smiles\"])\n",
    " \n",
    "#     # save the dataframe as a csv file\n",
    "#     DF.to_csv(\"SNN_imputed_Bace_25layers.csv\")\n",
    "# #                         Tox21_B2.signature,Tox21_B3.signature,\n",
    "# #                         Tox21_B4.signature,Tox21_B5.signature,\n",
    "# #                        Tox21_C1.signature,Tox21_C2.signature,Tox21_C3.signature,Tox21_C4.signature,Tox21_C5.signature,\n",
    "# #                        Tox21_D1.signature,Tox21_D2.signature,Tox21_D3.signature,Tox21_D4.signature,Tox21_D5.signature,\n",
    "# #                        Tox21_E1.signature,Tox21_E2.signature,Tox21_E3.signature,Tox21_E5.signature], axis=1)\n"
   ]
  },
  {
   "cell_type": "code",
   "execution_count": 6,
   "id": "427a8f59",
   "metadata": {},
   "outputs": [],
   "source": [
    "SNN_impute_data = pd.read_csv(\"./extend_dataset/BACE/BACE_extend_v2.csv\")"
   ]
  },
  {
   "cell_type": "code",
   "execution_count": 7,
   "id": "92a18ff4",
   "metadata": {},
   "outputs": [
    {
     "data": {
      "text/html": [
       "<div>\n",
       "<style scoped>\n",
       "    .dataframe tbody tr th:only-of-type {\n",
       "        vertical-align: middle;\n",
       "    }\n",
       "\n",
       "    .dataframe tbody tr th {\n",
       "        vertical-align: top;\n",
       "    }\n",
       "\n",
       "    .dataframe thead th {\n",
       "        text-align: right;\n",
       "    }\n",
       "</style>\n",
       "<table border=\"1\" class=\"dataframe\">\n",
       "  <thead>\n",
       "    <tr style=\"text-align: right;\">\n",
       "      <th></th>\n",
       "      <th>smiles</th>\n",
       "      <th>0</th>\n",
       "      <th>1</th>\n",
       "      <th>2</th>\n",
       "      <th>3</th>\n",
       "      <th>4</th>\n",
       "      <th>5</th>\n",
       "      <th>6</th>\n",
       "      <th>7</th>\n",
       "      <th>8</th>\n",
       "      <th>...</th>\n",
       "      <th>3190</th>\n",
       "      <th>3191</th>\n",
       "      <th>3192</th>\n",
       "      <th>3193</th>\n",
       "      <th>3194</th>\n",
       "      <th>3195</th>\n",
       "      <th>3196</th>\n",
       "      <th>3197</th>\n",
       "      <th>3198</th>\n",
       "      <th>3199</th>\n",
       "    </tr>\n",
       "  </thead>\n",
       "  <tbody>\n",
       "    <tr>\n",
       "      <th>0</th>\n",
       "      <td>O1CC[C@@H](NC(=O)[C@@H](Cc2cc3cc(ccc3nc2N)-c2c...</td>\n",
       "      <td>-0.103117</td>\n",
       "      <td>-0.109110</td>\n",
       "      <td>-0.079686</td>\n",
       "      <td>0.087352</td>\n",
       "      <td>0.108094</td>\n",
       "      <td>-0.078005</td>\n",
       "      <td>-0.105994</td>\n",
       "      <td>0.100727</td>\n",
       "      <td>0.076719</td>\n",
       "      <td>...</td>\n",
       "      <td>0.079952</td>\n",
       "      <td>-0.002659</td>\n",
       "      <td>-0.078523</td>\n",
       "      <td>-0.065374</td>\n",
       "      <td>0.072156</td>\n",
       "      <td>0.007460</td>\n",
       "      <td>0.040828</td>\n",
       "      <td>-0.092911</td>\n",
       "      <td>-0.212283</td>\n",
       "      <td>-0.042867</td>\n",
       "    </tr>\n",
       "    <tr>\n",
       "      <th>1</th>\n",
       "      <td>S(=O)(=O)(N(C)c1cc(cc(c1)C(=O)N[C@H]([C@@H](O)...</td>\n",
       "      <td>-0.101011</td>\n",
       "      <td>-0.095902</td>\n",
       "      <td>0.101232</td>\n",
       "      <td>-0.101736</td>\n",
       "      <td>0.065760</td>\n",
       "      <td>0.098880</td>\n",
       "      <td>0.084343</td>\n",
       "      <td>0.088164</td>\n",
       "      <td>-0.092728</td>\n",
       "      <td>...</td>\n",
       "      <td>-0.002624</td>\n",
       "      <td>-0.002055</td>\n",
       "      <td>-0.001430</td>\n",
       "      <td>-0.035987</td>\n",
       "      <td>-0.004398</td>\n",
       "      <td>-0.128556</td>\n",
       "      <td>-0.036019</td>\n",
       "      <td>0.062227</td>\n",
       "      <td>-0.105441</td>\n",
       "      <td>-0.037288</td>\n",
       "    </tr>\n",
       "    <tr>\n",
       "      <th>2</th>\n",
       "      <td>O1C[C@]2(N=C1N)c1cc(ccc1Oc1c2cc(OCC(C)C)cc1)-c...</td>\n",
       "      <td>-0.059927</td>\n",
       "      <td>0.055629</td>\n",
       "      <td>0.089521</td>\n",
       "      <td>-0.047060</td>\n",
       "      <td>0.102754</td>\n",
       "      <td>-0.096517</td>\n",
       "      <td>-0.089286</td>\n",
       "      <td>-0.053730</td>\n",
       "      <td>-0.074377</td>\n",
       "      <td>...</td>\n",
       "      <td>0.097236</td>\n",
       "      <td>0.027127</td>\n",
       "      <td>-0.027756</td>\n",
       "      <td>-0.073347</td>\n",
       "      <td>0.104731</td>\n",
       "      <td>0.142924</td>\n",
       "      <td>0.107580</td>\n",
       "      <td>-0.062903</td>\n",
       "      <td>-0.097666</td>\n",
       "      <td>-0.124921</td>\n",
       "    </tr>\n",
       "    <tr>\n",
       "      <th>3</th>\n",
       "      <td>O=C(NCC1CCCCC1)[C@@H](Cc1cc2cc(ccc2nc1N)-c1ccc...</td>\n",
       "      <td>0.089228</td>\n",
       "      <td>-0.099137</td>\n",
       "      <td>0.098406</td>\n",
       "      <td>-0.021800</td>\n",
       "      <td>-0.043436</td>\n",
       "      <td>0.098839</td>\n",
       "      <td>0.089348</td>\n",
       "      <td>-0.025153</td>\n",
       "      <td>0.097720</td>\n",
       "      <td>...</td>\n",
       "      <td>-0.063247</td>\n",
       "      <td>0.130504</td>\n",
       "      <td>0.043744</td>\n",
       "      <td>-0.066172</td>\n",
       "      <td>0.141627</td>\n",
       "      <td>0.054502</td>\n",
       "      <td>0.063956</td>\n",
       "      <td>-0.119488</td>\n",
       "      <td>-0.082364</td>\n",
       "      <td>-0.032025</td>\n",
       "    </tr>\n",
       "    <tr>\n",
       "      <th>4</th>\n",
       "      <td>Fc1ccc(NC(=O)c2ncc(cc2)C#N)cc1[C@]1(N=C(O[C@@H...</td>\n",
       "      <td>-0.093470</td>\n",
       "      <td>0.093465</td>\n",
       "      <td>0.093411</td>\n",
       "      <td>0.087439</td>\n",
       "      <td>0.093472</td>\n",
       "      <td>-0.093477</td>\n",
       "      <td>0.093477</td>\n",
       "      <td>0.093311</td>\n",
       "      <td>-0.093477</td>\n",
       "      <td>...</td>\n",
       "      <td>0.068772</td>\n",
       "      <td>0.136240</td>\n",
       "      <td>0.106712</td>\n",
       "      <td>-0.022382</td>\n",
       "      <td>0.057602</td>\n",
       "      <td>0.048193</td>\n",
       "      <td>0.077223</td>\n",
       "      <td>0.023521</td>\n",
       "      <td>-0.116667</td>\n",
       "      <td>-0.068514</td>\n",
       "    </tr>\n",
       "    <tr>\n",
       "      <th>...</th>\n",
       "      <td>...</td>\n",
       "      <td>...</td>\n",
       "      <td>...</td>\n",
       "      <td>...</td>\n",
       "      <td>...</td>\n",
       "      <td>...</td>\n",
       "      <td>...</td>\n",
       "      <td>...</td>\n",
       "      <td>...</td>\n",
       "      <td>...</td>\n",
       "      <td>...</td>\n",
       "      <td>...</td>\n",
       "      <td>...</td>\n",
       "      <td>...</td>\n",
       "      <td>...</td>\n",
       "      <td>...</td>\n",
       "      <td>...</td>\n",
       "      <td>...</td>\n",
       "      <td>...</td>\n",
       "      <td>...</td>\n",
       "      <td>...</td>\n",
       "    </tr>\n",
       "    <tr>\n",
       "      <th>438</th>\n",
       "      <td>Clc1ccc(nc1)C(=O)Nc1cc2c(CCC23N=C(OC3)N)cc1</td>\n",
       "      <td>-0.095150</td>\n",
       "      <td>0.087722</td>\n",
       "      <td>0.095809</td>\n",
       "      <td>0.109224</td>\n",
       "      <td>-0.019241</td>\n",
       "      <td>0.002795</td>\n",
       "      <td>0.108509</td>\n",
       "      <td>0.105908</td>\n",
       "      <td>-0.051195</td>\n",
       "      <td>...</td>\n",
       "      <td>0.174662</td>\n",
       "      <td>0.056781</td>\n",
       "      <td>0.075053</td>\n",
       "      <td>0.005711</td>\n",
       "      <td>-0.053424</td>\n",
       "      <td>0.085271</td>\n",
       "      <td>0.196274</td>\n",
       "      <td>-0.043537</td>\n",
       "      <td>-0.100717</td>\n",
       "      <td>-0.043867</td>\n",
       "    </tr>\n",
       "    <tr>\n",
       "      <th>439</th>\n",
       "      <td>n1cc(ccc1)-c1cc(ccc1)C1(N=C(C)C(=N1)N)C</td>\n",
       "      <td>-0.099595</td>\n",
       "      <td>0.097650</td>\n",
       "      <td>-0.057575</td>\n",
       "      <td>-0.033586</td>\n",
       "      <td>0.078912</td>\n",
       "      <td>-0.100500</td>\n",
       "      <td>0.098911</td>\n",
       "      <td>-0.035716</td>\n",
       "      <td>0.099049</td>\n",
       "      <td>...</td>\n",
       "      <td>-0.051897</td>\n",
       "      <td>0.032088</td>\n",
       "      <td>-0.026862</td>\n",
       "      <td>-0.162492</td>\n",
       "      <td>0.005606</td>\n",
       "      <td>-0.051676</td>\n",
       "      <td>0.081793</td>\n",
       "      <td>-0.166865</td>\n",
       "      <td>-0.153067</td>\n",
       "      <td>0.022881</td>\n",
       "    </tr>\n",
       "    <tr>\n",
       "      <th>440</th>\n",
       "      <td>Clc1ccc(nc1)C(=O)Nc1cc(ccc1)C12N=C(SCCC1C2)N</td>\n",
       "      <td>-0.097990</td>\n",
       "      <td>-0.055028</td>\n",
       "      <td>0.106526</td>\n",
       "      <td>0.106234</td>\n",
       "      <td>-0.017506</td>\n",
       "      <td>-0.083153</td>\n",
       "      <td>0.105599</td>\n",
       "      <td>0.105654</td>\n",
       "      <td>-0.105552</td>\n",
       "      <td>...</td>\n",
       "      <td>0.048111</td>\n",
       "      <td>0.175836</td>\n",
       "      <td>0.029575</td>\n",
       "      <td>-0.069208</td>\n",
       "      <td>0.023434</td>\n",
       "      <td>-0.007711</td>\n",
       "      <td>0.128449</td>\n",
       "      <td>-0.109805</td>\n",
       "      <td>-0.060112</td>\n",
       "      <td>-0.071911</td>\n",
       "    </tr>\n",
       "    <tr>\n",
       "      <th>441</th>\n",
       "      <td>O(C)c1ccc(cc1C)[C@]1(N=C(N)N(C)C1=O)C12CC3CC(C...</td>\n",
       "      <td>0.036175</td>\n",
       "      <td>-0.098735</td>\n",
       "      <td>-0.110426</td>\n",
       "      <td>0.109916</td>\n",
       "      <td>-0.111440</td>\n",
       "      <td>-0.090785</td>\n",
       "      <td>-0.040788</td>\n",
       "      <td>-0.101085</td>\n",
       "      <td>0.108559</td>\n",
       "      <td>...</td>\n",
       "      <td>0.029023</td>\n",
       "      <td>0.029405</td>\n",
       "      <td>-0.149263</td>\n",
       "      <td>0.110801</td>\n",
       "      <td>0.108862</td>\n",
       "      <td>0.076829</td>\n",
       "      <td>-0.115187</td>\n",
       "      <td>0.097730</td>\n",
       "      <td>-0.116462</td>\n",
       "      <td>-0.105270</td>\n",
       "    </tr>\n",
       "    <tr>\n",
       "      <th>442</th>\n",
       "      <td>Clc1cc2nc([nH]c2cc1)N</td>\n",
       "      <td>-0.013855</td>\n",
       "      <td>0.098770</td>\n",
       "      <td>-0.028731</td>\n",
       "      <td>-0.045433</td>\n",
       "      <td>0.099624</td>\n",
       "      <td>-0.098279</td>\n",
       "      <td>0.030018</td>\n",
       "      <td>0.081444</td>\n",
       "      <td>0.099427</td>\n",
       "      <td>...</td>\n",
       "      <td>-0.007059</td>\n",
       "      <td>0.068038</td>\n",
       "      <td>0.055713</td>\n",
       "      <td>0.009564</td>\n",
       "      <td>-0.049994</td>\n",
       "      <td>-0.102110</td>\n",
       "      <td>0.121986</td>\n",
       "      <td>-0.066800</td>\n",
       "      <td>-0.102039</td>\n",
       "      <td>0.004210</td>\n",
       "    </tr>\n",
       "  </tbody>\n",
       "</table>\n",
       "<p>443 rows × 3201 columns</p>\n",
       "</div>"
      ],
      "text/plain": [
       "                                                smiles         0         1  \\\n",
       "0    O1CC[C@@H](NC(=O)[C@@H](Cc2cc3cc(ccc3nc2N)-c2c... -0.103117 -0.109110   \n",
       "1    S(=O)(=O)(N(C)c1cc(cc(c1)C(=O)N[C@H]([C@@H](O)... -0.101011 -0.095902   \n",
       "2    O1C[C@]2(N=C1N)c1cc(ccc1Oc1c2cc(OCC(C)C)cc1)-c... -0.059927  0.055629   \n",
       "3    O=C(NCC1CCCCC1)[C@@H](Cc1cc2cc(ccc2nc1N)-c1ccc...  0.089228 -0.099137   \n",
       "4    Fc1ccc(NC(=O)c2ncc(cc2)C#N)cc1[C@]1(N=C(O[C@@H... -0.093470  0.093465   \n",
       "..                                                 ...       ...       ...   \n",
       "438        Clc1ccc(nc1)C(=O)Nc1cc2c(CCC23N=C(OC3)N)cc1 -0.095150  0.087722   \n",
       "439            n1cc(ccc1)-c1cc(ccc1)C1(N=C(C)C(=N1)N)C -0.099595  0.097650   \n",
       "440       Clc1ccc(nc1)C(=O)Nc1cc(ccc1)C12N=C(SCCC1C2)N -0.097990 -0.055028   \n",
       "441  O(C)c1ccc(cc1C)[C@]1(N=C(N)N(C)C1=O)C12CC3CC(C...  0.036175 -0.098735   \n",
       "442                              Clc1cc2nc([nH]c2cc1)N -0.013855  0.098770   \n",
       "\n",
       "            2         3         4         5         6         7         8  \\\n",
       "0   -0.079686  0.087352  0.108094 -0.078005 -0.105994  0.100727  0.076719   \n",
       "1    0.101232 -0.101736  0.065760  0.098880  0.084343  0.088164 -0.092728   \n",
       "2    0.089521 -0.047060  0.102754 -0.096517 -0.089286 -0.053730 -0.074377   \n",
       "3    0.098406 -0.021800 -0.043436  0.098839  0.089348 -0.025153  0.097720   \n",
       "4    0.093411  0.087439  0.093472 -0.093477  0.093477  0.093311 -0.093477   \n",
       "..        ...       ...       ...       ...       ...       ...       ...   \n",
       "438  0.095809  0.109224 -0.019241  0.002795  0.108509  0.105908 -0.051195   \n",
       "439 -0.057575 -0.033586  0.078912 -0.100500  0.098911 -0.035716  0.099049   \n",
       "440  0.106526  0.106234 -0.017506 -0.083153  0.105599  0.105654 -0.105552   \n",
       "441 -0.110426  0.109916 -0.111440 -0.090785 -0.040788 -0.101085  0.108559   \n",
       "442 -0.028731 -0.045433  0.099624 -0.098279  0.030018  0.081444  0.099427   \n",
       "\n",
       "     ...      3190      3191      3192      3193      3194      3195  \\\n",
       "0    ...  0.079952 -0.002659 -0.078523 -0.065374  0.072156  0.007460   \n",
       "1    ... -0.002624 -0.002055 -0.001430 -0.035987 -0.004398 -0.128556   \n",
       "2    ...  0.097236  0.027127 -0.027756 -0.073347  0.104731  0.142924   \n",
       "3    ... -0.063247  0.130504  0.043744 -0.066172  0.141627  0.054502   \n",
       "4    ...  0.068772  0.136240  0.106712 -0.022382  0.057602  0.048193   \n",
       "..   ...       ...       ...       ...       ...       ...       ...   \n",
       "438  ...  0.174662  0.056781  0.075053  0.005711 -0.053424  0.085271   \n",
       "439  ... -0.051897  0.032088 -0.026862 -0.162492  0.005606 -0.051676   \n",
       "440  ...  0.048111  0.175836  0.029575 -0.069208  0.023434 -0.007711   \n",
       "441  ...  0.029023  0.029405 -0.149263  0.110801  0.108862  0.076829   \n",
       "442  ... -0.007059  0.068038  0.055713  0.009564 -0.049994 -0.102110   \n",
       "\n",
       "         3196      3197      3198      3199  \n",
       "0    0.040828 -0.092911 -0.212283 -0.042867  \n",
       "1   -0.036019  0.062227 -0.105441 -0.037288  \n",
       "2    0.107580 -0.062903 -0.097666 -0.124921  \n",
       "3    0.063956 -0.119488 -0.082364 -0.032025  \n",
       "4    0.077223  0.023521 -0.116667 -0.068514  \n",
       "..        ...       ...       ...       ...  \n",
       "438  0.196274 -0.043537 -0.100717 -0.043867  \n",
       "439  0.081793 -0.166865 -0.153067  0.022881  \n",
       "440  0.128449 -0.109805 -0.060112 -0.071911  \n",
       "441 -0.115187  0.097730 -0.116462 -0.105270  \n",
       "442  0.121986 -0.066800 -0.102039  0.004210  \n",
       "\n",
       "[443 rows x 3201 columns]"
      ]
     },
     "execution_count": 7,
     "metadata": {},
     "output_type": "execute_result"
    }
   ],
   "source": [
    "SNN_impute_data\n",
    "# only_A1_index=~HIV_data[\"smiles\"].isna()"
   ]
  },
  {
   "cell_type": "code",
   "execution_count": 8,
   "id": "da0e747d",
   "metadata": {},
   "outputs": [],
   "source": [
    "X=SNN_impute_data.iloc[:,1:]\n",
    "y=extend_data[\"sCH3_Key\"]"
   ]
  },
  {
   "cell_type": "code",
   "execution_count": 9,
   "id": "5ec790dd",
   "metadata": {},
   "outputs": [
    {
     "data": {
      "text/html": [
       "<div>\n",
       "<style scoped>\n",
       "    .dataframe tbody tr th:only-of-type {\n",
       "        vertical-align: middle;\n",
       "    }\n",
       "\n",
       "    .dataframe tbody tr th {\n",
       "        vertical-align: top;\n",
       "    }\n",
       "\n",
       "    .dataframe thead th {\n",
       "        text-align: right;\n",
       "    }\n",
       "</style>\n",
       "<table border=\"1\" class=\"dataframe\">\n",
       "  <thead>\n",
       "    <tr style=\"text-align: right;\">\n",
       "      <th></th>\n",
       "      <th>0</th>\n",
       "      <th>1</th>\n",
       "      <th>2</th>\n",
       "      <th>3</th>\n",
       "      <th>4</th>\n",
       "      <th>5</th>\n",
       "      <th>6</th>\n",
       "      <th>7</th>\n",
       "      <th>8</th>\n",
       "      <th>9</th>\n",
       "      <th>...</th>\n",
       "      <th>3190</th>\n",
       "      <th>3191</th>\n",
       "      <th>3192</th>\n",
       "      <th>3193</th>\n",
       "      <th>3194</th>\n",
       "      <th>3195</th>\n",
       "      <th>3196</th>\n",
       "      <th>3197</th>\n",
       "      <th>3198</th>\n",
       "      <th>3199</th>\n",
       "    </tr>\n",
       "  </thead>\n",
       "  <tbody>\n",
       "    <tr>\n",
       "      <th>0</th>\n",
       "      <td>-0.103117</td>\n",
       "      <td>-0.109110</td>\n",
       "      <td>-0.079686</td>\n",
       "      <td>0.087352</td>\n",
       "      <td>0.108094</td>\n",
       "      <td>-0.078005</td>\n",
       "      <td>-0.105994</td>\n",
       "      <td>0.100727</td>\n",
       "      <td>0.076719</td>\n",
       "      <td>-0.072850</td>\n",
       "      <td>...</td>\n",
       "      <td>0.079952</td>\n",
       "      <td>-0.002659</td>\n",
       "      <td>-0.078523</td>\n",
       "      <td>-0.065374</td>\n",
       "      <td>0.072156</td>\n",
       "      <td>0.007460</td>\n",
       "      <td>0.040828</td>\n",
       "      <td>-0.092911</td>\n",
       "      <td>-0.212283</td>\n",
       "      <td>-0.042867</td>\n",
       "    </tr>\n",
       "    <tr>\n",
       "      <th>1</th>\n",
       "      <td>-0.101011</td>\n",
       "      <td>-0.095902</td>\n",
       "      <td>0.101232</td>\n",
       "      <td>-0.101736</td>\n",
       "      <td>0.065760</td>\n",
       "      <td>0.098880</td>\n",
       "      <td>0.084343</td>\n",
       "      <td>0.088164</td>\n",
       "      <td>-0.092728</td>\n",
       "      <td>-0.099936</td>\n",
       "      <td>...</td>\n",
       "      <td>-0.002624</td>\n",
       "      <td>-0.002055</td>\n",
       "      <td>-0.001430</td>\n",
       "      <td>-0.035987</td>\n",
       "      <td>-0.004398</td>\n",
       "      <td>-0.128556</td>\n",
       "      <td>-0.036019</td>\n",
       "      <td>0.062227</td>\n",
       "      <td>-0.105441</td>\n",
       "      <td>-0.037288</td>\n",
       "    </tr>\n",
       "    <tr>\n",
       "      <th>2</th>\n",
       "      <td>-0.059927</td>\n",
       "      <td>0.055629</td>\n",
       "      <td>0.089521</td>\n",
       "      <td>-0.047060</td>\n",
       "      <td>0.102754</td>\n",
       "      <td>-0.096517</td>\n",
       "      <td>-0.089286</td>\n",
       "      <td>-0.053730</td>\n",
       "      <td>-0.074377</td>\n",
       "      <td>0.045855</td>\n",
       "      <td>...</td>\n",
       "      <td>0.097236</td>\n",
       "      <td>0.027127</td>\n",
       "      <td>-0.027756</td>\n",
       "      <td>-0.073347</td>\n",
       "      <td>0.104731</td>\n",
       "      <td>0.142924</td>\n",
       "      <td>0.107580</td>\n",
       "      <td>-0.062903</td>\n",
       "      <td>-0.097666</td>\n",
       "      <td>-0.124921</td>\n",
       "    </tr>\n",
       "    <tr>\n",
       "      <th>3</th>\n",
       "      <td>0.089228</td>\n",
       "      <td>-0.099137</td>\n",
       "      <td>0.098406</td>\n",
       "      <td>-0.021800</td>\n",
       "      <td>-0.043436</td>\n",
       "      <td>0.098839</td>\n",
       "      <td>0.089348</td>\n",
       "      <td>-0.025153</td>\n",
       "      <td>0.097720</td>\n",
       "      <td>-0.099179</td>\n",
       "      <td>...</td>\n",
       "      <td>-0.063247</td>\n",
       "      <td>0.130504</td>\n",
       "      <td>0.043744</td>\n",
       "      <td>-0.066172</td>\n",
       "      <td>0.141627</td>\n",
       "      <td>0.054502</td>\n",
       "      <td>0.063956</td>\n",
       "      <td>-0.119488</td>\n",
       "      <td>-0.082364</td>\n",
       "      <td>-0.032025</td>\n",
       "    </tr>\n",
       "    <tr>\n",
       "      <th>4</th>\n",
       "      <td>-0.093470</td>\n",
       "      <td>0.093465</td>\n",
       "      <td>0.093411</td>\n",
       "      <td>0.087439</td>\n",
       "      <td>0.093472</td>\n",
       "      <td>-0.093477</td>\n",
       "      <td>0.093477</td>\n",
       "      <td>0.093311</td>\n",
       "      <td>-0.093477</td>\n",
       "      <td>-0.093212</td>\n",
       "      <td>...</td>\n",
       "      <td>0.068772</td>\n",
       "      <td>0.136240</td>\n",
       "      <td>0.106712</td>\n",
       "      <td>-0.022382</td>\n",
       "      <td>0.057602</td>\n",
       "      <td>0.048193</td>\n",
       "      <td>0.077223</td>\n",
       "      <td>0.023521</td>\n",
       "      <td>-0.116667</td>\n",
       "      <td>-0.068514</td>\n",
       "    </tr>\n",
       "    <tr>\n",
       "      <th>...</th>\n",
       "      <td>...</td>\n",
       "      <td>...</td>\n",
       "      <td>...</td>\n",
       "      <td>...</td>\n",
       "      <td>...</td>\n",
       "      <td>...</td>\n",
       "      <td>...</td>\n",
       "      <td>...</td>\n",
       "      <td>...</td>\n",
       "      <td>...</td>\n",
       "      <td>...</td>\n",
       "      <td>...</td>\n",
       "      <td>...</td>\n",
       "      <td>...</td>\n",
       "      <td>...</td>\n",
       "      <td>...</td>\n",
       "      <td>...</td>\n",
       "      <td>...</td>\n",
       "      <td>...</td>\n",
       "      <td>...</td>\n",
       "      <td>...</td>\n",
       "    </tr>\n",
       "    <tr>\n",
       "      <th>438</th>\n",
       "      <td>-0.095150</td>\n",
       "      <td>0.087722</td>\n",
       "      <td>0.095809</td>\n",
       "      <td>0.109224</td>\n",
       "      <td>-0.019241</td>\n",
       "      <td>0.002795</td>\n",
       "      <td>0.108509</td>\n",
       "      <td>0.105908</td>\n",
       "      <td>-0.051195</td>\n",
       "      <td>-0.096736</td>\n",
       "      <td>...</td>\n",
       "      <td>0.174662</td>\n",
       "      <td>0.056781</td>\n",
       "      <td>0.075053</td>\n",
       "      <td>0.005711</td>\n",
       "      <td>-0.053424</td>\n",
       "      <td>0.085271</td>\n",
       "      <td>0.196274</td>\n",
       "      <td>-0.043537</td>\n",
       "      <td>-0.100717</td>\n",
       "      <td>-0.043867</td>\n",
       "    </tr>\n",
       "    <tr>\n",
       "      <th>439</th>\n",
       "      <td>-0.099595</td>\n",
       "      <td>0.097650</td>\n",
       "      <td>-0.057575</td>\n",
       "      <td>-0.033586</td>\n",
       "      <td>0.078912</td>\n",
       "      <td>-0.100500</td>\n",
       "      <td>0.098911</td>\n",
       "      <td>-0.035716</td>\n",
       "      <td>0.099049</td>\n",
       "      <td>-0.008661</td>\n",
       "      <td>...</td>\n",
       "      <td>-0.051897</td>\n",
       "      <td>0.032088</td>\n",
       "      <td>-0.026862</td>\n",
       "      <td>-0.162492</td>\n",
       "      <td>0.005606</td>\n",
       "      <td>-0.051676</td>\n",
       "      <td>0.081793</td>\n",
       "      <td>-0.166865</td>\n",
       "      <td>-0.153067</td>\n",
       "      <td>0.022881</td>\n",
       "    </tr>\n",
       "    <tr>\n",
       "      <th>440</th>\n",
       "      <td>-0.097990</td>\n",
       "      <td>-0.055028</td>\n",
       "      <td>0.106526</td>\n",
       "      <td>0.106234</td>\n",
       "      <td>-0.017506</td>\n",
       "      <td>-0.083153</td>\n",
       "      <td>0.105599</td>\n",
       "      <td>0.105654</td>\n",
       "      <td>-0.105552</td>\n",
       "      <td>-0.076806</td>\n",
       "      <td>...</td>\n",
       "      <td>0.048111</td>\n",
       "      <td>0.175836</td>\n",
       "      <td>0.029575</td>\n",
       "      <td>-0.069208</td>\n",
       "      <td>0.023434</td>\n",
       "      <td>-0.007711</td>\n",
       "      <td>0.128449</td>\n",
       "      <td>-0.109805</td>\n",
       "      <td>-0.060112</td>\n",
       "      <td>-0.071911</td>\n",
       "    </tr>\n",
       "    <tr>\n",
       "      <th>441</th>\n",
       "      <td>0.036175</td>\n",
       "      <td>-0.098735</td>\n",
       "      <td>-0.110426</td>\n",
       "      <td>0.109916</td>\n",
       "      <td>-0.111440</td>\n",
       "      <td>-0.090785</td>\n",
       "      <td>-0.040788</td>\n",
       "      <td>-0.101085</td>\n",
       "      <td>0.108559</td>\n",
       "      <td>0.090989</td>\n",
       "      <td>...</td>\n",
       "      <td>0.029023</td>\n",
       "      <td>0.029405</td>\n",
       "      <td>-0.149263</td>\n",
       "      <td>0.110801</td>\n",
       "      <td>0.108862</td>\n",
       "      <td>0.076829</td>\n",
       "      <td>-0.115187</td>\n",
       "      <td>0.097730</td>\n",
       "      <td>-0.116462</td>\n",
       "      <td>-0.105270</td>\n",
       "    </tr>\n",
       "    <tr>\n",
       "      <th>442</th>\n",
       "      <td>-0.013855</td>\n",
       "      <td>0.098770</td>\n",
       "      <td>-0.028731</td>\n",
       "      <td>-0.045433</td>\n",
       "      <td>0.099624</td>\n",
       "      <td>-0.098279</td>\n",
       "      <td>0.030018</td>\n",
       "      <td>0.081444</td>\n",
       "      <td>0.099427</td>\n",
       "      <td>0.073718</td>\n",
       "      <td>...</td>\n",
       "      <td>-0.007059</td>\n",
       "      <td>0.068038</td>\n",
       "      <td>0.055713</td>\n",
       "      <td>0.009564</td>\n",
       "      <td>-0.049994</td>\n",
       "      <td>-0.102110</td>\n",
       "      <td>0.121986</td>\n",
       "      <td>-0.066800</td>\n",
       "      <td>-0.102039</td>\n",
       "      <td>0.004210</td>\n",
       "    </tr>\n",
       "  </tbody>\n",
       "</table>\n",
       "<p>443 rows × 3200 columns</p>\n",
       "</div>"
      ],
      "text/plain": [
       "            0         1         2         3         4         5         6  \\\n",
       "0   -0.103117 -0.109110 -0.079686  0.087352  0.108094 -0.078005 -0.105994   \n",
       "1   -0.101011 -0.095902  0.101232 -0.101736  0.065760  0.098880  0.084343   \n",
       "2   -0.059927  0.055629  0.089521 -0.047060  0.102754 -0.096517 -0.089286   \n",
       "3    0.089228 -0.099137  0.098406 -0.021800 -0.043436  0.098839  0.089348   \n",
       "4   -0.093470  0.093465  0.093411  0.087439  0.093472 -0.093477  0.093477   \n",
       "..        ...       ...       ...       ...       ...       ...       ...   \n",
       "438 -0.095150  0.087722  0.095809  0.109224 -0.019241  0.002795  0.108509   \n",
       "439 -0.099595  0.097650 -0.057575 -0.033586  0.078912 -0.100500  0.098911   \n",
       "440 -0.097990 -0.055028  0.106526  0.106234 -0.017506 -0.083153  0.105599   \n",
       "441  0.036175 -0.098735 -0.110426  0.109916 -0.111440 -0.090785 -0.040788   \n",
       "442 -0.013855  0.098770 -0.028731 -0.045433  0.099624 -0.098279  0.030018   \n",
       "\n",
       "            7         8         9  ...      3190      3191      3192  \\\n",
       "0    0.100727  0.076719 -0.072850  ...  0.079952 -0.002659 -0.078523   \n",
       "1    0.088164 -0.092728 -0.099936  ... -0.002624 -0.002055 -0.001430   \n",
       "2   -0.053730 -0.074377  0.045855  ...  0.097236  0.027127 -0.027756   \n",
       "3   -0.025153  0.097720 -0.099179  ... -0.063247  0.130504  0.043744   \n",
       "4    0.093311 -0.093477 -0.093212  ...  0.068772  0.136240  0.106712   \n",
       "..        ...       ...       ...  ...       ...       ...       ...   \n",
       "438  0.105908 -0.051195 -0.096736  ...  0.174662  0.056781  0.075053   \n",
       "439 -0.035716  0.099049 -0.008661  ... -0.051897  0.032088 -0.026862   \n",
       "440  0.105654 -0.105552 -0.076806  ...  0.048111  0.175836  0.029575   \n",
       "441 -0.101085  0.108559  0.090989  ...  0.029023  0.029405 -0.149263   \n",
       "442  0.081444  0.099427  0.073718  ... -0.007059  0.068038  0.055713   \n",
       "\n",
       "         3193      3194      3195      3196      3197      3198      3199  \n",
       "0   -0.065374  0.072156  0.007460  0.040828 -0.092911 -0.212283 -0.042867  \n",
       "1   -0.035987 -0.004398 -0.128556 -0.036019  0.062227 -0.105441 -0.037288  \n",
       "2   -0.073347  0.104731  0.142924  0.107580 -0.062903 -0.097666 -0.124921  \n",
       "3   -0.066172  0.141627  0.054502  0.063956 -0.119488 -0.082364 -0.032025  \n",
       "4   -0.022382  0.057602  0.048193  0.077223  0.023521 -0.116667 -0.068514  \n",
       "..        ...       ...       ...       ...       ...       ...       ...  \n",
       "438  0.005711 -0.053424  0.085271  0.196274 -0.043537 -0.100717 -0.043867  \n",
       "439 -0.162492  0.005606 -0.051676  0.081793 -0.166865 -0.153067  0.022881  \n",
       "440 -0.069208  0.023434 -0.007711  0.128449 -0.109805 -0.060112 -0.071911  \n",
       "441  0.110801  0.108862  0.076829 -0.115187  0.097730 -0.116462 -0.105270  \n",
       "442  0.009564 -0.049994 -0.102110  0.121986 -0.066800 -0.102039  0.004210  \n",
       "\n",
       "[443 rows x 3200 columns]"
      ]
     },
     "execution_count": 9,
     "metadata": {},
     "output_type": "execute_result"
    }
   ],
   "source": [
    "X\n",
    "# X=X[~extend_data[\"A1.0\"].isna()]"
   ]
  },
  {
   "cell_type": "code",
   "execution_count": 10,
   "id": "31187de1",
   "metadata": {},
   "outputs": [
    {
     "data": {
      "text/plain": [
       "0       1\n",
       "23      1\n",
       "27      1\n",
       "33      1\n",
       "37      1\n",
       "       ..\n",
       "1342    0\n",
       "1352    1\n",
       "1433    0\n",
       "1436    1\n",
       "1506    0\n",
       "Name: sCH3_Key, Length: 443, dtype: int64"
      ]
     },
     "execution_count": 10,
     "metadata": {},
     "output_type": "execute_result"
    }
   ],
   "source": [
    "y"
   ]
  },
  {
   "cell_type": "code",
   "execution_count": 11,
   "id": "51ba6f50",
   "metadata": {},
   "outputs": [],
   "source": [
    "import numpy as np\n",
    "from scipy.stats import randint\n",
    "from sklearn.experimental import enable_halving_search_cv  # noqa\n",
    "from sklearn.model_selection import HalvingRandomSearchCV\n",
    "from sklearn.ensemble import RandomForestClassifier\n",
    "from sklearn.datasets import make_classification\n",
    "import numpy as np\n",
    "import matplotlib.pyplot as plt\n",
    "from matplotlib.colors import ListedColormap\n",
    "from sklearn.model_selection import train_test_split\n",
    "from sklearn.preprocessing import StandardScaler\n",
    "from sklearn.pipeline import make_pipeline\n",
    "from sklearn.datasets import make_moons, make_circles, make_classification\n",
    "from sklearn.neural_network import MLPClassifier\n",
    "from sklearn.neighbors import KNeighborsClassifier\n",
    "from sklearn.svm import SVC\n",
    "from sklearn.gaussian_process import GaussianProcessClassifier\n",
    "from sklearn.gaussian_process.kernels import RBF\n",
    "from sklearn.tree import DecisionTreeClassifier\n",
    "from sklearn.ensemble import RandomForestClassifier, AdaBoostClassifier\n",
    "from sklearn.naive_bayes import GaussianNB\n",
    "from sklearn.discriminant_analysis import QuadraticDiscriminantAnalysis\n",
    "from sklearn.inspection import DecisionBoundaryDisplay\n",
    "from sklearn import metrics \n",
    "from xgboost import XGBClassifier\n",
    "\n",
    "names = [\n",
    "    \"Linear SVM\",\n",
    "    \"Random Forest\",\n",
    "    \"Neural Net\",\n",
    "    \"AdaBoost\",\n",
    "    \"XGBoost\"\n",
    "]\n",
    "\n",
    "classifiers = [\n",
    "    SVC(kernel=\"linear\", C=0.025),\n",
    "    RandomForestClassifier(max_depth=5, n_estimators=10, max_features=1),\n",
    "    MLPClassifier(alpha=1, max_iter=1000),\n",
    "    AdaBoostClassifier(),\n",
    "    XGBClassifier(n_estimators=2, max_depth=2, learning_rate=1, objective='binary:logistic'),\n",
    "]"
   ]
  },
  {
   "cell_type": "code",
   "execution_count": 12,
   "id": "cd150d13",
   "metadata": {},
   "outputs": [
    {
     "name": "stdout",
     "output_type": "stream",
     "text": [
      "\n",
      "ACCURACY OF THE MODEL:  0.875\n",
      "ROC-AUC OF THE MODEL:  0.875\n",
      "\n",
      "ACCURACY OF THE MODEL:  0.78125\n",
      "ROC-AUC OF THE MODEL:  0.78125\n",
      "\n",
      "ACCURACY OF THE MODEL:  0.84375\n",
      "ROC-AUC OF THE MODEL:  0.84375\n",
      "\n",
      "ACCURACY OF THE MODEL:  0.78125\n",
      "ROC-AUC OF THE MODEL:  0.78125\n",
      "\n",
      "ACCURACY OF THE MODEL:  0.53125\n",
      "ROC-AUC OF THE MODEL:  0.53125\n"
     ]
    }
   ],
   "source": [
    "\n",
    "from sklearn.model_selection import train_test_split\n",
    "# i.e. 70 % training dataset and 30 % test datasets\n",
    "X_train, X_test, y_train, y_test = train_test_split(X, y, test_size = 0.30, random_state=42,stratify=y)\n",
    "from imblearn.under_sampling import RandomUnderSampler\n",
    "rus = RandomUnderSampler(random_state=0)\n",
    "resample_noimpute_train, resample_noimpute_train_y = rus.fit_resample(X_train, y_train)\n",
    "\n",
    "#### resample test set\n",
    "rus_test = RandomUnderSampler(random_state=0)\n",
    "resample_noimpute_test, resample_noimpute_test_y = rus_test.fit_resample(X_test, y_test)\n",
    "\n",
    "\n",
    "SNN_impute = []\n",
    "for name, clf in zip(names, classifiers):\n",
    "        #ax = plt.subplot(len(datasets), len(classifiers) + 1, i)\n",
    "\n",
    "        clf = make_pipeline(StandardScaler(), clf)\n",
    "        clf.fit(resample_noimpute_train, resample_noimpute_train_y)\n",
    "        # performing predictions on the test dataset\n",
    "        y_pred = clf.predict(resample_noimpute_test)\n",
    "        ROC_AUC_natbio_128 = metrics.roc_auc_score(resample_noimpute_test_y, y_pred, multi_class='ovr')\n",
    "        # metrics are used to find accuracy or error\n",
    " \n",
    "        print()\n",
    "  \n",
    "        # using metrics module for accuracy calculation\n",
    "        print(\"ACCURACY OF THE MODEL: \", metrics.accuracy_score(resample_noimpute_test_y, y_pred))\n",
    "        print(\"ROC-AUC OF THE MODEL: \",metrics.roc_auc_score(resample_noimpute_test_y, y_pred, multi_class='ovr'))\n",
    "        no_impute_tmp ={\"Method\":name,\n",
    "                         \"ROC-AUC\":ROC_AUC_natbio_128, \"Dataset\":\"Tox21\", \"Input\":\"SNN Impute\"}\n",
    "        SNN_impute.append(no_impute_tmp)"
   ]
  },
  {
   "cell_type": "code",
   "execution_count": 13,
   "id": "177fd34f",
   "metadata": {},
   "outputs": [
    {
     "data": {
      "text/plain": [
       "0.7625"
      ]
     },
     "execution_count": 13,
     "metadata": {},
     "output_type": "execute_result"
    }
   ],
   "source": [
    "snn_df=pd.DataFrame(SNN_impute)\n",
    "snn_df[\"ROC-AUC\"].mean()"
   ]
  },
  {
   "cell_type": "code",
   "execution_count": 14,
   "id": "462c03b4",
   "metadata": {},
   "outputs": [],
   "source": [
    "\n",
    "X_SNN_A1=X.iloc[:,0:128]\n",
    "y_SNN_A1=y"
   ]
  },
  {
   "cell_type": "code",
   "execution_count": 15,
   "id": "f63308d8",
   "metadata": {},
   "outputs": [],
   "source": [
    "from sklearn.model_selection import train_test_split\n",
    "# i.e. 70 % training dataset and 30 % test datasets\n",
    "X_train, X_test, y_train, y_test = train_test_split(X_SNN_A1, y_SNN_A1, test_size = 0.30, random_state=42,stratify=y_SNN_A1)"
   ]
  },
  {
   "cell_type": "code",
   "execution_count": 16,
   "id": "b35d3c40",
   "metadata": {},
   "outputs": [],
   "source": [
    "from imblearn.under_sampling import RandomUnderSampler\n",
    "rus = RandomUnderSampler(random_state=0)\n",
    "resample_noimpute_train, resample_noimpute_train_y = rus.fit_resample(X_train, y_train)"
   ]
  },
  {
   "cell_type": "code",
   "execution_count": 19,
   "id": "fb72ca63",
   "metadata": {},
   "outputs": [
    {
     "name": "stdout",
     "output_type": "stream",
     "text": [
      "\n",
      "ACCURACY OF THE MODEL:  0.78125\n",
      "ROC-AUC OF THE MODEL:  0.78125\n",
      "\n",
      "ACCURACY OF THE MODEL:  0.71875\n",
      "ROC-AUC OF THE MODEL:  0.71875\n",
      "\n",
      "ACCURACY OF THE MODEL:  0.8125\n",
      "ROC-AUC OF THE MODEL:  0.8125\n",
      "\n",
      "ACCURACY OF THE MODEL:  0.75\n",
      "ROC-AUC OF THE MODEL:  0.75\n",
      "\n",
      "ACCURACY OF THE MODEL:  0.65625\n",
      "ROC-AUC OF THE MODEL:  0.65625\n"
     ]
    }
   ],
   "source": [
    "#### resample test set\n",
    "rus_test = RandomUnderSampler(random_state=0)\n",
    "resample_noimpute_test, resample_noimpute_test_y = rus_test.fit_resample(X_test, y_test)\n",
    "no_impute = []\n",
    "\n",
    "for name, clf in zip(names, classifiers):\n",
    "        #ax = plt.subplot(len(datasets), len(classifiers) + 1, i)\n",
    "\n",
    "        clf = make_pipeline(StandardScaler(), clf)\n",
    "        clf.fit(resample_noimpute_train, resample_noimpute_train_y)\n",
    "        # performing predictions on the test dataset\n",
    "        y_pred = clf.predict(resample_noimpute_test)\n",
    "        ROC_AUC_natbio_128 = metrics.roc_auc_score(resample_noimpute_test_y, y_pred, multi_class='ovr')\n",
    "        # metrics are used to find accuracy or error\n",
    " \n",
    "        print()\n",
    "  \n",
    "        # using metrics module for accuracy calculation\n",
    "        print(\"ACCURACY OF THE MODEL: \", metrics.accuracy_score(resample_noimpute_test_y, y_pred))\n",
    "        print(\"ROC-AUC OF THE MODEL: \",metrics.roc_auc_score(resample_noimpute_test_y, y_pred, multi_class='ovr'))\n",
    "        no_impute_tmp ={\"Method\":name,\n",
    "                         \"ROC-AUC\":ROC_AUC_natbio_128, \"Dataset\":\"Tox21\", \"Input\":\"No Impute\"}\n",
    "        no_impute.append(no_impute_tmp)\n",
    "        \n",
    "        "
   ]
  },
  {
   "cell_type": "code",
   "execution_count": 20,
   "id": "55bb8238",
   "metadata": {},
   "outputs": [
    {
     "data": {
      "text/plain": [
       "0.74375"
      ]
     },
     "execution_count": 20,
     "metadata": {},
     "output_type": "execute_result"
    }
   ],
   "source": [
    "no_impute_df=pd.DataFrame(no_impute)\n",
    "no_impute_df[\"ROC-AUC\"].mean()"
   ]
  },
  {
   "cell_type": "code",
   "execution_count": null,
   "id": "662bebfb",
   "metadata": {},
   "outputs": [],
   "source": []
  }
 ],
 "metadata": {
  "kernelspec": {
   "display_name": "Python 3 (ipykernel)",
   "language": "python",
   "name": "python3"
  },
  "language_info": {
   "codemirror_mode": {
    "name": "ipython",
    "version": 3
   },
   "file_extension": ".py",
   "mimetype": "text/x-python",
   "name": "python",
   "nbconvert_exporter": "python",
   "pygments_lexer": "ipython3",
   "version": "3.11.4"
  }
 },
 "nbformat": 4,
 "nbformat_minor": 5
}
